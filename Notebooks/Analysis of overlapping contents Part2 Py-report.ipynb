{
 "cells": [
  {
   "cell_type": "code",
   "execution_count": 23,
   "metadata": {
    "cell_style": "split",
    "extensions": {
     "jupyter_dashboards": {
      "version": 1,
      "views": {
       "grid_default": {},
       "report_default": {}
      }
     }
    }
   },
   "outputs": [],
   "source": [
    "import pandas as pd\n",
    "from beakerx import *\n",
    "from beakerx.object import beakerx\n",
    "from ipywidgets import widgets\n",
    "import numpy as np\n",
    "from IPython.display import display\n",
    "from IPython.display import clear_output\n",
    "from IPython.core.display import HTML\n",
    "import html\n",
    "import csv"
   ]
  },
  {
   "cell_type": "code",
   "execution_count": 24,
   "metadata": {
    "cell_style": "center"
   },
   "outputs": [],
   "source": [
    "### Source of authority"
   ]
  },
  {
   "cell_type": "code",
   "execution_count": 25,
   "metadata": {},
   "outputs": [],
   "source": [
    "#dfs = pd.read_excel(\"authorityPrompt.xlsx\")\n",
    "#display(dfs)"
   ]
  },
  {
   "cell_type": "markdown",
   "metadata": {
    "extensions": {
     "jupyter_dashboards": {
      "version": 1,
      "views": {
       "grid_default": {},
       "report_default": {}
      }
     }
    }
   },
   "source": [
    "# WB"
   ]
  },
  {
   "cell_type": "markdown",
   "metadata": {},
   "source": [
    "### WB tree"
   ]
  },
  {
   "cell_type": "code",
   "execution_count": 26,
   "metadata": {},
   "outputs": [],
   "source": [
    "if path.exists('WBtree.csv'):\n",
    "    df1 = pd.read_csv (r'WBtree.csv', sep=\",\", engine='python')\n",
    "    display(df1)\n",
    "    r1, c1 = df1.shape\n",
    "    print(r1, \"rows x\", c1, \"columns.\")"
   ]
  },
  {
   "cell_type": "code",
   "execution_count": 27,
   "metadata": {},
   "outputs": [],
   "source": [
    "### WB graph"
   ]
  },
  {
   "cell_type": "code",
   "execution_count": 28,
   "metadata": {
    "extensions": {
     "jupyter_dashboards": {
      "version": 1,
      "views": {
       "grid_default": {},
       "report_default": {}
      }
     }
    }
   },
   "outputs": [],
   "source": [
    "#file = open(\"WBgraph.png\", \"rb\")\n",
    "#image = file.read()\n",
    "#widgets.Image(\n",
    "#    value=image,\n",
    "#    format='png',\n",
    "#    width=1000,\n",
    "#    height=1000,\n",
    "#)"
   ]
  },
  {
   "cell_type": "markdown",
   "metadata": {},
   "source": [
    "## MD"
   ]
  },
  {
   "cell_type": "markdown",
   "metadata": {},
   "source": [
    "### MD tree"
   ]
  },
  {
   "cell_type": "code",
   "execution_count": 29,
   "metadata": {
    "cell_style": "split",
    "scrolled": false
   },
   "outputs": [
    {
     "data": {
      "application/vnd.jupyter.widget-view+json": {
       "model_id": "11a131ee331b405fb7e3d850ebda6e51",
       "version_major": 2,
       "version_minor": 0
      }
     },
     "metadata": {},
     "output_type": "display_data"
    },
    {
     "name": "stdout",
     "output_type": "stream",
     "text": [
      "79 rows x 1 columns.\n"
     ]
    }
   ],
   "source": [
    "if path.exists('MDtree.csv'):\n",
    "    df1 = pd.read_csv (r'MDtree.csv', sep=\",\", engine='python')\n",
    "    display(df1)\n",
    "    r1, c1 = df1.shape\n",
    "    print(r1, \"rows x\", c1, \"columns.\")"
   ]
  },
  {
   "cell_type": "code",
   "execution_count": 30,
   "metadata": {
    "extensions": {
     "jupyter_dashboards": {
      "version": 1,
      "views": {
       "grid_default": {},
       "report_default": {}
      }
     }
    }
   },
   "outputs": [],
   "source": [
    "### MD graph"
   ]
  },
  {
   "cell_type": "code",
   "execution_count": 31,
   "metadata": {
    "extensions": {
     "jupyter_dashboards": {
      "version": 1,
      "views": {
       "grid_default": {},
       "report_default": {}
      }
     }
    }
   },
   "outputs": [],
   "source": [
    "#file = open(\"MDgraph.png\", \"rb\")\n",
    "#image = file.read()\n",
    "#widgets.Image(\n",
    "#    value=image,\n",
    "#    format='png',\n",
    "#    width=1000,\n",
    "#    height=1000,\n",
    "#)"
   ]
  },
  {
   "cell_type": "code",
   "execution_count": 32,
   "metadata": {
    "cell_style": "center",
    "extensions": {
     "jupyter_dashboards": {
      "version": 1,
      "views": {
       "grid_default": {},
       "report_default": {}
      }
     }
    }
   },
   "outputs": [],
   "source": [
    "### 1. Wellformedness"
   ]
  },
  {
   "cell_type": "code",
   "execution_count": 33,
   "metadata": {
    "cell_style": "center",
    "extensions": {
     "jupyter_dashboards": {
      "version": 1,
      "views": {
       "grid_default": {},
       "report_default": {
        "hidden": false
       }
      }
     }
    }
   },
   "outputs": [],
   "source": [
    "#df1 = pd.read_csv (r'wellformed.csv', sep=\", \", engine='python')\n",
    "#display(df1)\n",
    "\n",
    "#r1, c1 = df1.shape\n",
    "#print(r1, \"rows x\", c1, \"columns.\")"
   ]
  },
  {
   "cell_type": "code",
   "execution_count": 34,
   "metadata": {
    "extensions": {
     "jupyter_dashboards": {
      "version": 1,
      "views": {
       "grid_default": {},
       "report_default": {}
      }
     }
    }
   },
   "outputs": [],
   "source": [
    "### 2. Isomorphic"
   ]
  },
  {
   "cell_type": "code",
   "execution_count": 35,
   "metadata": {
    "extensions": {
     "jupyter_dashboards": {
      "version": 1,
      "views": {
       "grid_default": {},
       "report_default": {}
      }
     }
    },
    "scrolled": false
   },
   "outputs": [],
   "source": [
    "#df2 = pd.read_csv (r'isomorphic.csv', sep=\", \", engine='python')\n",
    "#display(df2)\n",
    "\n",
    "#r2, c2 = df2.shape\n",
    "#print(r2, \"rows x\", c2, \"columns.\")"
   ]
  },
  {
   "cell_type": "markdown",
   "metadata": {
    "extensions": {
     "jupyter_dashboards": {
      "version": 1,
      "views": {
       "grid_default": {},
       "report_default": {}
      }
     }
    }
   },
   "source": [
    "### 3. Edges"
   ]
  },
  {
   "cell_type": "code",
   "execution_count": 36,
   "metadata": {
    "extensions": {
     "jupyter_dashboards": {
      "version": 1,
      "views": {
       "grid_default": {},
       "report_default": {}
      }
     }
    }
   },
   "outputs": [
    {
     "data": {
      "application/vnd.jupyter.widget-view+json": {
       "model_id": "d13a259bccbe42b9b1477e4313ea2b66",
       "version_major": 2,
       "version_minor": 0
      }
     },
     "metadata": {},
     "output_type": "display_data"
    },
    {
     "name": "stdout",
     "output_type": "stream",
     "text": [
      "85 rows x 4 columns.\n"
     ]
    }
   ],
   "source": [
    "df3 = pd.read_csv (r'edges.csv', sep=\",\", engine='python')\n",
    "display(df3)\n",
    "\n",
    "r3, c3 = df3.shape\n",
    "print(r3, \"rows x\", c3, \"columns.\")"
   ]
  },
  {
   "cell_type": "markdown",
   "metadata": {
    "extensions": {
     "jupyter_dashboards": {
      "version": 1,
      "views": {
       "grid_default": {},
       "report_default": {}
      }
     }
    }
   },
   "source": [
    "### 4. Vertices"
   ]
  },
  {
   "cell_type": "code",
   "execution_count": 37,
   "metadata": {
    "extensions": {
     "jupyter_dashboards": {
      "version": 1,
      "views": {
       "grid_default": {},
       "report_default": {}
      }
     }
    }
   },
   "outputs": [
    {
     "data": {
      "application/vnd.jupyter.widget-view+json": {
       "model_id": "39b125b56b3a4037b57c7f97a99e0b2e",
       "version_major": 2,
       "version_minor": 0
      }
     },
     "metadata": {},
     "output_type": "display_data"
    },
    {
     "name": "stdout",
     "output_type": "stream",
     "text": [
      "89 rows x 3 columns.\n"
     ]
    }
   ],
   "source": [
    "df4 = pd.read_csv (r'vertices.csv', sep=\",\", engine='python')\n",
    "display(df4)\n",
    "\n",
    "r4, c4 = df4.shape\n",
    "print(r4, \"rows x\", c4, \"columns.\")"
   ]
  },
  {
   "cell_type": "code",
   "execution_count": 38,
   "metadata": {
    "extensions": {
     "jupyter_dashboards": {
      "version": 1,
      "views": {
       "grid_default": {},
       "report_default": {}
      }
     }
    }
   },
   "outputs": [],
   "source": [
    "### 5. Vertices analysis"
   ]
  },
  {
   "cell_type": "code",
   "execution_count": 39,
   "metadata": {
    "extensions": {
     "jupyter_dashboards": {
      "version": 1,
      "views": {
       "grid_default": {},
       "report_default": {}
      }
     }
    }
   },
   "outputs": [],
   "source": [
    "#df5 = pd.read_csv (r'verticesAnalysis.csv', sep=\",\", engine='python')\n",
    "#display(df5)\n",
    "\n",
    "#r5, c5 = df5.shape\n",
    "#print(r5, \"rows x\", c5, \"columns.\")"
   ]
  },
  {
   "cell_type": "code",
   "execution_count": 40,
   "metadata": {
    "extensions": {
     "jupyter_dashboards": {
      "version": 1,
      "views": {
       "grid_default": {},
       "report_default": {}
      }
     }
    }
   },
   "outputs": [],
   "source": [
    "### 6. MD & WB graphs"
   ]
  },
  {
   "cell_type": "code",
   "execution_count": 41,
   "metadata": {},
   "outputs": [],
   "source": [
    "#file = open(\"WbMdGraphs.png\", \"rb\")\n",
    "##image = file.read()\n",
    "##widgets.Image(\n",
    "#    value=image,\n",
    "#    format='png',\n",
    "#    width=1000,\n",
    "#    height=1000,\n",
    "#)"
   ]
  },
  {
   "cell_type": "markdown",
   "metadata": {
    "cell_style": "center"
   },
   "source": [
    "## UI part I"
   ]
  },
  {
   "cell_type": "code",
   "execution_count": 42,
   "metadata": {
    "cell_style": "center",
    "scrolled": false
   },
   "outputs": [
    {
     "name": "stdout",
     "output_type": "stream",
     "text": [
      "Results of the well-formedness analysis of two structural/product decomposition models :\n"
     ]
    },
    {
     "data": {
      "application/vnd.jupyter.widget-view+json": {
       "model_id": "b9609e0c93794d4ea77a05987f9deda9",
       "version_major": 2,
       "version_minor": 0
      },
      "text/plain": [
       "Tab(children=(Accordion(children=(HBox(children=(Image(value=b'\\x89PNG\\r\\n\\x1a\\n\\x00\\x00\\x00\\rIHDR\\x00\\x00\\x03…"
      ]
     },
     "metadata": {},
     "output_type": "display_data"
    },
    {
     "name": "stdout",
     "output_type": "stream",
     "text": [
      "The WorkBench and MagicDraw models are well-formed.\n"
     ]
    }
   ],
   "source": [
    "ConnectedDefinition = \"Graph is connected when there is a path from any point to any other point in the graph.\"\n",
    "AcyclicDefinition = \"Graph is acyclic when no sequence of edges exists that can be followed to loop back to that starting node.\"\n",
    "DirectedDefinition = \"Graph is directed when all the edges are directed from one vertex to another.\"\n",
    "RootedDefinition = \"Graph is rooted when one and one only vertex, shows no outcoming edge.\"\n",
    "\n",
    "WBConnectedG = open(\"WBConnectedG.png\", \"rb\")\n",
    "WBacyclicG = open(\"WBacyclicG.png\", \"rb\")\n",
    "WBDirectedG = open(\"WBDirectedG.png\", \"rb\")\n",
    "WBrootedG = open(\"WBConnectedG.png\", \"rb\")\n",
    "WBwfResult = open(\"WBwfResult.png\", \"rb\")\n",
    "WBconnectedResult = open(\"WBconnectedResult.png\", \"rb\")\n",
    "WBacyclicResult = open(\"WBacyclicResult.png\", \"rb\")\n",
    "WBdirectedResult = open(\"WBdirectedResult.png\", \"rb\")\n",
    "WBrootedResult = open(\"WBrootedResult.png\", \"rb\")\n",
    "WBconnectedReport = widgets.Output()\n",
    "WBconnectedReport.append_display_data(HTML(\"WBconnectedReport.html\"))\n",
    "WBacyclicReport = widgets.Output()\n",
    "WBacyclicReport.append_display_data(HTML(\"WBacyclicReport.html\"))\n",
    "WBdirectedReport = widgets.Output()\n",
    "WBdirectedReport.append_display_data(HTML(\"WBdirectedReport.html\"))\n",
    "WBrootedReport = widgets.Output()\n",
    "WBrootedReport.append_display_data(HTML(\"WBrootedReport.html\"))\n",
    "WBactionsToPerform = widgets.Output()\n",
    "WBactionsToPerform.append_display_data(HTML(\"WBactionsToPerform.html\"))\n",
    "\n",
    "MDConnectedG = open(\"MDConnectedG.png\", \"rb\")\n",
    "MDacyclicG = open(\"MDacyclicG.png\", \"rb\")\n",
    "MDDirectedG = open(\"MDDirectedG.png\", \"rb\")\n",
    "MDrootedG = open(\"MDrootedG.png\", \"rb\")\n",
    "MDwfResult = open(\"MDwfResult.png\", \"rb\")\n",
    "MDconnectedResult = open(\"MDconnectedResult.png\", \"rb\")\n",
    "MDacyclicResult = open(\"MDacyclicResult.png\", \"rb\")\n",
    "MDdirectedResult = open(\"MDdirectedResult.png\", \"rb\")\n",
    "MDrootedResult = open(\"MDrootedResult.png\", \"rb\")\n",
    "MDconnectedReport = widgets.Output()\n",
    "MDconnectedReport.append_display_data(HTML(\"MDconnectedReport.html\"))\n",
    "MDacyclicReport = widgets.Output()\n",
    "MDacyclicReport.append_display_data(HTML(\"MDacyclicReport.html\"))\n",
    "MDdirectedReport = widgets.Output()\n",
    "MDdirectedReport.append_display_data(HTML(\"MDdirectedReport.html\"))\n",
    "MDrootedReport = widgets.Output()\n",
    "MDrootedReport.append_display_data(HTML(\"MDrootedReport.html\"))\n",
    "MDactionsToPerform = widgets.Output()\n",
    "MDactionsToPerform.append_display_data(HTML(\"MDactionsToPerform.html\"))\n",
    "with open('MDwf.csv', 'rt') as f:\n",
    "     reader = csv.reader(f, delimiter=',')\n",
    "     for row in reader:\n",
    "          for MDwf in row: \"\"\n",
    "with open('WBwf.csv', 'rt') as f:\n",
    "     reader = csv.reader(f, delimiter=',')\n",
    "     for row in reader:\n",
    "          for WBwf in row: \"\"\n",
    "\n",
    "print(\"Results of the well-formedness analysis of two structural/product decomposition models :\")\n",
    "list_widgets_WB = [\n",
    "    widgets.HBox([widgets.Image(value=WBwfResult.read(), format='png', width=25, height=25)]),\n",
    "    widgets.VBox([WBactionsToPerform]),\n",
    "    widgets.VBox([widgets.HTML(value=ConnectedDefinition), widgets.Image(value=WBconnectedResult.read(), format='png', width=25, height=25), widgets.Image(value=WBConnectedG.read(), format='png', width=1000, height=1000), WBconnectedReport]),\n",
    "    widgets.VBox([widgets.HTML(value=AcyclicDefinition), widgets.Image(value=WBacyclicResult.read(), format='png', width=25, height=25), widgets.Image(value=WBacyclicG.read(), format='png', width=1000, height=1000), WBacyclicReport]),\n",
    "    widgets.VBox([widgets.HTML(value=DirectedDefinition), widgets.Image(value=WBdirectedResult.read(), format='png', width=25, height=25), widgets.Image(value=WBDirectedG.read(), format='png', width=1000, height=1000), WBdirectedReport]),\n",
    "    widgets.VBox([widgets.HTML(value=RootedDefinition), widgets.Image(value=WBrootedResult.read(), format='png', width=25, height=25), widgets.Image(value=WBrootedG.read(), format='png', width=1000, height=1000), WBrootedReport])\n",
    "                ]\n",
    "\n",
    "list_widgets_MD = [\n",
    "    widgets.HBox([widgets.Image(value=MDwfResult.read(), format='png', width=25, height=25)]),\n",
    "    widgets.VBox([MDactionsToPerform]),\n",
    "    widgets.VBox([widgets.HTML(value=ConnectedDefinition), widgets.Image(value=MDconnectedResult.read(), format='png', width=25, height=25), widgets.Image(value=MDConnectedG.read(), format='png', width=1000, height=1000), MDconnectedReport]),\n",
    "    widgets.VBox([widgets.HTML(value=AcyclicDefinition), widgets.Image(value=MDacyclicResult.read(), format='png', width=25, height=25), widgets.Image(value=MDacyclicG.read(), format='png', width=1000, height=1000), MDacyclicReport]),\n",
    "    widgets.VBox([widgets.HTML(value=DirectedDefinition), widgets.Image(value=MDdirectedResult.read(), format='png', width=25, height=25), widgets.Image(value=MDDirectedG.read(), format='png', width=1000, height=1000), MDdirectedReport]),\n",
    "    widgets.VBox([widgets.HTML(value=RootedDefinition), widgets.Image(value=MDrootedResult.read(), format='png', width=25, height=25), widgets.Image(value=MDrootedG.read(), format='png', width=1000, height=1000), MDrootedReport])\n",
    "                ]\n",
    "\n",
    "accordionWB = widgets.Accordion(children=list_widgets_WB)\n",
    "accordionWB.set_title(0, 'Well-formedness analysis result of the WorkBench structural/product decomposition model')\n",
    "accordionWB.set_title(1, 'Actions to perform')\n",
    "accordionWB.set_title(2, 'Connected')\n",
    "accordionWB.set_title(3, 'Acyclic')\n",
    "accordionWB.set_title(4, 'Directed')\n",
    "accordionWB.set_title(5, 'Rooted')\n",
    "\n",
    "\n",
    "accordionMD = widgets.Accordion(children=list_widgets_MD)\n",
    "accordionMD.set_title(0, 'Well-formedness analysis result of the MagicDraw structural/product decomposition model')\n",
    "accordionMD.set_title(1, 'Actions to perform')\n",
    "accordionMD.set_title(2, 'Connected')\n",
    "accordionMD.set_title(3, 'Acyclic')\n",
    "accordionMD.set_title(4, 'Directed')\n",
    "accordionMD.set_title(5, 'Rooted')\n",
    "\n",
    "tab_contents = ['P0', 'P1', 'P2', 'P3', 'P4']\n",
    "children = [widgets.Text(description=name) for name in tab_contents]\n",
    "tab = widgets.Tab()\n",
    "tab.children = children\n",
    "for i in range(len(children)):\n",
    "    tab.set_title(i, str(i))\n",
    "    \n",
    "tab_nest = widgets.Tab()\n",
    "tab_nest.children = [accordionWB, accordionMD]\n",
    "tab_nest.set_title(0, 'WorkBench')\n",
    "tab_nest.set_title(1, 'MagicDraw')\n",
    "display(tab_nest)\n",
    "       \n",
    "if (MDwf == \"OK\") & (WBwf == \"OK\"):\n",
    "    print(\"The WorkBench and MagicDraw models are well-formed.\")\n",
    "\n",
    "if (MDwf == \"OK\") & (WBwf == \"KO\"):\n",
    "    print(\"Correct the WorkBench model to pursue towards consistency analysis.\")   \n",
    "    \n",
    "if (MDwf == \"KO\") & (WBwf == \"OK\"):\n",
    "    print(\"Correct the MagicDraw model to pursue towards consistency analysis.\")   \n",
    "    \n",
    "if (MDwf == \"KO\") & (WBwf == \"KO\"):      \n",
    "    print(\"Correct the WorkBench and MagicDraw models to pursue towards consistency analysis.\")     "
   ]
  },
  {
   "cell_type": "markdown",
   "metadata": {
    "cell_style": "center"
   },
   "source": [
    "## UI part II"
   ]
  },
  {
   "cell_type": "code",
   "execution_count": 43,
   "metadata": {
    "cell_style": "center"
   },
   "outputs": [
    {
     "data": {
      "application/vnd.jupyter.widget-view+json": {
       "model_id": "3d28b5f501284e58b43eda3fc82a9857",
       "version_major": 2,
       "version_minor": 0
      },
      "text/plain": [
       "HBox(children=(ToggleButtons(description='Source of Authority:', options=('', 'WorkBench', 'MagicDraw'), style…"
      ]
     },
     "metadata": {},
     "output_type": "display_data"
    },
    {
     "data": {
      "application/vnd.jupyter.widget-view+json": {
       "model_id": "316ac1f23878458eb6535567eca8d770",
       "version_major": 2,
       "version_minor": 0
      },
      "text/plain": [
       "Output()"
      ]
     },
     "metadata": {},
     "output_type": "display_data"
    }
   ],
   "source": [
    "from IPython.display import display\n",
    "from IPython.display import Javascript\n",
    "\n",
    "output = widgets.Output()\n",
    "def on_button_clicked(b):\n",
    "    with output:\n",
    "        display(Javascript('IPython.notebook.execute_cell_range(IPython.notebook.get_selected_index()+1, IPython.notebook.ncells())'))\n",
    "        if (a.value != '') : print(\"You chose the\", a.value, \"model as the Source of Authority.\")\n",
    "            \n",
    "style = {'description_width': 'initial'}\n",
    "\n",
    "if (MDwf != \"OK\") | (WBwf != \"OK\"):                \n",
    "    a = widgets.ToggleButtons(\n",
    "        style=style,\n",
    "        options=['', 'WorkBench', 'MagicDraw'],\n",
    "        description='Source of Authority:',\n",
    "        disabled=True,\n",
    "        )\n",
    "    display(widgets.HBox([a]))\n",
    "\n",
    "### CAUTION 1 : mistake!            \n",
    "if (MDwf == \"OK\") :#& (WBwf == \"OK\"): \n",
    "    a = widgets.ToggleButtons(\n",
    "        style=style,\n",
    "        options=['', 'WorkBench', 'MagicDraw'],\n",
    "        description='Source of Authority:',\n",
    "        disabled=False,\n",
    "        )\n",
    "    b = widgets.Button(\n",
    "        description='Submit', \n",
    "        disabled=False,)\n",
    "    display(widgets.HBox([a, b]))\n",
    "    b.on_click(on_button_clicked)\n",
    "    display(output)  "
   ]
  },
  {
   "cell_type": "code",
   "execution_count": 44,
   "metadata": {
    "cell_style": "center",
    "scrolled": false
   },
   "outputs": [
    {
     "name": "stdout",
     "output_type": "stream",
     "text": [
      "Results of the consistency analysis of two structural/product decomposition models :\n"
     ]
    },
    {
     "data": {
      "application/vnd.jupyter.widget-view+json": {
       "model_id": "62fc0d7057bb48ed9f150e734372e535",
       "version_major": 2,
       "version_minor": 0
      },
      "text/plain": [
       "Tab(children=(Accordion(children=(VBox(children=(Output(outputs=({'output_type': 'display_data', 'data': {'tex…"
      ]
     },
     "metadata": {},
     "output_type": "display_data"
    }
   ],
   "source": [
    "IsomorphicDefinition = \"Two graphs which contain the same number of graph vertices connected in the same way are said to be isomorphic.\"\n",
    "WBandMDisomorphic = open(\"WBandMDisomorphic.png\", \"rb\")\n",
    "isomorphic = pd.read_csv (r'WBandMDisomorphic.csv', sep=\",\", engine='python')\n",
    "with open('WBandMDisomorphic.csv', 'rt') as f:\n",
    "     reader = csv.reader(f, delimiter=',')\n",
    "     for row in reader:\n",
    "          for isomorphic in row: \"\"\n",
    "isomorphicEdgeVerticeTable = widgets.Output()\n",
    "isomorphicEdgeVerticeTable.append_display_data(HTML(\"isomorphicEdgeVerticeTable.html\"))\n",
    "isomorphicActions = widgets.Output()\n",
    "isomorphicActions.append_display_data(HTML(\"isomorphicActions.html\"))\n",
    "isomorphicEdgeVerticeResult = widgets.Output()\n",
    "isomorphicEdgeVerticeResult.append_display_data(HTML(\"isomorphicEdgeVerticeResult.html\"))\n",
    "degree = widgets.Output()\n",
    "degree.append_display_data(HTML(\"degree.html\"))\n",
    "isomorphicDegreeResult = widgets.Output()\n",
    "isomorphicDegreeResult.append_display_data(HTML(\"isomorphicDegreeResult.html\"))\n",
    "NbNonAdjVerticeResult = widgets.Output()\n",
    "NbNonAdjVerticeResult.append_display_data(HTML(\"NbNonAdjVerticeResult.html\"))\n",
    "verticesAnalysis = widgets.Output()\n",
    "if (a.value == \"MagicDraw\") :\n",
    "    verticesAnalysis.append_display_data(HTML(\"verticesAnalysisMD.html\"))\n",
    "if (a.value == \"WorkBench\") :\n",
    "    verticesAnalysis.append_display_data(HTML(\"verticesAnalysisWB.html\"))\n",
    "WbMdGraphs = open(\"WbMdGraphs.png\", \"rb\")\n",
    "MDgraph = open(\"MDgraph.png\", \"rb\")\n",
    "WBgraph = open(\"WBgraph.png\", \"rb\")\n",
    "\n",
    "### CAUTION 2 : mistake!\n",
    "if (MDwf == \"OK\"): #& (WBwf == \"OK\"):\n",
    "    print(\"Results of the consistency analysis of two structural/product decomposition models :\")\n",
    "    list_widgets = [\n",
    "        widgets.VBox([\n",
    "            isomorphicActions]),\n",
    "        widgets.VBox([\n",
    "            widgets.HTML(value=IsomorphicDefinition), \n",
    "            widgets.Image(value=WBandMDisomorphic.read(), format='png', width=25, height=25),\n",
    "            widgets.HTML(\"<br> MagicDraw graph :\"),\n",
    "            widgets.Image(value=MDgraph.read(), format='png', width=1000, height=1000),\n",
    "            widgets.HTML(\"WorkBench graph :\"),\n",
    "            widgets.Image(value=WBgraph.read(), format='png', width=1000, height=1000),\n",
    "            widgets.HTML(\"<u> 1. Comparison of the number of vertices and edges.<u>\"),\n",
    "            isomorphicEdgeVerticeTable, \n",
    "            isomorphicEdgeVerticeResult,\n",
    "            widgets.HTML(\"<br> <u> 2. Comparison of the lists of degrees.<u>\"),\n",
    "            degree,\n",
    "            isomorphicDegreeResult,\n",
    "            widgets.HTML(\"<br> <u> 3. Comparison of the lists of mutually non adjacent vertices.<u>\"),\n",
    "            NbNonAdjVerticeResult\n",
    "        ]), \n",
    "        #widgets.VBox([\n",
    "           #widgets.HTML(\"\"), \n",
    "            #]),\n",
    "        #widgets.VBox([\n",
    "            #widgets.HTML(\"\"), \n",
    "            #]),\n",
    "        widgets.VBox([\n",
    "            verticesAnalysis, \n",
    "            widgets.Image(value=WbMdGraphs.read(), format='png', width=1000, height=1000)\n",
    "            ])\n",
    "    ]\n",
    "    \n",
    "    accordion = widgets.Accordion(children=list_widgets)\n",
    "    accordion.set_title(0, 'Correction suggestions')\n",
    "    accordion.set_title(1, 'WB and MD Isomorphic')\n",
    "    #accordion.set_title(2, 'MD a subgraph isomorphism of WB')\n",
    "    #accordion.set_title(3, 'WB a subgraph isomorphism of MD')\n",
    "    accordion.set_title(2, 'Consistent semantic overlap')\n",
    "    \n",
    "    tab_nest = widgets.Tab()\n",
    "    tab_nest.children = [accordion]\n",
    "    tab_nest.set_title(0, 'WB and MD')\n",
    "    display(tab_nest)"
   ]
  }
 ],
 "metadata": {
  "extensions": {
   "jupyter_dashboards": {
    "activeView": "grid_default",
    "version": 1,
    "views": {
     "grid_default": {
      "cellMargin": 10,
      "defaultCellHeight": 20,
      "maxColumns": 12,
      "name": "grid",
      "type": "grid"
     },
     "report_default": {
      "name": "report",
      "type": "report"
     }
    }
   }
  },
  "hide_input": false,
  "kernelspec": {
   "display_name": "Python 3",
   "language": "python",
   "name": "python3"
  },
  "toc": {
   "base_numbering": 1,
   "nav_menu": {
    "height": "81px",
    "width": "265.2px"
   },
   "number_sections": false,
   "sideBar": false,
   "skip_h1_title": false,
   "title_cell": "Table of Contents",
   "title_sidebar": "Contents",
   "toc_cell": false,
   "toc_position": {},
   "toc_section_display": false,
   "toc_window_display": false
  },
  "varInspector": {
   "cols": {
    "lenName": 16,
    "lenType": 16,
    "lenVar": 40
   },
   "kernels_config": {
    "python": {
     "delete_cmd_postfix": "",
     "delete_cmd_prefix": "del ",
     "library": "var_list.py",
     "varRefreshCmd": "print(var_dic_list())"
    },
    "r": {
     "delete_cmd_postfix": ") ",
     "delete_cmd_prefix": "rm(",
     "library": "var_list.r",
     "varRefreshCmd": "cat(var_dic_list()) "
    }
   },
   "types_to_exclude": [
    "module",
    "function",
    "builtin_function_or_method",
    "instance",
    "_Feature"
   ],
   "window_display": false
  }
 },
 "nbformat": 4,
 "nbformat_minor": 2
}
