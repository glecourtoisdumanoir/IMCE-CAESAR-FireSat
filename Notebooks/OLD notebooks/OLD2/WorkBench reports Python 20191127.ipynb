{
 "cells": [
  {
   "cell_type": "markdown",
   "metadata": {},
   "source": [
    "# Analysis of datasets - source: WorkBench model"
   ]
  },
  {
   "cell_type": "markdown",
   "metadata": {},
   "source": [
    "Mission: verify the integrity of a system model"
   ]
  },
  {
   "cell_type": "markdown",
   "metadata": {},
   "source": [
    "Objectives: \n",
    "- use pattern matching to detect the inconsistencies,\n",
    "- use graph analysis to display correction suggestions,\n",
    "- allocate the correction of the system model to a user, selected as being familiar with the CAESAR WorkBench v1.23,\n",
    "- assume that the test is finished when the graph analysis returns that the input model complies with the 3 different rules."
   ]
  },
  {
   "cell_type": "markdown",
   "metadata": {},
   "source": [
    "Note: the RDF dataset shall be \n",
    "- renamed: *.trig\n",
    "- available through a query endpoint"
   ]
  },
  {
   "cell_type": "code",
   "execution_count": 43,
   "metadata": {},
   "outputs": [],
   "source": [
    "# import necessary libraries \n",
    "import pandas as pd\n",
    "from pandas.io.json import json_normalize\n",
    "from SPARQLWrapper import SPARQLWrapper, JSON\n",
    "\n",
    "import ipywidgets as widgets\n",
    "from ipywidgets import Layout\n",
    "from IPython.display import Javascript\n",
    "\n",
    "from urllib.request import Request, urlopen\n",
    "from urllib.error import URLError, HTTPError"
   ]
  },
  {
   "cell_type": "code",
   "execution_count": 44,
   "metadata": {},
   "outputs": [],
   "source": [
    "# definition of a function: sparql query\n",
    "def query_fusekiData(sparql_query, sparql_service_url):\n",
    "    \"\"\"\n",
    "    Query the endpoint with the given query string and return the results as a pandas Dataframe.\n",
    "    \"\"\"\n",
    "    # create the connection to the endpoint\n",
    "    sparql = SPARQLWrapper(sparql_service_url)\n",
    "    \n",
    "    sparql.setQuery(sparql_query)\n",
    "    sparql.setReturnFormat(JSON)\n",
    "\n",
    "    # ask for the result\n",
    "    result = sparql.query().convert()\n",
    "    return json_normalize(result[\"results\"][\"bindings\"])"
   ]
  },
  {
   "cell_type": "code",
   "execution_count": 45,
   "metadata": {},
   "outputs": [
    {
     "data": {
      "application/vnd.jupyter.widget-view+json": {
       "model_id": "b23f3017c031429488f4194ec073f74a",
       "version_major": 2,
       "version_minor": 0
      },
      "text/plain": [
       "Text(value='http://localhost:3030/WBv13.5', description='Endpoint: ', layout=Layout(height='40px', width='auto…"
      ]
     },
     "metadata": {},
     "output_type": "display_data"
    }
   ],
   "source": [
    "# definition of ipywidget 'Text' to prompt the  endpoint to query\n",
    "layout = widgets.Layout(width='auto', height='40px') #set width and height of the different widgets\n",
    "endpoint=widgets.Text(\n",
    "    value='http://localhost:3030/WBv13.5',\n",
    "    placeholder='http://localhost:3030/',\n",
    "    description='Endpoint: ',\n",
    "    layout = layout,\n",
    "    disabled=False\n",
    ")\n",
    "display(endpoint)"
   ]
  },
  {
   "cell_type": "code",
   "execution_count": 46,
   "metadata": {
    "scrolled": false
   },
   "outputs": [
    {
     "data": {
      "application/vnd.jupyter.widget-view+json": {
       "model_id": "f60e7752e88747208fe35424a4d7df20",
       "version_major": 2,
       "version_minor": 0
      },
      "text/plain": [
       "Button(description='Analyze dataset', layout=Layout(height='40px', width='auto'), style=ButtonStyle())"
      ]
     },
     "metadata": {},
     "output_type": "display_data"
    }
   ],
   "source": [
    "# definition of ipywidget 'Button' to take into account the endpoint value prompted\n",
    "output = widgets.Output()\n",
    "def on_button_clicked(b):\n",
    "    with output:\n",
    "        display(Javascript('IPython.notebook.execute_cell_range(IPython.notebook.get_selected_index()+1, IPython.notebook.ncells())'))\n",
    "        \n",
    "b = widgets.Button(\n",
    "    description='Analyze dataset', \n",
    "    layout = layout,\n",
    "    disabled=False)\n",
    "display(b)\n",
    "b.on_click(on_button_clicked)"
   ]
  },
  {
   "cell_type": "code",
   "execution_count": 47,
   "metadata": {},
   "outputs": [
    {
     "name": "stdout",
     "output_type": "stream",
     "text": [
      "Endpoint: http://localhost:3030/WBv13.5 found. Processing results now...\n"
     ]
    }
   ],
   "source": [
    "# verification of the endpoint URL\n",
    "req = Request(endpoint.value)\n",
    "try:\n",
    "    response = urlopen(req)\n",
    "except HTTPError as e:\n",
    "    print('Error - Endpoint: ' +endpoint.value + ' not found. Verify URL. (Error code: ', e.code, ')')\n",
    "    raise SystemExit\n",
    "except URLError as e:\n",
    "    print('Error - Server not reached. (Reason: ', e.reason, ')')\n",
    "    raise SystemExit\n",
    "else:\n",
    "    print ('Endpoint: ' +endpoint.value + ' found. Processing results now...')"
   ]
  },
  {
   "cell_type": "markdown",
   "metadata": {},
   "source": [
    "# Rule #1 : Each subsystem shall be supplied by exactly one work package"
   ]
  },
  {
   "cell_type": "code",
   "execution_count": 48,
   "metadata": {},
   "outputs": [],
   "source": [
    "# sparql workpackage query\n",
    "workpackageQuery = \"\"\"\n",
    "PREFIX project: <http://imce.jpl.nasa.gov/foundation/project/project#>\n",
    "PREFIX oml: <http://def.seegrid.csiro.au/ontology/om/om-lite#>\n",
    "PREFIX owl:   <http://www.w3.org/2002/07/owl#>\n",
    "PREFIX rdfs:  <http://www.w3.org/2000/01/rdf-schema#>\n",
    "PREFIX fse:   <http://imce.jpl.nasa.gov/discipline/fse/fse#>\n",
    "PREFIX base:  <http://imce.jpl.nasa.gov/foundation/base/base#>\n",
    "PREFIX analysis: <http://imce.jpl.nasa.gov/foundation/analysis/analysis#>\n",
    "PREFIX mission: <http://imce.jpl.nasa.gov/foundation/mission/mission#>\n",
    "PREFIX pr: <http://purl.org/ontology/prv/core#>\n",
    "PREFIX pro: <http://purl.org/hpi/patchr#>\n",
    "\n",
    "SELECT DISTINCT ?subSystem ?workPackage\n",
    "\n",
    "FROM <urn:x-arq:UnionGraph>\n",
    "WHERE\n",
    "{\n",
    "  ?a a fse:Subsystem ;\n",
    "     base:hasCanonicalName ?subSystem .\n",
    "  \n",
    "  optional {\n",
    "    ?b a project:WorkPackage ;\n",
    "       base:hasCanonicalName ?workPackage ;\n",
    "       project:supplies ?a .\n",
    "  } \n",
    "}\n",
    "\"\"\"\n",
    "if query_fusekiData(workpackageQuery, endpoint.value).empty:\n",
    "    print('Error - The pattern matching query returned no results. Verify OWL data.')\n",
    "    raise SystemExit\n",
    "else:\n",
    "    result_table = query_fusekiData(workpackageQuery, endpoint.value)"
   ]
  },
  {
   "cell_type": "code",
   "execution_count": 49,
   "metadata": {},
   "outputs": [],
   "source": [
    "if 'workPackage.value' not in result_table.columns:\n",
    "    print('Error - No WorkPackages found. Verify OWL data.')\n",
    "else:\n",
    "    obj = result_table[[\"subSystem.value\", \"workPackage.value\"]]\n",
    "    obj = obj.rename(columns = lambda col: col.replace(\".value\", \"\"))"
   ]
  },
  {
   "cell_type": "markdown",
   "metadata": {},
   "source": [
    "## Problem is splitted into 2 subparts:"
   ]
  },
  {
   "cell_type": "markdown",
   "metadata": {},
   "source": [
    "### a/ Is there subsytems not supplied by any WorkPackage?"
   ]
  },
  {
   "cell_type": "code",
   "execution_count": 50,
   "metadata": {},
   "outputs": [
    {
     "name": "stdout",
     "output_type": "stream",
     "text": [
      "Number of subsystems not supplied by any WorkPackage: 2\n",
      "\n",
      "List of subsystems currently not supplied by any WorkPackage: \n",
      "- Communications\n",
      "- Thermal control\n",
      "\n",
      "Suggestion: Connect each of these subsystems to one WorkPackage, in the Mass Manifest.\n"
     ]
    }
   ],
   "source": [
    "sol_a = obj.workPackage.isnull().sum() # select rows based on condition \n",
    "\n",
    "print('Number of subsystems not supplied by any WorkPackage: '+str(sol_a))\n",
    "sol_a = obj[obj['workPackage'].isnull()] \n",
    "sol_a = sol_a['subSystem'].tolist()\n",
    "\n",
    "if not sol_a:\n",
    "    print('The model complies with the rule. No action needs to be performed.')\n",
    "else:\n",
    "    print('\\nList of subsystems currently not supplied by any WorkPackage: ')\n",
    "    for el in sol_a:\n",
    "        print (\"- \" +el)\n",
    "    print(\"\\nSuggestion: Connect each of these subsystems to one WorkPackage, in the Mass Manifest.\")"
   ]
  },
  {
   "cell_type": "markdown",
   "metadata": {},
   "source": [
    "### b/ Is there subystems supplied by more than one WorkPackage?"
   ]
  },
  {
   "cell_type": "code",
   "execution_count": 51,
   "metadata": {},
   "outputs": [],
   "source": [
    "# generate \"supplies\" relationships between a workPackage and a subsystem\n",
    "#obj = obj.append({'subSystem' : 'Payload' , 'workPackage' : 'WPx'} , ignore_index=True)\n",
    "#obj = obj.append({'subSystem' : 'EPS' , 'workPackage' : 'WPx'} , ignore_index=True)"
   ]
  },
  {
   "cell_type": "code",
   "execution_count": 52,
   "metadata": {},
   "outputs": [
    {
     "name": "stdout",
     "output_type": "stream",
     "text": [
      "Number of subsystems supplied by more than one WorkPackage: 0\n",
      "The model complies with the rule. No action needs to be performed.\n"
     ]
    }
   ],
   "source": [
    "sol_b = obj.groupby([\"subSystem\"]).size()\n",
    "sol_b = sol_b.to_frame(\"workPackage_count\")\n",
    "\n",
    "sol_b = sol_b[sol_b['workPackage_count'] > 1] # select rows based on condition \n",
    "print('Number of subsystems supplied by more than one WorkPackage: '+str(sol_b.shape[0]))\n",
    "\n",
    "if sol_b.empty:\n",
    "    print('The model complies with the rule. No action needs to be performed.')\n",
    "else:\n",
    "    print('\\nList of subsystems currently supplied by more than one WorkPackage: ')\n",
    "    for i in range(sol_b.shape[0]):\n",
    "        print('- Subsystem ' +list(sol_b.index)[i] +' has relationship(s) with ' +str(list(sol_b.workPackage_count)[i]) +' different WorkPackages: ')\n",
    "        for j in range((obj[obj['subSystem'] == list(sol_b.index)[i]]).shape[0]):\n",
    "            print('  o ' +list(obj[obj['subSystem'] == list(sol_b.index)[i]].workPackage)[j])\n",
    "    print(\"\\nSuggestion: Look for these subsytems in the Mass Manifest and delete the extra relationships.\")"
   ]
  },
  {
   "cell_type": "markdown",
   "metadata": {},
   "source": [
    "# Rule #2 : Each power load assembly shall be connected to at least one power source assembly"
   ]
  },
  {
   "cell_type": "markdown",
   "metadata": {},
   "source": [
    "Note:\n",
    "1. Solar arrays provide power to the EPS regulators and converters\n",
    "2. EPS regulators and converters provide power to the batteries\n",
    "3. Batteries provide power to the EPS regulators and converters \n",
    "4. EPS regulators and converters provide power to all the other power load components"
   ]
  },
  {
   "cell_type": "code",
   "execution_count": 53,
   "metadata": {},
   "outputs": [
    {
     "name": "stdout",
     "output_type": "stream",
     "text": [
      "Error - The pattern matching query returned no results. Verify OWL data.\n"
     ]
    },
    {
     "ename": "SystemExit",
     "evalue": "",
     "output_type": "error",
     "traceback": [
      "An exception has occurred, use %tb to see the full traceback.\n",
      "\u001b[1;31mSystemExit\u001b[0m\n"
     ]
    }
   ],
   "source": [
    "# sparql powerAssembly query\n",
    "powerAssemblyQuery = \"\"\"\n",
    "PREFIX oml: <http://def.seegrid.csiro.au/ontology/om/om-lite#>\n",
    "PREFIX owl:   <http://www.w3.org/2002/07/owl#>\n",
    "PREFIX rdfs:  <http://www.w3.org/2000/01/rdf-schema#>\n",
    "PREFIX fse:   <http://imce.jpl.nasa.gov/discipline/fse/fse#>\n",
    "PREFIX base:  <http://imce.jpl.nasa.gov/foundation/base/base#>\n",
    "PREFIX analysis: <http://imce.jpl.nasa.gov/foundation/analysis/analysis#>\n",
    "PREFIX mission: <http://imce.jpl.nasa.gov/foundation/mission/mission#>\n",
    "\n",
    "SELECT DISTINCT ?powerLoadAssembly ?loadAssemblyID ?functionID ?powerSourceAssembly ?sourceAssemblyID\n",
    "FROM <urn:x-arq:UnionGraph>\n",
    "WHERE\n",
    "{\n",
    "  ?a a fse:Assembly ;\n",
    "     base:hasAnnotations \"Power load\" ;\n",
    "     fse:hasAssemblyReferenceDesignator ?loadAssemblyID ;                                \n",
    "\t base:hasCanonicalName ?powerLoadAssembly .\n",
    "\n",
    "  optional {\n",
    "  ?d a fse:Assembly ;\n",
    "     base:hasAnnotations \"Power source\" ;\n",
    "     fse:hasAssemblyReferenceDesignator ?sourceAssemblyID ;\n",
    "\t base:hasCanonicalName ?powerSourceAssembly .\n",
    "  \n",
    "  ?c a mission:Junction ;\n",
    "     fse:hasFunctionNumber ?functionID ;\n",
    "     fse:connectsAssembly ?a ;\n",
    "     fse:connectsAssembly ?d . \n",
    "  }     \n",
    "}\n",
    "\"\"\"\n",
    "if query_fusekiData(powerAssemblyQuery, endpoint.value).empty:\n",
    "    print('Error - The pattern matching query returned no results. Verify OWL data.')\n",
    "    raise SystemExit\n",
    "else:\n",
    "    result_table = query_fusekiData(powerAssemblyQuery, endpoint.value)"
   ]
  },
  {
   "cell_type": "code",
   "execution_count": null,
   "metadata": {},
   "outputs": [],
   "source": [
    "if 'loadAssemblyID.value' not in result_table.columns:\n",
    "    print('Error - No Power Load Assemblies found. Verify OWL data.')\n",
    "else:\n",
    "    obj = result_table[[\"powerLoadAssembly.value\", \"loadAssemblyID.value\", \"functionID.value\", \"powerSourceAssembly.value\", \"sourceAssemblyID.value\"]]\n",
    "    obj = obj.rename(columns = lambda col: col.replace(\".value\", \"\"))"
   ]
  },
  {
   "cell_type": "code",
   "execution_count": null,
   "metadata": {
    "scrolled": false
   },
   "outputs": [],
   "source": [
    "sol = obj.functionID.isnull().sum() # select rows based on condition \n",
    "print('Number of power load assemblies not connected to any power source assembly: '+str(sol))\n",
    "\n",
    "if sol==0:\n",
    "    print('The model complies with the rule. No action needs to be performed.')\n",
    "else:\n",
    "    sol = obj[obj['functionID'].isnull()] \n",
    "    sol = sol[[\"powerLoadAssembly\", \"loadAssemblyID\"]]\n",
    "    print('\\nList of power load assemblies not connected to any power source assembly: ' )\n",
    "    for i in range(sol.shape[0]):\n",
    "        print('Name: ' +sol.iloc[i, 0] +' - ID: ' +sol.iloc[i, 1])\n",
    "    print('\\nSuggestion: Use functions to connect each of these assemblies to at least one power source assembly, from the Function List Table.')"
   ]
  },
  {
   "cell_type": "markdown",
   "metadata": {},
   "source": [
    "# Rule #3 : Each power load end circuit interface shall be connected to one power source end circuit interface"
   ]
  },
  {
   "cell_type": "code",
   "execution_count": null,
   "metadata": {},
   "outputs": [],
   "source": [
    "# sparql powerInterface query\n",
    "powerInterfaceQuery = \"\"\"\n",
    "PREFIX oml: <http://def.seegrid.csiro.au/ontology/om/om-lite#>\n",
    "PREFIX owl:   <http://www.w3.org/2002/07/owl#>\n",
    "PREFIX rdfs:  <http://www.w3.org/2000/01/rdf-schema#>\n",
    "PREFIX fse:   <http://imce.jpl.nasa.gov/discipline/fse/fse#>\n",
    "PREFIX base:  <http://imce.jpl.nasa.gov/foundation/base/base#>\n",
    "PREFIX analysis: <http://imce.jpl.nasa.gov/foundation/analysis/analysis#>\n",
    "PREFIX mission: <http://imce.jpl.nasa.gov/foundation/mission/mission#>\n",
    "\n",
    "SELECT DISTINCT ?powerLoadAssembly ?powerLoadAssemblyID ?powerLoadInterface ?functionID \n",
    "FROM <urn:x-arq:UnionGraph>\n",
    "WHERE\n",
    "{\n",
    "    ?c a fse:Assembly ;\n",
    "       base:hasAnnotations \"Power load\" ;\n",
    "       fse:hasReferenceDesignator ?powerLoadAssemblyID ;\n",
    "       base:hasCanonicalName ?powerLoadAssembly .\n",
    "      \n",
    "   \n",
    "  optional \n",
    "  {\n",
    "    ?a a <http://io.openceasar.firesat/efse/libraries/ECTypes#ID_oj74HBJ8czeoHVJe6MXGCvU94TQaXQzNM6wDjYko67NKxLaD5VQCW7zRrs2p5CxcF75J> ; \n",
    "    base:hasCanonicalName ?powerLoadInterface .\n",
    "    \n",
    "    ?b a fse:Function ;\n",
    "    fse:hasFunctionNumber ?functionID ;\n",
    "    mission:joins ?a .\n",
    "    \n",
    "    ?c mission:presents ?a .\n",
    "   }\n",
    "}\n",
    "\"\"\"\n",
    "if query_fusekiData(powerInterfaceQuery, endpoint.value).empty:\n",
    "    print('Error - The pattern matching query returned no results. Verify OWL data.')\n",
    "    raise SystemExit\n",
    "else:\n",
    "    result_table = query_fusekiData(powerInterfaceQuery, endpoint.value)    "
   ]
  },
  {
   "cell_type": "code",
   "execution_count": null,
   "metadata": {
    "scrolled": true
   },
   "outputs": [],
   "source": [
    "if 'powerLoadAssembly.value' not in result_table.columns:\n",
    "    print('Error - No Power Load Assemblies found. Verify OWL data.')\n",
    "else:\n",
    "    obj = result_table[[\"functionID.value\", \"powerLoadAssembly.value\", \"powerLoadAssemblyID.value\", \"powerLoadInterface.value\"]]\n",
    "    obj = obj.rename(columns = lambda col: col.replace(\".value\", \"\"))"
   ]
  },
  {
   "cell_type": "code",
   "execution_count": null,
   "metadata": {},
   "outputs": [],
   "source": [
    "sol = obj.powerLoadInterface.isnull().sum() # select rows based on condition \n",
    "print('Number of power load end circuit interfaces not connected to any power source end circuit interface: '+str(sol))\n",
    "\n",
    "if sol==0:\n",
    "    print('The model complies with the rule. No action needs to be performed.')\n",
    "else:\n",
    "    sol = obj[obj['powerLoadInterface'].isnull()] \n",
    "    sol = sol[[\"powerLoadAssembly\", \"powerLoadAssemblyID\"]]\n",
    "    print('\\nList of the power load assemblies with a missing interface connection with a power source assembly: ')\n",
    "    for i in range(sol.shape[0]):\n",
    "        print('Name: ' +sol.iloc[i, 0] +' - ID: ' +sol.iloc[i, 1])\n",
    "    print('\\nSuggestion: Look for these assemblies and connect their end circuit interfaces to one interface of at least a power source assembly, from the Function List Table.')"
   ]
  }
 ],
 "metadata": {
  "hide_input": false,
  "kernelspec": {
   "display_name": "Python 3",
   "language": "python",
   "name": "python3"
  },
  "language_info": {
   "codemirror_mode": {
    "name": "ipython",
    "version": 3
   },
   "file_extension": ".py",
   "mimetype": "text/x-python",
   "name": "python",
   "nbconvert_exporter": "python",
   "pygments_lexer": "ipython3",
   "version": "3.7.3"
  },
  "varInspector": {
   "cols": {
    "lenName": 16,
    "lenType": 16,
    "lenVar": 40
   },
   "kernels_config": {
    "python": {
     "delete_cmd_postfix": "",
     "delete_cmd_prefix": "del ",
     "library": "var_list.py",
     "varRefreshCmd": "print(var_dic_list())"
    },
    "r": {
     "delete_cmd_postfix": ") ",
     "delete_cmd_prefix": "rm(",
     "library": "var_list.r",
     "varRefreshCmd": "cat(var_dic_list()) "
    }
   },
   "position": {
    "height": "465.583px",
    "left": "1506.6px",
    "right": "20px",
    "top": "117px",
    "width": "654.2px"
   },
   "types_to_exclude": [
    "module",
    "function",
    "builtin_function_or_method",
    "instance",
    "_Feature"
   ],
   "window_display": false
  }
 },
 "nbformat": 4,
 "nbformat_minor": 2
}
