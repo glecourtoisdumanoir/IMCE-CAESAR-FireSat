{
 "cells": [
  {
   "cell_type": "markdown",
   "metadata": {},
   "source": [
    "# Analysis of datasets - source: MagicDraw model"
   ]
  },
  {
   "cell_type": "markdown",
   "metadata": {},
   "source": [
    "Mission: verify the integrity of a system model"
   ]
  },
  {
   "cell_type": "markdown",
   "metadata": {},
   "source": [
    "Objectives: \n",
    "- use pattern matching to detect the inconsistencies,\n",
    "- use graph analysis to display correction suggestions,\n",
    "- allocate the correction of the system model to a user, selected as being familiar with the CAESAR WorkBench v1.23,\n",
    "- assume that the test is finished when the graph analysis returns that the input model complies with the 3 different rules."
   ]
  },
  {
   "cell_type": "markdown",
   "metadata": {},
   "source": [
    "Note: the RDF dataset shall be \n",
    "- renamed: *.trig\n",
    "- available through a query endpoint"
   ]
  },
  {
   "cell_type": "code",
   "execution_count": 253,
   "metadata": {},
   "outputs": [],
   "source": [
    "# import necessary libraries \n",
    "import pandas as pd\n",
    "from pandas.io.json import json_normalize\n",
    "from SPARQLWrapper import SPARQLWrapper, JSON\n",
    "\n",
    "import ipywidgets as widgets\n",
    "from ipywidgets import Layout\n",
    "from IPython.display import Javascript\n",
    "\n",
    "from urllib.request import Request, urlopen\n",
    "from urllib.error import URLError, HTTPError\n",
    "\n",
    "import networkx as nx\n",
    "import snap"
   ]
  },
  {
   "cell_type": "code",
   "execution_count": 254,
   "metadata": {},
   "outputs": [],
   "source": [
    "# definition of a function: sparql query\n",
    "def query_fusekiData(sparql_query, sparql_service_url):\n",
    "    \"\"\"\n",
    "    Query the endpoint with the given query string and return the results as a pandas Dataframe.\n",
    "    \"\"\"\n",
    "    # create the connection to the endpoint\n",
    "    sparql = SPARQLWrapper(sparql_service_url)\n",
    "    \n",
    "    sparql.setQuery(sparql_query)\n",
    "    sparql.setReturnFormat(JSON)\n",
    "\n",
    "    # ask for the result\n",
    "    result = sparql.query().convert()\n",
    "    return json_normalize(result[\"results\"][\"bindings\"])"
   ]
  },
  {
   "cell_type": "code",
   "execution_count": 255,
   "metadata": {},
   "outputs": [
    {
     "data": {
      "application/vnd.jupyter.widget-view+json": {
       "model_id": "1dafd50288484fbcb9b6c25e0a4adac3",
       "version_major": 2,
       "version_minor": 0
      },
      "text/plain": [
       "Text(value='http://localhost:3030/MDv20191202', description='Endpoint: ', layout=Layout(height='40px', width='…"
      ]
     },
     "metadata": {},
     "output_type": "display_data"
    }
   ],
   "source": [
    "# definition of ipywidget 'Text' to prompt the  endpoint to query\n",
    "layout = widgets.Layout(width='auto', height='40px') #set width and height of the different widgets\n",
    "endpoint=widgets.Text(\n",
    "    value='http://localhost:3030/MDv20191202',\n",
    "    placeholder='http://localhost:3030/',\n",
    "    description='Endpoint: ',\n",
    "    layout = layout,\n",
    "    disabled=False\n",
    ")\n",
    "display(endpoint)"
   ]
  },
  {
   "cell_type": "code",
   "execution_count": 256,
   "metadata": {},
   "outputs": [
    {
     "data": {
      "application/vnd.jupyter.widget-view+json": {
       "model_id": "ef5f5eb9318c4743b84524938f41f34f",
       "version_major": 2,
       "version_minor": 0
      },
      "text/plain": [
       "Button(description='Analyze dataset', layout=Layout(height='40px', width='auto'), style=ButtonStyle())"
      ]
     },
     "metadata": {},
     "output_type": "display_data"
    }
   ],
   "source": [
    "# definition of ipywidget 'Button' to take into account the endpoint value prompted\n",
    "output = widgets.Output()\n",
    "def on_button_clicked(b):\n",
    "    with output:\n",
    "        display(Javascript('IPython.notebook.execute_cell_range(IPython.notebook.get_selected_index()+1, IPython.notebook.ncells())'))\n",
    "        \n",
    "b = widgets.Button(\n",
    "    description='Analyze dataset', \n",
    "    layout = layout,\n",
    "    disabled=False)\n",
    "display(b)\n",
    "b.on_click(on_button_clicked)"
   ]
  },
  {
   "cell_type": "code",
   "execution_count": 257,
   "metadata": {},
   "outputs": [
    {
     "name": "stdout",
     "output_type": "stream",
     "text": [
      "Endpoint: http://localhost:3030/MDv20191202 found. Processing results now...\n"
     ]
    }
   ],
   "source": [
    "# verification of the endpoint URL\n",
    "req = Request(endpoint.value)\n",
    "try:\n",
    "    response = urlopen(req)\n",
    "except HTTPError as e:\n",
    "    print('Error - Endpoint: ' +endpoint.value + ' not found. Verify URL. (Error code: ', e.code, ')')\n",
    "    raise SystemExit\n",
    "except URLError as e:\n",
    "    print('Error - Server not reached. (Reason: ', e.reason, ')')\n",
    "    raise SystemExit\n",
    "else:\n",
    "    print ('Endpoint: ' +endpoint.value + ' found. Processing results now...')"
   ]
  },
  {
   "cell_type": "markdown",
   "metadata": {},
   "source": [
    "# Rule #1: Structural decomposition graph shall be directed, acyclic, connected and rooted"
   ]
  },
  {
   "cell_type": "code",
   "execution_count": 258,
   "metadata": {
    "scrolled": false
   },
   "outputs": [],
   "source": [
    "# composition sparql query\n",
    "query = \"\"\"\n",
    "PREFIX owl:   <http://www.w3.org/2002/07/owl#>\n",
    "PREFIX rdfs:  <http://www.w3.org/2000/01/rdf-schema#>\n",
    "PREFIX base:  <http://imce.jpl.nasa.gov/foundation/base/base#>\n",
    "\n",
    "SELECT DISTINCT ?physicalComponent ?isContainedIn\n",
    "FROM <urn:x-arq:UnionGraph>\n",
    "WHERE\n",
    "{\n",
    "  ?a a owl:Class ;\n",
    "     rdfs:label ?b ;\n",
    "     rdfs:subClassOf <http://firesat.jpl.nasa.gov/user-model/generated/md/profileExt/firesat-extensions_ID__18_5_3_8c20287_1563932039371_543598_24020#PhysicalComponent_ID__18_5_3_8c20287_1563932086646_143892_24055>.\n",
    "\n",
    "  ?c a owl:Class ;\n",
    "     rdfs:label ?physicalComponent ;\n",
    "     rdfs:subClassOf <http://firesat.jpl.nasa.gov/user-model/generated/md/profileExt/firesat-extensions_ID__18_5_3_8c20287_1563932039371_543598_24020#PhysicalComponent_ID__18_5_3_8c20287_1563932086646_143892_24055>.\n",
    "\n",
    "\n",
    "  optional {?a rdfs:subClassOf [a owl:Restriction ;\n",
    "               owl:onProperty base:aggregates ;\n",
    "               owl:someValuesFrom ?c] }.\n",
    "\n",
    "  optional {?e rdfs:subClassOf [a owl:Restriction ;\n",
    "               owl:onProperty base:aggregates ;\n",
    "               owl:someValuesFrom ?c ].\n",
    "    ?e rdfs:label ?isContainedIn }.\n",
    "}\n",
    "\"\"\"\n",
    "if query_fusekiData(query, endpoint.value).empty:\n",
    "    print('Error - The pattern matching query returned no results. Verify OWL data.')\n",
    "    raise SystemExit\n",
    "else:\n",
    "    result_table = query_fusekiData(query, endpoint.value)"
   ]
  },
  {
   "cell_type": "code",
   "execution_count": 259,
   "metadata": {},
   "outputs": [],
   "source": [
    "if 'physicalComponent.value' not in result_table.columns:\n",
    "    print('Error - No Physical Component found. Verify OWL data.')\n",
    "    raise SystemExit\n",
    "else:\n",
    "    obj = result_table[['physicalComponent.value', 'isContainedIn.value']]\n",
    "    obj = obj.rename(columns = lambda col: col.replace(\".value\", \"\"))"
   ]
  },
  {
   "cell_type": "code",
   "execution_count": 260,
   "metadata": {},
   "outputs": [],
   "source": [
    "# from dataframe to graph\n",
    "objGraph = nx.from_pandas_edgelist(obj, 'physicalComponent', 'isContainedIn', create_using=nx.DiGraph())"
   ]
  },
  {
   "cell_type": "code",
   "execution_count": 261,
   "metadata": {},
   "outputs": [
    {
     "name": "stdout",
     "output_type": "stream",
     "text": [
      "Graph is directed: True\n"
     ]
    }
   ],
   "source": [
    "# is graph directed\n",
    "print(\"Graph is directed:\", nx.is_directed(objGraph))"
   ]
  },
  {
   "cell_type": "code",
   "execution_count": 262,
   "metadata": {},
   "outputs": [
    {
     "name": "stdout",
     "output_type": "stream",
     "text": [
      "Graph is acyclic: True\n"
     ]
    }
   ],
   "source": [
    "# is graph acyclic\n",
    "print(\"Graph is acyclic:\", nx.is_directed_acyclic_graph(objGraph))\n",
    "if nx.is_directed_acyclic_graph(objGraph) != True:\n",
    "    print(\"Number of cycles:\", len(list(nx.simple_cycles(objGraph))))\n",
    "    print(\"Cycles found:\")\n",
    "    for el in list(nx.simple_cycles(objGraph)):\n",
    "        print('- ', el)\n",
    "    print(\"Among them, number of self-loop edges:\", objGraph.number_of_selfloops())\n",
    "    print(\"Nodes presenting a self-loop edge:\" )\n",
    "    for el in objGraph.nodes_with_selfloops():\n",
    "        print('- ', el)\n",
    "    print(\"\\nSuggestion: Correct the graph so that it becomes acyclic.\")"
   ]
  },
  {
   "cell_type": "code",
   "execution_count": 263,
   "metadata": {},
   "outputs": [
    {
     "name": "stdout",
     "output_type": "stream",
     "text": [
      "Graph is connected: True\n"
     ]
    }
   ],
   "source": [
    "# is graph connected\n",
    "print(\"Graph is connected:\", nx.is_weakly_connected(objGraph))\n",
    "if nx.is_weakly_connected(objGraph) != True:\n",
    "    print(\"Number of isolated nodes:\", len(list(nx.isolates(objGraph))))\n",
    "    print(\"Isolated nodes:\")\n",
    "    for el in list(nx.isolates(objGraph)):\n",
    "        print('- ', el)\n",
    "    print(\"\\nSuggestion: Connect the isolated nodes.\")"
   ]
  },
  {
   "cell_type": "code",
   "execution_count": 264,
   "metadata": {
    "scrolled": false
   },
   "outputs": [
    {
     "name": "stdout",
     "output_type": "stream",
     "text": [
      "Graph is rooted: True\n"
     ]
    }
   ],
   "source": [
    "# is graph rooted\n",
    "obj = pd.DataFrame(objGraph.out_degree())\n",
    "obj = obj[obj[1]==0]\n",
    "print(\"Graph is rooted:\", obj.shape[0] == 1)\n",
    "if obj.shape[0] == 0:\n",
    "    print(\"No roots found.\")\n",
    "    print(\"\\nSuggestion: Correct the graph so that it presents one and only one root.\")\n",
    "if obj.shape[0] > 1:\n",
    "    print(\"Number of roots found:\", obj.shape[0])\n",
    "    print(\"Roots found:\")\n",
    "    for el in obj[0]:\n",
    "        print('-', el)\n",
    "    print(\"\\nSuggestion: Correct the graph so that it presents one and only one root.\")"
   ]
  },
  {
   "cell_type": "markdown",
   "metadata": {},
   "source": [
    "# Rule #2: Each Physical Component shall be contained in exactly one Subsystem"
   ]
  },
  {
   "cell_type": "code",
   "execution_count": 265,
   "metadata": {},
   "outputs": [],
   "source": [
    "# aggregation sparql query\n",
    "query = \"\"\"\n",
    "PREFIX owl:   <http://www.w3.org/2002/07/owl#>\n",
    "PREFIX rdfs:  <http://www.w3.org/2000/01/rdf-schema#>\n",
    "PREFIX base:  <http://imce.jpl.nasa.gov/foundation/base/base#>\n",
    "\n",
    "SELECT DISTINCT ?physicalComponent ?subSystem\n",
    "FROM <urn:x-arq:UnionGraph>\n",
    "WHERE\n",
    "{\n",
    "  ?a a owl:Class ;\n",
    "     rdfs:label ?b ;\n",
    "     rdfs:subClassOf <http://firesat.jpl.nasa.gov/user-model/generated/md/profileExt/firesat-extensions_ID__18_5_3_8c20287_1563932039371_543598_24020#PhysicalComponent_ID__18_5_3_8c20287_1563932086646_143892_24055>.\n",
    "\n",
    "  ?c a owl:Class ;\n",
    "     rdfs:label ?physicalComponent ;\n",
    "     rdfs:subClassOf <http://firesat.jpl.nasa.gov/user-model/generated/md/profileExt/firesat-extensions_ID__18_5_3_8c20287_1563932039371_543598_24020#PhysicalComponent_ID__18_5_3_8c20287_1563932086646_143892_24055>.\n",
    "\n",
    "\n",
    "  optional {?a rdfs:subClassOf [a owl:Restriction ;\n",
    "               owl:onProperty base:contains ;\n",
    "               owl:someValuesFrom ?c] }.\n",
    "\n",
    "  optional {?e rdfs:subClassOf [a owl:Restriction ;\n",
    "               owl:onProperty base:contains ;\n",
    "               owl:someValuesFrom ?c ].\n",
    "    ?e rdfs:label ?subSystem }.\n",
    "}\n",
    "\"\"\"\n",
    "if query_fusekiData(query, endpoint.value).empty:\n",
    "    print('Error - The pattern matching query returned no results. Verify OWL data.')\n",
    "    raise SystemExit\n",
    "else:\n",
    "    result_table = query_fusekiData(query, endpoint.value)"
   ]
  },
  {
   "cell_type": "code",
   "execution_count": 266,
   "metadata": {},
   "outputs": [],
   "source": [
    "if 'subSystem.value' not in result_table.columns:\n",
    "    print('Error - No Subsystems found. Verify OWL data.')\n",
    "    raise SystemExit\n",
    "else:\n",
    "    obj = result_table[['physicalComponent.value', 'subSystem.value']]\n",
    "    obj = obj.rename(columns = lambda col: col.replace(\".value\", \"\"))"
   ]
  },
  {
   "cell_type": "code",
   "execution_count": 267,
   "metadata": {},
   "outputs": [],
   "source": [
    "# from dataframe to graph\n",
    "objGraph = nx.from_pandas_edgelist(obj, 'physicalComponent', 'subSystem', create_using=nx.DiGraph())"
   ]
  },
  {
   "cell_type": "markdown",
   "metadata": {},
   "source": [
    "### a/ Is there Physical Component not contained in any Subystem?"
   ]
  },
  {
   "cell_type": "code",
   "execution_count": 268,
   "metadata": {},
   "outputs": [
    {
     "name": "stdout",
     "output_type": "stream",
     "text": [
      "Number of physical component not aggregated in any subsystem: 0\n",
      "The model complies with the rule. No action needs to be performed.\n"
     ]
    }
   ],
   "source": [
    "sol_a = obj.subSystem.isnull().sum() # select rows based on condition \n",
    "\n",
    "print('Number of physical component not aggregated in any subsystem: '+str(sol_a))\n",
    "sol_a = obj[obj['subSystem'].isnull()] \n",
    "sol_a = sol_a['physicalComponent'].tolist()\n",
    "\n",
    "if not sol_a:\n",
    "    print('The model complies with the rule. No action needs to be performed.')\n",
    "else:\n",
    "    print('\\nList of physical component currently not aggregated in any subSystem: ')\n",
    "    for el in sol_a:\n",
    "        print (\"- \" +el)\n",
    "    print(\"\\nSuggestion: Connect each of these physical components to one subSystem.\")"
   ]
  },
  {
   "cell_type": "markdown",
   "metadata": {},
   "source": [
    "### b/ Is there any Physical Component contained in more than one Subsystem?"
   ]
  },
  {
   "cell_type": "code",
   "execution_count": 269,
   "metadata": {},
   "outputs": [
    {
     "name": "stdout",
     "output_type": "stream",
     "text": [
      "Number of physical components aggregated in more than one Subsystem: 0\n",
      "The model complies with the rule. No action needs to be performed.\n"
     ]
    }
   ],
   "source": [
    "sol_b = obj.groupby([\"physicalComponent\"]).size()\n",
    "sol_b = sol_b.to_frame(\"subSystem_count\")\n",
    "\n",
    "sol_b = sol_b[sol_b['subSystem_count'] > 1] # select rows based on condition \n",
    "print('Number of physical components aggregated in more than one Subsystem: '+str(sol_b.shape[0]))\n",
    "\n",
    "if sol_b.empty:\n",
    "    print('The model complies with the rule. No action needs to be performed.')\n",
    "else:\n",
    "    print('\\nList of physical components currently aggregated in more than one SubSystem: ')\n",
    "    for i in range(sol_b.shape[0]):\n",
    "        print('- Physical component ' +list(sol_b.index)[i] +' is aggregated in ' +str(list(sol_b.subSystem_count)[i]) +' different SubSystems: ')\n",
    "        for j in range((obj[obj['physicalComponent'] == list(sol_b.index)[i]]).shape[0]):\n",
    "            print('  o ' +list(obj[obj['physicalComponent'] == list(sol_b.index)[i]].subSystem)[j])\n",
    "    print(\"\\nSuggestion: Look for these Physical Components and delete the extra aggregations.\")"
   ]
  },
  {
   "cell_type": "markdown",
   "metadata": {
    "cell_style": "center"
   },
   "source": [
    "# Rule #3: Each Subsystem shall be supplied by exactly one WorkPackage"
   ]
  },
  {
   "cell_type": "code",
   "execution_count": 270,
   "metadata": {
    "scrolled": false
   },
   "outputs": [],
   "source": [
    "# workpackage sparql query\n",
    "query = \"\"\"\n",
    "PREFIX project: <http://imce.jpl.nasa.gov/foundation/project/project#>\n",
    "PREFIX owl:   <http://www.w3.org/2002/07/owl#>\n",
    "PREFIX rdfs:  <http://www.w3.org/2000/01/rdf-schema#>\n",
    "\n",
    "SELECT DISTINCT ?subsystem ?workPackage\n",
    "\n",
    "FROM <urn:x-arq:UnionGraph>\n",
    "WHERE\n",
    "{\n",
    "  ?a rdfs:subClassOf <http://firesat.jpl.nasa.gov/user-model/generated/md/profileExt/firesat-extensions_ID__18_5_3_8c20287_1563932039371_543598_24020#Subsystem_ID__18_5_3_8c20287_1572979614280_430250_25878>;\n",
    "     rdfs:label ?subsystem.\n",
    "  \n",
    "  optional {\n",
    "    ?b rdfs:subClassOf  [ a owl:Restriction ; owl:onProperty project:supplies ; owl:someValuesFrom ?a ] ;\n",
    "                                                                                rdfs:label ?workPackage. }  \n",
    "}\n",
    "\"\"\"\n",
    "if query_fusekiData(query, endpoint.value).empty:\n",
    "    print('Error - The pattern matching query returned no results. Verify OWL data.')\n",
    "    raise SystemExit\n",
    "else:\n",
    "    result_table = query_fusekiData(query, endpoint.value)"
   ]
  },
  {
   "cell_type": "code",
   "execution_count": 271,
   "metadata": {},
   "outputs": [],
   "source": [
    "if 'subsystem.value' not in result_table.columns:\n",
    "    print('Error - No Subsystem found. Verify OWL data.')\n",
    "    raise SystemExit\n",
    "else:\n",
    "    obj = result_table[[\"subsystem.value\", \"workPackage.value\"]]\n",
    "    obj = obj.rename(columns = lambda col: col.replace(\".value\", \"\"))"
   ]
  },
  {
   "cell_type": "markdown",
   "metadata": {},
   "source": [
    "### a/ Is there subsytems not supplied by any WorkPackage?"
   ]
  },
  {
   "cell_type": "code",
   "execution_count": 272,
   "metadata": {},
   "outputs": [
    {
     "name": "stdout",
     "output_type": "stream",
     "text": [
      "Number of Subsystems not supplied by any WorkPackage: 0\n",
      "The model complies with the rule. No action needs to be performed.\n"
     ]
    }
   ],
   "source": [
    "sol_a = obj.workPackage.isnull().sum() # select rows based on condition \n",
    "\n",
    "print('Number of Subsystems not supplied by any WorkPackage: '+str(sol_a))\n",
    "sol_a = obj[obj['workPackage'].isnull()] \n",
    "sol_a = sol_a['subsystem'].tolist()\n",
    "\n",
    "if not sol_a:\n",
    "    print('The model complies with the rule. No action needs to be performed.')\n",
    "else:\n",
    "    print('\\nList of Subsystems currently not supplied by any WorkPackage: ')\n",
    "    for el in sol_a:\n",
    "        print (\"- \" +el)\n",
    "    print(\"\\nSuggestion: Connect each of these Subsystems to one WorkPackage.\")"
   ]
  },
  {
   "cell_type": "markdown",
   "metadata": {},
   "source": [
    "### b/ Is there subystems supplied by more than one WorkPackage?"
   ]
  },
  {
   "cell_type": "code",
   "execution_count": 273,
   "metadata": {},
   "outputs": [
    {
     "name": "stdout",
     "output_type": "stream",
     "text": [
      "Number of Subsystems supplied by more than one WorkPackage: 0\n",
      "The model complies with the rule. No action needs to be performed.\n"
     ]
    }
   ],
   "source": [
    "sol_b = obj.groupby([\"subsystem\"]).size()\n",
    "sol_b = sol_b.to_frame(\"workPackage_count\")\n",
    "\n",
    "sol_b = sol_b[sol_b['workPackage_count'] > 1] # select rows based on condition \n",
    "print('Number of Subsystems supplied by more than one WorkPackage: '+str(sol_b.shape[0]))\n",
    "\n",
    "if sol_b.empty:\n",
    "    print('The model complies with the rule. No action needs to be performed.')\n",
    "else:\n",
    "    print('\\nList of subsystems currently supplied by more than one WorkPackage: ')\n",
    "    for i in range(sol_b.shape[0]):\n",
    "        print('- Subsystem ' +list(sol_b.index)[i] +' has relationship(s) with ' +str(list(sol_b.workPackage_count)[i]) +' different WorkPackages: ')\n",
    "        for j in range((obj[obj['subsystem'] == list(sol_b.index)[i]]).shape[0]):\n",
    "            print('  o ' +list(obj[obj['subsystem'] == list(sol_b.index)[i]].workPackage)[j])\n",
    "    print(\"\\nSuggestion: Look for these Subsytems and delete the extra relationships.\")"
   ]
  },
  {
   "cell_type": "markdown",
   "metadata": {},
   "source": [
    "# Rule #4: Each Physical Component shall perform at least one Function"
   ]
  },
  {
   "cell_type": "code",
   "execution_count": 274,
   "metadata": {},
   "outputs": [],
   "source": [
    "# assemblies perform functions sparql query\n",
    "query = \"\"\"\n",
    "PREFIX owl:   <http://www.w3.org/2002/07/owl#>\n",
    "PREFIX rdfs:  <http://www.w3.org/2000/01/rdf-schema#>\n",
    "PREFIX base:  <http://imce.jpl.nasa.gov/foundation/base/base#>\n",
    "PREFIX mission: <http://imce.jpl.nasa.gov/foundation/mission/mission#>\n",
    "\n",
    "SELECT DISTINCT ?physicalComponent ?isContainedIn ?function\n",
    "FROM <urn:x-arq:UnionGraph>\n",
    "WHERE\n",
    "{\n",
    "  ?a a owl:Class ;\n",
    "     rdfs:label ?b ;\n",
    "     rdfs:subClassOf <http://firesat.jpl.nasa.gov/user-model/generated/md/profileExt/firesat-extensions_ID__18_5_3_8c20287_1563932039371_543598_24020#PhysicalComponent_ID__18_5_3_8c20287_1563932086646_143892_24055>.\n",
    "\n",
    "  ?c a owl:Class ;\n",
    "     rdfs:label ?physicalComponent ;\n",
    "     rdfs:subClassOf <http://firesat.jpl.nasa.gov/user-model/generated/md/profileExt/firesat-extensions_ID__18_5_3_8c20287_1563932039371_543598_24020#PhysicalComponent_ID__18_5_3_8c20287_1563932086646_143892_24055>.\n",
    "\n",
    "  optional {?a rdfs:subClassOf [a owl:Restriction ;\n",
    "               owl:onProperty base:aggregates ;\n",
    "               owl:someValuesFrom ?c] }.\n",
    "\n",
    "  optional {?e rdfs:subClassOf [a owl:Restriction ;\n",
    "               owl:onProperty base:aggregates ;\n",
    "               owl:someValuesFrom ?c ].\n",
    "    ?e rdfs:label ?isContainedIn }.\n",
    "    \n",
    "  optional {\n",
    "    ?c rdfs:subClassOf  [ a owl:Restriction ; owl:onProperty mission:performs ; owl:someValuesFrom ?g ].\n",
    "    ?g rdfs:label ?function\n",
    "    }\n",
    "}\n",
    "\"\"\"\n",
    "if query_fusekiData(query, endpoint.value).empty:\n",
    "    print('Error - The pattern matching query returned no results. Verify OWL data.')\n",
    "    raise SystemExit\n",
    "else:\n",
    "    result_table = query_fusekiData(query, endpoint.value)"
   ]
  },
  {
   "cell_type": "code",
   "execution_count": 275,
   "metadata": {},
   "outputs": [],
   "source": [
    "if 'physicalComponent.value' not in result_table.columns:\n",
    "    print('Error - No Physical Component found. Verify OWL data.')\n",
    "    raise SystemExit\n",
    "else:\n",
    "    obj = result_table[['physicalComponent.value', 'isContainedIn.value', 'function.value']]\n",
    "    obj = obj.rename(columns = lambda col: col.replace(\".value\", \"\"))"
   ]
  },
  {
   "cell_type": "code",
   "execution_count": 276,
   "metadata": {
    "scrolled": false
   },
   "outputs": [],
   "source": [
    "# List the parent assemblies to remove the implied relationships from the analysis \n",
    "obj_a = obj[['isContainedIn', 'function']]\n",
    "obj_a = obj_a.drop_duplicates(subset = 'isContainedIn')\n",
    "obj_a = obj_a.dropna(axis = 0, subset = ['isContainedIn'])\n",
    "obj_a = obj_a.rename(columns={'isContainedIn':'physicalComponent'})\n",
    "\n",
    "# List all the assemblies\n",
    "obj_b = obj[['physicalComponent', 'function']]\n",
    "obj_b = obj_b.drop_duplicates(subset = 'physicalComponent')\n",
    "\n",
    "# List the assemblies that aggregate no childs\n",
    "obj = pd.concat([obj_a, obj_b])\n",
    "obj = obj.drop_duplicates(subset = 'physicalComponent', keep = False)"
   ]
  },
  {
   "cell_type": "code",
   "execution_count": 277,
   "metadata": {
    "scrolled": true
   },
   "outputs": [
    {
     "name": "stdout",
     "output_type": "stream",
     "text": [
      "Number of Physical Components not performing any Function: 0\n",
      "The model complies with the rule. No action needs to be performed.\n"
     ]
    }
   ],
   "source": [
    "sol = obj.function.isnull().sum() # select rows based on condition \n",
    "\n",
    "print('Number of Physical Components not performing any Function: '+str(sol))\n",
    "sol = obj[obj['function'].isnull()] \n",
    "sol = sol['physicalComponent'].tolist()\n",
    "\n",
    "if not sol:\n",
    "    print('The model complies with the rule. No action needs to be performed.')\n",
    "else:\n",
    "    print('\\nList of Subsystems currently not supplied by any WorkPackage: ')\n",
    "    for el in sol:\n",
    "        print (\"- \" +el)\n",
    "    print(\"\\nSuggestion: Connect each of these Subsystems to one WorkPackage.\")"
   ]
  },
  {
   "cell_type": "markdown",
   "metadata": {},
   "source": [
    "# Rule #5: Each Physical Component shall satisfy at least one non functional Requirement"
   ]
  },
  {
   "cell_type": "code",
   "execution_count": null,
   "metadata": {},
   "outputs": [],
   "source": []
  },
  {
   "cell_type": "markdown",
   "metadata": {},
   "source": [
    "# Rule #6: Each Function shall be performed by at least one Physical Component"
   ]
  },
  {
   "cell_type": "code",
   "execution_count": null,
   "metadata": {},
   "outputs": [],
   "source": []
  },
  {
   "cell_type": "markdown",
   "metadata": {},
   "source": [
    "# Rule #7: Each Requirement shall specify at least one Physical Component"
   ]
  },
  {
   "cell_type": "code",
   "execution_count": null,
   "metadata": {},
   "outputs": [],
   "source": []
  },
  {
   "cell_type": "markdown",
   "metadata": {},
   "source": [
    "# Rule #8: Each functional Requirement shall specify how the Physical Components perform the function"
   ]
  },
  {
   "cell_type": "code",
   "execution_count": null,
   "metadata": {},
   "outputs": [],
   "source": []
  }
 ],
 "metadata": {
  "hide_input": true,
  "kernelspec": {
   "display_name": "Python 3",
   "language": "python",
   "name": "python3"
  },
  "language_info": {
   "codemirror_mode": {
    "name": "ipython",
    "version": 3
   },
   "file_extension": ".py",
   "mimetype": "text/x-python",
   "name": "python",
   "nbconvert_exporter": "python",
   "pygments_lexer": "ipython3",
   "version": "3.7.3"
  },
  "varInspector": {
   "cols": {
    "lenName": 16,
    "lenType": 16,
    "lenVar": 40
   },
   "kernels_config": {
    "python": {
     "delete_cmd_postfix": "",
     "delete_cmd_prefix": "del ",
     "library": "var_list.py",
     "varRefreshCmd": "print(var_dic_list())"
    },
    "r": {
     "delete_cmd_postfix": ") ",
     "delete_cmd_prefix": "rm(",
     "library": "var_list.r",
     "varRefreshCmd": "cat(var_dic_list()) "
    }
   },
   "types_to_exclude": [
    "module",
    "function",
    "builtin_function_or_method",
    "instance",
    "_Feature"
   ],
   "window_display": false
  }
 },
 "nbformat": 4,
 "nbformat_minor": 2
}
