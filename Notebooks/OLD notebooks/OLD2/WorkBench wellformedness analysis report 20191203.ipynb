{
 "cells": [
  {
   "cell_type": "markdown",
   "metadata": {},
   "source": [
    "# Analysis of datasets - source: WorkBench model"
   ]
  },
  {
   "cell_type": "markdown",
   "metadata": {},
   "source": [
    "Mission: verify the integrity of a system model"
   ]
  },
  {
   "cell_type": "markdown",
   "metadata": {},
   "source": [
    "Objectives: \n",
    "- use pattern matching to detect the inconsistencies,\n",
    "- use graph analysis to display correction suggestions,\n",
    "- allocate the correction of the system model to a user."
   ]
  },
  {
   "cell_type": "markdown",
   "metadata": {},
   "source": [
    "Note: the RDF dataset shall be \n",
    "- renamed: *.trig\n",
    "- available through a query endpoint"
   ]
  },
  {
   "cell_type": "code",
   "execution_count": 80,
   "metadata": {},
   "outputs": [],
   "source": [
    "# import necessary libraries \n",
    "import pandas as pd\n",
    "from pandas.io.json import json_normalize\n",
    "from SPARQLWrapper import SPARQLWrapper, JSON\n",
    "\n",
    "import ipywidgets as widgets\n",
    "from ipywidgets import Layout\n",
    "from IPython.display import Javascript\n",
    "\n",
    "from urllib.request import Request, urlopen\n",
    "from urllib.error import URLError, HTTPError"
   ]
  },
  {
   "cell_type": "code",
   "execution_count": 81,
   "metadata": {},
   "outputs": [],
   "source": [
    "# definition of a function: sparql query\n",
    "def query_fusekiData(sparql_query, sparql_service_url):\n",
    "    \"\"\"\n",
    "    Query the endpoint with the given query string and return the results as a pandas Dataframe.\n",
    "    \"\"\"\n",
    "    # create the connection to the endpoint\n",
    "    sparql = SPARQLWrapper(sparql_service_url)\n",
    "    \n",
    "    sparql.setQuery(sparql_query)\n",
    "    sparql.setReturnFormat(JSON)\n",
    "\n",
    "    # ask for the result\n",
    "    result = sparql.query().convert()\n",
    "    return json_normalize(result[\"results\"][\"bindings\"])"
   ]
  },
  {
   "cell_type": "code",
   "execution_count": 99,
   "metadata": {},
   "outputs": [
    {
     "data": {
      "application/vnd.jupyter.widget-view+json": {
       "model_id": "e38e232b0a304028a04ca2d90a0050bd",
       "version_major": 2,
       "version_minor": 0
      },
      "text/plain": [
       "Text(value='http://localhost:3030/.', description='Endpoint: ', layout=Layout(height='40px', width='auto'), pl…"
      ]
     },
     "metadata": {},
     "output_type": "display_data"
    }
   ],
   "source": [
    "# definition of ipywidget 'Text' to prompt the  endpoint to query\n",
    "layout = widgets.Layout(width='auto', height='40px') #set width and height of the different widgets\n",
    "endpoint=widgets.Text(\n",
    "    value='http://localhost:3030/.',\n",
    "    placeholder='http://localhost:3030/',\n",
    "    description='Endpoint: ',\n",
    "    layout = layout,\n",
    "    disabled=False\n",
    ")\n",
    "display(endpoint)"
   ]
  },
  {
   "cell_type": "code",
   "execution_count": 83,
   "metadata": {
    "scrolled": false
   },
   "outputs": [
    {
     "data": {
      "application/vnd.jupyter.widget-view+json": {
       "model_id": "162ce49068ea48a9a95b1d0d2397f34a",
       "version_major": 2,
       "version_minor": 0
      },
      "text/plain": [
       "Button(description='Analyze dataset', layout=Layout(height='40px', width='auto'), style=ButtonStyle())"
      ]
     },
     "metadata": {},
     "output_type": "display_data"
    }
   ],
   "source": [
    "# definition of ipywidget 'Button' to take into account the endpoint value prompted\n",
    "output = widgets.Output()\n",
    "def on_button_clicked(b):\n",
    "    with output:\n",
    "        display(Javascript('IPython.notebook.execute_cell_range(IPython.notebook.get_selected_index()+1, IPython.notebook.ncells())'))\n",
    "        \n",
    "b = widgets.Button(\n",
    "    description='Analyze dataset', \n",
    "    layout = layout,\n",
    "    disabled=False)\n",
    "display(b)\n",
    "b.on_click(on_button_clicked)"
   ]
  },
  {
   "cell_type": "code",
   "execution_count": 103,
   "metadata": {},
   "outputs": [
    {
     "name": "stdout",
     "output_type": "stream",
     "text": [
      "Error - Endpoint: http://localhost:3030/dataset not found. Verify URL. (Error code:  404 )\n"
     ]
    },
    {
     "ename": "SystemExit",
     "evalue": "",
     "output_type": "error",
     "traceback": [
      "An exception has occurred, use %tb to see the full traceback.\n",
      "\u001b[1;31mSystemExit\u001b[0m\n"
     ]
    }
   ],
   "source": [
    "# verification of the endpoint URL\n",
    "req = Request(endpoint.value)\n",
    "try:\n",
    "    response = urlopen(req)\n",
    "except HTTPError as e:\n",
    "    print('Error - Endpoint: ' +endpoint.value + ' not found. Verify URL. (Error code: ', e.code, ')')\n",
    "    raise SystemExit\n",
    "except URLError as e:\n",
    "    print('Error - Server not reached. (Reason: ', e.reason, ')')\n",
    "    raise SystemExit\n",
    "else:\n",
    "    print ('Endpoint: ' +endpoint.value + ' found. Processing results now...')"
   ]
  },
  {
   "cell_type": "markdown",
   "metadata": {},
   "source": [
    "# Rule #1: Each Subsystem shall be supplied by exactly one WorkPackage"
   ]
  },
  {
   "cell_type": "code",
   "execution_count": null,
   "metadata": {},
   "outputs": [],
   "source": [
    "# sparql workpackage query\n",
    "workpackageQuery = \"\"\"\n",
    "PREFIX project: <http://imce.jpl.nasa.gov/foundation/project/project#>\n",
    "PREFIX oml: <http://def.seegrid.csiro.au/ontology/om/om-lite#>\n",
    "PREFIX owl:   <http://www.w3.org/2002/07/owl#>\n",
    "PREFIX rdfs:  <http://www.w3.org/2000/01/rdf-schema#>\n",
    "PREFIX fse:   <http://imce.jpl.nasa.gov/discipline/fse/fse#>\n",
    "PREFIX base:  <http://imce.jpl.nasa.gov/foundation/base/base#>\n",
    "PREFIX analysis: <http://imce.jpl.nasa.gov/foundation/analysis/analysis#>\n",
    "PREFIX mission: <http://imce.jpl.nasa.gov/foundation/mission/mission#>\n",
    "PREFIX pr: <http://purl.org/ontology/prv/core#>\n",
    "PREFIX pro: <http://purl.org/hpi/patchr#>\n",
    "\n",
    "SELECT DISTINCT ?subSystem ?workPackage\n",
    "\n",
    "FROM <urn:x-arq:UnionGraph>\n",
    "WHERE\n",
    "{\n",
    "  ?a a fse:Subsystem ;\n",
    "     base:hasCanonicalName ?subSystem .\n",
    "  \n",
    "  optional {\n",
    "    ?b a project:WorkPackage ;\n",
    "       base:hasCanonicalName ?workPackage ;\n",
    "       project:supplies ?a .\n",
    "  } \n",
    "}\n",
    "\"\"\"\n",
    "if query_fusekiData(workpackageQuery, endpoint.value).empty:\n",
    "    print('Error - The pattern matching query returned no results. Verify OWL data.')\n",
    "    raise SystemExit\n",
    "else:\n",
    "    result_table = query_fusekiData(workpackageQuery, endpoint.value)"
   ]
  },
  {
   "cell_type": "code",
   "execution_count": null,
   "metadata": {},
   "outputs": [],
   "source": [
    "if 'workPackage.value' not in result_table.columns:\n",
    "    print('Error - No WorkPackage found. Verify OWL data.')\n",
    "    raise SystemExit\n",
    "else:\n",
    "    obj = result_table[[\"subSystem.value\", \"workPackage.value\"]]\n",
    "    obj = obj.rename(columns = lambda col: col.replace(\".value\", \"\"))"
   ]
  },
  {
   "cell_type": "markdown",
   "metadata": {},
   "source": [
    "## Problem is splitted into 2 subparts:"
   ]
  },
  {
   "cell_type": "markdown",
   "metadata": {},
   "source": [
    "### a/ Is there subsytems not supplied by any WorkPackage?"
   ]
  },
  {
   "cell_type": "code",
   "execution_count": null,
   "metadata": {},
   "outputs": [],
   "source": [
    "sol_a = obj.workPackage.isnull().sum() # select rows based on condition \n",
    "\n",
    "print('Number of subsystems not supplied by any WorkPackage: '+str(sol_a))\n",
    "sol_a = obj[obj['workPackage'].isnull()] \n",
    "sol_a = sol_a['subSystem'].tolist()\n",
    "\n",
    "if not sol_a:\n",
    "    print('The model complies with the rule. No action needs to be performed.')\n",
    "else:\n",
    "    print('\\nList of subsystems currently not supplied by any WorkPackage: ')\n",
    "    for el in sol_a:\n",
    "        print (\"- \" +el)\n",
    "    print(\"\\nSuggestion: Connect each of these subsystems to one WorkPackage, in the Mass Manifest.\")"
   ]
  },
  {
   "cell_type": "markdown",
   "metadata": {},
   "source": [
    "### b/ Is there subystems supplied by more than one WorkPackage?"
   ]
  },
  {
   "cell_type": "code",
   "execution_count": null,
   "metadata": {},
   "outputs": [],
   "source": [
    "# generate \"supplies\" relationships between a workPackage and a subsystem\n",
    "#obj = obj.append({'subSystem' : 'Payload' , 'workPackage' : 'WPx'} , ignore_index=True)\n",
    "#obj = obj.append({'subSystem' : 'EPS' , 'workPackage' : 'WPx'} , ignore_index=True)"
   ]
  },
  {
   "cell_type": "code",
   "execution_count": null,
   "metadata": {},
   "outputs": [],
   "source": [
    "sol_b = obj.groupby([\"subSystem\"]).size()\n",
    "sol_b = sol_b.to_frame(\"workPackage_count\")\n",
    "\n",
    "sol_b = sol_b[sol_b['workPackage_count'] > 1] # select rows based on condition \n",
    "print('Number of subsystems supplied by more than one WorkPackage: '+str(sol_b.shape[0]))\n",
    "\n",
    "if sol_b.empty:\n",
    "    print('The model complies with the rule. No action needs to be performed.')\n",
    "else:\n",
    "    print('\\nList of subsystems currently supplied by more than one WorkPackage: ')\n",
    "    for i in range(sol_b.shape[0]):\n",
    "        print('- Subsystem ' +list(sol_b.index)[i] +' has relationship(s) with ' +str(list(sol_b.workPackage_count)[i]) +' different WorkPackages: ')\n",
    "        for j in range((obj[obj['subSystem'] == list(sol_b.index)[i]]).shape[0]):\n",
    "            print('  o ' +list(obj[obj['subSystem'] == list(sol_b.index)[i]].workPackage)[j])\n",
    "    print(\"\\nSuggestion: Look for these subsytems in the Mass Manifest and delete the extra relationships.\")"
   ]
  },
  {
   "cell_type": "markdown",
   "metadata": {},
   "source": [
    "# Rule #2: Each power load assembly shall be connected to at least one power source assembly"
   ]
  },
  {
   "cell_type": "markdown",
   "metadata": {},
   "source": [
    "Note 1: the power type of the assemblies is determined by the type of their end circuit interface (PowerIn or PowerOut).\n",
    "\n",
    "Note 2:\n",
    "1. Solar arrays provide power to the EPS regulators and converters\n",
    "2. EPS regulators and converters provide power to the batteries\n",
    "3. Batteries provide power to the EPS regulators and converters \n",
    "4. EPS regulators and converters provide power to all the other power load components"
   ]
  },
  {
   "cell_type": "code",
   "execution_count": 104,
   "metadata": {},
   "outputs": [
    {
     "ename": "EndPointNotFound",
     "evalue": "EndPointNotFound: it was impossible to connect with the endpoint in that address, check if it is correct. \n\nResponse:\nb'Error 404: Not Found\\n'",
     "output_type": "error",
     "traceback": [
      "\u001b[1;31m---------------------------------------------------------------------------\u001b[0m",
      "\u001b[1;31mHTTPError\u001b[0m                                 Traceback (most recent call last)",
      "\u001b[1;32m~\\AppData\\Local\\Continuum\\anaconda3\\lib\\site-packages\\SPARQLWrapper\\Wrapper.py\u001b[0m in \u001b[0;36m_query\u001b[1;34m(self)\u001b[0m\n\u001b[0;32m    765\u001b[0m             \u001b[1;32melse\u001b[0m\u001b[1;33m:\u001b[0m\u001b[1;33m\u001b[0m\u001b[1;33m\u001b[0m\u001b[0m\n\u001b[1;32m--> 766\u001b[1;33m                 \u001b[0mresponse\u001b[0m \u001b[1;33m=\u001b[0m \u001b[0murlopener\u001b[0m\u001b[1;33m(\u001b[0m\u001b[0mrequest\u001b[0m\u001b[1;33m)\u001b[0m\u001b[1;33m\u001b[0m\u001b[1;33m\u001b[0m\u001b[0m\n\u001b[0m\u001b[0;32m    767\u001b[0m             \u001b[1;32mreturn\u001b[0m \u001b[0mresponse\u001b[0m\u001b[1;33m,\u001b[0m \u001b[0mself\u001b[0m\u001b[1;33m.\u001b[0m\u001b[0mreturnFormat\u001b[0m\u001b[1;33m\u001b[0m\u001b[1;33m\u001b[0m\u001b[0m\n",
      "\u001b[1;32m~\\AppData\\Local\\Continuum\\anaconda3\\lib\\urllib\\request.py\u001b[0m in \u001b[0;36murlopen\u001b[1;34m(url, data, timeout, cafile, capath, cadefault, context)\u001b[0m\n\u001b[0;32m    221\u001b[0m         \u001b[0mopener\u001b[0m \u001b[1;33m=\u001b[0m \u001b[0m_opener\u001b[0m\u001b[1;33m\u001b[0m\u001b[1;33m\u001b[0m\u001b[0m\n\u001b[1;32m--> 222\u001b[1;33m     \u001b[1;32mreturn\u001b[0m \u001b[0mopener\u001b[0m\u001b[1;33m.\u001b[0m\u001b[0mopen\u001b[0m\u001b[1;33m(\u001b[0m\u001b[0murl\u001b[0m\u001b[1;33m,\u001b[0m \u001b[0mdata\u001b[0m\u001b[1;33m,\u001b[0m \u001b[0mtimeout\u001b[0m\u001b[1;33m)\u001b[0m\u001b[1;33m\u001b[0m\u001b[1;33m\u001b[0m\u001b[0m\n\u001b[0m\u001b[0;32m    223\u001b[0m \u001b[1;33m\u001b[0m\u001b[0m\n",
      "\u001b[1;32m~\\AppData\\Local\\Continuum\\anaconda3\\lib\\urllib\\request.py\u001b[0m in \u001b[0;36mopen\u001b[1;34m(self, fullurl, data, timeout)\u001b[0m\n\u001b[0;32m    530\u001b[0m             \u001b[0mmeth\u001b[0m \u001b[1;33m=\u001b[0m \u001b[0mgetattr\u001b[0m\u001b[1;33m(\u001b[0m\u001b[0mprocessor\u001b[0m\u001b[1;33m,\u001b[0m \u001b[0mmeth_name\u001b[0m\u001b[1;33m)\u001b[0m\u001b[1;33m\u001b[0m\u001b[1;33m\u001b[0m\u001b[0m\n\u001b[1;32m--> 531\u001b[1;33m             \u001b[0mresponse\u001b[0m \u001b[1;33m=\u001b[0m \u001b[0mmeth\u001b[0m\u001b[1;33m(\u001b[0m\u001b[0mreq\u001b[0m\u001b[1;33m,\u001b[0m \u001b[0mresponse\u001b[0m\u001b[1;33m)\u001b[0m\u001b[1;33m\u001b[0m\u001b[1;33m\u001b[0m\u001b[0m\n\u001b[0m\u001b[0;32m    532\u001b[0m \u001b[1;33m\u001b[0m\u001b[0m\n",
      "\u001b[1;32m~\\AppData\\Local\\Continuum\\anaconda3\\lib\\urllib\\request.py\u001b[0m in \u001b[0;36mhttp_response\u001b[1;34m(self, request, response)\u001b[0m\n\u001b[0;32m    640\u001b[0m             response = self.parent.error(\n\u001b[1;32m--> 641\u001b[1;33m                 'http', request, response, code, msg, hdrs)\n\u001b[0m\u001b[0;32m    642\u001b[0m \u001b[1;33m\u001b[0m\u001b[0m\n",
      "\u001b[1;32m~\\AppData\\Local\\Continuum\\anaconda3\\lib\\urllib\\request.py\u001b[0m in \u001b[0;36merror\u001b[1;34m(self, proto, *args)\u001b[0m\n\u001b[0;32m    568\u001b[0m             \u001b[0margs\u001b[0m \u001b[1;33m=\u001b[0m \u001b[1;33m(\u001b[0m\u001b[0mdict\u001b[0m\u001b[1;33m,\u001b[0m \u001b[1;34m'default'\u001b[0m\u001b[1;33m,\u001b[0m \u001b[1;34m'http_error_default'\u001b[0m\u001b[1;33m)\u001b[0m \u001b[1;33m+\u001b[0m \u001b[0morig_args\u001b[0m\u001b[1;33m\u001b[0m\u001b[1;33m\u001b[0m\u001b[0m\n\u001b[1;32m--> 569\u001b[1;33m             \u001b[1;32mreturn\u001b[0m \u001b[0mself\u001b[0m\u001b[1;33m.\u001b[0m\u001b[0m_call_chain\u001b[0m\u001b[1;33m(\u001b[0m\u001b[1;33m*\u001b[0m\u001b[0margs\u001b[0m\u001b[1;33m)\u001b[0m\u001b[1;33m\u001b[0m\u001b[1;33m\u001b[0m\u001b[0m\n\u001b[0m\u001b[0;32m    570\u001b[0m \u001b[1;33m\u001b[0m\u001b[0m\n",
      "\u001b[1;32m~\\AppData\\Local\\Continuum\\anaconda3\\lib\\urllib\\request.py\u001b[0m in \u001b[0;36m_call_chain\u001b[1;34m(self, chain, kind, meth_name, *args)\u001b[0m\n\u001b[0;32m    502\u001b[0m             \u001b[0mfunc\u001b[0m \u001b[1;33m=\u001b[0m \u001b[0mgetattr\u001b[0m\u001b[1;33m(\u001b[0m\u001b[0mhandler\u001b[0m\u001b[1;33m,\u001b[0m \u001b[0mmeth_name\u001b[0m\u001b[1;33m)\u001b[0m\u001b[1;33m\u001b[0m\u001b[1;33m\u001b[0m\u001b[0m\n\u001b[1;32m--> 503\u001b[1;33m             \u001b[0mresult\u001b[0m \u001b[1;33m=\u001b[0m \u001b[0mfunc\u001b[0m\u001b[1;33m(\u001b[0m\u001b[1;33m*\u001b[0m\u001b[0margs\u001b[0m\u001b[1;33m)\u001b[0m\u001b[1;33m\u001b[0m\u001b[1;33m\u001b[0m\u001b[0m\n\u001b[0m\u001b[0;32m    504\u001b[0m             \u001b[1;32mif\u001b[0m \u001b[0mresult\u001b[0m \u001b[1;32mis\u001b[0m \u001b[1;32mnot\u001b[0m \u001b[1;32mNone\u001b[0m\u001b[1;33m:\u001b[0m\u001b[1;33m\u001b[0m\u001b[1;33m\u001b[0m\u001b[0m\n",
      "\u001b[1;32m~\\AppData\\Local\\Continuum\\anaconda3\\lib\\urllib\\request.py\u001b[0m in \u001b[0;36mhttp_error_default\u001b[1;34m(self, req, fp, code, msg, hdrs)\u001b[0m\n\u001b[0;32m    648\u001b[0m     \u001b[1;32mdef\u001b[0m \u001b[0mhttp_error_default\u001b[0m\u001b[1;33m(\u001b[0m\u001b[0mself\u001b[0m\u001b[1;33m,\u001b[0m \u001b[0mreq\u001b[0m\u001b[1;33m,\u001b[0m \u001b[0mfp\u001b[0m\u001b[1;33m,\u001b[0m \u001b[0mcode\u001b[0m\u001b[1;33m,\u001b[0m \u001b[0mmsg\u001b[0m\u001b[1;33m,\u001b[0m \u001b[0mhdrs\u001b[0m\u001b[1;33m)\u001b[0m\u001b[1;33m:\u001b[0m\u001b[1;33m\u001b[0m\u001b[1;33m\u001b[0m\u001b[0m\n\u001b[1;32m--> 649\u001b[1;33m         \u001b[1;32mraise\u001b[0m \u001b[0mHTTPError\u001b[0m\u001b[1;33m(\u001b[0m\u001b[0mreq\u001b[0m\u001b[1;33m.\u001b[0m\u001b[0mfull_url\u001b[0m\u001b[1;33m,\u001b[0m \u001b[0mcode\u001b[0m\u001b[1;33m,\u001b[0m \u001b[0mmsg\u001b[0m\u001b[1;33m,\u001b[0m \u001b[0mhdrs\u001b[0m\u001b[1;33m,\u001b[0m \u001b[0mfp\u001b[0m\u001b[1;33m)\u001b[0m\u001b[1;33m\u001b[0m\u001b[1;33m\u001b[0m\u001b[0m\n\u001b[0m\u001b[0;32m    650\u001b[0m \u001b[1;33m\u001b[0m\u001b[0m\n",
      "\u001b[1;31mHTTPError\u001b[0m: HTTP Error 404: Not Found",
      "\nDuring handling of the above exception, another exception occurred:\n",
      "\u001b[1;31mEndPointNotFound\u001b[0m                          Traceback (most recent call last)",
      "\u001b[1;32m<ipython-input-104-ee18e10d3beb>\u001b[0m in \u001b[0;36m<module>\u001b[1;34m\u001b[0m\n\u001b[0;32m     47\u001b[0m }\n\u001b[0;32m     48\u001b[0m \"\"\"\n\u001b[1;32m---> 49\u001b[1;33m \u001b[1;32mif\u001b[0m \u001b[0mquery_fusekiData\u001b[0m\u001b[1;33m(\u001b[0m\u001b[0mpowerAssemblyQuery\u001b[0m\u001b[1;33m,\u001b[0m \u001b[0mendpoint\u001b[0m\u001b[1;33m.\u001b[0m\u001b[0mvalue\u001b[0m\u001b[1;33m)\u001b[0m\u001b[1;33m.\u001b[0m\u001b[0mempty\u001b[0m\u001b[1;33m:\u001b[0m\u001b[1;33m\u001b[0m\u001b[1;33m\u001b[0m\u001b[0m\n\u001b[0m\u001b[0;32m     50\u001b[0m     \u001b[0mprint\u001b[0m\u001b[1;33m(\u001b[0m\u001b[1;34m'Error - The pattern matching query returned no results. Verify OWL data.'\u001b[0m\u001b[1;33m)\u001b[0m\u001b[1;33m\u001b[0m\u001b[1;33m\u001b[0m\u001b[0m\n\u001b[0;32m     51\u001b[0m     \u001b[1;32mraise\u001b[0m \u001b[0mSystemExit\u001b[0m\u001b[1;33m\u001b[0m\u001b[1;33m\u001b[0m\u001b[0m\n",
      "\u001b[1;32m<ipython-input-81-d0917927ccc3>\u001b[0m in \u001b[0;36mquery_fusekiData\u001b[1;34m(sparql_query, sparql_service_url)\u001b[0m\n\u001b[0;32m     11\u001b[0m \u001b[1;33m\u001b[0m\u001b[0m\n\u001b[0;32m     12\u001b[0m     \u001b[1;31m# ask for the result\u001b[0m\u001b[1;33m\u001b[0m\u001b[1;33m\u001b[0m\u001b[1;33m\u001b[0m\u001b[0m\n\u001b[1;32m---> 13\u001b[1;33m     \u001b[0mresult\u001b[0m \u001b[1;33m=\u001b[0m \u001b[0msparql\u001b[0m\u001b[1;33m.\u001b[0m\u001b[0mquery\u001b[0m\u001b[1;33m(\u001b[0m\u001b[1;33m)\u001b[0m\u001b[1;33m.\u001b[0m\u001b[0mconvert\u001b[0m\u001b[1;33m(\u001b[0m\u001b[1;33m)\u001b[0m\u001b[1;33m\u001b[0m\u001b[1;33m\u001b[0m\u001b[0m\n\u001b[0m\u001b[0;32m     14\u001b[0m     \u001b[1;32mreturn\u001b[0m \u001b[0mjson_normalize\u001b[0m\u001b[1;33m(\u001b[0m\u001b[0mresult\u001b[0m\u001b[1;33m[\u001b[0m\u001b[1;34m\"results\"\u001b[0m\u001b[1;33m]\u001b[0m\u001b[1;33m[\u001b[0m\u001b[1;34m\"bindings\"\u001b[0m\u001b[1;33m]\u001b[0m\u001b[1;33m)\u001b[0m\u001b[1;33m\u001b[0m\u001b[1;33m\u001b[0m\u001b[0m\n",
      "\u001b[1;32m~\\AppData\\Local\\Continuum\\anaconda3\\lib\\site-packages\\SPARQLWrapper\\Wrapper.py\u001b[0m in \u001b[0;36mquery\u001b[1;34m(self)\u001b[0m\n\u001b[0;32m    796\u001b[0m             \u001b[1;33m@\u001b[0m\u001b[0mrtype\u001b[0m\u001b[1;33m:\u001b[0m \u001b[0mL\u001b[0m\u001b[1;33m{\u001b[0m\u001b[0mQueryResult\u001b[0m\u001b[1;33m}\u001b[0m \u001b[0minstance\u001b[0m\u001b[1;33m\u001b[0m\u001b[1;33m\u001b[0m\u001b[0m\n\u001b[0;32m    797\u001b[0m         \"\"\"\n\u001b[1;32m--> 798\u001b[1;33m         \u001b[1;32mreturn\u001b[0m \u001b[0mQueryResult\u001b[0m\u001b[1;33m(\u001b[0m\u001b[0mself\u001b[0m\u001b[1;33m.\u001b[0m\u001b[0m_query\u001b[0m\u001b[1;33m(\u001b[0m\u001b[1;33m)\u001b[0m\u001b[1;33m)\u001b[0m\u001b[1;33m\u001b[0m\u001b[1;33m\u001b[0m\u001b[0m\n\u001b[0m\u001b[0;32m    799\u001b[0m \u001b[1;33m\u001b[0m\u001b[0m\n\u001b[0;32m    800\u001b[0m     \u001b[1;32mdef\u001b[0m \u001b[0mqueryAndConvert\u001b[0m\u001b[1;33m(\u001b[0m\u001b[0mself\u001b[0m\u001b[1;33m)\u001b[0m\u001b[1;33m:\u001b[0m\u001b[1;33m\u001b[0m\u001b[1;33m\u001b[0m\u001b[0m\n",
      "\u001b[1;32m~\\AppData\\Local\\Continuum\\anaconda3\\lib\\site-packages\\SPARQLWrapper\\Wrapper.py\u001b[0m in \u001b[0;36m_query\u001b[1;34m(self)\u001b[0m\n\u001b[0;32m    770\u001b[0m                 \u001b[1;32mraise\u001b[0m \u001b[0mQueryBadFormed\u001b[0m\u001b[1;33m(\u001b[0m\u001b[0me\u001b[0m\u001b[1;33m.\u001b[0m\u001b[0mread\u001b[0m\u001b[1;33m(\u001b[0m\u001b[1;33m)\u001b[0m\u001b[1;33m)\u001b[0m\u001b[1;33m\u001b[0m\u001b[1;33m\u001b[0m\u001b[0m\n\u001b[0;32m    771\u001b[0m             \u001b[1;32melif\u001b[0m \u001b[0me\u001b[0m\u001b[1;33m.\u001b[0m\u001b[0mcode\u001b[0m \u001b[1;33m==\u001b[0m \u001b[1;36m404\u001b[0m\u001b[1;33m:\u001b[0m\u001b[1;33m\u001b[0m\u001b[1;33m\u001b[0m\u001b[0m\n\u001b[1;32m--> 772\u001b[1;33m                 \u001b[1;32mraise\u001b[0m \u001b[0mEndPointNotFound\u001b[0m\u001b[1;33m(\u001b[0m\u001b[0me\u001b[0m\u001b[1;33m.\u001b[0m\u001b[0mread\u001b[0m\u001b[1;33m(\u001b[0m\u001b[1;33m)\u001b[0m\u001b[1;33m)\u001b[0m\u001b[1;33m\u001b[0m\u001b[1;33m\u001b[0m\u001b[0m\n\u001b[0m\u001b[0;32m    773\u001b[0m             \u001b[1;32melif\u001b[0m \u001b[0me\u001b[0m\u001b[1;33m.\u001b[0m\u001b[0mcode\u001b[0m \u001b[1;33m==\u001b[0m \u001b[1;36m401\u001b[0m\u001b[1;33m:\u001b[0m\u001b[1;33m\u001b[0m\u001b[1;33m\u001b[0m\u001b[0m\n\u001b[0;32m    774\u001b[0m                 \u001b[1;32mraise\u001b[0m \u001b[0mUnauthorized\u001b[0m\u001b[1;33m(\u001b[0m\u001b[0me\u001b[0m\u001b[1;33m.\u001b[0m\u001b[0mread\u001b[0m\u001b[1;33m(\u001b[0m\u001b[1;33m)\u001b[0m\u001b[1;33m)\u001b[0m\u001b[1;33m\u001b[0m\u001b[1;33m\u001b[0m\u001b[0m\n",
      "\u001b[1;31mEndPointNotFound\u001b[0m: EndPointNotFound: it was impossible to connect with the endpoint in that address, check if it is correct. \n\nResponse:\nb'Error 404: Not Found\\n'"
     ]
    }
   ],
   "source": [
    "# sparql powerAssembly query\n",
    "powerAssemblyQuery = \"\"\"\n",
    "PREFIX fse:   <http://imce.jpl.nasa.gov/discipline/fse/fse#>\n",
    "PREFIX mission: <http://imce.jpl.nasa.gov/foundation/mission/mission#>\n",
    "PREFIX base:  <http://imce.jpl.nasa.gov/foundation/base/base#>\n",
    "PREFIX rdfs:  <http://www.w3.org/2000/01/rdf-schema#>\n",
    "\n",
    "SELECT DISTINCT ?loadAssemblyID ?loadAssemblyName ?functionID ?sourceAssemblyName ?sourceAssemblyID \n",
    "FROM <urn:x-arq:UnionGraph>\n",
    "WHERE {\n",
    "  { ?powerLoadEndCircuitClass rdfs:label \"PowerIn\" } UNION { ?powerLoadEndCircuitClass rdfs:label \"PowerInOut\" }.\n",
    "  ?powerLoadEndCircuit a ?powerLoadEndCircuitClass;\n",
    "                       fse:hasEndCircuitIdentifier ?powerLoadEndCircuitID.\n",
    "\n",
    "  ?mission_presentsA mission:hasPresentsTarget ?powerLoadEndCircuit;\n",
    "                     mission:hasPresentsSource ?loadAssembly.\n",
    "  ?loadAssembly base:hasCanonicalName ?loadAssemblyName;\n",
    "                fse:hasAssemblyReferenceDesignator ?loadAssemblyID.\n",
    "\n",
    "  optional {\n",
    "    { ?powerSourceEndCircuitClass rdfs:label \"PowerOut\" } UNION { ?powerSourceEndCircuitClass rdfs:label \"PowerInOut\" }.\n",
    "    ?powerSourceEndCircuit a ?powerSourceEndCircuitClass;\n",
    "                           fse:hasEndCircuitIdentifier ?powerSourceEndCircuitID. \n",
    "\n",
    "    ?mission_presentsB mission:hasPresentsTarget ?powerSourceEndCircuit;\n",
    "                       mission:hasPresentsSource ?sourceAssembly.\n",
    "    ?sourceAssembly base:hasCanonicalName ?sourceAssemblyName;\n",
    "                    fse:hasAssemblyReferenceDesignator ?sourceAssemblyID.\n",
    "\n",
    "    {\n",
    "      ?fse_connects1 a fse:ConnectsAssembly1 ;\n",
    "                     fse:hasConnectsAssembly1Source ?function ;\n",
    "                     fse:hasConnectsAssembly1Target ?loadAssembly.\n",
    "      ?fse_connects2 a fse:ConnectsAssembly2 ;\n",
    "                     fse:hasConnectsAssembly2Source ?function ;\n",
    "                     fse:hasConnectsAssembly2Target ?sourceAssembly.\n",
    "    } UNION {\n",
    "      ?fse_connects1 a fse:ConnectsAssembly1 ;\n",
    "                     fse:hasConnectsAssembly1Source ?function ;\n",
    "                     fse:hasConnectsAssembly1Target ?sourceAssembly.\n",
    "      ?fse_connects2 a fse:ConnectsAssembly2 ;\n",
    "                     fse:hasConnectsAssembly2Source ?function ;\n",
    "                     fse:hasConnectsAssembly2Target ?loadAssembly.\n",
    "    }\n",
    "    ?function fse:hasFunctionNumber ?functionID . \n",
    "  }\n",
    "}\n",
    "\"\"\"\n",
    "if query_fusekiData(powerAssemblyQuery, endpoint.value).empty:\n",
    "    print('Error - The pattern matching query returned no results. Verify OWL data.')\n",
    "    raise SystemExit\n",
    "else:\n",
    "    result_table = query_fusekiData(powerAssemblyQuery, endpoint.value)"
   ]
  },
  {
   "cell_type": "code",
   "execution_count": null,
   "metadata": {},
   "outputs": [],
   "source": [
    "if 'loadAssemblyName.value' not in result_table.columns:\n",
    "    print('Error - No Power Load Assembly found. Verify OWL data.')\n",
    "    raise SystemExit\n",
    "else:\n",
    "    obj = result_table[[\"loadAssemblyName.value\", \"loadAssemblyID.value\", \"functionID.value\", \"sourceAssemblyName.value\", \"sourceAssemblyID.value\"]]\n",
    "    obj = obj.rename(columns = lambda col: col.replace(\".value\", \"\"))"
   ]
  },
  {
   "cell_type": "code",
   "execution_count": null,
   "metadata": {
    "scrolled": false
   },
   "outputs": [],
   "source": [
    "sol = obj.sourceAssemblyID.isnull().sum() # select rows based on condition \n",
    "print('Number of power load assemblies not connected to any power source assembly: '+str(sol))\n",
    "\n",
    "if sol==0:\n",
    "    print('The model complies with the rule. No action needs to be performed.')\n",
    "else:\n",
    "    sol = obj[obj['sourceAssemblyID'].isnull()] \n",
    "    sol = sol[[\"loadAssemblyName\", \"loadAssemblyID\"]]\n",
    "    print('\\nList of power load assemblies not connected to any power source assembly: ' )\n",
    "    for i in range(sol.shape[0]):\n",
    "        print('Name: ' +sol.iloc[i, 0] +' - ID: ' +sol.iloc[i, 1])\n",
    "    print('\\nSuggestion: Use functions to connect each of these assemblies to at least one power source assembly, from the Function List Table.')"
   ]
  },
  {
   "cell_type": "markdown",
   "metadata": {},
   "source": [
    "# Rule #3: Each power load end circuit interface shall be connected to one power source end circuit interface"
   ]
  },
  {
   "cell_type": "code",
   "execution_count": null,
   "metadata": {},
   "outputs": [],
   "source": [
    "# sparql powerInterface query\n",
    "powerInterfaceQuery = \"\"\"\n",
    "PREFIX fse:   <http://imce.jpl.nasa.gov/discipline/fse/fse#>\n",
    "PREFIX mission: <http://imce.jpl.nasa.gov/foundation/mission/mission#>\n",
    "PREFIX base:  <http://imce.jpl.nasa.gov/foundation/base/base#>\n",
    "PREFIX rdfs:  <http://www.w3.org/2000/01/rdf-schema#>\n",
    "\n",
    "SELECT DISTINCT ?powerLoadEndCircuitID ?loadAssemblyID ?loadAssemblyName ?functionID ?powerSourceEndCircuitID\n",
    "FROM <urn:x-arq:UnionGraph>\n",
    "WHERE {\n",
    "  { ?powerLoadEndCircuitClass rdfs:label \"PowerIn\" } UNION { ?powerLoadEndCircuitClass rdfs:label \"PowerInOut\" }.\n",
    "  ?powerLoadEndCircuit a ?powerLoadEndCircuitClass;\n",
    "                       fse:hasEndCircuitIdentifier ?powerLoadEndCircuitID.\n",
    "\n",
    "  ?mission_presentsA mission:hasPresentsTarget ?powerLoadEndCircuit;\n",
    "                     mission:hasPresentsSource ?loadAssembly.\n",
    "  ?loadAssembly base:hasCanonicalName ?loadAssemblyName;\n",
    "                fse:hasAssemblyReferenceDesignator ?loadAssemblyID. \n",
    "\n",
    "  optional {\n",
    "    ?fse_joins1 a mission:Joins1 ;\n",
    "                mission:hasJoins1Source ?function ;\n",
    "                mission:hasJoins1Target ?powerLoadEndCircuit. \n",
    "    ?function fse:hasFunctionNumber ?functionID.\n",
    "    ?fse_joins2 a mission:Joins2 ;\n",
    "                mission:hasJoins2Source ?function ;\n",
    "                mission:hasJoins2Target ?powerSourceEndCircuit.\n",
    "    ?powerSourceEndCircuit a ?powerSourceEndCircuitClass;\n",
    "                           fse:hasEndCircuitIdentifier ?powerSourceEndCircuitID.}\n",
    "\n",
    "  optional {\n",
    "    ?fse_joins2 a mission:Joins2 ;\n",
    "                mission:hasJoins2Source ?function ;\n",
    "                mission:hasJoins2Target ?powerLoadEndCircuit. \n",
    "    ?function fse:hasFunctionNumber ?functionID.\n",
    "    ?fse_joins1 a mission:Joins1 ;\n",
    "                mission:hasJoins1Source ?function ;\n",
    "                mission:hasJoins1Target ?powerSourceEndCircuit.\n",
    "    ?powerSourceEndCircuit a ?powerSourceEndCircuitClass;\n",
    "                           fse:hasEndCircuitIdentifier ?powerSourceEndCircuitID.}\n",
    "}\n",
    "\"\"\"\n",
    "if query_fusekiData(powerInterfaceQuery, endpoint.value).empty:\n",
    "    print('Error - The pattern matching query returned no results. Verify OWL data.')\n",
    "    raise SystemExit\n",
    "else:\n",
    "    result_table = query_fusekiData(powerInterfaceQuery, endpoint.value)    "
   ]
  },
  {
   "cell_type": "code",
   "execution_count": null,
   "metadata": {
    "scrolled": false
   },
   "outputs": [],
   "source": [
    "if 'loadAssemblyName.value' not in result_table.columns:\n",
    "    print('Error - No Power Load Assembly found. Verify OWL data.')\n",
    "    raise SystemExit\n",
    "else:\n",
    "    obj = result_table[[\"functionID.value\", \"loadAssemblyName.value\", \"loadAssemblyID.value\", \"powerLoadEndCircuitID.value\", \"powerSourceEndCircuitID.value\"]]\n",
    "    obj = obj.rename(columns = lambda col: col.replace(\".value\", \"\"))"
   ]
  },
  {
   "cell_type": "code",
   "execution_count": null,
   "metadata": {},
   "outputs": [],
   "source": [
    "sol = obj.powerSourceEndCircuitID.isnull().sum() # select rows based on condition \n",
    "print('Number of power load end circuit interfaces not connected to any power source end circuit interface: '+str(sol))\n",
    "\n",
    "if sol==0:\n",
    "    print('The model complies with the rule. No action needs to be performed.')\n",
    "else:\n",
    "    sol = obj[obj['powerSourceEndCircuitID'].isnull()] \n",
    "    sol = sol[[\"loadAssemblyName\", \"loadAssemblyID\"]]\n",
    "    print('\\nList of the power load assemblies with a missing interface connection with a power source assembly: ')\n",
    "    for i in range(sol.shape[0]):\n",
    "        print('Name: ' +sol.iloc[i, 0] +' - ID: ' +sol.iloc[i, 1])\n",
    "    print('\\nSuggestion: Look for these assemblies and connect their end circuit interfaces to one interface of at least a power source assembly, from the Function List Table.')"
   ]
  }
 ],
 "metadata": {
  "hide_input": false,
  "kernelspec": {
   "display_name": "Python 3",
   "language": "python",
   "name": "python3"
  },
  "language_info": {
   "codemirror_mode": {
    "name": "ipython",
    "version": 3
   },
   "file_extension": ".py",
   "mimetype": "text/x-python",
   "name": "python",
   "nbconvert_exporter": "python",
   "pygments_lexer": "ipython3",
   "version": "3.7.3"
  },
  "varInspector": {
   "cols": {
    "lenName": 16,
    "lenType": 16,
    "lenVar": 40
   },
   "kernels_config": {
    "python": {
     "delete_cmd_postfix": "",
     "delete_cmd_prefix": "del ",
     "library": "var_list.py",
     "varRefreshCmd": "print(var_dic_list())"
    },
    "r": {
     "delete_cmd_postfix": ") ",
     "delete_cmd_prefix": "rm(",
     "library": "var_list.r",
     "varRefreshCmd": "cat(var_dic_list()) "
    }
   },
   "position": {
    "height": "465.583px",
    "left": "1506.6px",
    "right": "20px",
    "top": "117px",
    "width": "654.2px"
   },
   "types_to_exclude": [
    "module",
    "function",
    "builtin_function_or_method",
    "instance",
    "_Feature"
   ],
   "window_display": false
  }
 },
 "nbformat": 4,
 "nbformat_minor": 2
}
