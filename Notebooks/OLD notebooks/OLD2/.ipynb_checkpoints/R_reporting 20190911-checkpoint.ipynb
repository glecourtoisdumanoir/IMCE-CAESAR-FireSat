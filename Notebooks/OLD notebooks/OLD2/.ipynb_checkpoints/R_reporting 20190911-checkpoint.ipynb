{
 "cells": [
  {
   "cell_type": "markdown",
   "metadata": {},
   "source": [
    "# Data Analysis in R"
   ]
  },
  {
   "cell_type": "code",
   "execution_count": 26,
   "metadata": {},
   "outputs": [],
   "source": [
    "###### Libraries\n",
    "#install.packages(\"SPARQL\")\n",
    "#install.packages(\"igraph\")\n",
    "#install.packages(\"kableExtra\")\n",
    "#install.packages(\"stringr\")\n",
    "#install.packages(\"dplyr\")\n",
    "#install.packages(\"knitr\")\n",
    "#install.packages(\"stringdist\")\n",
    "#install.packages(\"data.tree\")\n",
    "#install.packages(\"treemap\")\n",
    "#install.packages(\"shiny\")\n",
    "#install.packages(\"shinydashboard\")\n",
    "#install.packages(\"tidyverse\")\n",
    "#install.packages(\"xlsx\")\n",
    "#install.packages(\"png\")\n",
    "library(SPARQL)\n",
    "library(igraph)\n",
    "library(kableExtra)\n",
    "library(stringr)\n",
    "library(dplyr)\n",
    "library(knitr)\n",
    "library(stringdist)\n",
    "library(data.tree)\n",
    "library(treemap)\n",
    "library(shiny)\n",
    "library(shinydashboard)\n",
    "library(tidyverse)\n",
    "library(xlsx)\n",
    "library(png)"
   ]
  },
  {
   "cell_type": "code",
   "execution_count": 27,
   "metadata": {},
   "outputs": [],
   "source": [
    "###### Queries\n",
    "MDquery <-\n",
    "'\n",
    "PREFIX owl:   <http://www.w3.org/2002/07/owl#>\n",
    "PREFIX rdfs:  <http://www.w3.org/2000/01/rdf-schema#>\n",
    "PREFIX mission: <http://imce.jpl.nasa.gov/foundation/mission/mission#>\n",
    "PREFIX base:  <http://imce.jpl.nasa.gov/foundation/base/base#>\n",
    "PREFIX fse-backbone: <http://imce.jpl.nasa.gov/backbone/imce.jpl.nasa.gov/discipline/fse/fse#>\n",
    "\n",
    "SELECT DISTINCT ?Child ?Parent\n",
    "FROM <urn:x-arq:UnionGraph>\n",
    "WHERE\n",
    "{\n",
    "    ?a a owl:Class ;\n",
    "       rdfs:label ?b ;\n",
    "       rdfs:subClassOf mission:Component .\n",
    "    filter not exists {?a rdfs:subClassOf fse-backbone:Entity} .\n",
    "    filter not exists {?a rdfs:subClassOf <http://imce.jpl.nasa.gov/backbone/firesat.jpl.nasa.gov/user-model/generated/md/nonAuthorities/Requirements_ID__18_5_3_8c20287_1560995931030_118996_18400#Entity>} .\n",
    "    \n",
    "    ?c a owl:Class ;\n",
    "       rdfs:label ?Child ;\n",
    "       rdfs:subClassOf mission:Component .\n",
    "    filter not exists {?c rdfs:subClassOf fse-backbone:Entity} .\n",
    "    filter not exists {?c rdfs:subClassOf <http://imce.jpl.nasa.gov/backbone/firesat.jpl.nasa.gov/user-model/generated/md/nonAuthorities/Requirements_ID__18_5_3_8c20287_1560995931030_118996_18400#Entity>} .\n",
    "    \n",
    "    optional {?a rdfs:subClassOf [a owl:Restriction ;\n",
    "                                    owl:onProperty base:contains ;\n",
    "                                    owl:someValuesFrom ?c] }.\n",
    "\n",
    "    optional {?e rdfs:subClassOf [a owl:Restriction ;\n",
    "                                    owl:onProperty base:contains ;\n",
    "                                     owl:someValuesFrom ?c ].\n",
    "    \t\t  ?e rdfs:label ?Parent }.\n",
    "  }\n",
    "'\n",
    "WBquery <-\n",
    "  '\n",
    "PREFIX oml: <http://def.seegrid.csiro.au/ontology/om/om-lite#>\n",
    "PREFIX owl:   <http://www.w3.org/2002/07/owl#>\n",
    "PREFIX rdfs:  <http://www.w3.org/2000/01/rdf-schema#>\n",
    "PREFIX fse:   <http://imce.jpl.nasa.gov/discipline/fse/fse#>\n",
    "PREFIX base:  <http://imce.jpl.nasa.gov/foundation/base/base#>\n",
    "PREFIX analysis: <http://imce.jpl.nasa.gov/foundation/analysis/analysis#>\n",
    "\n",
    "SELECT DISTINCT ?AssemblyAcronym ?AssemblyReferenceDesignator ?AlternateName ?CanonicalName ?Identifier ?ParentAlternateName ?ParentSubsystemNumber ?ParentAlternateName ?ParentCanonicalName ?ParentSubsystemAcronym ?ParentSubsystemReferenceDesignator ?AssemblyMass\n",
    "WHERE\n",
    "{\n",
    "  GRAPH ?g {\n",
    "    ?a a fse:Assembly ;\n",
    "       fse:hasAssemblyAcronym ?AssemblyAcronym ;\n",
    "       fse:hasAssemblyReferenceDesignator ?AssemblyReferenceDesignator ;\n",
    "       analysis:isCharacterizedBy ?CharacterizedBy_Mass ;\n",
    "       base:hasAlternateName ?AlternateName ;\n",
    "       base:hasCanonicalName ?CanonicalName ;\n",
    "       base:hasIdentifier ?Identifier ;\n",
    "       base:isAggregatedIn ?AggregatedIn_Parent .\n",
    "    ?AggregatedIn_Parent fse:hasSubsystemNumber ?ParentSubsystemNumber ;\n",
    "                         base:hasAlternateName ?ParentAlternateName ;\n",
    "                         base:hasCanonicalName ?ParentCanonicalName ; \n",
    "                         fse:hasSubsystemAcronym ?ParentSubsystemAcronym ; \n",
    "                         fse:hasSubsystemReferenceDesignator ?ParentSubsystemReferenceDesignator .\n",
    "    ?CharacterizedBy_Mass fse:hasMassConstraintValue ?AssemblyMass .\n",
    "    }\n",
    "}\n",
    "  '\n",
    "MDendpoint <- \"http://localhost:3030/MD/query\"\n",
    "MDqr <- SPARQL(MDendpoint,MDquery)\n",
    "MDqr <- MDqr$results\n",
    "MDqr <- unique(MDqr)\n",
    "MDqr <- MDqr[order(MDqr$Child, MDqr$Parent),]\n",
    "MDp <- MDqr\n",
    "MDqrOriginal <- MDqr\n",
    "MDqr <- subset(MDqr, MDqr$Parent != \"NA\")\n",
    "WBendpoint <- \"http://localhost:3030/WB/query\"\n",
    "WBqr <- SPARQL(WBendpoint,WBquery)\n",
    "WBqr <- WBqr$results\n",
    "WBqr <- WBqr[ ,c('CanonicalName', 'ParentAlternateName')]\n",
    "WBqr <- unique(WBqr)\n",
    "colnames(WBqr)[colnames(WBqr)==\"CanonicalName\"] <- \"Child\"\n",
    "colnames(WBqr)[colnames(WBqr)==\"ParentAlternateName\"] <- \"Parent\"\n",
    "WBqr <- WBqr[order(WBqr$Child, WBqr$Parent),]\n",
    "WBp <- WBqr\n",
    "WBqrOriginal <- WBqr\n",
    "WBqr <- subset(WBqr, WBqr$Parent != \"NA\")"
   ]
  },
  {
   "cell_type": "code",
   "execution_count": 28,
   "metadata": {
    "scrolled": false,
    "slideshow": {
     "slide_type": "skip"
    }
   },
   "outputs": [
    {
     "name": "stderr",
     "output_type": "stream",
     "text": [
      "Warning message in vattrs[[name]][index] <- value:\n",
      "\"number of items to replace is not a multiple of replacement length\"\n",
      "Warning message in vattrs[[name]][index] <- value:\n",
      "\"number of items to replace is not a multiple of replacement length\"\n"
     ]
    }
   ],
   "source": [
    "###### Comparing results\n",
    "### MagicDraw PBS graph format\n",
    "MDg <- graph_from_data_frame(d=MDqr, directed=TRUE, vertices=NULL)\n",
    "#plot.igraph(MDg)\n",
    "#title(main = \"MagicDraw PBS\", sub = sprintf(\"Total: %d elements and %d relationships\", gorder(MDg), gsize(MDg)))\n",
    "### Workbench PBS graph format\n",
    "WBg <- graph_from_data_frame(d=WBqr, directed=TRUE, vertices=NULL)\n",
    "#plot.igraph(WBg)\n",
    "#title(main = \"Workbench PBS\", sub = sprintf(\"Total: %d elements and %d relationships\", gorder(WBg), gsize(WBg)))\n",
    "### MagicDraw but not in WorkBench graph format\n",
    "MD_not_WB <- difference(MDg, WBg)\n",
    "#plot.igraph(MD_not_WB)\n",
    "#title(main = \"MD-WB : Differences from MagicDraw PBS to WorkBench PBS\", sub = sprintf(\"From the %d elements present in MD PBS, here are displayed the %d relationships missing in WB PBS\", gorder(MD_not_WB), gsize(MD_not_WB)))\n",
    "### WorkBench but not in MagicDraw graph format\n",
    "WB_not_MD <- difference(WBg, MDg)\n",
    "#plot.igraph(WB_not_MD)\n",
    "#title(main = \"WB-MD : Differences from WorkBench PBS to MagicDraw PBS\", sub = sprintf(\"From the %d elements present in WB PBS, here are displayed the %d relationships missing in MD PBS\", gorder(WB_not_MD), gsize(WB_not_MD)))\n",
    "### WorkBench and in MagicDraw graph format\n",
    "WB_and_MD <- intersection(WBg, MDg)\n",
    "#plot.igraph(WB_and_MD)\n",
    "#title(main = \"Intersection of MagicDraw PBS and WorkBench PBS\", sub = sprintf(\"Here are displayed the %d unique elements from the WB and MD PBS, in addition to the %d relationships they have in common\", gorder(WB_and_MD), gsize(WB_and_MD)))\n",
    "testA <- get.data.frame(MD_not_WB, what=\"edges\")\n",
    "colnames(testA)[colnames(testA)==\"from\"] <- \"Child\"\n",
    "colnames(testA)[colnames(testA)==\"to\"] <- \"Parent\"\n",
    "testA$WorkBench <- \"\"\n",
    "testA$MagicDraw <- \"x\"\n",
    "#print(testA)\n",
    "#nrow(testA)\n",
    "testB <- get.data.frame(WB_not_MD, what=\"edges\")\n",
    "colnames(testB)[colnames(testB)==\"from\"] <- \"Child\"\n",
    "colnames(testB)[colnames(testB)==\"to\"] <- \"Parent\"\n",
    "testB$WorkBench <- \"x\"\n",
    "testB$MagicDraw <- \"\"\n",
    "testC <- get.data.frame(WB_and_MD, what=\"edges\")\n",
    "colnames(testC)[colnames(testC)==\"from\"] <- \"Child\"\n",
    "colnames(testC)[colnames(testC)==\"to\"] <- \"Parent\"\n",
    "testC$WorkBench <- \"x\"\n",
    "testC$MagicDraw <- \"x\"\n",
    "testD <- rbind(testA, testB, testC)\n",
    "testD <- testD[order(testD$Child, testD$Parent),]\n",
    "\n",
    "testF <- testA[ ,c('Child', 'Parent')]\n",
    "testF$Origin <- \"MagicDraw\"\n",
    "testF$Origin.type <- 1\n",
    "\n",
    "testG <- testB[ ,c('Child', 'Parent')]\n",
    "testG$Origin <- \"WorkBench\"\n",
    "testG$Origin.type <- 2\n",
    "\n",
    "testH <- testC[ ,c('Child', 'Parent')]\n",
    "testH$Origin <- \"WorkBench and MagicDraw\"\n",
    "testH$Origin.type <- 3\n",
    "\n",
    "testI <- union(testF, testG)\n",
    "testJ <- union(testI, testH)\n",
    "\n",
    "\n",
    "A <- testJ\n",
    "B <- testJ\n",
    "col_order <- c(\"Parent\", \"Child\", \"Origin\", \"Origin.type\")\n",
    "colnames(B)[colnames(B)==\"Parent\"] <- \"Child2\"\n",
    "colnames(B)[colnames(B)==\"Child\"] <- \"Parent\"\n",
    "colnames(B)[colnames(B)==\"Child2\"] <- \"Child\"\n",
    "D <- union_all(A,B)\n",
    "colnames(D)[colnames(D)==\"Child\"] <- \"Node\"\n",
    "D <- D[ ,c('Node', 'Origin', 'Origin.type')]\n",
    "D <- D[order(D$Node),]\n",
    "D <- unique(D)\n",
    "\n",
    "D$Duplicate_Node <- duplicated(D$Node)\n",
    "E <- subset(D, Duplicate_Node == TRUE)\n",
    "F <- subset(D, Duplicate_Node == FALSE)\n",
    "E$Origin <- \"WorkBench and MagicDraw\"\n",
    "E$Origin.type <- 3\n",
    "G <- union(E, F)\n",
    "H <- G[ !( duplicated(G[,1])),]\n",
    "H <- H[ ,c('Node', 'Origin', 'Origin.type')]\n",
    "I <- H[ ,c('Node', 'Origin')]\n",
    "I$WorkBench <- \"\"\n",
    "I$MagicDraw <- \"\"\n",
    "colnames(H)[colnames(H)==\"Node\"] <- \"Child\"\n",
    "J <- subset(I, I$Origin == \"WorkBench\")\n",
    "J$WorkBench <- \"x\"\n",
    "K <- subset(I, I$Origin == \"MagicDraw\")\n",
    "K$MagicDraw <- \"x\"\n",
    "L <- subset(I, I$Origin == \"WorkBench and MagicDraw\")\n",
    "L$WorkBench <- \"x\"\n",
    "L$MagicDraw <- \"x\"\n",
    "M <- rbind(J, K, L)\n",
    "M <- M[ ,c('Node', 'WorkBench', 'MagicDraw')]\n",
    "M <- M[order(M$Node),]\n",
    "\n",
    "H <- H[order(H$Child),]\n",
    "testJ <- testJ[order(testJ$Child),]\n",
    "testK <- graph_from_data_frame(d=testJ, directed=TRUE, vertices=H)\n",
    "colrs <- c(\"gray50\", \"tomato\", \"gold\")\n",
    "E(testK)$color <- colrs[E(testK)$Origin.type]\n",
    "V(testK)$color <- colrs[V(testK)$Origin.type]\n",
    "deg <-  degree(testK, mode=\"all\")\n",
    "V(testK)$size <- deg*1.5\n",
    "V(testK)$label.cex <- 1\n",
    "V(testK)$size <- 7\n",
    "E(testK)$arrow.size <- .3\n",
    "\n",
    "green <- c(\"\", \"green\")\n",
    "white <- c(\"black\", \"white\")\n",
    "#dir.create(\"/firesatReports\")\n",
    "#modifications <- data.frame(which(testD[slaves[1]] != testD[authorityPrompt[1]]))\n",
    "\n",
    "V(WBg)$size <- deg*1.5\n",
    "V(WBg)$label.cex <- 1\n",
    "V(WBg)$size <- 7\n",
    "E(WBg)$arrow.size <- .3\n",
    "V(MDg)$size <- deg*1.5\n",
    "V(MDg)$label.cex <- 1\n",
    "V(MDg)$size <- 7\n",
    "E(MDg)$arrow.size <- .3"
   ]
  },
  {
   "cell_type": "code",
   "execution_count": 29,
   "metadata": {},
   "outputs": [
    {
     "data": {
      "text/html": [
       "<strong>png:</strong> 2"
      ],
      "text/latex": [
       "\\textbf{png:} 2"
      ],
      "text/markdown": [
       "**png:** 2"
      ],
      "text/plain": [
       "png \n",
       "  2 "
      ]
     },
     "metadata": {},
     "output_type": "display_data"
    },
    {
     "data": {
      "text/html": [
       "<strong>png:</strong> 2"
      ],
      "text/latex": [
       "\\textbf{png:} 2"
      ],
      "text/markdown": [
       "**png:** 2"
      ],
      "text/plain": [
       "png \n",
       "  2 "
      ]
     },
     "metadata": {},
     "output_type": "display_data"
    }
   ],
   "source": [
    "###### Graphs\n",
    "png(\"WBgraph.png\", width = 1000, height = 1000)\n",
    "plot.igraph(WBg, edge.curved=.1, layout=layout_nicely)\n",
    "dev.off()\n",
    "\n",
    "png(\"MDgraph.png\", width = 1000, height = 1000)\n",
    "plot.igraph(MDg, edge.curved=.1, layout=layout_nicely)\n",
    "dev.off()"
   ]
  },
  {
   "cell_type": "code",
   "execution_count": 30,
   "metadata": {},
   "outputs": [],
   "source": [
    "###Treemaps\n",
    "i <- 1\n",
    "if (length(which(degree(MDg, mode=\"out\") == 0)) == 1)\n",
    "{\n",
    "  while (i <= nrow(MDp))\n",
    "  {\n",
    "    if (is.na(MDp$Parent[i]))\n",
    "    {\n",
    "      MDroot <- (MDp$Child[i])\n",
    "    }\n",
    "    i <- i + 1\n",
    "  }\n",
    "  MDp <- subset(MDp, MDp$Parent != \"NA\")\n",
    "  MDp <- subset(MDp, MDp$Parent != MDroot)\n",
    "  MDp$pathString <- paste(MDroot, MDp$Parent, MDp$Child, sep = \"/\")\n",
    "  MDtree <- as.Node(MDp)\n",
    "  sink(\"MDtree.txt\")\n",
    "  print(ToDataFrameTree(MDtree, \"level\"))  \n",
    "  sink()\n",
    "  write.csv(MDtree, \"MDtree.csv\", row.names = FALSE)\n",
    "}\n",
    "\n",
    "i <- 1\n",
    "if (length(which(degree(WBg, mode=\"out\") == 0)) == 1)\n",
    "{\n",
    "  while (i <= nrow(WBp))\n",
    "  {\n",
    "    if (is.na(WBp$Parent[i]))\n",
    "    {\n",
    "      WBroot <- (WBp$Child[i])\n",
    "    }\n",
    "    i <- i + 1\n",
    "  }\n",
    "  WBp <- subset(WBp, WBp$Parent != \"NA\")\n",
    "  WBp <- subset(WBp, WBp$Parent != WBroot)\n",
    "  WBp$pathString <- paste(WBroot, wBp$Parent, WBp$Child, sep = \"/\")\n",
    "  WBtree <- as.Node(wBp)\n",
    "  sink(\"WBtree.txt\")\n",
    "  print(ToDataFrameTree(WBtree, \"level\"))  \n",
    "  sink()\n",
    "  write.csv(WBtree, \"WBtree.csv\", row.names = FALSE)\n",
    "}"
   ]
  },
  {
   "cell_type": "code",
   "execution_count": 31,
   "metadata": {},
   "outputs": [
    {
     "name": "stdout",
     "output_type": "stream",
     "text": [
      "[1] \"4 well-formedness checks performed\"\n",
      "[1] \"The following models are not well-formed:  WorkBench\"\n"
     ]
    }
   ],
   "source": [
    "### Are WorkBench and MagicDraw models well-formed?\n",
    "Q <- data.frame(\"Test\" = c(\"Connected\", \"Acyclic\", \"Directed\", \"Rooted\"), \n",
    "                \"WorkBench\" = c(is.connected(WBg), girth(WBg)$girth == 0, is_directed(WBg), length(which(degree(WBg, mode=\"out\") == 0)) == 1), \n",
    "                \"MagicDraw\" = c(is.connected(MDg), girth(MDg)$girth == 0, is_directed(MDg), length(which(degree(MDg, mode=\"out\") == 0)) == 1))\n",
    "WBwf <- FALSE\n",
    "MDwf <- FALSE\n",
    "if ((Q$MagicDraw[1] == TRUE) & (Q$MagicDraw[2] == TRUE) & (Q$MagicDraw[3] == TRUE) & (Q$MagicDraw[4] == TRUE))\n",
    "{\n",
    "  MDwf <- TRUE\n",
    "  #column_spec(match(\"MagicDraw\", colnames(Q)), background = \"green\", color = \"white\")\n",
    "}\n",
    "if ((Q$WorkBench[1] == TRUE) & (Q$WorkBench[2] == TRUE) & (Q$WorkBench[3] == TRUE) & (Q$WorkBench[4] == TRUE))\n",
    "{\n",
    "  WBwf <- TRUE\n",
    "  #column_spec(match(\"WorkBench\", colnames(Q)), background = \"green\", color = \"white\")\n",
    "}\n",
    "\n",
    "write.csv(Q,\"wellformed.csv\", row.names = FALSE)\n",
    "\n",
    "kable(Q, align = c('l', 'c', 'c'), caption = print(sprintf(\"%d well-formedness checks performed\", nrow(Q)))) %>%\n",
    "  kable_styling(\"basic\") %>%\n",
    "  add_header_above(c(\"Are the models well-formed ?\" = 3), font_size = 15) %>%\n",
    "  column_spec(match(\"MagicDraw\", colnames(Q)), background = green[1+MDwf], color = white[1+MDwf]) %>%\n",
    "  column_spec(match(\"WorkBench\", colnames(Q)), background = green[1+WBwf], color = white[1+WBwf]) %>%\n",
    "  footnote(general = print(sprintf(\"The following models are not well-formed: %s %s\", if (MDwf == FALSE){\"MagicDraw\"} else {\"\"}, if (WBwf == FALSE){\"WorkBench\"} else {\"\"}))) %>%\n",
    " save_kable(\"wellformed.html\")"
   ]
  },
  {
   "cell_type": "code",
   "execution_count": 32,
   "metadata": {},
   "outputs": [
    {
     "name": "stdout",
     "output_type": "stream",
     "text": [
      "[1] \"51 unique vertices compared\"\n"
     ]
    }
   ],
   "source": [
    "###Display vertices\n",
    "write.csv(M,\"vertices.csv\", row.names = FALSE)\n",
    "\n",
    "kable(M, align = c('l', 'c', 'c'), caption = print(sprintf(\"%d unique vertices compared\", nrow(M)))) %>%\n",
    "  kable_styling(\"basic\") %>%\n",
    "  add_header_above(c(\"Are the vertices the same ?\" = 4), font_size = 15) %>%\n",
    "  #column_spec(1+match(authorityPrompt, colnames(M)), background = \"green\", color = \"white\")  \n",
    "  #row_spec(which(N$authorityPrompt == \"x\" & N$), background = \"green\", color = \"white\") %>%\n",
    "  #footnote(general = print(sprintf(\"You chose to identify %s as the source of authority. \\n %d vertices unconsistencies need to be corrected.\", authorityPrompt, nrow(N)))) %>%\n",
    "  save_kable(\"vertices.html\")"
   ]
  },
  {
   "cell_type": "code",
   "execution_count": 33,
   "metadata": {},
   "outputs": [
    {
     "name": "stdout",
     "output_type": "stream",
     "text": [
      "[1] \"67 unique edges compared\"\n"
     ]
    }
   ],
   "source": [
    "###Display edges\n",
    "write.csv(testD,\"edges.csv\", row.names = FALSE)\n",
    "\n",
    "kable(testD, align = c('l', 'l', 'c', 'c'), caption = print(sprintf(\"%d unique edges compared\", nrow(testD)))) %>%\n",
    "  kable_styling(\"basic\") %>%\n",
    "  add_header_above(c(\"Are the edges the same ?\" = 5), font_size = 15) %>%\n",
    "  #column_spec(1+match(toString(slaves), colnames(testD)), background = \"red\", color = \"white\") %>%\n",
    "  #column_spec(1+match(authorityPrompt, colnames(testD)), background = \"green\", color = \"white\")  \n",
    "  #row_spec(which(testD[slaves[1]] == testD[authorityPrompt[1]]), background = \"green\", color = \"white\") %>%\n",
    "  #footnote(general = print(sprintf(\"You chose to identify %s as the source of authority. \\n %d edges unconsistencies need to be corrected.\", authorityPrompt, nrow(modifications)))) %>%\n",
    "  save_kable(\"edges.html\")"
   ]
  },
  {
   "cell_type": "code",
   "execution_count": 34,
   "metadata": {},
   "outputs": [
    {
     "data": {
      "text/html": [
       "<strong>png:</strong> 2"
      ],
      "text/latex": [
       "\\textbf{png:} 2"
      ],
      "text/markdown": [
       "**png:** 2"
      ],
      "text/plain": [
       "png \n",
       "  2 "
      ]
     },
     "metadata": {},
     "output_type": "display_data"
    }
   ],
   "source": [
    "###Display graph\n",
    "png(\"WbMdGraphs.png\", width = 1000, height = 1000)\n",
    "plot.igraph(testK, edge.curved=.1, layout=layout_nicely)\n",
    "legend(x=-1,  y=-1.1,  c  (\"MagicDraw\",\"WorkBench\",\"WorkBench and MagicDraw\"),  pch=21,  col=\"#777777\",  pt.bg=colrs,  pt.cex=2,  cex=1,  bty=\"n\",  ncol=1)\n",
    "dev.off()"
   ]
  },
  {
   "cell_type": "code",
   "execution_count": 35,
   "metadata": {},
   "outputs": [],
   "source": [
    "# UI\n",
    "\n",
    "###Initializations\n",
    "  \n",
    "# Connected graph initialization\n",
    "{\n",
    "  WBconnectedActions <- \"\"\n",
    "  MDconnectedActions <- \"\"\n",
    "  WBConnectedG <- WBg\n",
    "  MDConnectedG <- MDg\n",
    "  if (is.connected(WBg) == FALSE)\n",
    "  {\n",
    "    if (no.clusters(WBg) > 1) \n",
    "    {\n",
    "      WBconnectedActions <- tags$div(no.clusters(WBg), \"isolated clusters found -> Connect the extra clusters.\")\n",
    "      i <- 1\n",
    "      while (i <= no.clusters(WBg)) \n",
    "      {\n",
    "        V(WBConnectedG)[which(clusters(WBg)$membership == i)]$color <- rainbow(no.clusters(WBg))[i]\n",
    "        i <- i + 1\n",
    "      }\n",
    "    }\n",
    "  }\n",
    "  if (is.connected(MDg) == TRUE) {V(MDConnectedG)$color <- \"green\"}\n",
    "  \n",
    "  if (is.connected(MDg) == FALSE)\n",
    "  {\n",
    "    if (no.clusters(MDg) > 1) \n",
    "    {\n",
    "      MDconnectedActions <- tags$div(no.clusters(MDg), \"isolated clusters found -> Connect the extra clusters.\")\n",
    "      i <- 1\n",
    "      while (i <= no.clusters(MDg)) \n",
    "      {\n",
    "        V(MDConnectedG)[which(clusters(MDg)$membership == i)]$color <- rainbow(no.clusters(MDg))[i]\n",
    "        i <- i + 1\n",
    "      }\n",
    "    }\n",
    "  }\n",
    "  if (is.connected(MDg) == TRUE) {V(MDConnectedG)$color <- \"green\"}\n",
    "}\n",
    "\n",
    "# Directed graph initialization\n",
    "{\n",
    "  WBdirectedG <- as.directed(WBg, mode = c(\"mutual\"))\n",
    "  MDdirectedG <- as.directed(MDg, mode = c(\"mutual\"))\n",
    "  nbOfUndirectedEdgesInWB <- gsize(WBdirectedG) - gsize(WBg)\n",
    "  nbOfUndirectedEdgesInMD <- gsize(MDdirectedG) - gsize(MDg)\n",
    "  WBDirectedG <- WBg\n",
    "  MDDirectedG <- MDg\n",
    "  WBdirectedActions <- \"\"\n",
    "  MDdirectedActions <- \"\"\n",
    "  if (is_directed(WBg) == FALSE)\n",
    "  {\n",
    "    WBdirectedActions <- tags$div(nbOfUndirectedEdgesInWB, \"undirected edges found -> Look for them and direct them.\")\n",
    "  }\n",
    "  if (is_directed(WBg) == TRUE) \n",
    "  {\n",
    "    E(WBDirectedG)$color <- \"green\"\n",
    "  }\n",
    "  \n",
    "  if (is_directed(MDg) == FALSE)\n",
    "  {\n",
    "    MDdirectedActions <- tags$div(nbOfUndirectedEdgesInMD, \"undirected edges found -> Look for them and direct them.\")\n",
    "  }\n",
    "  if (is_directed(MDg) == TRUE) \n",
    "  {\n",
    "    E(MDDirectedG)$color <- \"green\"\n",
    "  }\n",
    "}\n",
    "\n",
    "# Acyclic graph initialization\n",
    "{\n",
    "  WBacyclicG <- WBg\n",
    "  MDacyclicG <- MDg\n",
    "  WBcircleSizeWB <- girth(MDg)\n",
    "  MDcircleSizeMD <- girth(MDg)\n",
    "  WBacyclicActions <- \"\"\n",
    "  MDacyclicActions <- \"\"\n",
    "  V(WBacyclicG)$color <- \"green\"\n",
    "  V(MDacyclicG)$color <- \"green\"\n",
    "  V(WBacyclicG)[girth(WBacyclicG)$circle]$color <- \"red\"\n",
    "  V(MDacyclicG)[girth(MDacyclicG)$circle]$color <- \"red\"\n",
    "  V(WBacyclicG)[which(which_loop(WBg)==TRUE)]$color <- \"red\"\n",
    "  V(MDacyclicG)[which(which_loop(MDg)==TRUE)]$color <- \"red\"\n",
    "  if (girth(WBg)$girth != 0)\n",
    "  {\n",
    "    WBacyclicActions <- tags$div(\"One circle of \", WBcircleSizeWB, \"nodes makes the WorkBench graph cyclic -> Correct the related edges to build an acyclic graph.\")\n",
    "  }\n",
    "  if (nrow(as.data.frame(which(which_loop(WBg)==TRUE))) != 0)\n",
    "  {\n",
    "    WBacyclicActions <- tags$div(nrow(as.data.frame(which(which_loop(WBg)==TRUE))), \" loop(s) makes the WorkBench graph cyclic -> Correct the related edges to build an acyclic graph.\")\n",
    "  }\n",
    "  if (nrow(as.data.frame(which(which_loop(WBg)==TRUE))) != 0 & (girth(WBg)$girth != 0))\n",
    "  {\n",
    "    WBacyclicActions <- tags$div(\"One circle of \", WBcircleSizeWB, \"nodes and \",  nrow(as.data.frame(which(which_loop(WBg)==TRUE))), \" loop(s) make the WorkBench graph cyclic -> Correct the related edges to build an acyclic graph.\")\n",
    "  }\n",
    "  if (girth(MDg)$girth != 0)\n",
    "  {\n",
    "    MDacyclicActions <- tags$div(\"One circle of \", MDcircleSizeMD, \"nodes makes the MagicDraw graph cyclic -> Correct the related edges to build an acyclic graph.\")\n",
    "  }\n",
    "  if (nrow(as.data.frame(which(which_loop(MDg)==TRUE))) != 0)\n",
    "  {\n",
    "    MDacyclicActions <- tags$div(nrow(as.data.frame(which(which_loop(MDg)==TRUE))), \" loop(s) makes the MagicDraw graph cyclic -> Correct the related edges to build an acyclic graph.\")\n",
    "  }\n",
    "  if (nrow(as.data.frame(which(which_loop(MDg)==TRUE))) != 0 & (girth(MDg)$girth != 0))\n",
    "  {\n",
    "    MDacyclicActions <- tags$div(\"One circle of \", MDcircleSizeMD, \"nodes and \",  nrow(as.data.frame(which(which_loop(MDg)==TRUE))), \" loop(s) make the MagicDraw graph cyclic -> Correct the related edges to build an acyclic graph.\")\n",
    "  }\n",
    "}\n",
    "\n",
    "# Rooted graph initialization\n",
    "{\n",
    "  WBrootedG <- WBg\n",
    "  MDrootedG <- MDg\n",
    "  nbOfrootsInWB <- length(which(degree(WBg, mode=\"out\") == 0))\n",
    "  nbOfrootsInMD <- length(which(degree(MDg, mode=\"out\") == 0))\n",
    "  WBrootedActions <- \"\"\n",
    "  MDrootedActions <- \"\"\n",
    "  V(WBrootedG)[which(degree(WBg, mode=\"out\") != 0)]$color <- \"yellow\"\n",
    "  V(MDrootedG)[which(degree(MDg, mode=\"out\") != 0)]$color <- \"yellow\"\n",
    "  V(WBrootedG)[which(degree(WBg, mode=\"out\") == 0)]$color <- \"green\"\n",
    "  V(MDrootedG)[which(degree(MDg, mode=\"out\") == 0)]$color <- \"green\"\n",
    "  if (length(which(degree(WBg, mode=\"out\") == 0)) > 1)\n",
    "  {\n",
    "    WBrootedActions <- tags$div(nbOfrootsInWB, \"roots found instead of 1 -> Correct the extra roots.\")\n",
    "    V(WBrootedG)[which(degree(WBg, mode=\"out\") == 0)]$color <- \"red\"\n",
    "    V(WBrootedG)[which(degree(WBg, mode=\"out\") != 0)]$color <- \"yellow\"\n",
    "  }\n",
    "  if (length(which(degree(WBg, mode=\"out\") == 0)) == 0)\n",
    "  {\n",
    "    WBrootedActions <- tags$div(nbOfrootsInWB, \"root found instead of 1 -> Build one root.\")\n",
    "  }\n",
    "  if (length(which(degree(MDg, mode=\"out\") == 0)) > 1)\n",
    "  {\n",
    "    MDrootedActions <- tags$div(nbOfrootsInMD, \"roots found instead of 1 -> Correct the extra roots.\")\n",
    "    V(MDrootedG)[which(degree(MDg, mode=\"out\") == 0)]$color <- \"red\"\n",
    "    V(MDrootedG)[which(degree(MDg, mode=\"out\") != 0)]$color <- \"yellow\"\n",
    "  }\n",
    "  if (length(which(degree(MDg, mode=\"out\") == 0)) == 0)\n",
    "  {\n",
    "    MDrootedActions <- tags$div(nbOfrootsInMD, \"root found instead of 1 -> Build one root.\")\n",
    "  }\n",
    "}\n"
   ]
  },
  {
   "cell_type": "markdown",
   "metadata": {},
   "source": [
    "# Preparation of the outputs"
   ]
  },
  {
   "cell_type": "markdown",
   "metadata": {},
   "source": [
    "## UI Part I"
   ]
  },
  {
   "cell_type": "code",
   "execution_count": 36,
   "metadata": {},
   "outputs": [
    {
     "data": {
      "text/html": [
       "<strong>png:</strong> 2"
      ],
      "text/latex": [
       "\\textbf{png:} 2"
      ],
      "text/markdown": [
       "**png:** 2"
      ],
      "text/plain": [
       "png \n",
       "  2 "
      ]
     },
     "metadata": {},
     "output_type": "display_data"
    },
    {
     "data": {
      "text/html": [
       "<strong>png:</strong> 2"
      ],
      "text/latex": [
       "\\textbf{png:} 2"
      ],
      "text/markdown": [
       "**png:** 2"
      ],
      "text/plain": [
       "png \n",
       "  2 "
      ]
     },
     "metadata": {},
     "output_type": "display_data"
    }
   ],
   "source": [
    "write.csv(\"KO\", file = \"WBwf.csv\",row.names=FALSE)\n",
    "write.csv(\"KO\", file = \"MDwf.csv\",row.names=FALSE)\n",
    "\n",
    "if (WBwf == TRUE)\n",
    "{\n",
    "    write.csv(\"OK\", file = \"WBwf.csv\",row.names=FALSE)\n",
    "    png(\"WBwfResult.png\", width = 1000, height = 1000)\n",
    "    grid::grid.raster(readPNG(\"OK.png\"))\n",
    "    dev.off()\n",
    "}\n",
    "\n",
    "if (WBwf != TRUE)\n",
    "{\n",
    "    png(\"WBwfResult.png\", width = 1000, height = 1000)\n",
    "    grid::grid.raster(readPNG(\"KO.png\"))\n",
    "    dev.off()\n",
    "}\n",
    "\n",
    "\n",
    "if (MDwf == TRUE)\n",
    "{\n",
    "    write.csv(\"OK\", file = \"MDwf.csv\",row.names=FALSE)\n",
    "    png(\"MDwfResult.png\", width = 1000, height = 1000)\n",
    "    grid::grid.raster(readPNG(\"OK.png\"))\n",
    "    dev.off()\n",
    "}\n",
    "\n",
    "if (MDwf != TRUE)\n",
    "{\n",
    "    png(\"MDwfResult.png\", width = 1000, height = 1000)\n",
    "    grid::grid.raster(readPNG(\"KO.png\"))\n",
    "    dev.off()\n",
    "}"
   ]
  },
  {
   "cell_type": "code",
   "execution_count": 37,
   "metadata": {
    "scrolled": true
   },
   "outputs": [
    {
     "data": {
      "text/html": [
       "<strong>png:</strong> 2"
      ],
      "text/latex": [
       "\\textbf{png:} 2"
      ],
      "text/markdown": [
       "**png:** 2"
      ],
      "text/plain": [
       "png \n",
       "  2 "
      ]
     },
     "metadata": {},
     "output_type": "display_data"
    },
    {
     "data": {
      "text/html": [
       "<strong>png:</strong> 2"
      ],
      "text/latex": [
       "\\textbf{png:} 2"
      ],
      "text/markdown": [
       "**png:** 2"
      ],
      "text/plain": [
       "png \n",
       "  2 "
      ]
     },
     "metadata": {},
     "output_type": "display_data"
    },
    {
     "data": {
      "text/html": [
       "<strong>png:</strong> 2"
      ],
      "text/latex": [
       "\\textbf{png:} 2"
      ],
      "text/markdown": [
       "**png:** 2"
      ],
      "text/plain": [
       "png \n",
       "  2 "
      ]
     },
     "metadata": {},
     "output_type": "display_data"
    },
    {
     "data": {
      "text/html": [
       "<strong>png:</strong> 2"
      ],
      "text/latex": [
       "\\textbf{png:} 2"
      ],
      "text/markdown": [
       "**png:** 2"
      ],
      "text/plain": [
       "png \n",
       "  2 "
      ]
     },
     "metadata": {},
     "output_type": "display_data"
    },
    {
     "data": {
      "text/html": [
       "<strong>png:</strong> 2"
      ],
      "text/latex": [
       "\\textbf{png:} 2"
      ],
      "text/markdown": [
       "**png:** 2"
      ],
      "text/plain": [
       "png \n",
       "  2 "
      ]
     },
     "metadata": {},
     "output_type": "display_data"
    },
    {
     "data": {
      "text/html": [
       "<strong>png:</strong> 2"
      ],
      "text/latex": [
       "\\textbf{png:} 2"
      ],
      "text/markdown": [
       "**png:** 2"
      ],
      "text/plain": [
       "png \n",
       "  2 "
      ]
     },
     "metadata": {},
     "output_type": "display_data"
    },
    {
     "data": {
      "text/html": [
       "<strong>png:</strong> 2"
      ],
      "text/latex": [
       "\\textbf{png:} 2"
      ],
      "text/markdown": [
       "**png:** 2"
      ],
      "text/plain": [
       "png \n",
       "  2 "
      ]
     },
     "metadata": {},
     "output_type": "display_data"
    },
    {
     "data": {
      "text/html": [
       "<strong>png:</strong> 2"
      ],
      "text/latex": [
       "\\textbf{png:} 2"
      ],
      "text/markdown": [
       "**png:** 2"
      ],
      "text/plain": [
       "png \n",
       "  2 "
      ]
     },
     "metadata": {},
     "output_type": "display_data"
    }
   ],
   "source": [
    "png(\"WBConnectedG.png\", width = 1000, height = 1000)\n",
    "plot.igraph(WBConnectedG, edge.curved=.1, layout=layout_nicely)\n",
    "dev.off()\n",
    "\n",
    "png(\"WBDirectedG.png\", width = 1000, height = 1000)\n",
    "plot.igraph(WBDirectedG, edge.curved=.1, layout=layout_nicely)\n",
    "dev.off()\n",
    "\n",
    "png(\"WBacyclicG.png\", width = 1000, height = 1000)\n",
    "plot.igraph(WBacyclicG, edge.curved=.1, layout=layout_nicely)\n",
    "dev.off()\n",
    "\n",
    "png(\"WBrootedG.png\", width = 1000, height = 1000)\n",
    "plot.igraph(WBrootedG, edge.curved=.1, layout=layout_nicely)\n",
    "dev.off()\n",
    "\n",
    "png(\"MDConnectedG.png\", width = 1000, height = 1000)\n",
    "plot.igraph(MDConnectedG, edge.curved=.1, layout=layout_nicely)\n",
    "dev.off()\n",
    "\n",
    "png(\"MDDirectedG.png\", width = 1000, height = 1000)\n",
    "plot.igraph(MDDirectedG, edge.curved=.1, layout=layout_nicely)\n",
    "dev.off()\n",
    "\n",
    "png(\"MDacyclicG.png\", width = 1000, height = 1000)\n",
    "plot.igraph(MDacyclicG, edge.curved=.1, layout=layout_nicely)\n",
    "dev.off()\n",
    "\n",
    "png(\"MDrootedG.png\", width = 1000, height = 1000)\n",
    "plot.igraph(MDrootedG, edge.curved=.1, layout=layout_nicely)\n",
    "dev.off()"
   ]
  },
  {
   "cell_type": "code",
   "execution_count": 38,
   "metadata": {},
   "outputs": [],
   "source": [
    "WBactionsToPerform <- tags$div(WBconnectedActions, WBacyclicActions, WBdirectedActions, WBrootedActions)\n",
    "capture.output(WBactionsToPerform, file = \"WBactionsToPerform.html\")\n",
    "\n",
    "MDactionsToPerform <- tags$div(MDconnectedActions, MDacyclicActions, MDdirectedActions, MDrootedActions)\n",
    "capture.output(MDactionsToPerform, file = \"MDactionsToPerform.html\")"
   ]
  },
  {
   "cell_type": "code",
   "execution_count": 39,
   "metadata": {},
   "outputs": [
    {
     "data": {
      "text/html": [
       "<strong>png:</strong> 2"
      ],
      "text/latex": [
       "\\textbf{png:} 2"
      ],
      "text/markdown": [
       "**png:** 2"
      ],
      "text/plain": [
       "png \n",
       "  2 "
      ]
     },
     "metadata": {},
     "output_type": "display_data"
    },
    {
     "data": {
      "text/html": [
       "<strong>png:</strong> 2"
      ],
      "text/latex": [
       "\\textbf{png:} 2"
      ],
      "text/markdown": [
       "**png:** 2"
      ],
      "text/plain": [
       "png \n",
       "  2 "
      ]
     },
     "metadata": {},
     "output_type": "display_data"
    }
   ],
   "source": [
    "if (is.connected(WBg) == TRUE)\n",
    "{\n",
    "    WBconnectedReport <- tags$div(\"The graph is connected.\", br(), \"No action to perform.\")\n",
    "    png(\"WBconnectedResult.png\", width = 1000, height = 1000)\n",
    "    grid::grid.raster(readPNG(\"OK.png\"))\n",
    "    dev.off()\n",
    "}\n",
    "if (is.connected(WBg) != TRUE)\n",
    "{\n",
    "    WBconnectedReport <- WBconnectedActions\n",
    "    png(\"WBconnectedResult.png\", width = 1000, height = 1000)\n",
    "    grid::grid.raster(readPNG(\"KO.png\"))\n",
    "    dev.off()\n",
    "}\n",
    "capture.output(WBconnectedReport, file = \"WBconnectedReport.html\")\n",
    "\n",
    "\n",
    "if (is.connected(MDg) == TRUE)\n",
    "{\n",
    "    MDconnectedReport <- tags$div(\"The graph is connected.\", br(), \"No action to perform.\")\n",
    "    png(\"MDconnectedResult.png\", width = 1000, height = 1000)\n",
    "    grid::grid.raster(readPNG(\"OK.png\"))\n",
    "    dev.off()\n",
    "}\n",
    "if (is.connected(MDg) != TRUE)\n",
    "{\n",
    "    MDconnectedReport <- MDconnectedActions\n",
    "    png(\"MDconnectedResult.png\", width = 1000, height = 1000)\n",
    "    grid::grid.raster(readPNG(\"KO.png\"))\n",
    "    dev.off()\n",
    "}\n",
    "capture.output(MDconnectedReport, file = \"MDconnectedReport.html\")"
   ]
  },
  {
   "cell_type": "code",
   "execution_count": 40,
   "metadata": {},
   "outputs": [
    {
     "data": {
      "text/html": [
       "<strong>png:</strong> 2"
      ],
      "text/latex": [
       "\\textbf{png:} 2"
      ],
      "text/markdown": [
       "**png:** 2"
      ],
      "text/plain": [
       "png \n",
       "  2 "
      ]
     },
     "metadata": {},
     "output_type": "display_data"
    },
    {
     "data": {
      "text/html": [
       "<strong>png:</strong> 2"
      ],
      "text/latex": [
       "\\textbf{png:} 2"
      ],
      "text/markdown": [
       "**png:** 2"
      ],
      "text/plain": [
       "png \n",
       "  2 "
      ]
     },
     "metadata": {},
     "output_type": "display_data"
    }
   ],
   "source": [
    "if ((girth(WBg)$girth == 0) & (nrow(as.data.frame(which(which_loop(WBg)==TRUE))) == 0))\n",
    "{\n",
    "    WBacyclicReport <- tags$div(\"The graph is acyclic.\", br(), \"No action to perform.\")\n",
    "    png(\"WBacyclicResult.png\", width = 1000, height = 1000)\n",
    "    grid::grid.raster(readPNG(\"OK.png\"))\n",
    "    dev.off()\n",
    "}\n",
    "if ((girth(WBg)$girth != 0) | (nrow(as.data.frame(which(which_loop(WBg)==TRUE))) != 0))\n",
    "{\n",
    "    WBacyclicReport <- WBacyclicActions\n",
    "    png(\"WBacyclicResult.png\", width = 1000, height = 1000)\n",
    "    grid::grid.raster(readPNG(\"KO.png\"))\n",
    "    dev.off()\n",
    "}\n",
    "capture.output(WBacyclicReport, file = \"WBacyclicReport.html\")\n",
    "\n",
    "\n",
    "if ((girth(MDg)$girth == 0) & (nrow(as.data.frame(which(which_loop(MDg)==TRUE))) == 0))\n",
    "{\n",
    "    MDacyclicReport <- tags$div(\"The graph is acyclic.\", br(), \"No action to perform.\")\n",
    "    png(\"MDacyclicResult.png\", width = 1000, height = 1000)\n",
    "    grid::grid.raster(readPNG(\"OK.png\"))\n",
    "    dev.off()\n",
    "}\n",
    "if ((girth(MDg)$girth != 0) | (nrow(as.data.frame(which(which_loop(MDg)==TRUE))) != 0))\n",
    "{\n",
    "    MDacyclicReport <- MDacyclicActions\n",
    "    png(\"MDacyclicResult.png\", width = 1000, height = 1000)\n",
    "    grid::grid.raster(readPNG(\"KO.png\"))\n",
    "    dev.off()\n",
    "}\n",
    "capture.output(MDacyclicReport, file = \"MDacyclicReport.html\")"
   ]
  },
  {
   "cell_type": "code",
   "execution_count": 41,
   "metadata": {},
   "outputs": [
    {
     "data": {
      "text/html": [
       "<strong>png:</strong> 2"
      ],
      "text/latex": [
       "\\textbf{png:} 2"
      ],
      "text/markdown": [
       "**png:** 2"
      ],
      "text/plain": [
       "png \n",
       "  2 "
      ]
     },
     "metadata": {},
     "output_type": "display_data"
    },
    {
     "data": {
      "text/html": [
       "<strong>png:</strong> 2"
      ],
      "text/latex": [
       "\\textbf{png:} 2"
      ],
      "text/markdown": [
       "**png:** 2"
      ],
      "text/plain": [
       "png \n",
       "  2 "
      ]
     },
     "metadata": {},
     "output_type": "display_data"
    }
   ],
   "source": [
    "if (is_directed(WBg) == TRUE)\n",
    "{\n",
    "    WBdirectedReport <- tags$div(\"The graph is directed.\", br(), \"No action to perform.\")\n",
    "    png(\"WBdirectedResult.png\", width = 1000, height = 1000)\n",
    "    grid::grid.raster(readPNG(\"OK.png\"))\n",
    "    dev.off()\n",
    "}\n",
    "if (is_directed(WBg) != TRUE)\n",
    "{\n",
    "    WBdirectedReport <- WBdirectedActions\n",
    "    png(\"WBdirectedResult.png\", width = 1000, height = 1000)\n",
    "    grid::grid.raster(readPNG(\"KO.png\"))\n",
    "    dev.off()\n",
    "}\n",
    "capture.output(WBdirectedReport, file = \"WBdirectedReport.html\")\n",
    "\n",
    "\n",
    "if (is_directed(MDg) == TRUE)\n",
    "{\n",
    "    MDdirectedReport <- tags$div(\"The graph is directed.\", br(), \"No action to perform.\")\n",
    "    png(\"MDdirectedResult.png\", width = 1000, height = 1000)\n",
    "    grid::grid.raster(readPNG(\"OK.png\"))\n",
    "    dev.off()\n",
    "}\n",
    "if (is_directed(MDg) != TRUE)\n",
    "{\n",
    "    MDdirectedReport <- MDdirectedActions\n",
    "    png(\"MDdirectedResult.png\", width = 1000, height = 1000)\n",
    "    grid::grid.raster(readPNG(\"KO.png\"))\n",
    "    dev.off()\n",
    "}\n",
    "capture.output(MDdirectedReport, file = \"MDdirectedReport.html\")"
   ]
  },
  {
   "cell_type": "code",
   "execution_count": 42,
   "metadata": {},
   "outputs": [
    {
     "data": {
      "text/html": [
       "<strong>png:</strong> 2"
      ],
      "text/latex": [
       "\\textbf{png:} 2"
      ],
      "text/markdown": [
       "**png:** 2"
      ],
      "text/plain": [
       "png \n",
       "  2 "
      ]
     },
     "metadata": {},
     "output_type": "display_data"
    },
    {
     "data": {
      "text/html": [
       "<strong>png:</strong> 2"
      ],
      "text/latex": [
       "\\textbf{png:} 2"
      ],
      "text/markdown": [
       "**png:** 2"
      ],
      "text/plain": [
       "png \n",
       "  2 "
      ]
     },
     "metadata": {},
     "output_type": "display_data"
    }
   ],
   "source": [
    "if (length(which(degree(WBg, mode=\"out\") == 0)) == 1)\n",
    "{\n",
    "    WBrootedReport <- tags$div(\"The graph is rooted.\", br(), \"No action to perform.\")\n",
    "    png(\"WBrootedResult.png\", width = 1000, height = 1000)\n",
    "    grid::grid.raster(readPNG(\"OK.png\"))\n",
    "    dev.off()\n",
    "}\n",
    "if (length(which(degree(WBg, mode=\"out\") == 0)) != 1)\n",
    "{\n",
    "    WBrootedReport <- WBrootedActions\n",
    "    png(\"WBrootedResult.png\", width = 1000, height = 1000)\n",
    "    grid::grid.raster(readPNG(\"KO.png\"))\n",
    "    dev.off()\n",
    "}\n",
    "capture.output(WBrootedReport, file = \"WBrootedReport.html\")\n",
    "\n",
    "\n",
    "if (length(which(degree(MDg, mode=\"out\") == 0)) == 1)\n",
    "{\n",
    "    MDrootedReport <- tags$div(\"The graph is rooted.\", br(), \"No action to perform.\")\n",
    "    png(\"MDrootedResult.png\", width = 1000, height = 1000)\n",
    "    grid::grid.raster(readPNG(\"OK.png\"))\n",
    "    dev.off()\n",
    "}\n",
    "if (length(which(degree(MDg, mode=\"out\") == 0)) != 1)\n",
    "{\n",
    "    MDrootedReport <- MDrootedActions\n",
    "    png(\"MDrootedResult.png\", width = 1000, height = 1000)\n",
    "    grid::grid.raster(readPNG(\"KO.png\"))\n",
    "    dev.off()\n",
    "}\n",
    "capture.output(MDrootedReport, file = \"MDrootedReport.html\")"
   ]
  },
  {
   "cell_type": "code",
   "execution_count": 43,
   "metadata": {},
   "outputs": [],
   "source": [
    "capture.output(WBconnectedActions, file = \"WBconnectedActions.html\")\n",
    "capture.output(WBacyclicActions, file = \"WBacyclicActions.html\")\n",
    "capture.output(WBdirectedActions, file = \"WBdirectedActions.html\")\n",
    "capture.output(WBrootedActions, file = \"WBrootedActions.html\")\n",
    "\n",
    "capture.output(MDconnectedActions, file = \"MDconnectedActions.html\")\n",
    "capture.output(MDacyclicActions, file = \"MDacyclicActions.html\")\n",
    "capture.output(MDdirectedActions, file = \"MDdirectedActions.html\")\n",
    "capture.output(MDrootedActions, file = \"MDrootedActions.html\")"
   ]
  },
  {
   "cell_type": "markdown",
   "metadata": {},
   "source": [
    "## UI Part II"
   ]
  },
  {
   "cell_type": "code",
   "execution_count": 44,
   "metadata": {},
   "outputs": [
    {
     "name": "stdout",
     "output_type": "stream",
     "text": [
      "[1] \"8 vertices unconsistency analyzed\"\n"
     ]
    }
   ],
   "source": [
    "## Vertices analysis MD\n",
    "\n",
    "#authorityPrompt <- \"MagicDraw\"\n",
    "#slaves <- \"WorkBench\"\n",
    "\n",
    "OSA = matrix(ncol = nrow(K), nrow = nrow(J))\n",
    "SNX = matrix(ncol = nrow(K), nrow = nrow(J))\n",
    "Nmd <- J\n",
    "Nmd <- Nmd[ ,c('Node', 'Origin')]\n",
    "i <- 1\n",
    "while (i <= nrow(J))\n",
    "{\n",
    "  j <- 1\n",
    "  while (j <= nrow(K))\n",
    "  {\n",
    "    OSA[i, j] <- stringdist(J$Node[i],  K$Node[j], method = c(\"osa\"))\n",
    "    SNX[i, j] <- stringdist(J$Node[i],  K$Node[j], method = c(\"soundex\"))\n",
    "    j <- j + 1\n",
    "  }\n",
    "  if (min(SNX[i,]) == 0)\n",
    "  {\n",
    "    Nmd$ClosestTarget_Name[i] <- K[match (0, SNX[i,]),1]\n",
    "    Nmd$Comment[i] <- sprintf(\"Suspected spelling mistake in %s\", \"WorkBench\")\n",
    "  }\n",
    "  else\n",
    "  {\n",
    "    if ((min(SNX[i,]) != 0) & (min(OSA[i,]) < 75/100*nchar(Nmd$Node[i])))\n",
    "    {\n",
    "      Nmd$ClosestTarget_Name[i] <- K[match(min(OSA[i,]), OSA[i,]),1]\n",
    "      Nmd$Comment[i] <- sprintf(\"Suspected spelling mistake in %s\", \"WorkBench\")\n",
    "    }\n",
    "    else\n",
    "    {\n",
    "      Nmd$ClosestTarget_Name[i] <- \"-\"  \n",
    "      Nmd$Comment[i] <- sprintf(\"Suspected extra element in %s\", \"WorkBench\")\n",
    "    }\n",
    "  }\n",
    "  i <- i + 1\n",
    "}\n",
    "Omd <- Nmd[0,]\n",
    "Omd <- as.data.frame(setdiff(K$Node, Nmd$ClosestTarget_Name))\n",
    "colnames(Omd)[colnames(Omd)==\"setdiff(K$Node, Nmd$ClosestTarget_Name)\"] <- \"Node\"\n",
    "Omd$Origin <- \"MagicDraw\"\n",
    "Omd$ClosestTarget_Name <- \"-\"\n",
    "Omd$Comment <- sprintf(\"Suspected missing element in %s\", \"WorkBench\")\n",
    "Nmd <- rbind(Nmd, Omd)\n",
    "\n",
    "\n",
    "## Display vertices analysis MD\n",
    "colnames(Nmd)[colnames(Nmd)==\"Node\"] <- \"AttributeOfVertice_Name\"\n",
    "\n",
    "i <- 1\n",
    "j <- 1\n",
    "while (j <= nrow(Nmd))\n",
    "{\n",
    "  i <- 1\n",
    "  while (i <= vcount(WBg))\n",
    "  {\n",
    "    if (Nmd$AttributeOfVertice_Name[j] == V(WBg)$name[i])\n",
    "    {\n",
    "      Nmd$AttributeOfVertice_Degree[j] <- degree(WBg, mode = c(\"all\"))[i]\n",
    "    }\n",
    "    i <- i+1\n",
    "  }\n",
    "  j <- j+1\n",
    "}\n",
    "\n",
    "Nmd$FYI_ClosestTarget_Degree <- \"\"\n",
    "i <- 1\n",
    "j <- 1\n",
    "while (j <= nrow(Nmd))\n",
    "{\n",
    "  i <- 1\n",
    "  while (i <= vcount(MDg))\n",
    "  {\n",
    "    if ((Nmd$ClosestTarget_Name[j] == V(MDg)$name[i]) && (Nmd$ClosestTarget_Name[j] != \"-\"))\n",
    "    {\n",
    "      Nmd$FYI_ClosestTarget_Degree[j] <- degree(MDg, mode = c(\"all\"))[i]\n",
    "    }\n",
    "    i <- i+1\n",
    "  }\n",
    "  j <- j+1\n",
    "}\n",
    "\n",
    "Nmd <- Nmd[ ,c('AttributeOfVertice_Name', 'AttributeOfVertice_Degree', 'Origin', 'ClosestTarget_Name', 'Comment', 'FYI_ClosestTarget_Degree')]\n",
    "\n",
    "kable(Nmd, align = c('l', 'c', 'l', 'l'), caption = print(sprintf(\"%d vertices unconsistency analyzed\", nrow(Nmd)))) %>%\n",
    "  kable_styling(\"basic\") %>%\n",
    "  add_header_above(c(\"Analysis of the vertices\" = 7), font_size = 15) %>%\n",
    "  #column_spec(1+match(authorityPrompt, colnames(M)), background = \"green\", color = \"white\")  %>%\n",
    "  #row_spec(which(N$authorityPrompt == \"x\" & N$), background = \"green\", color = \"white\") %>%\n",
    "  #footnote(general = print(sprintf(\"You chose to identify %s as the source of authority.\", authorityPrompt))) %>%\n",
    "  save_kable(\"verticesAnalysisMD.html\")"
   ]
  },
  {
   "cell_type": "code",
   "execution_count": 45,
   "metadata": {},
   "outputs": [
    {
     "name": "stdout",
     "output_type": "stream",
     "text": [
      "[1] \"9 vertices unconsistency analyzed\"\n"
     ]
    }
   ],
   "source": [
    "## Vertices analysis WB\n",
    "\n",
    "#authorityPrompt <- \"WorkBench\"\n",
    "#slaves <- \"MagicDraw\"\n",
    "\n",
    "OSA = matrix(ncol = nrow(J), nrow = nrow(K))\n",
    "SNX = matrix(ncol = nrow(J), nrow = nrow(K))\n",
    "Nwb <- K\n",
    "Nwb <- Nwb[ ,c('Node', 'Origin')]\n",
    "i <- 1\n",
    "while (i <= nrow(K))\n",
    "{\n",
    "  j <- 1\n",
    "  while (j <= nrow(J))\n",
    "  {\n",
    "    OSA[i, j] <- stringdist(K$Node[i],  J$Node[j], method = c(\"osa\"))\n",
    "    SNX[i, j] <- stringdist(K$Node[i],  J$Node[j], method = c(\"soundex\"))\n",
    "    j <- j + 1\n",
    "  }\n",
    "  if (min(SNX[i,]) == 0)\n",
    "  {\n",
    "    Nwb$ClosestTarget_Name[i] <- J[match (0, SNX[i,]),1]\n",
    "    Nwb$Comment[i] <- sprintf(\"Suspected spelling mistake in %s\", \"MagicDraw\")\n",
    "  }\n",
    "  else\n",
    "  {\n",
    "    if ((min(SNX[i,]) != 0) & (min(OSA[i,]) < 75/100*nchar(Nwb$Node[i])))\n",
    "    {\n",
    "      Nwb$ClosestTarget_Name[i] <- J[match(min(OSA[i,]), OSA[i,]),1]\n",
    "      Nwb$Comment[i] <- sprintf(\"Suspected spelling mistake in %s\", \"MagicDraw\")\n",
    "    }\n",
    "    else\n",
    "    {\n",
    "      Nwb$ClosestTarget_Name[i] <- \"-\"  \n",
    "      Nwb$Comment[i] <- sprintf(\"Suspected extra element in %s\", \"MagicDraw\")\n",
    "    }\n",
    "  }\n",
    "  i <- i + 1\n",
    "}\n",
    "Owb <- Nwb[0,]\n",
    "Owb <- as.data.frame(setdiff(J$Node, Nwb$ClosestTarget_Name))\n",
    "colnames(Owb)[colnames(Owb)==\"setdiff(J$Node, Nwb$ClosestTarget_Name)\"] <- \"Node\"\n",
    "Owb$Origin <- \"WorkBench\"\n",
    "Owb$ClosestTarget_Name <- \"-\"\n",
    "Owb$Comment <- sprintf(\"Suspected missing element in %s\", \"MagicDraw\")\n",
    "Nwb <- rbind(Nwb, Owb)\n",
    "\n",
    "\n",
    "## Display vertices analysis WB\n",
    "colnames(Nwb)[colnames(Nwb)==\"Node\"] <- \"AttributeOfVertice_Name\"\n",
    "\n",
    "i <- 1\n",
    "j <- 1\n",
    "while (j <= nrow(Nwb))\n",
    "{\n",
    "  i <- 1\n",
    "  while (i <= vcount(MDg))\n",
    "  {\n",
    "    if (Nwb$AttributeOfVertice_Name[j] == V(MDg)$name[i])\n",
    "    {\n",
    "      Nwb$AttributeOfVertice_Degree[j] <- degree(MDg, mode = c(\"all\"))[i]\n",
    "    }\n",
    "    i <- i+1\n",
    "  }\n",
    "  j <- j+1\n",
    "}\n",
    "\n",
    "Nwb$FYI_ClosestTarget_Degree <- \"\"\n",
    "i <- 1\n",
    "j <- 1\n",
    "while (j <= nrow(Nwb))\n",
    "{\n",
    "  i <- 1\n",
    "  while (i <= vcount(WBg))\n",
    "  {\n",
    "    if ((Nwb$ClosestTarget_Name[j] == V(WBg)$name[i]) && (Nwb$ClosestTarget_Name[j] != \"-\"))\n",
    "    {\n",
    "      Nwb$FYI_ClosestTarget_Degree[j] <- degree(WBg, mode = c(\"all\"))[i]\n",
    "    }\n",
    "    i <- i+1\n",
    "  }\n",
    "  j <- j+1\n",
    "}\n",
    "\n",
    "Nwb <- Nwb[ ,c('AttributeOfVertice_Name', 'AttributeOfVertice_Degree', 'Origin', 'ClosestTarget_Name', 'Comment', 'FYI_ClosestTarget_Degree')]\n",
    "\n",
    "kable(Nwb, align = c('l', 'c', 'l', 'l'), caption = print(sprintf(\"%d vertices unconsistency analyzed\", nrow(Nwb)))) %>%\n",
    "  kable_styling(\"basic\") %>%\n",
    "  add_header_above(c(\"Analysis of the vertices\" = 7), font_size = 15) %>%\n",
    "  #column_spec(1+match(authorityPrompt, colnames(M)), background = \"green\", color = \"white\")  %>%\n",
    "  #row_spec(which(N$authorityPrompt == \"x\" & N$), background = \"green\", color = \"white\") %>%\n",
    "  #footnote(general = print(sprintf(\"You chose to identify %s as the source of authority.\", authorityPrompt))) %>%\n",
    "  save_kable(\"verticesAnalysisWB.html\")"
   ]
  },
  {
   "cell_type": "code",
   "execution_count": 46,
   "metadata": {},
   "outputs": [
    {
     "data": {
      "text/html": [
       "<strong>png:</strong> 2"
      ],
      "text/latex": [
       "\\textbf{png:} 2"
      ],
      "text/markdown": [
       "**png:** 2"
      ],
      "text/plain": [
       "png \n",
       "  2 "
      ]
     },
     "metadata": {},
     "output_type": "display_data"
    }
   ],
   "source": [
    "### Are the WorkBench and MagicDraw graphs isomorphic?\n",
    "\n",
    "png(\"WBandMDisomorphic.png\", width = 25, height = 25)\n",
    "if (isomorphic(MDg, WBg, method = c(\"auto\")) != TRUE)\n",
    "{\n",
    "    grid::grid.raster(readPNG(\"KO.png\"))\n",
    "    write.csv(\"KO\", file = \"WBandMDisomorphic.csv\",row.names=FALSE)\n",
    "}\n",
    "if (isomorphic(MDg, WBg, method = c(\"auto\")) == TRUE)\n",
    "{\n",
    "    grid::grid.raster(readPNG(\"OK.png\"))\n",
    "    write.csv(\"OK\", file = \"WBandMDisomorphic.csv\",row.names=FALSE)\n",
    "}\n",
    "dev.off()\n",
    "\n",
    "df <- data.frame(c(\"\", \"Number of vertices\", \"Number of edges\"), c(\"WorkBench\", vcount(WBg), ecount(WBg)), c(\"MagicDraw\", vcount(MDg), ecount(MDg)))\n",
    "colnames(df) <- NULL\n",
    "kable(df, align = c('l', 'c', 'c')) %>%\n",
    "  kable_styling(\"basic\") %>%\n",
    "save_kable(\"isomorphicEdgeVerticeTable.html\")\n",
    "\n",
    "degreeMDg <- degree(MDg, mode = c(\"all\"))\n",
    "degreeMDg <- as.data.frame(sort.int(degreeMDg,decreasing=TRUE,index.return=FALSE))\n",
    "degreeMDg <- degreeMDg[,1]\n",
    "degreeWBg <- degree(WBg, mode = c(\"all\"))\n",
    "degreeWBg <- as.data.frame(sort.int(degreeWBg,decreasing=TRUE,index.return=FALSE))\n",
    "degreeWBg <- degreeWBg[,1]\n",
    "degreeDiff <- nrow(as.data.frame(setdiff(degreeWBg, degreeMDg)))\n",
    "isomorphicEdgeVerticeResult <- \"\"\n",
    "isomorphicActions <- \"\"\n",
    "EorVcountResult <- \"\"\n",
    "DegreeCountResult <- \"\"\n",
    "if ((vcount(WBg) == vcount(MDg)) && (ecount(WBg) != ecount(MDg))) {\n",
    "    EorVcountResult <- write.csv(\"KO\", file = \"EorVcountResult.csv\",row.names=FALSE)\n",
    "    isomorphicEdgeVerticeResult <- tags$div(\n",
    "        \"The WorkBench and MagicDraw models each contains \", vcount(WBg), \" vertices.\" , br(), \n",
    "        \"The WorkBench model contains \", ecount(WBg), \" edges, whereas the MagicDraw model contains \", ecount(MDg), \" edges -> Investigate the issue.\")\n",
    "    isomorphicActions <- tags$div(\n",
    "        \"The WorkBench model contains \", ecount(WBg), \" edges, whereas the MagicDraw model contains \", ecount(MDg), \" edges -> Investigate the issue.\")\n",
    "}\n",
    "if ((vcount(WBg) != vcount(MDg)) && (ecount(WBg) == ecount(MDg))) {\n",
    "    EorVcountResult <- write.csv(\"KO\", file = \"EorVcountResult.csv\",row.names=FALSE)\n",
    "    isomorphicEdgeVerticeResult <- tags$div(\n",
    "        \"The WorkBench model contains \", vcount(WBg), \" vertices, whereas the MagicDraw model contains \", vcount(MDg), \" vertices -> Investigate the issue.\" , br(), \n",
    "        \"The WorkBench and MagicDraw models each contains \", ecount(WBg), \" edges.\")\n",
    "    isomorphicActions <- tags$div(\n",
    "        \"The WorkBench model contains \", vcount(WBg), \" vertices, whereas the MagicDraw model contains \", vcount(MDg), \" vertices -> Investigate the issue.\")\n",
    "}\n",
    "if ((vcount(WBg) != vcount(MDg)) && (ecount(WBg) != ecount(MDg))) {\n",
    "    EorVcountResult <- write.csv(\"KO\", file = \"EorVcountResult.csv\",row.names=FALSE)\n",
    "    isomorphicEdgeVerticeResult <- tags$div(\n",
    "        \"The WorkBench model contains \", vcount(WBg), \" vertices, whereas the MagicDraw model contains \", vcount(MDg), \" vertices -> Investigate the issue.\" , br(), \n",
    "        \"The WorkBench model contains \", ecount(WBg), \" edges, whereas the MagicDraw model contains \", ecount(MDg), \" edges -> Investigate the issue.\")\n",
    "    isomorphicActions <- isomorphicEdgeVerticeResult\n",
    "}\n",
    "\n",
    "if ((vcount(WBg) == vcount(MDg)) && (ecount(WBg) == ecount(MDg))) {\n",
    "    EorVcountResult <- write.csv(\"OK\", file = \"EorVcountResult.csv\",row.names=FALSE)\n",
    "    isomorphicEdgeVerticeResult <- tags$div(\n",
    "        \"The WorkBench and MagicDraw models each contains \", vcount(WBg), \" vertices.\" , br(), \n",
    "        \"The WorkBench and MagicDraw models each contains \", ecount(WBg), \" edges.\")\n",
    "    }\n",
    "\n",
    "capture.output(isomorphicEdgeVerticeResult, file = \"isomorphicEdgeVerticeResult.html\")\n",
    "capture.output(isomorphicActions, file = \"isomorphicActions.html\")"
   ]
  },
  {
   "cell_type": "code",
   "execution_count": 47,
   "metadata": {},
   "outputs": [
    {
     "name": "stderr",
     "output_type": "stream",
     "text": [
      "Warning message in degreeWBg != degreeMDg:\n",
      "\"longer object length is not a multiple of shorter object length\"\n",
      "Warning message in if (degreeWBg != degreeMDg) {:\n",
      "\"the condition has length > 1 and only the first element will be used\"\n",
      "Warning message in degreeWBg == degreeMDg:\n",
      "\"longer object length is not a multiple of shorter object length\"\n",
      "Warning message in if (degreeWBg == degreeMDg) {:\n",
      "\"the condition has length > 1 and only the first element will be used\"\n"
     ]
    }
   ],
   "source": [
    "### Do the WorkBench and MagicDraw graphs share the same degrees' list?\n",
    "\n",
    "degreeMDg <- degree(MDg, mode = c(\"all\"))\n",
    "degreeMDg <- as.data.frame(sort.int(degreeMDg,decreasing=TRUE,index.return=FALSE))\n",
    "degreeMDg <- as.data.frame((degreeMDg))\n",
    "degreeMDg <- degreeMDg[,1]\n",
    "degreeWBg <- degree(WBg, mode = c(\"all\"))\n",
    "degreeWBg <- as.data.frame(sort.int(degreeWBg,decreasing=TRUE,index.return=FALSE))\n",
    "degreeWBg <- degreeWBg[,1]\n",
    "\n",
    "degree <- tags$div(\n",
    "    \"Degrees list of the WorkBench graph : \", toString(degreeWBg), br(), \n",
    "    \"Degrees list of the MagicDraw graph : \", toString(degreeMDg))\n",
    "capture.output(degree, file = \"degree.html\")\n",
    "\n",
    "if (degreeWBg != degreeMDg)\n",
    "{\n",
    "    isomorphicDegreeResult <- tags$div(\n",
    "        \"There are\", nrow(as.data.frame(setdiff(degreeWBg, degreeMDg))), \"degrees values that are in the WorkBench degrees list but not in the MagicDraw : \", toString(setdiff(degreeWBg, degreeMDg)), \"-> Investigate the issue.\", br(), \n",
    "        \"There are\", nrow(as.data.frame(setdiff(degreeMDg, degreeWBg))), \"degrees values that are in the MagicDraw degrees list but not in the WorkBench : \", toString(setdiff(degreeMDg, degreeWBg)), \"-> Investigate the issue.\")\n",
    "    isomorphicActions <- tags$div(isomorphicActions, br(), isomorphicDegreeResult)\n",
    "}\n",
    "\n",
    "if (degreeWBg == degreeMDg)\n",
    "{\n",
    "    isomorphicDegreeResult <- tags$div(\n",
    "        \"The MagicDraw and WorkBench graphs both show the same degrees values.\")\n",
    "}\n",
    "\n",
    "capture.output(isomorphicDegreeResult, file = \"isomorphicDegreeResult.html\")\n",
    "capture.output(isomorphicActions, file = \"isomorphicActions.html\")"
   ]
  },
  {
   "cell_type": "code",
   "execution_count": 48,
   "metadata": {},
   "outputs": [],
   "source": [
    "### Mutually non adjacent vertices\n",
    "\n",
    "MDgTest <- MDg\n",
    "MDgVlist <- vertex_attr(MDgTest)$name\n",
    "NbNonAdjVerticeMD <- list()\n",
    "j <- 1\n",
    "while (j <= 10)\n",
    "{\n",
    "  while (length(E(MDgTest))!=0)\n",
    "  {\n",
    "    x <- (neighbors(MDgTest, MDgVlist[sample(1:length(MDgVlist), 1, replace=FALSE)], mode = c(\"all\")))\n",
    "    MDgTest <- delete_vertices(MDgTest, x)\n",
    "    MDgVlist <- vertex_attr(MDgTest)$name\n",
    "  }\n",
    "  NbNonAdjVerticeMD[j] <- length(vertex_attr(MDgTest)$name)\n",
    "  MDgTest <- MDg\n",
    "  MDgVlist <- vertex_attr(MDgTest)$name\n",
    "  j <- j+1\n",
    "}\n",
    "MaxNbNonAdjVerticeMD <- max(unlist(NbNonAdjVerticeMD))\n",
    "\n",
    "WBgTest <- WBg\n",
    "WBgVlist <- vertex_attr(WBgTest)$name\n",
    "NbNonAdjVerticeWB <- list()\n",
    "j <- 1\n",
    "while (j <= 10)\n",
    "{\n",
    "  while (length(E(WBgTest))!=0)\n",
    "  {\n",
    "    x <- (neighbors(WBgTest, WBgVlist[sample(1:length(WBgVlist), 1, replace=FALSE)], mode = c(\"all\")))\n",
    "    WBgTest <- delete_vertices(WBgTest, x)\n",
    "    WBgVlist <- vertex_attr(WBgTest)$name\n",
    "  }\n",
    "  NbNonAdjVerticeWB[j] <- length(vertex_attr(WBgTest)$name)\n",
    "  WBgTest <- WBg\n",
    "  WBgVlist <- vertex_attr(WBgTest)$name\n",
    "  j <- j+1\n",
    "}\n",
    "MaxNbNonAdjVerticeWB <- max(unlist(NbNonAdjVerticeWB))\n",
    "\n",
    "if (MaxNbNonAdjVerticeWB != MaxNbNonAdjVerticeMD)\n",
    "{\n",
    "    NbNonAdjVerticeResult <- tags$div(\"The WorkBench graph shows a maximum list of\", MaxNbNonAdjVerticeWB, \"non adjacent vertices, wheras the MagicDraw graph shows a maximum list of\", MaxNbNonAdjVerticeMD, \"non adjacent vertices -> Investigate the issue.\" )\n",
    "    isomorphicActions <- tags$div(isomorphicActions, br(), NbNonAdjVerticeResult)\n",
    "}\n",
    "if (MaxNbNonAdjVerticeWB == MaxNbNonAdjVerticeMD) \n",
    "{\n",
    "    NbNonAdjVerticeResult <- tags$div(\"The WorkBench and MagicDraw graphs both show a maximum list of\", MaxNbNonAdjVerticeWB, \"non adjacent vertices.\" )           \n",
    "}\n",
    "capture.output(NbNonAdjVerticeResult, file = \"NbNonAdjVerticeResult.html\")\n",
    "capture.output(isomorphicActions, file = \"isomorphicActions.html\")"
   ]
  },
  {
   "cell_type": "code",
   "execution_count": 49,
   "metadata": {},
   "outputs": [
    {
     "data": {
      "image/png": "[encoded data removed]",
      "text/plain": [
       "Plot with title \"\""
      ]
     },
     "metadata": {
      "image/png": {
       "height": 420,
       "width": 420
      },
      "text/plain": {
       "height": 420,
       "width": 420
      }
     },
     "output_type": "display_data"
    },
    {
     "data": {
      "text/plain": [
       "+ 5/9 vertices, named, from 6ef6ce2:\n",
       "[1] 1 2 4 6 7"
      ]
     },
     "metadata": {},
     "output_type": "display_data"
    },
    {
     "data": {
      "image/png": "[encoded data removed]",
      "text/plain": [
       "Plot with title \"\""
      ]
     },
     "metadata": {
      "image/png": {
       "height": 420,
       "width": 420
      },
      "text/plain": {
       "height": 420,
       "width": 420
      }
     },
     "output_type": "display_data"
    }
   ],
   "source": [
    "pattern <- make_graph(~ 1:2:3:4:5,\n",
    "                      1 - 2:5, 2 - 1:5:3, 3 - 2:4, 4 - 3:5, 5 - 4:2:1)\n",
    "plot.igraph(pattern)\n",
    "\n",
    "target <- make_graph(~ 1:2:3:4:5:6:7:8:9,\n",
    "                    1 - 2:5:7, 2 - 1:5:3, 3 - 2:4, 4 - 3:5:6:8:9,\n",
    "                    5 - 1:2:4:6:7, 6 - 7:5:4:9, 7 - 1:5:6,\n",
    "                    8 - 4:9, 9 - 6:4:8)\n",
    "plot.igraph(target)\n",
    "\n",
    "neighbors(target,5)"
   ]
  },
  {
   "cell_type": "code",
   "execution_count": 50,
   "metadata": {
    "scrolled": true
   },
   "outputs": [
    {
     "data": {
      "text/html": [
       "0"
      ],
      "text/latex": [
       "0"
      ],
      "text/markdown": [
       "0"
      ],
      "text/plain": [
       "[1] 0"
      ]
     },
     "metadata": {},
     "output_type": "display_data"
    },
    {
     "data": {
      "text/html": [
       "<ol>\n",
       "</ol>\n"
      ],
      "text/latex": [
       "\\begin{enumerate}\n",
       "\\end{enumerate}\n"
      ],
      "text/markdown": [
       "\n",
       "\n"
      ],
      "text/plain": [
       "list()"
      ]
     },
     "metadata": {},
     "output_type": "display_data"
    },
    {
     "data": {
      "text/html": [
       "20"
      ],
      "text/latex": [
       "20"
      ],
      "text/markdown": [
       "20"
      ],
      "text/plain": [
       "[1] 20"
      ]
     },
     "metadata": {},
     "output_type": "display_data"
    },
    {
     "data": {
      "text/plain": [
       "[[1]]\n",
       "+ 5/9 vertices, named, from 6ef6ce2:\n",
       "[1] 1 2 3 4 5\n",
       "\n",
       "[[2]]\n",
       "+ 5/9 vertices, named, from 6ef6ce2:\n",
       "[1] 1 5 4 3 2\n",
       "\n",
       "[[3]]\n",
       "+ 5/9 vertices, named, from 6ef6ce2:\n",
       "[1] 1 5 4 6 7\n",
       "\n",
       "[[4]]\n",
       "+ 5/9 vertices, named, from 6ef6ce2:\n",
       "[1] 1 7 6 4 5\n",
       "\n",
       "[[5]]\n",
       "+ 5/9 vertices, named, from 6ef6ce2:\n",
       "[1] 2 1 7 6 5\n",
       "\n",
       "[[6]]\n",
       "+ 5/9 vertices, named, from 6ef6ce2:\n",
       "[1] 2 5 6 7 1\n",
       "\n",
       "[[7]]\n",
       "+ 5/9 vertices, named, from 6ef6ce2:\n",
       "[1] 4 5 1 7 6\n",
       "\n",
       "[[8]]\n",
       "+ 5/9 vertices, named, from 6ef6ce2:\n",
       "[1] 4 6 7 1 5\n",
       "\n",
       "[[9]]\n",
       "+ 5/9 vertices, named, from 6ef6ce2:\n",
       "[1] 5 4 8 9 6\n",
       "\n",
       "[[10]]\n",
       "+ 5/9 vertices, named, from 6ef6ce2:\n",
       "[1] 5 6 9 8 4\n",
       "\n",
       "[[11]]\n",
       "+ 5/9 vertices, named, from 6ef6ce2:\n",
       "[1] 6 4 3 2 5\n",
       "\n",
       "[[12]]\n",
       "+ 5/9 vertices, named, from 6ef6ce2:\n",
       "[1] 6 5 2 1 7\n",
       "\n",
       "[[13]]\n",
       "+ 5/9 vertices, named, from 6ef6ce2:\n",
       "[1] 6 5 2 3 4\n",
       "\n",
       "[[14]]\n",
       "+ 5/9 vertices, named, from 6ef6ce2:\n",
       "[1] 6 7 1 2 5\n",
       "\n",
       "[[15]]\n",
       "+ 5/9 vertices, named, from 6ef6ce2:\n",
       "[1] 7 5 4 9 6\n",
       "\n",
       "[[16]]\n",
       "+ 5/9 vertices, named, from 6ef6ce2:\n",
       "[1] 7 6 9 4 5\n",
       "\n",
       "[[17]]\n",
       "+ 5/9 vertices, named, from 6ef6ce2:\n",
       "[1] 8 4 5 6 9\n",
       "\n",
       "[[18]]\n",
       "+ 5/9 vertices, named, from 6ef6ce2:\n",
       "[1] 8 9 6 5 4\n",
       "\n",
       "[[19]]\n",
       "+ 5/9 vertices, named, from 6ef6ce2:\n",
       "[1] 9 4 5 7 6\n",
       "\n",
       "[[20]]\n",
       "+ 5/9 vertices, named, from 6ef6ce2:\n",
       "[1] 9 6 7 5 4\n"
      ]
     },
     "metadata": {},
     "output_type": "display_data"
    }
   ],
   "source": [
    "graph.count.subisomorphisms.vf2(pattern, target)\n",
    "graph.get.subisomorphisms.vf2(pattern, target)\n",
    "\n",
    "graph.count.subisomorphisms.vf2(target, pattern)\n",
    "graph.get.subisomorphisms.vf2(target, pattern)"
   ]
  }
 ],
 "metadata": {
  "celltoolbar": "Attachments",
  "finalized": {
   "timestamp": 1567540185612,
   "trusted": true
  },
  "hide_input": false,
  "kernelspec": {
   "display_name": "R",
   "language": "R",
   "name": "ir"
  },
  "language_info": {
   "codemirror_mode": "r",
   "file_extension": ".r",
   "mimetype": "text/x-r-source",
   "name": "R",
   "pygments_lexer": "r",
   "version": "3.6.0"
  },
  "toc": {
   "base_numbering": 1,
   "nav_menu": {},
   "number_sections": false,
   "sideBar": false,
   "skip_h1_title": false,
   "title_cell": "Table of Contents",
   "title_sidebar": "Contents",
   "toc_cell": false,
   "toc_position": {},
   "toc_section_display": false,
   "toc_window_display": false
  }
 },
 "nbformat": 4,
 "nbformat_minor": 2
}
