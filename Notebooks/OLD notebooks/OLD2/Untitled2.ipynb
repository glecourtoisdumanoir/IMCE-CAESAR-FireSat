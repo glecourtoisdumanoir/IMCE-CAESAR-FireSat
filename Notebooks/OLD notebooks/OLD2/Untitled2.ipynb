{
 "cells": [
  {
   "cell_type": "code",
   "execution_count": 1,
   "metadata": {},
   "outputs": [],
   "source": [
    "import pandas as pd\n",
    "\n",
    "from pandas.io.json import json_normalize\n",
    "from SPARQLWrapper import SPARQLWrapper, JSON"
   ]
  },
  {
   "cell_type": "code",
   "execution_count": 3,
   "metadata": {},
   "outputs": [],
   "source": [
    "def query_wikidata(sparql_query, sparql_service_url):\n",
    "    \"\"\"\n",
    "    Query the endpoint with the given query string and return the results as a pandas Dataframe.\n",
    "    \"\"\"\n",
    "    # create the connection to the endpoint\n",
    "    sparql = SPARQLWrapper(sparql_service_url)\n",
    "    \n",
    "    sparql.setQuery(sparql_query)\n",
    "    sparql.setReturnFormat(JSON)\n",
    "\n",
    "    # ask for the result\n",
    "    result = sparql.query().convert()\n",
    "    return json_normalize(result[\"results\"][\"bindings\"])"
   ]
  },
  {
   "cell_type": "code",
   "execution_count": 4,
   "metadata": {},
   "outputs": [],
   "source": [
    "sparql_query = \"\"\"SELECT ?drug ?drugLabel ?gene ?geneLabel ?entrez_id ?disease ?diseaseLabel WHERE {\n",
    "      ?drug wdt:P129 ?gene_product .   # drug interacts with a gene_product \n",
    "      ?gene_product wdt:P702 ?gene .  # gene_product is encoded by a gene\n",
    "      ?gene wdt:P2293 ?disease .    # gene is genetically associated with a disease \n",
    "      ?gene wdt:P351 ?entrez_id .  # get the entrez gene id for the gene \n",
    "      # add labels\n",
    "      SERVICE wikibase:label {\n",
    "            bd:serviceParam wikibase:language \"en\" .\n",
    "      }\n",
    "    }\n",
    "    limit 1000\n",
    "    \"\"\"\n",
    "#to query another endpoint, change the URL for the service and the query\n",
    "sparql_service_url = \"https://query.wikidata.org/sparql\"\n",
    "result_table = query_wikidata(sparql_query, sparql_service_url)"
   ]
  },
  {
   "cell_type": "code",
   "execution_count": 5,
   "metadata": {},
   "outputs": [
    {
     "data": {
      "text/plain": [
       "(1000, 17)"
      ]
     },
     "execution_count": 5,
     "metadata": {},
     "output_type": "execute_result"
    }
   ],
   "source": [
    "result_table.shape"
   ]
  },
  {
   "cell_type": "code",
   "execution_count": 6,
   "metadata": {},
   "outputs": [
    {
     "data": {
      "text/html": [
       "<div>\n",
       "<style scoped>\n",
       "    .dataframe tbody tr th:only-of-type {\n",
       "        vertical-align: middle;\n",
       "    }\n",
       "\n",
       "    .dataframe tbody tr th {\n",
       "        vertical-align: top;\n",
       "    }\n",
       "\n",
       "    .dataframe thead th {\n",
       "        text-align: right;\n",
       "    }\n",
       "</style>\n",
       "<table border=\"1\" class=\"dataframe\">\n",
       "  <thead>\n",
       "    <tr style=\"text-align: right;\">\n",
       "      <th></th>\n",
       "      <th>disease.type</th>\n",
       "      <th>disease.value</th>\n",
       "      <th>diseaseLabel.type</th>\n",
       "      <th>diseaseLabel.value</th>\n",
       "      <th>diseaseLabel.xml:lang</th>\n",
       "      <th>drug.type</th>\n",
       "      <th>drug.value</th>\n",
       "      <th>drugLabel.type</th>\n",
       "      <th>drugLabel.value</th>\n",
       "      <th>drugLabel.xml:lang</th>\n",
       "      <th>entrez_id.type</th>\n",
       "      <th>entrez_id.value</th>\n",
       "      <th>gene.type</th>\n",
       "      <th>gene.value</th>\n",
       "      <th>geneLabel.type</th>\n",
       "      <th>geneLabel.value</th>\n",
       "      <th>geneLabel.xml:lang</th>\n",
       "    </tr>\n",
       "  </thead>\n",
       "  <tbody>\n",
       "    <tr>\n",
       "      <th>0</th>\n",
       "      <td>uri</td>\n",
       "      <td>http://www.wikidata.org/entity/Q55783469</td>\n",
       "      <td>literal</td>\n",
       "      <td>melanoma-pancreatic cancer syndrome</td>\n",
       "      <td>en</td>\n",
       "      <td>uri</td>\n",
       "      <td>http://www.wikidata.org/entity/Q21171873</td>\n",
       "      <td>literal</td>\n",
       "      <td>hypothetical protein CTL0003</td>\n",
       "      <td>en</td>\n",
       "      <td>literal</td>\n",
       "      <td>1029</td>\n",
       "      <td>uri</td>\n",
       "      <td>http://www.wikidata.org/entity/Q5009957</td>\n",
       "      <td>literal</td>\n",
       "      <td>CDKN2A</td>\n",
       "      <td>en</td>\n",
       "    </tr>\n",
       "    <tr>\n",
       "      <th>1</th>\n",
       "      <td>uri</td>\n",
       "      <td>http://www.wikidata.org/entity/Q3704732</td>\n",
       "      <td>literal</td>\n",
       "      <td>antithrombin III deficiency</td>\n",
       "      <td>en</td>\n",
       "      <td>uri</td>\n",
       "      <td>http://www.wikidata.org/entity/Q416516</td>\n",
       "      <td>literal</td>\n",
       "      <td>enoxaparin</td>\n",
       "      <td>en</td>\n",
       "      <td>literal</td>\n",
       "      <td>462</td>\n",
       "      <td>uri</td>\n",
       "      <td>http://www.wikidata.org/entity/Q14861061</td>\n",
       "      <td>literal</td>\n",
       "      <td>SERPINC1</td>\n",
       "      <td>en</td>\n",
       "    </tr>\n",
       "    <tr>\n",
       "      <th>2</th>\n",
       "      <td>uri</td>\n",
       "      <td>http://www.wikidata.org/entity/Q4795508</td>\n",
       "      <td>literal</td>\n",
       "      <td>aromatase excess syndrome</td>\n",
       "      <td>en</td>\n",
       "      <td>uri</td>\n",
       "      <td>http://www.wikidata.org/entity/Q194974</td>\n",
       "      <td>literal</td>\n",
       "      <td>letrozole</td>\n",
       "      <td>en</td>\n",
       "      <td>literal</td>\n",
       "      <td>1588</td>\n",
       "      <td>uri</td>\n",
       "      <td>http://www.wikidata.org/entity/Q14865015</td>\n",
       "      <td>literal</td>\n",
       "      <td>CYP19A1</td>\n",
       "      <td>en</td>\n",
       "    </tr>\n",
       "    <tr>\n",
       "      <th>3</th>\n",
       "      <td>uri</td>\n",
       "      <td>http://www.wikidata.org/entity/Q4795508</td>\n",
       "      <td>literal</td>\n",
       "      <td>aromatase excess syndrome</td>\n",
       "      <td>en</td>\n",
       "      <td>uri</td>\n",
       "      <td>http://www.wikidata.org/entity/Q241150</td>\n",
       "      <td>literal</td>\n",
       "      <td>aminoglutethimide</td>\n",
       "      <td>en</td>\n",
       "      <td>literal</td>\n",
       "      <td>1588</td>\n",
       "      <td>uri</td>\n",
       "      <td>http://www.wikidata.org/entity/Q14865015</td>\n",
       "      <td>literal</td>\n",
       "      <td>CYP19A1</td>\n",
       "      <td>en</td>\n",
       "    </tr>\n",
       "    <tr>\n",
       "      <th>4</th>\n",
       "      <td>uri</td>\n",
       "      <td>http://www.wikidata.org/entity/Q4795508</td>\n",
       "      <td>literal</td>\n",
       "      <td>aromatase excess syndrome</td>\n",
       "      <td>en</td>\n",
       "      <td>uri</td>\n",
       "      <td>http://www.wikidata.org/entity/Q418819</td>\n",
       "      <td>literal</td>\n",
       "      <td>exemestane</td>\n",
       "      <td>en</td>\n",
       "      <td>literal</td>\n",
       "      <td>1588</td>\n",
       "      <td>uri</td>\n",
       "      <td>http://www.wikidata.org/entity/Q14865015</td>\n",
       "      <td>literal</td>\n",
       "      <td>CYP19A1</td>\n",
       "      <td>en</td>\n",
       "    </tr>\n",
       "  </tbody>\n",
       "</table>\n",
       "</div>"
      ],
      "text/plain": [
       "  disease.type                             disease.value diseaseLabel.type  \\\n",
       "0          uri  http://www.wikidata.org/entity/Q55783469           literal   \n",
       "1          uri   http://www.wikidata.org/entity/Q3704732           literal   \n",
       "2          uri   http://www.wikidata.org/entity/Q4795508           literal   \n",
       "3          uri   http://www.wikidata.org/entity/Q4795508           literal   \n",
       "4          uri   http://www.wikidata.org/entity/Q4795508           literal   \n",
       "\n",
       "                    diseaseLabel.value diseaseLabel.xml:lang drug.type  \\\n",
       "0  melanoma-pancreatic cancer syndrome                    en       uri   \n",
       "1          antithrombin III deficiency                    en       uri   \n",
       "2            aromatase excess syndrome                    en       uri   \n",
       "3            aromatase excess syndrome                    en       uri   \n",
       "4            aromatase excess syndrome                    en       uri   \n",
       "\n",
       "                                 drug.value drugLabel.type  \\\n",
       "0  http://www.wikidata.org/entity/Q21171873        literal   \n",
       "1    http://www.wikidata.org/entity/Q416516        literal   \n",
       "2    http://www.wikidata.org/entity/Q194974        literal   \n",
       "3    http://www.wikidata.org/entity/Q241150        literal   \n",
       "4    http://www.wikidata.org/entity/Q418819        literal   \n",
       "\n",
       "                drugLabel.value drugLabel.xml:lang entrez_id.type  \\\n",
       "0  hypothetical protein CTL0003                 en        literal   \n",
       "1                    enoxaparin                 en        literal   \n",
       "2                     letrozole                 en        literal   \n",
       "3             aminoglutethimide                 en        literal   \n",
       "4                    exemestane                 en        literal   \n",
       "\n",
       "  entrez_id.value gene.type                                gene.value  \\\n",
       "0            1029       uri   http://www.wikidata.org/entity/Q5009957   \n",
       "1             462       uri  http://www.wikidata.org/entity/Q14861061   \n",
       "2            1588       uri  http://www.wikidata.org/entity/Q14865015   \n",
       "3            1588       uri  http://www.wikidata.org/entity/Q14865015   \n",
       "4            1588       uri  http://www.wikidata.org/entity/Q14865015   \n",
       "\n",
       "  geneLabel.type geneLabel.value geneLabel.xml:lang  \n",
       "0        literal          CDKN2A                 en  \n",
       "1        literal        SERPINC1                 en  \n",
       "2        literal         CYP19A1                 en  \n",
       "3        literal         CYP19A1                 en  \n",
       "4        literal         CYP19A1                 en  "
      ]
     },
     "execution_count": 6,
     "metadata": {},
     "output_type": "execute_result"
    }
   ],
   "source": [
    "result_table.head()"
   ]
  },
  {
   "cell_type": "code",
   "execution_count": 8,
   "metadata": {},
   "outputs": [],
   "source": [
    "simple_table = result_table[[\"drugLabel.value\", \"diseaseLabel.value\", \"geneLabel.value\"]]"
   ]
  },
  {
   "cell_type": "code",
   "execution_count": 9,
   "metadata": {},
   "outputs": [
    {
     "data": {
      "text/html": [
       "<div>\n",
       "<style scoped>\n",
       "    .dataframe tbody tr th:only-of-type {\n",
       "        vertical-align: middle;\n",
       "    }\n",
       "\n",
       "    .dataframe tbody tr th {\n",
       "        vertical-align: top;\n",
       "    }\n",
       "\n",
       "    .dataframe thead th {\n",
       "        text-align: right;\n",
       "    }\n",
       "</style>\n",
       "<table border=\"1\" class=\"dataframe\">\n",
       "  <thead>\n",
       "    <tr style=\"text-align: right;\">\n",
       "      <th></th>\n",
       "      <th>drugLabel.value</th>\n",
       "      <th>diseaseLabel.value</th>\n",
       "      <th>geneLabel.value</th>\n",
       "    </tr>\n",
       "  </thead>\n",
       "  <tbody>\n",
       "    <tr>\n",
       "      <th>0</th>\n",
       "      <td>hypothetical protein CTL0003</td>\n",
       "      <td>melanoma-pancreatic cancer syndrome</td>\n",
       "      <td>CDKN2A</td>\n",
       "    </tr>\n",
       "    <tr>\n",
       "      <th>1</th>\n",
       "      <td>enoxaparin</td>\n",
       "      <td>antithrombin III deficiency</td>\n",
       "      <td>SERPINC1</td>\n",
       "    </tr>\n",
       "    <tr>\n",
       "      <th>2</th>\n",
       "      <td>letrozole</td>\n",
       "      <td>aromatase excess syndrome</td>\n",
       "      <td>CYP19A1</td>\n",
       "    </tr>\n",
       "    <tr>\n",
       "      <th>3</th>\n",
       "      <td>aminoglutethimide</td>\n",
       "      <td>aromatase excess syndrome</td>\n",
       "      <td>CYP19A1</td>\n",
       "    </tr>\n",
       "    <tr>\n",
       "      <th>4</th>\n",
       "      <td>exemestane</td>\n",
       "      <td>aromatase excess syndrome</td>\n",
       "      <td>CYP19A1</td>\n",
       "    </tr>\n",
       "  </tbody>\n",
       "</table>\n",
       "</div>"
      ],
      "text/plain": [
       "                drugLabel.value                   diseaseLabel.value  \\\n",
       "0  hypothetical protein CTL0003  melanoma-pancreatic cancer syndrome   \n",
       "1                    enoxaparin          antithrombin III deficiency   \n",
       "2                     letrozole            aromatase excess syndrome   \n",
       "3             aminoglutethimide            aromatase excess syndrome   \n",
       "4                    exemestane            aromatase excess syndrome   \n",
       "\n",
       "  geneLabel.value  \n",
       "0          CDKN2A  \n",
       "1        SERPINC1  \n",
       "2         CYP19A1  \n",
       "3         CYP19A1  \n",
       "4         CYP19A1  "
      ]
     },
     "execution_count": 9,
     "metadata": {},
     "output_type": "execute_result"
    }
   ],
   "source": [
    "simple_table.head()"
   ]
  },
  {
   "cell_type": "code",
   "execution_count": 10,
   "metadata": {},
   "outputs": [],
   "source": [
    "simple_table = simple_table.rename(columns = lambda col: col.replace(\"Label.value\", \"\"))"
   ]
  },
  {
   "cell_type": "code",
   "execution_count": 11,
   "metadata": {},
   "outputs": [
    {
     "data": {
      "text/html": [
       "<div>\n",
       "<style scoped>\n",
       "    .dataframe tbody tr th:only-of-type {\n",
       "        vertical-align: middle;\n",
       "    }\n",
       "\n",
       "    .dataframe tbody tr th {\n",
       "        vertical-align: top;\n",
       "    }\n",
       "\n",
       "    .dataframe thead th {\n",
       "        text-align: right;\n",
       "    }\n",
       "</style>\n",
       "<table border=\"1\" class=\"dataframe\">\n",
       "  <thead>\n",
       "    <tr style=\"text-align: right;\">\n",
       "      <th></th>\n",
       "      <th>drug</th>\n",
       "      <th>disease</th>\n",
       "      <th>gene</th>\n",
       "    </tr>\n",
       "  </thead>\n",
       "  <tbody>\n",
       "    <tr>\n",
       "      <th>0</th>\n",
       "      <td>hypothetical protein CTL0003</td>\n",
       "      <td>melanoma-pancreatic cancer syndrome</td>\n",
       "      <td>CDKN2A</td>\n",
       "    </tr>\n",
       "    <tr>\n",
       "      <th>1</th>\n",
       "      <td>enoxaparin</td>\n",
       "      <td>antithrombin III deficiency</td>\n",
       "      <td>SERPINC1</td>\n",
       "    </tr>\n",
       "    <tr>\n",
       "      <th>2</th>\n",
       "      <td>letrozole</td>\n",
       "      <td>aromatase excess syndrome</td>\n",
       "      <td>CYP19A1</td>\n",
       "    </tr>\n",
       "    <tr>\n",
       "      <th>3</th>\n",
       "      <td>aminoglutethimide</td>\n",
       "      <td>aromatase excess syndrome</td>\n",
       "      <td>CYP19A1</td>\n",
       "    </tr>\n",
       "    <tr>\n",
       "      <th>4</th>\n",
       "      <td>exemestane</td>\n",
       "      <td>aromatase excess syndrome</td>\n",
       "      <td>CYP19A1</td>\n",
       "    </tr>\n",
       "  </tbody>\n",
       "</table>\n",
       "</div>"
      ],
      "text/plain": [
       "                           drug                              disease      gene\n",
       "0  hypothetical protein CTL0003  melanoma-pancreatic cancer syndrome    CDKN2A\n",
       "1                    enoxaparin          antithrombin III deficiency  SERPINC1\n",
       "2                     letrozole            aromatase excess syndrome   CYP19A1\n",
       "3             aminoglutethimide            aromatase excess syndrome   CYP19A1\n",
       "4                    exemestane            aromatase excess syndrome   CYP19A1"
      ]
     },
     "execution_count": 11,
     "metadata": {},
     "output_type": "execute_result"
    }
   ],
   "source": [
    "simple_table.head()"
   ]
  },
  {
   "cell_type": "code",
   "execution_count": 12,
   "metadata": {},
   "outputs": [],
   "source": [
    "counts = simple_table.groupby([\"drug\", \"disease\"]).size()"
   ]
  },
  {
   "cell_type": "code",
   "execution_count": 13,
   "metadata": {},
   "outputs": [
    {
     "data": {
      "text/plain": [
       "drug             disease                                             \n",
       "(-)-pentazocine  amyotrophic lateral sclerosis type 16                   1\n",
       "                 autosomal recessive distal spinal muscular atrophy 2    1\n",
       "                 coronary artery disease                                 1\n",
       "(RS)-methadone   coronary artery disease                                 1\n",
       "(RS)-mexiletine  congenital myasthenic syndrome 16                       1\n",
       "dtype: int64"
      ]
     },
     "execution_count": 13,
     "metadata": {},
     "output_type": "execute_result"
    }
   ],
   "source": [
    "counts.head()"
   ]
  },
  {
   "cell_type": "code",
   "execution_count": 14,
   "metadata": {},
   "outputs": [],
   "source": [
    "counts = counts.to_frame(\"gene_count\")"
   ]
  },
  {
   "cell_type": "code",
   "execution_count": 15,
   "metadata": {},
   "outputs": [
    {
     "data": {
      "text/html": [
       "<div>\n",
       "<style scoped>\n",
       "    .dataframe tbody tr th:only-of-type {\n",
       "        vertical-align: middle;\n",
       "    }\n",
       "\n",
       "    .dataframe tbody tr th {\n",
       "        vertical-align: top;\n",
       "    }\n",
       "\n",
       "    .dataframe thead th {\n",
       "        text-align: right;\n",
       "    }\n",
       "</style>\n",
       "<table border=\"1\" class=\"dataframe\">\n",
       "  <thead>\n",
       "    <tr style=\"text-align: right;\">\n",
       "      <th></th>\n",
       "      <th></th>\n",
       "      <th>gene_count</th>\n",
       "    </tr>\n",
       "    <tr>\n",
       "      <th>drug</th>\n",
       "      <th>disease</th>\n",
       "      <th></th>\n",
       "    </tr>\n",
       "  </thead>\n",
       "  <tbody>\n",
       "    <tr>\n",
       "      <th rowspan=\"3\" valign=\"top\">(-)-pentazocine</th>\n",
       "      <th>amyotrophic lateral sclerosis type 16</th>\n",
       "      <td>1</td>\n",
       "    </tr>\n",
       "    <tr>\n",
       "      <th>autosomal recessive distal spinal muscular atrophy 2</th>\n",
       "      <td>1</td>\n",
       "    </tr>\n",
       "    <tr>\n",
       "      <th>coronary artery disease</th>\n",
       "      <td>1</td>\n",
       "    </tr>\n",
       "    <tr>\n",
       "      <th>(RS)-methadone</th>\n",
       "      <th>coronary artery disease</th>\n",
       "      <td>1</td>\n",
       "    </tr>\n",
       "    <tr>\n",
       "      <th>(RS)-mexiletine</th>\n",
       "      <th>congenital myasthenic syndrome 16</th>\n",
       "      <td>1</td>\n",
       "    </tr>\n",
       "  </tbody>\n",
       "</table>\n",
       "</div>"
      ],
      "text/plain": [
       "                                                                    gene_count\n",
       "drug            disease                                                       \n",
       "(-)-pentazocine amyotrophic lateral sclerosis type 16                        1\n",
       "                autosomal recessive distal spinal muscular atro...           1\n",
       "                coronary artery disease                                      1\n",
       "(RS)-methadone  coronary artery disease                                      1\n",
       "(RS)-mexiletine congenital myasthenic syndrome 16                            1"
      ]
     },
     "execution_count": 15,
     "metadata": {},
     "output_type": "execute_result"
    }
   ],
   "source": [
    "counts.head()"
   ]
  },
  {
   "cell_type": "code",
   "execution_count": null,
   "metadata": {},
   "outputs": [],
   "source": []
  }
 ],
 "metadata": {
  "hide_input": false,
  "kernelspec": {
   "display_name": "Python 3",
   "language": "python",
   "name": "python3"
  },
  "language_info": {
   "codemirror_mode": {
    "name": "ipython",
    "version": 3
   },
   "file_extension": ".py",
   "mimetype": "text/x-python",
   "name": "python",
   "nbconvert_exporter": "python",
   "pygments_lexer": "ipython3",
   "version": "3.7.3"
  },
  "varInspector": {
   "cols": {
    "lenName": 16,
    "lenType": 16,
    "lenVar": 40
   },
   "kernels_config": {
    "python": {
     "delete_cmd_postfix": "",
     "delete_cmd_prefix": "del ",
     "library": "var_list.py",
     "varRefreshCmd": "print(var_dic_list())"
    },
    "r": {
     "delete_cmd_postfix": ") ",
     "delete_cmd_prefix": "rm(",
     "library": "var_list.r",
     "varRefreshCmd": "cat(var_dic_list()) "
    }
   },
   "types_to_exclude": [
    "module",
    "function",
    "builtin_function_or_method",
    "instance",
    "_Feature"
   ],
   "window_display": false
  }
 },
 "nbformat": 4,
 "nbformat_minor": 2
}
