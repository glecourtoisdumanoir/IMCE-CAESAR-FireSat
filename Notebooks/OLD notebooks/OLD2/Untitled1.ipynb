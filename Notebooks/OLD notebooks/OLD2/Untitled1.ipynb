{
 "cells": [
  {
   "cell_type": "markdown",
   "metadata": {},
   "source": [
    "Libraries"
   ]
  },
  {
   "cell_type": "code",
   "execution_count": 21,
   "metadata": {},
   "outputs": [],
   "source": [
    "#install.packages(\"SPARQL\")\n",
    "##install.packages(\"igraph\")\n",
    "#install.packages(\"kableExtra\")\n",
    "##install.packages(\"stringr\")\n",
    "##install.packages(\"dplyr\")\n",
    "#install.packages(\"knitr\")\n",
    "#install.packages(\"IRdisplay\")\n",
    "##install.packages(\"stringdist\")\n",
    "##install.packages(\"data.tree\")\n",
    "##install.packages(\"treemap\")\n",
    "##install.packages(\"shiny\")\n",
    "##install.packages(\"shinydashboard\")\n",
    "##install.packages(\"tidyverse\")\n",
    "##install.packages(\"xlsx\")\n",
    "##install.packages(\"png\")\n",
    "library(SPARQL)\n",
    "library(igraph)\n",
    "library(kableExtra)\n",
    "library(stringr)\n",
    "library(dplyr)\n",
    "library(knitr)\n",
    "library(stringdist)\n",
    "library(data.tree)\n",
    "library(treemap)\n",
    "library(shiny)\n",
    "library(shinydashboard)\n",
    "library(tidyverse)\n",
    "library(xlsx)\n",
    "library(png)"
   ]
  },
  {
   "cell_type": "markdown",
   "metadata": {},
   "source": [
    "Query : Each subsystem shall be supplied by exactly one work package"
   ]
  },
  {
   "cell_type": "code",
   "execution_count": 107,
   "metadata": {},
   "outputs": [
    {
     "data": {
      "text/html": [
       "<table>\n",
       " <thead>\n",
       "  <tr>\n",
       "   <th style=\"text-align:left;\">   </th>\n",
       "   <th style=\"text-align:left;\"> subSystem </th>\n",
       "   <th style=\"text-align:left;\"> workPackage </th>\n",
       "  </tr>\n",
       " </thead>\n",
       "<tbody>\n",
       "  <tr>\n",
       "   <td style=\"text-align:left;\"> 1 </td>\n",
       "   <td style=\"text-align:left;\"> Communications </td>\n",
       "   <td style=\"text-align:left;\"> NA </td>\n",
       "  </tr>\n",
       "  <tr>\n",
       "   <td style=\"text-align:left;\"> 2 </td>\n",
       "   <td style=\"text-align:left;\"> Thermal control </td>\n",
       "   <td style=\"text-align:left;\"> NA </td>\n",
       "  </tr>\n",
       "  <tr>\n",
       "   <td style=\"text-align:left;\"> 5 </td>\n",
       "   <td style=\"text-align:left;\"> Command and data handling </td>\n",
       "   <td style=\"text-align:left;\"> NA </td>\n",
       "  </tr>\n",
       "  <tr>\n",
       "   <td style=\"text-align:left;\"> 8 </td>\n",
       "   <td style=\"text-align:left;\"> Structures and mechanisms </td>\n",
       "   <td style=\"text-align:left;\"> NA </td>\n",
       "  </tr>\n",
       "  <tr>\n",
       "   <td style=\"text-align:left;\"> 9 </td>\n",
       "   <td style=\"text-align:left;\"> Payload </td>\n",
       "   <td style=\"text-align:left;\"> NA </td>\n",
       "  </tr>\n",
       "  <tr>\n",
       "   <td style=\"text-align:left;\"> 11 </td>\n",
       "   <td style=\"text-align:left;\"> Propulsion </td>\n",
       "   <td style=\"text-align:left;\"> NA </td>\n",
       "  </tr>\n",
       "  <tr>\n",
       "   <td style=\"text-align:left;\"> 15 </td>\n",
       "   <td style=\"text-align:left;\"> EPS </td>\n",
       "   <td style=\"text-align:left;\"> NA </td>\n",
       "  </tr>\n",
       "  <tr>\n",
       "   <td style=\"text-align:left;\"> 17 </td>\n",
       "   <td style=\"text-align:left;\"> Firesat flight system </td>\n",
       "   <td style=\"text-align:left;\"> NA </td>\n",
       "  </tr>\n",
       "  <tr>\n",
       "   <td style=\"text-align:left;\"> 18 </td>\n",
       "   <td style=\"text-align:left;\"> ADCS and GNC </td>\n",
       "   <td style=\"text-align:left;\"> NA </td>\n",
       "  </tr>\n",
       "</tbody>\n",
       "</table>"
      ]
     },
     "metadata": {},
     "output_type": "display_data"
    },
    {
     "name": "stdout",
     "output_type": "stream",
     "text": [
      "[1] \"The model does not comply with the rule.\"\n",
      "[1] \"The 9 subsystems presented above are currently not suppplied by any workpackages : \"\n"
     ]
    }
   ],
   "source": [
    "workpackageQuery <-\n",
    "'\n",
    "# Each subsystem shall be supplied by exactly one work package\n",
    "# List all the subsystems, and as an option: the work packages that supply them \n",
    "\n",
    "PREFIX project: <http://imce.jpl.nasa.gov/foundation/project/project#>\n",
    "PREFIX oml: <http://def.seegrid.csiro.au/ontology/om/om-lite#>\n",
    "PREFIX owl:   <http://www.w3.org/2002/07/owl#>\n",
    "PREFIX rdfs:  <http://www.w3.org/2000/01/rdf-schema#>\n",
    "PREFIX fse:   <http://imce.jpl.nasa.gov/discipline/fse/fse#>\n",
    "PREFIX base:  <http://imce.jpl.nasa.gov/foundation/base/base#>\n",
    "PREFIX analysis: <http://imce.jpl.nasa.gov/foundation/analysis/analysis#>\n",
    "PREFIX mission: <http://imce.jpl.nasa.gov/foundation/mission/mission#>\n",
    "PREFIX pr: <http://purl.org/ontology/prv/core#>\n",
    "PREFIX pro: <http://purl.org/hpi/patchr#>\n",
    "\n",
    "SELECT DISTINCT ?subSystem ?workPackage\n",
    "\n",
    "FROM <urn:x-arq:UnionGraph>\n",
    "WHERE\n",
    "{\n",
    "  ?a a fse:Subsystem ;\n",
    "     base:hasCanonicalName ?subSystem .\n",
    "  \n",
    "  optional {\n",
    "    ?b a project:WorkPackage ;\n",
    "       base:hasCanonicalName ?workPackage ;\n",
    "       project:supplies ?a .\n",
    "  } \n",
    "}\n",
    "\n",
    "'\n",
    "workpackageQueryEndpoint <- \"http://localhost:3030/WBv12.2/query\"\n",
    "workpackageQueryResults <- SPARQL(workpackageQueryEndpoint,workpackageQuery)\n",
    "workpackageQueryResults <- workpackageQueryResults$results\n",
    "\n",
    "if (sum(is.na(workpackageQueryResults$workPackage)) != 0)\n",
    "    {\n",
    "    print(\"The model does not comply with the rule.\")\n",
    "    print(sprintf(\"The %d subsystems presented above are currently not suppplied by any workpackages : \", sum(is.na(workpackageQueryResults$workPackage))))\n",
    "    row_to_keep = c(is.na(workpackageQueryResults$workPackage))\n",
    "    workPackageOrphan = workpackageQueryResults[row_to_keep,]\n",
    "    workPackageOrphan %>%\n",
    "      kable(\"html\") %>%\n",
    "      as.character() %>%\n",
    "      display_html()\n",
    "    }\n",
    "if (sum(is.na(workpackageQueryResults$workPackage)) == 0)\n",
    "    {\n",
    "    print(\"The model complies with the rule.\")\n",
    "    workpackageQueryResults %>%\n",
    "      kable(\"html\") %>%\n",
    "      as.character() %>%\n",
    "      display_html()\n",
    "}"
   ]
  },
  {
   "cell_type": "code",
   "execution_count": null,
   "metadata": {},
   "outputs": [],
   "source": []
  },
  {
   "cell_type": "code",
   "execution_count": null,
   "metadata": {},
   "outputs": [],
   "source": []
  },
  {
   "cell_type": "code",
   "execution_count": null,
   "metadata": {},
   "outputs": [],
   "source": []
  },
  {
   "cell_type": "code",
   "execution_count": null,
   "metadata": {},
   "outputs": [],
   "source": []
  },
  {
   "cell_type": "code",
   "execution_count": null,
   "metadata": {},
   "outputs": [],
   "source": []
  }
 ],
 "metadata": {
  "hide_input": false,
  "kernelspec": {
   "display_name": "R",
   "language": "R",
   "name": "ir"
  },
  "language_info": {
   "codemirror_mode": "r",
   "file_extension": ".r",
   "mimetype": "text/x-r-source",
   "name": "R",
   "pygments_lexer": "r",
   "version": "3.6.0"
  },
  "toc": {
   "base_numbering": 1,
   "nav_menu": {},
   "number_sections": false,
   "sideBar": false,
   "skip_h1_title": false,
   "title_cell": "Table of Contents",
   "title_sidebar": "Contents",
   "toc_cell": false,
   "toc_position": {},
   "toc_section_display": false,
   "toc_window_display": false
  }
 },
 "nbformat": 4,
 "nbformat_minor": 2
}
