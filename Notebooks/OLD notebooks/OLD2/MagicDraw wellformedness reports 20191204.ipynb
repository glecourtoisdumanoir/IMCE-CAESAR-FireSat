{
 "cells": [
  {
   "cell_type": "markdown",
   "metadata": {},
   "source": [
    "# Analysis of datasets - source: MagicDraw model"
   ]
  },
  {
   "cell_type": "markdown",
   "metadata": {},
   "source": [
    "Mission: verify the integrity of a system model"
   ]
  },
  {
   "cell_type": "markdown",
   "metadata": {},
   "source": [
    "Objectives: \n",
    "- use pattern matching to detect the inconsistencies,\n",
    "- use graph analysis to display correction suggestions,\n",
    "- allocate the correction of the system model to a user."
   ]
  },
  {
   "cell_type": "markdown",
   "metadata": {},
   "source": [
    "Note: the RDF dataset shall be \n",
    "- renamed: *.trig\n",
    "- available through a query endpoint"
   ]
  },
  {
   "cell_type": "code",
   "execution_count": 1,
   "metadata": {},
   "outputs": [],
   "source": [
    "# import necessary libraries \n",
    "import pandas as pd\n",
    "from pandas.io.json import json_normalize\n",
    "from SPARQLWrapper import SPARQLWrapper, JSON\n",
    "\n",
    "import ipywidgets as widgets\n",
    "from ipywidgets import Layout\n",
    "from IPython.display import Javascript\n",
    "\n",
    "from urllib.request import Request, urlopen\n",
    "from urllib.error import URLError, HTTPError\n",
    "\n",
    "import networkx as nx\n",
    "import snap"
   ]
  },
  {
   "cell_type": "code",
   "execution_count": 2,
   "metadata": {},
   "outputs": [],
   "source": [
    "# definition of a function: sparql query\n",
    "def query_fusekiData(sparql_query, sparql_service_url):\n",
    "    \"\"\"\n",
    "    Query the endpoint with the given query string and return the results as a pandas Dataframe.\n",
    "    \"\"\"\n",
    "    # create the connection to the endpoint\n",
    "    sparql = SPARQLWrapper(sparql_service_url)\n",
    "    \n",
    "    sparql.setQuery(sparql_query)\n",
    "    sparql.setReturnFormat(JSON)\n",
    "\n",
    "    # ask for the result\n",
    "    result = sparql.query().convert()\n",
    "    return json_normalize(result[\"results\"][\"bindings\"])"
   ]
  },
  {
   "cell_type": "code",
   "execution_count": 3,
   "metadata": {},
   "outputs": [
    {
     "data": {
      "application/vnd.jupyter.widget-view+json": {
       "model_id": "4680c8a331c94ff296b2feef6342cd25",
       "version_major": 2,
       "version_minor": 0
      },
      "text/plain": [
       "Text(value='http://localhost:3030/*', description='Endpoint: ', layout=Layout(height='40px', width='auto'), pl…"
      ]
     },
     "metadata": {},
     "output_type": "display_data"
    }
   ],
   "source": [
    "# definition of ipywidget 'Text' to prompt the  endpoint to query\n",
    "layout = widgets.Layout(width='auto', height='40px') #set width and height of the different widgets\n",
    "endpoint=widgets.Text(\n",
    "    value='http://localhost:3030/*',\n",
    "    placeholder='http://localhost:3030/',\n",
    "    description='Endpoint: ',\n",
    "    layout = layout,\n",
    "    disabled=False\n",
    ")\n",
    "display(endpoint)"
   ]
  },
  {
   "cell_type": "code",
   "execution_count": 4,
   "metadata": {},
   "outputs": [
    {
     "data": {
      "application/vnd.jupyter.widget-view+json": {
       "model_id": "d67c346053e54c78acdf0b087d2e3764",
       "version_major": 2,
       "version_minor": 0
      },
      "text/plain": [
       "Button(description='Analyze dataset', layout=Layout(height='40px', width='auto'), style=ButtonStyle())"
      ]
     },
     "metadata": {},
     "output_type": "display_data"
    }
   ],
   "source": [
    "# definition of ipywidget 'Button' to take into account the endpoint value prompted\n",
    "output = widgets.Output()\n",
    "def on_button_clicked(b):\n",
    "    with output:\n",
    "        display(Javascript('IPython.notebook.execute_cell_range(IPython.notebook.get_selected_index()+1, IPython.notebook.ncells())'))\n",
    "        \n",
    "b = widgets.Button(\n",
    "    description='Analyze dataset', \n",
    "    layout = layout,\n",
    "    disabled=False)\n",
    "display(b)\n",
    "b.on_click(on_button_clicked)"
   ]
  },
  {
   "cell_type": "code",
   "execution_count": 6,
   "metadata": {},
   "outputs": [
    {
     "name": "stdout",
     "output_type": "stream",
     "text": [
      "Endpoint: http://localhost:3030/MDv20191202 found. Processing results now...\n"
     ]
    }
   ],
   "source": [
    "# verification of the endpoint URL\n",
    "req = Request(endpoint.value)\n",
    "try:\n",
    "    response = urlopen(req)\n",
    "except HTTPError as e:\n",
    "    print('Error - Endpoint: ' +endpoint.value + ' not found. Verify URL. (Error code: ', e.code, ')')\n",
    "    raise SystemExit\n",
    "except URLError as e:\n",
    "    print('Error - Server not reached. (Reason: ', e.reason, ')')\n",
    "    raise SystemExit\n",
    "else:\n",
    "    print ('Endpoint: ' +endpoint.value + ' found. Processing results now...')"
   ]
  },
  {
   "cell_type": "markdown",
   "metadata": {},
   "source": [
    "# Rule #1: Structural decomposition graph shall be directed, acyclic, connected and rooted"
   ]
  },
  {
   "cell_type": "code",
   "execution_count": 7,
   "metadata": {
    "scrolled": false
   },
   "outputs": [],
   "source": [
    "# composition sparql query\n",
    "query = \"\"\"\n",
    "PREFIX owl:   <http://www.w3.org/2002/07/owl#>\n",
    "PREFIX rdfs:  <http://www.w3.org/2000/01/rdf-schema#>\n",
    "PREFIX base:  <http://imce.jpl.nasa.gov/foundation/base/base#>\n",
    "\n",
    "SELECT DISTINCT ?physicalComponent ?isContainedIn\n",
    "FROM <urn:x-arq:UnionGraph>\n",
    "WHERE\n",
    "{\n",
    "  ?a a owl:Class ;\n",
    "     rdfs:label ?b ;\n",
    "     rdfs:subClassOf <http://firesat.jpl.nasa.gov/user-model/generated/md/profileExt/firesat-extensions_ID__18_5_3_8c20287_1563932039371_543598_24020#PhysicalComponent_ID__18_5_3_8c20287_1563932086646_143892_24055>.\n",
    "\n",
    "  ?c a owl:Class ;\n",
    "     rdfs:label ?physicalComponent ;\n",
    "     rdfs:subClassOf <http://firesat.jpl.nasa.gov/user-model/generated/md/profileExt/firesat-extensions_ID__18_5_3_8c20287_1563932039371_543598_24020#PhysicalComponent_ID__18_5_3_8c20287_1563932086646_143892_24055>.\n",
    "\n",
    "\n",
    "  optional {?a rdfs:subClassOf [a owl:Restriction ;\n",
    "               owl:onProperty base:aggregates ;\n",
    "               owl:someValuesFrom ?c] }.\n",
    "\n",
    "  optional {?e rdfs:subClassOf [a owl:Restriction ;\n",
    "               owl:onProperty base:aggregates ;\n",
    "               owl:someValuesFrom ?c ].\n",
    "    ?e rdfs:label ?isContainedIn }.\n",
    "}\n",
    "\"\"\"\n",
    "if query_fusekiData(query, endpoint.value).empty:\n",
    "    print('Error - The pattern matching query returned no results. Verify OWL data.')\n",
    "    raise SystemExit\n",
    "else:\n",
    "    result_table = query_fusekiData(query, endpoint.value)"
   ]
  },
  {
   "cell_type": "code",
   "execution_count": 8,
   "metadata": {},
   "outputs": [],
   "source": [
    "if 'physicalComponent.value' not in result_table.columns:\n",
    "    print('Error - No physical component found. Verify OWL data.')\n",
    "    raise SystemExit\n",
    "else:\n",
    "    obj = result_table[['physicalComponent.value', 'isContainedIn.value']]\n",
    "    obj = obj.rename(columns = lambda col: col.replace(\".value\", \"\"))"
   ]
  },
  {
   "cell_type": "code",
   "execution_count": 9,
   "metadata": {},
   "outputs": [],
   "source": [
    "# from dataframe to graph\n",
    "objGraph = nx.from_pandas_edgelist(obj, 'physicalComponent', 'isContainedIn', create_using=nx.DiGraph())"
   ]
  },
  {
   "cell_type": "code",
   "execution_count": 10,
   "metadata": {},
   "outputs": [
    {
     "name": "stdout",
     "output_type": "stream",
     "text": [
      "Graph is directed: True\n"
     ]
    }
   ],
   "source": [
    "# is graph directed\n",
    "print(\"Graph is directed:\", nx.is_directed(objGraph))"
   ]
  },
  {
   "cell_type": "code",
   "execution_count": 11,
   "metadata": {},
   "outputs": [
    {
     "name": "stdout",
     "output_type": "stream",
     "text": [
      "Graph is acyclic: True\n"
     ]
    }
   ],
   "source": [
    "# is graph acyclic\n",
    "print(\"Graph is acyclic:\", nx.is_directed_acyclic_graph(objGraph))\n",
    "if not nx.is_directed_acyclic_graph(objGraph):\n",
    "    print(\"Number of cycles:\", len(list(nx.simple_cycles(objGraph))))\n",
    "    print(\"Cycles found:\")\n",
    "    for el in list(nx.simple_cycles(objGraph)):\n",
    "        print('- ', el)\n",
    "    print(\"Among them, number of self-loop edges:\", objGraph.number_of_selfloops())\n",
    "    print(\"Nodes presenting a self-loop edge:\" )\n",
    "    for el in objGraph.nodes_with_selfloops():\n",
    "        print('- ', el)\n",
    "    print(\"\\nSuggestion: Correct the graph so that it becomes acyclic.\")"
   ]
  },
  {
   "cell_type": "code",
   "execution_count": 12,
   "metadata": {},
   "outputs": [
    {
     "name": "stdout",
     "output_type": "stream",
     "text": [
      "Graph is connected: True\n"
     ]
    }
   ],
   "source": [
    "# is graph connected\n",
    "print(\"Graph is connected:\", nx.is_weakly_connected(objGraph))\n",
    "if not nx.is_weakly_connected(objGraph):\n",
    "    print(\"Number of isolated nodes:\", len(list(nx.isolates(objGraph))))\n",
    "    print(\"Isolated nodes:\")\n",
    "    for el in list(nx.isolates(objGraph)):\n",
    "        print('- ', el)\n",
    "    print(\"\\nSuggestion: Connect the isolated nodes.\")"
   ]
  },
  {
   "cell_type": "code",
   "execution_count": 13,
   "metadata": {
    "scrolled": false
   },
   "outputs": [
    {
     "name": "stdout",
     "output_type": "stream",
     "text": [
      "Graph is rooted: True\n"
     ]
    }
   ],
   "source": [
    "# is graph rooted\n",
    "obj = pd.DataFrame(objGraph.out_degree())\n",
    "obj = obj[obj[1]==0]\n",
    "print(\"Graph is rooted:\", obj.shape[0] == 1)\n",
    "if obj.shape[0] == 0:\n",
    "    print(\"No roots found.\")\n",
    "    print(\"\\nSuggestion: Correct the graph so that it presents one and only one root.\")\n",
    "if obj.shape[0] > 1:\n",
    "    print(\"Number of roots found:\", obj.shape[0])\n",
    "    print(\"Roots found:\")\n",
    "    for el in obj[0]:\n",
    "        print('-', el)\n",
    "    print(\"\\nSuggestion: Correct the graph so that it presents one and only one root.\")"
   ]
  },
  {
   "cell_type": "markdown",
   "metadata": {},
   "source": [
    "# Rule #2: Each Physical Component shall be contained in exactly one Subsystem"
   ]
  },
  {
   "cell_type": "code",
   "execution_count": 14,
   "metadata": {},
   "outputs": [],
   "source": [
    "# aggregation sparql query\n",
    "query = \"\"\"\n",
    "PREFIX owl:   <http://www.w3.org/2002/07/owl#>\n",
    "PREFIX rdfs:  <http://www.w3.org/2000/01/rdf-schema#>\n",
    "PREFIX base:  <http://imce.jpl.nasa.gov/foundation/base/base#>\n",
    "\n",
    "SELECT DISTINCT ?physicalComponent ?subSystem\n",
    "FROM <urn:x-arq:UnionGraph>\n",
    "WHERE\n",
    "{\n",
    "  ?a a owl:Class ;\n",
    "     rdfs:label ?b ;\n",
    "     rdfs:subClassOf <http://firesat.jpl.nasa.gov/user-model/generated/md/profileExt/firesat-extensions_ID__18_5_3_8c20287_1563932039371_543598_24020#PhysicalComponent_ID__18_5_3_8c20287_1563932086646_143892_24055>.\n",
    "\n",
    "  ?c a owl:Class ;\n",
    "     rdfs:label ?physicalComponent ;\n",
    "     rdfs:subClassOf <http://firesat.jpl.nasa.gov/user-model/generated/md/profileExt/firesat-extensions_ID__18_5_3_8c20287_1563932039371_543598_24020#PhysicalComponent_ID__18_5_3_8c20287_1563932086646_143892_24055>.\n",
    "\n",
    "\n",
    "  optional {?a rdfs:subClassOf [a owl:Restriction ;\n",
    "               owl:onProperty base:contains ;\n",
    "               owl:someValuesFrom ?c] }.\n",
    "\n",
    "  optional {?e rdfs:subClassOf [a owl:Restriction ;\n",
    "               owl:onProperty base:contains ;\n",
    "               owl:someValuesFrom ?c ].\n",
    "    ?e rdfs:label ?subSystem }.\n",
    "}\n",
    "\"\"\"\n",
    "if query_fusekiData(query, endpoint.value).empty:\n",
    "    print('Error - The pattern matching query returned no results. Verify OWL data.')\n",
    "    raise SystemExit\n",
    "else:\n",
    "    result_table = query_fusekiData(query, endpoint.value)"
   ]
  },
  {
   "cell_type": "code",
   "execution_count": 15,
   "metadata": {},
   "outputs": [],
   "source": [
    "if 'subSystem.value' not in result_table.columns:\n",
    "    print('Error - No subsystems found. Verify OWL data.')\n",
    "    raise SystemExit\n",
    "else:\n",
    "    obj = result_table[['physicalComponent.value', 'subSystem.value']]\n",
    "    obj = obj.rename(columns = lambda col: col.replace(\".value\", \"\"))"
   ]
  },
  {
   "cell_type": "code",
   "execution_count": 16,
   "metadata": {},
   "outputs": [],
   "source": [
    "# from dataframe to graph\n",
    "objGraph = nx.from_pandas_edgelist(obj, 'physicalComponent', 'subSystem', create_using=nx.DiGraph())"
   ]
  },
  {
   "cell_type": "markdown",
   "metadata": {},
   "source": [
    "### a/ Is there Physical Component not contained in any Subystem?"
   ]
  },
  {
   "cell_type": "code",
   "execution_count": 17,
   "metadata": {},
   "outputs": [
    {
     "name": "stdout",
     "output_type": "stream",
     "text": [
      "Number of physical component not aggregated in any subsystem: 0\n",
      "The model complies with the rule. No action needs to be performed.\n"
     ]
    }
   ],
   "source": [
    "sol_a = obj.subSystem.isnull().sum() # select rows based on condition \n",
    "\n",
    "print('Number of physical component not aggregated in any subsystem: '+str(sol_a))\n",
    "sol_a = obj[obj['subSystem'].isnull()] \n",
    "sol_a = sol_a['physicalComponent'].tolist()\n",
    "\n",
    "if not sol_a:\n",
    "    print('The model complies with the rule. No action needs to be performed.')\n",
    "else:\n",
    "    print('\\nList of physical component currently not aggregated in any subsystem: ')\n",
    "    for el in sol_a:\n",
    "        print (\"- \" +el)\n",
    "    print(\"\\nSuggestion: Connect each of these physical components to one subsystem.\")"
   ]
  },
  {
   "cell_type": "markdown",
   "metadata": {},
   "source": [
    "### b/ Is there any Physical Component contained in more than one Subsystem?"
   ]
  },
  {
   "cell_type": "code",
   "execution_count": 18,
   "metadata": {},
   "outputs": [
    {
     "name": "stdout",
     "output_type": "stream",
     "text": [
      "Number of physical components aggregated in more than one subsystem: 0\n",
      "The model complies with the rule. No action needs to be performed.\n"
     ]
    }
   ],
   "source": [
    "sol_b = obj.groupby([\"physicalComponent\"]).size()\n",
    "sol_b = sol_b.to_frame(\"subSystem_count\")\n",
    "\n",
    "sol_b = sol_b[sol_b['subSystem_count'] > 1] # select rows based on condition \n",
    "print('Number of physical components aggregated in more than one subsystem: '+str(sol_b.shape[0]))\n",
    "\n",
    "if sol_b.empty:\n",
    "    print('The model complies with the rule. No action needs to be performed.')\n",
    "else:\n",
    "    print('\\nList of physical components currently aggregated in more than one subsystem: ')\n",
    "    for i in range(sol_b.shape[0]):\n",
    "        print('- Physical component ' +list(sol_b.index)[i] +' is aggregated in ' +str(list(sol_b.subSystem_count)[i]) +' different SubSystems: ')\n",
    "        for j in range((obj[obj['physicalComponent'] == list(sol_b.index)[i]]).shape[0]):\n",
    "            print('  o ' +list(obj[obj['physicalComponent'] == list(sol_b.index)[i]].subSystem)[j])\n",
    "    print(\"\\nSuggestion: Look for these physical components and delete the extra aggregations.\")"
   ]
  },
  {
   "cell_type": "markdown",
   "metadata": {
    "cell_style": "center"
   },
   "source": [
    "# Rule #3: Each Subsystem shall be supplied by exactly one WorkPackage"
   ]
  },
  {
   "cell_type": "code",
   "execution_count": 19,
   "metadata": {
    "scrolled": false
   },
   "outputs": [],
   "source": [
    "# workpackage sparql query\n",
    "query = \"\"\"\n",
    "PREFIX project: <http://imce.jpl.nasa.gov/foundation/project/project#>\n",
    "PREFIX owl:   <http://www.w3.org/2002/07/owl#>\n",
    "PREFIX rdfs:  <http://www.w3.org/2000/01/rdf-schema#>\n",
    "\n",
    "SELECT DISTINCT ?subsystem ?workPackage\n",
    "\n",
    "FROM <urn:x-arq:UnionGraph>\n",
    "WHERE\n",
    "{\n",
    "  ?a rdfs:subClassOf <http://firesat.jpl.nasa.gov/user-model/generated/md/profileExt/firesat-extensions_ID__18_5_3_8c20287_1563932039371_543598_24020#Subsystem_ID__18_5_3_8c20287_1572979614280_430250_25878>;\n",
    "     rdfs:label ?subsystem.\n",
    "  \n",
    "  optional {\n",
    "    ?b rdfs:subClassOf  [ a owl:Restriction ; owl:onProperty project:supplies ; owl:someValuesFrom ?a ] ;\n",
    "                                                                                rdfs:label ?workPackage. }  \n",
    "}\n",
    "\"\"\"\n",
    "if query_fusekiData(query, endpoint.value).empty:\n",
    "    print('Error - The pattern matching query returned no results. Verify OWL data.')\n",
    "    raise SystemExit\n",
    "else:\n",
    "    result_table = query_fusekiData(query, endpoint.value)"
   ]
  },
  {
   "cell_type": "code",
   "execution_count": 20,
   "metadata": {},
   "outputs": [],
   "source": [
    "if 'subsystem.value' not in result_table.columns:\n",
    "    print('Error - No subsystem found. Verify OWL data.')\n",
    "    raise SystemExit\n",
    "else:\n",
    "    obj = result_table[[\"subsystem.value\", \"workPackage.value\"]]\n",
    "    obj = obj.rename(columns = lambda col: col.replace(\".value\", \"\"))"
   ]
  },
  {
   "cell_type": "markdown",
   "metadata": {},
   "source": [
    "### a/ Is there subsytems not supplied by any WorkPackage?"
   ]
  },
  {
   "cell_type": "code",
   "execution_count": 21,
   "metadata": {},
   "outputs": [
    {
     "name": "stdout",
     "output_type": "stream",
     "text": [
      "Number of subsystems not supplied by any workpackage: 0\n",
      "The model complies with the rule. No action needs to be performed.\n"
     ]
    }
   ],
   "source": [
    "sol_a = obj.workPackage.isnull().sum() # select rows based on condition \n",
    "\n",
    "print('Number of subsystems not supplied by any workpackage: '+str(sol_a))\n",
    "sol_a = obj[obj['workPackage'].isnull()] \n",
    "sol_a = sol_a['subsystem'].tolist()\n",
    "\n",
    "if not sol_a:\n",
    "    print('The model complies with the rule. No action needs to be performed.')\n",
    "else:\n",
    "    print('\\nList of subsystems currently not supplied by any workpackage: ')\n",
    "    for el in sol_a:\n",
    "        print (\"- \" +el)\n",
    "    print(\"\\nSuggestion: Connect each of these subsystems to one workpackage.\")"
   ]
  },
  {
   "cell_type": "markdown",
   "metadata": {},
   "source": [
    "### b/ Is there subystems supplied by more than one WorkPackage?"
   ]
  },
  {
   "cell_type": "code",
   "execution_count": 22,
   "metadata": {},
   "outputs": [
    {
     "name": "stdout",
     "output_type": "stream",
     "text": [
      "Number of subsystems supplied by more than one workpackage: 0\n",
      "The model complies with the rule. No action needs to be performed.\n"
     ]
    }
   ],
   "source": [
    "sol_b = obj.groupby([\"subsystem\"]).size()\n",
    "sol_b = sol_b.to_frame(\"workPackage_count\")\n",
    "\n",
    "sol_b = sol_b[sol_b['workPackage_count'] > 1] # select rows based on condition \n",
    "print('Number of subsystems supplied by more than one workpackage: '+str(sol_b.shape[0]))\n",
    "\n",
    "if sol_b.empty:\n",
    "    print('The model complies with the rule. No action needs to be performed.')\n",
    "else:\n",
    "    print('\\nList of subsystems currently supplied by more than one workpackage: ')\n",
    "    for i in range(sol_b.shape[0]):\n",
    "        print('- Subsystem ' +list(sol_b.index)[i] +' has relationship(s) with ' +str(list(sol_b.workPackage_count)[i]) +' different WorkPackages: ')\n",
    "        for j in range((obj[obj['subsystem'] == list(sol_b.index)[i]]).shape[0]):\n",
    "            print('  o ' +list(obj[obj['subsystem'] == list(sol_b.index)[i]].workPackage)[j])\n",
    "    print(\"\\nSuggestion: Look for these subsytems and delete the extra relationships.\")"
   ]
  },
  {
   "cell_type": "markdown",
   "metadata": {},
   "source": [
    "# Rule #4: Each Physical Component shall perform at least one Function"
   ]
  },
  {
   "cell_type": "code",
   "execution_count": 23,
   "metadata": {},
   "outputs": [],
   "source": [
    "# assemblies perform functions sparql query\n",
    "query = \"\"\"\n",
    "PREFIX owl:   <http://www.w3.org/2002/07/owl#>\n",
    "PREFIX rdfs:  <http://www.w3.org/2000/01/rdf-schema#>\n",
    "PREFIX base:  <http://imce.jpl.nasa.gov/foundation/base/base#>\n",
    "PREFIX mission: <http://imce.jpl.nasa.gov/foundation/mission/mission#>\n",
    "\n",
    "SELECT DISTINCT ?physicalComponent ?isContainedIn ?function\n",
    "FROM <urn:x-arq:UnionGraph>\n",
    "WHERE\n",
    "{\n",
    "  ?a a owl:Class ;\n",
    "     rdfs:label ?b ;\n",
    "     rdfs:subClassOf <http://firesat.jpl.nasa.gov/user-model/generated/md/profileExt/firesat-extensions_ID__18_5_3_8c20287_1563932039371_543598_24020#PhysicalComponent_ID__18_5_3_8c20287_1563932086646_143892_24055>.\n",
    "\n",
    "  ?c a owl:Class ;\n",
    "     rdfs:label ?physicalComponent ;\n",
    "     rdfs:subClassOf <http://firesat.jpl.nasa.gov/user-model/generated/md/profileExt/firesat-extensions_ID__18_5_3_8c20287_1563932039371_543598_24020#PhysicalComponent_ID__18_5_3_8c20287_1563932086646_143892_24055>.\n",
    "\n",
    "  optional {?a rdfs:subClassOf [a owl:Restriction ;\n",
    "               owl:onProperty base:aggregates ;\n",
    "               owl:someValuesFrom ?c] }.\n",
    "\n",
    "  optional {?e rdfs:subClassOf [a owl:Restriction ;\n",
    "               owl:onProperty base:aggregates ;\n",
    "               owl:someValuesFrom ?c ].\n",
    "    ?e rdfs:label ?isContainedIn }.\n",
    "    \n",
    "  optional {\n",
    "    ?c rdfs:subClassOf  [ a owl:Restriction ; owl:onProperty mission:performs ; owl:someValuesFrom ?g ].\n",
    "    ?g rdfs:label ?function\n",
    "    }\n",
    "}\n",
    "\"\"\"\n",
    "if query_fusekiData(query, endpoint.value).empty:\n",
    "    print('Error - The pattern matching query returned no results. Verify OWL data.')\n",
    "    raise SystemExit\n",
    "else:\n",
    "    result_table = query_fusekiData(query, endpoint.value)"
   ]
  },
  {
   "cell_type": "code",
   "execution_count": 24,
   "metadata": {},
   "outputs": [],
   "source": [
    "if 'physicalComponent.value' not in result_table.columns:\n",
    "    print('Error - No physical component found. Verify OWL data.')\n",
    "    raise SystemExit\n",
    "else:\n",
    "    obj = result_table[['physicalComponent.value', 'isContainedIn.value', 'function.value']]\n",
    "    obj = obj.rename(columns = lambda col: col.replace(\".value\", \"\"))"
   ]
  },
  {
   "cell_type": "code",
   "execution_count": 25,
   "metadata": {},
   "outputs": [],
   "source": [
    "# Verify the graph of aggregates is directed and acyclic\n",
    "objGraph = nx.from_pandas_edgelist(obj, 'physicalComponent', 'isContainedIn', create_using=nx.DiGraph())\n",
    "if not nx.is_directed_acyclic_graph(objGraph):\n",
    "    print('Error - The graph built from the structural decomposition is not a directed acyclic graph.')\n",
    "    print(\"\\nSuggestion: Correct the structural decomposition.\")\n",
    "    raise SystemExit"
   ]
  },
  {
   "cell_type": "code",
   "execution_count": 26,
   "metadata": {
    "scrolled": false
   },
   "outputs": [],
   "source": [
    "# Remove the implied relationships from the analysis: remove the assemblies that aggregate others\n",
    "\n",
    "##\n",
    "obj_a = obj[['isContainedIn', 'function']]\n",
    "obj_a = obj_a.dropna(axis = 0, subset = ['isContainedIn'])\n",
    "obj_a = obj_a.drop_duplicates(subset = 'isContainedIn')\n",
    "obj_a = obj_a.rename(columns={'isContainedIn':'physicalComponent'})\n",
    "\n",
    "## List all the assemblies\n",
    "obj_b = obj[['physicalComponent', 'function']]\n",
    "obj_b = obj_b.drop_duplicates(subset = 'physicalComponent')\n",
    "\n",
    "## List the assemblies that aggregate no childs\n",
    "obj = pd.concat([obj_a, obj_b])\n",
    "obj = obj.drop_duplicates(subset = 'physicalComponent', keep = False)"
   ]
  },
  {
   "cell_type": "code",
   "execution_count": 27,
   "metadata": {
    "scrolled": true
   },
   "outputs": [
    {
     "name": "stdout",
     "output_type": "stream",
     "text": [
      "Number of physical components not performing any function: 0\n",
      "The model complies with the rule. No action needs to be performed.\n"
     ]
    }
   ],
   "source": [
    "sol = obj.function.isnull().sum() # select rows based on condition \n",
    "\n",
    "print('Number of physical components not performing any function: '+str(sol))\n",
    "sol = obj[obj['function'].isnull()] \n",
    "sol = sol['physicalComponent'].tolist()\n",
    "\n",
    "if not sol:\n",
    "    print('The model complies with the rule. No action needs to be performed.')\n",
    "else:\n",
    "    print('\\nList of subsystems currently not supplied by any workpackage: ')\n",
    "    for el in sol:\n",
    "        print (\"- \" +el)\n",
    "    print(\"\\nSuggestion: Connect each of these subsystems to one workpackage.\")"
   ]
  },
  {
   "cell_type": "markdown",
   "metadata": {},
   "source": [
    "# Rule #5: Each Physical Component shall satisfy at least one non functional Requirement"
   ]
  },
  {
   "cell_type": "code",
   "execution_count": null,
   "metadata": {},
   "outputs": [],
   "source": []
  },
  {
   "cell_type": "markdown",
   "metadata": {},
   "source": [
    "# Rule #6: Each Function shall be performed by at least one Physical Component"
   ]
  },
  {
   "cell_type": "code",
   "execution_count": 28,
   "metadata": {},
   "outputs": [],
   "source": [
    "# functions performed by assemblies sparql query\n",
    "query = \"\"\"\n",
    "PREFIX owl:   <http://www.w3.org/2002/07/owl#>\n",
    "PREFIX rdfs:  <http://www.w3.org/2000/01/rdf-schema#>\n",
    "PREFIX mission: <http://imce.jpl.nasa.gov/foundation/mission/mission#>\n",
    "\n",
    "SELECT DISTINCT ?function ?physicalComponent \n",
    "FROM <urn:x-arq:UnionGraph>\n",
    "WHERE\n",
    "{\n",
    "  ?a rdfs:subClassOf  [ a owl:Restriction ; owl:onProperty mission:performs ; owl:someValuesFrom ?b ].\n",
    "  ?b rdfs:label ?function\n",
    "\n",
    "  optional {\n",
    "    ?c a owl:Class ;\n",
    "       rdfs:label ?physicalComponent ;\n",
    "       rdfs:subClassOf <http://firesat.jpl.nasa.gov/user-model/generated/md/profileExt/firesat-extensions_ID__18_5_3_8c20287_1563932039371_543598_24020#PhysicalComponent_ID__18_5_3_8c20287_1563932086646_143892_24055>.\n",
    "    ?c rdfs:subClassOf [ a owl:Restriction ; owl:onProperty mission:performs ; owl:someValuesFrom ?b ]. \n",
    "  }\n",
    "}\n",
    "\"\"\"\n",
    "if query_fusekiData(query, endpoint.value).empty:\n",
    "    print('Error - The pattern matching query returned no results. Verify OWL data.')\n",
    "    raise SystemExit\n",
    "else:\n",
    "    result_table = query_fusekiData(query, endpoint.value)"
   ]
  },
  {
   "cell_type": "code",
   "execution_count": 29,
   "metadata": {},
   "outputs": [],
   "source": [
    "if 'function.value' not in result_table.columns:\n",
    "    print('Error - No function found. Verify OWL data.')\n",
    "    raise SystemExit\n",
    "else:\n",
    "    obj = result_table[['function.value', 'physicalComponent.value']]\n",
    "    obj = obj.rename(columns = lambda col: col.replace(\".value\", \"\"))"
   ]
  },
  {
   "cell_type": "code",
   "execution_count": 30,
   "metadata": {},
   "outputs": [
    {
     "name": "stdout",
     "output_type": "stream",
     "text": [
      "Number of functions not performed by any physical component: 0\n",
      "The model complies with the rule. No action needs to be performed.\n"
     ]
    }
   ],
   "source": [
    "sol = obj.physicalComponent.isnull().sum() # select rows based on condition \n",
    "\n",
    "print('Number of functions not performed by any physical component: '+str(sol))\n",
    "sol = obj[obj['physicalComponent'].isnull()] \n",
    "sol = sol['function'].tolist()\n",
    "\n",
    "if not sol:\n",
    "    print('The model complies with the rule. No action needs to be performed.')\n",
    "else:\n",
    "    print('\\nList of functions currently not performed by any physical component: ')\n",
    "    for el in sol:\n",
    "        print (\"- \" +el)\n",
    "    print(\"\\nSuggestion: Connect each of these functions to at least one physical component.\")"
   ]
  },
  {
   "cell_type": "code",
   "execution_count": 31,
   "metadata": {},
   "outputs": [
    {
     "ename": "AttributeError",
     "evalue": "'DataFrame' object has no attribute 'workPackage'",
     "output_type": "error",
     "traceback": [
      "\u001b[1;31m---------------------------------------------------------------------------\u001b[0m",
      "\u001b[1;31mAttributeError\u001b[0m                            Traceback (most recent call last)",
      "\u001b[1;32m<ipython-input-31-4bf92797a788>\u001b[0m in \u001b[0;36m<module>\u001b[1;34m\u001b[0m\n\u001b[1;32m----> 1\u001b[1;33m \u001b[0msol_a\u001b[0m \u001b[1;33m=\u001b[0m \u001b[0mobj\u001b[0m\u001b[1;33m.\u001b[0m\u001b[0mworkPackage\u001b[0m\u001b[1;33m.\u001b[0m\u001b[0misnull\u001b[0m\u001b[1;33m(\u001b[0m\u001b[1;33m)\u001b[0m\u001b[1;33m.\u001b[0m\u001b[0msum\u001b[0m\u001b[1;33m(\u001b[0m\u001b[1;33m)\u001b[0m \u001b[1;31m# select rows based on condition\u001b[0m\u001b[1;33m\u001b[0m\u001b[1;33m\u001b[0m\u001b[0m\n\u001b[0m\u001b[0;32m      2\u001b[0m \u001b[1;33m\u001b[0m\u001b[0m\n\u001b[0;32m      3\u001b[0m \u001b[0mprint\u001b[0m\u001b[1;33m(\u001b[0m\u001b[1;34m'Number of subsystems not supplied by any workpackage: '\u001b[0m\u001b[1;33m+\u001b[0m\u001b[0mstr\u001b[0m\u001b[1;33m(\u001b[0m\u001b[0msol_a\u001b[0m\u001b[1;33m)\u001b[0m\u001b[1;33m)\u001b[0m\u001b[1;33m\u001b[0m\u001b[1;33m\u001b[0m\u001b[0m\n\u001b[0;32m      4\u001b[0m \u001b[0msol_a\u001b[0m \u001b[1;33m=\u001b[0m \u001b[0mobj\u001b[0m\u001b[1;33m[\u001b[0m\u001b[0mobj\u001b[0m\u001b[1;33m[\u001b[0m\u001b[1;34m'workPackage'\u001b[0m\u001b[1;33m]\u001b[0m\u001b[1;33m.\u001b[0m\u001b[0misnull\u001b[0m\u001b[1;33m(\u001b[0m\u001b[1;33m)\u001b[0m\u001b[1;33m]\u001b[0m\u001b[1;33m\u001b[0m\u001b[1;33m\u001b[0m\u001b[0m\n\u001b[0;32m      5\u001b[0m \u001b[0msol_a\u001b[0m \u001b[1;33m=\u001b[0m \u001b[0msol_a\u001b[0m\u001b[1;33m[\u001b[0m\u001b[1;34m'subsystem'\u001b[0m\u001b[1;33m]\u001b[0m\u001b[1;33m.\u001b[0m\u001b[0mtolist\u001b[0m\u001b[1;33m(\u001b[0m\u001b[1;33m)\u001b[0m\u001b[1;33m\u001b[0m\u001b[1;33m\u001b[0m\u001b[0m\n",
      "\u001b[1;32m~\\AppData\\Local\\Continuum\\anaconda3\\lib\\site-packages\\pandas\\core\\generic.py\u001b[0m in \u001b[0;36m__getattr__\u001b[1;34m(self, name)\u001b[0m\n\u001b[0;32m   5065\u001b[0m             \u001b[1;32mif\u001b[0m \u001b[0mself\u001b[0m\u001b[1;33m.\u001b[0m\u001b[0m_info_axis\u001b[0m\u001b[1;33m.\u001b[0m\u001b[0m_can_hold_identifiers_and_holds_name\u001b[0m\u001b[1;33m(\u001b[0m\u001b[0mname\u001b[0m\u001b[1;33m)\u001b[0m\u001b[1;33m:\u001b[0m\u001b[1;33m\u001b[0m\u001b[1;33m\u001b[0m\u001b[0m\n\u001b[0;32m   5066\u001b[0m                 \u001b[1;32mreturn\u001b[0m \u001b[0mself\u001b[0m\u001b[1;33m[\u001b[0m\u001b[0mname\u001b[0m\u001b[1;33m]\u001b[0m\u001b[1;33m\u001b[0m\u001b[1;33m\u001b[0m\u001b[0m\n\u001b[1;32m-> 5067\u001b[1;33m             \u001b[1;32mreturn\u001b[0m \u001b[0mobject\u001b[0m\u001b[1;33m.\u001b[0m\u001b[0m__getattribute__\u001b[0m\u001b[1;33m(\u001b[0m\u001b[0mself\u001b[0m\u001b[1;33m,\u001b[0m \u001b[0mname\u001b[0m\u001b[1;33m)\u001b[0m\u001b[1;33m\u001b[0m\u001b[1;33m\u001b[0m\u001b[0m\n\u001b[0m\u001b[0;32m   5068\u001b[0m \u001b[1;33m\u001b[0m\u001b[0m\n\u001b[0;32m   5069\u001b[0m     \u001b[1;32mdef\u001b[0m \u001b[0m__setattr__\u001b[0m\u001b[1;33m(\u001b[0m\u001b[0mself\u001b[0m\u001b[1;33m,\u001b[0m \u001b[0mname\u001b[0m\u001b[1;33m,\u001b[0m \u001b[0mvalue\u001b[0m\u001b[1;33m)\u001b[0m\u001b[1;33m:\u001b[0m\u001b[1;33m\u001b[0m\u001b[1;33m\u001b[0m\u001b[0m\n",
      "\u001b[1;31mAttributeError\u001b[0m: 'DataFrame' object has no attribute 'workPackage'"
     ]
    }
   ],
   "source": [
    "sol_a = obj.workPackage.isnull().sum() # select rows based on condition \n",
    "\n",
    "print('Number of subsystems not supplied by any workpackage: '+str(sol_a))\n",
    "sol_a = obj[obj['workPackage'].isnull()] \n",
    "sol_a = sol_a['subsystem'].tolist()\n",
    "\n",
    "if not sol_a:\n",
    "    print('The model complies with the rule. No action needs to be performed.')\n",
    "else:\n",
    "    print('\\nList of subsystems currently not supplied by any workpackage: ')\n",
    "    for el in sol_a:\n",
    "        print (\"- \" +el)\n",
    "    print(\"\\nSuggestion: Connect each of these subsystems to one workpackage.\")"
   ]
  },
  {
   "cell_type": "markdown",
   "metadata": {},
   "source": [
    "# Rule #7: Each Requirement shall specify at least one Physical Component or how Physical Components perform the function¶"
   ]
  },
  {
   "cell_type": "code",
   "execution_count": null,
   "metadata": {},
   "outputs": [],
   "source": [
    "# functions performed by assemblies sparql query\n",
    "query = \"\"\"\n",
    "PREFIX owl:   <http://www.w3.org/2002/07/owl#>\n",
    "PREFIX rdfs:  <http://www.w3.org/2000/01/rdf-schema#>\n",
    "PREFIX mission: <http://imce.jpl.nasa.gov/foundation/mission/mission#>\n",
    "\n",
    "SELECT DISTINCT ?requirement ?refinesRequirement ?physicalComponent ?fonctionalComponent \n",
    "FROM <urn:x-arq:UnionGraph>\n",
    "WHERE\n",
    "{\n",
    "  ?a rdfs:subClassOf  mission:Requirement ;\n",
    "     rdfs:label ?requirement.\n",
    "\n",
    "  optional {\n",
    "    ?c a owl:Class ;\n",
    "       rdfs:label ?physicalComponent ;\n",
    "       rdfs:subClassOf <http://firesat.jpl.nasa.gov/user-model/generated/md/profileExt/firesat-extensions_ID__18_5_3_8c20287_1563932039371_543598_24020#PhysicalComponent_ID__18_5_3_8c20287_1563932086646_143892_24055>.\n",
    "    ?a rdfs:subClassOf [ a owl:Restriction ; owl:onProperty mission:specifies ; owl:someValuesFrom ?c ].  \n",
    "  }\n",
    "  optional{\n",
    "    ?e a owl:Class ;\n",
    "       rdfs:label ?fonctionalComponent ;\n",
    "       rdfs:subClassOf <http://firesat.jpl.nasa.gov/user-model/generated/md/profileExt/firesat-extensions_ID__18_5_3_8c20287_1563932039371_543598_24020#PhysicalComponent_ID__18_5_3_8c20287_1563932086646_143892_24055>.\n",
    "    ?a rdfs:subClassOf [ a owl:Restriction ; owl:onProperty mission:specifies ; owl:someValuesFrom ?x ]. \n",
    "\n",
    "    ?x rdfs:subClassOf [ a owl:Restriction ; owl:onProperty mission:hasPerformsSource ; owl:someValuesFrom ?e ].\n",
    "  }\n",
    "  optional {\n",
    "    ?z rdfs:subClassOf [ a owl:Restriction ; owl:onProperty mission:refines ; owl:someValuesFrom ?a ] ;\n",
    "        rdfs:label ?refinesRequirement.\n",
    "  }\n",
    "}\n",
    "\"\"\"\n",
    "if query_fusekiData(query, endpoint.value).empty:\n",
    "    print('Error - The pattern matching query returned no results. Verify OWL data.')\n",
    "    raise SystemExit\n",
    "else:\n",
    "    result_table = query_fusekiData(query, endpoint.value)"
   ]
  },
  {
   "cell_type": "code",
   "execution_count": null,
   "metadata": {},
   "outputs": [],
   "source": [
    "if 'requirement.value' not in result_table.columns:\n",
    "    print('Error - No requirement found. Verify OWL data.')\n",
    "    raise SystemExit\n",
    "else:\n",
    "    obj = result_table[['requirement.value', 'refinesRequirement.value', 'physicalComponent.value', 'fonctionalComponent.value']]\n",
    "    obj = obj.rename(columns = lambda col: col.replace(\".value\", \"\"))"
   ]
  },
  {
   "cell_type": "code",
   "execution_count": null,
   "metadata": {},
   "outputs": [],
   "source": [
    "# Verify the graph of requirements is directed and acyclic\n",
    "objGraph = nx.from_pandas_edgelist(obj, 'requirement', 'refinesRequirement', create_using=nx.DiGraph())\n",
    "if not nx.is_directed_acyclic_graph(objGraph):\n",
    "    print('Error - The graph built from the requirement decomposition is not a directed acyclic graph.')\n",
    "    print(\"\\nSuggestion: Correct the requirement decomposition.\")\n",
    "    raise SystemExit"
   ]
  },
  {
   "cell_type": "code",
   "execution_count": null,
   "metadata": {
    "scrolled": true
   },
   "outputs": [],
   "source": [
    "#######\n",
    "# Remove the implied relationships from the analysis: remove the requirements that are refined by others\n",
    "\n",
    "##\n",
    "obj_a = obj[['requirement', 'refinesRequirement', 'physicalComponent', 'fonctionalComponent']]\n",
    "obj_a = obj_a.dropna(axis = 0, subset = ['refinesRequirement'])\n",
    "obj_a = obj_a.drop_duplicates(subset = 'requirement')\n",
    "\n",
    "## List all the requirements\n",
    "obj_b = obj[['requirement', 'refinesRequirement', 'physicalComponent', 'fonctionalComponent']]\n",
    "obj_b = obj_b.drop_duplicates(subset = 'requirement')\n",
    "\n",
    "## List the assemblies that aggregate no childs\n",
    "obj = pd.concat([obj_a, obj_b])\n",
    "obj = obj.drop_duplicates(subset = 'requirement', keep = False)\n",
    "obj = obj[['requirement', 'physicalComponent', 'fonctionalComponent']]"
   ]
  },
  {
   "cell_type": "code",
   "execution_count": null,
   "metadata": {},
   "outputs": [],
   "source": [
    "sol_a = obj.physicalComponent.isnull() & obj.fonctionalComponent.isnull() # select rows based on condition \n",
    "sol_a = list(sol_a)\n",
    "\n",
    "print('Number of requirements that do not specify any physical component nor how physical components perform the function: '+str(sol_a.count(True)))\n",
    "sol_a = obj[(obj['physicalComponent'].isnull()) & (obj['fonctionalComponent'].isnull())]\n",
    "sol_a = sol_a['requirement'].tolist()\n",
    "\n",
    "if not sol_a:\n",
    "    print('The model complies with the rule. No action needs to be performed.')\n",
    "else:\n",
    "    print('\\nList of requirements that currently do not specify any physical component nor how physical components perform the function: ')\n",
    "    for el in sol_a:\n",
    "        print (\"- \" +el)\n",
    "    print(\"\\nSuggestion: Connect each of these requirements to at least one physical component or to how physical components perform the function.\")"
   ]
  }
 ],
 "metadata": {
  "hide_input": true,
  "kernelspec": {
   "display_name": "Python 3",
   "language": "python",
   "name": "python3"
  },
  "varInspector": {
   "cols": {
    "lenName": 16,
    "lenType": 16,
    "lenVar": 40
   },
   "kernels_config": {
    "python": {
     "delete_cmd_postfix": "",
     "delete_cmd_prefix": "del ",
     "library": "var_list.py",
     "varRefreshCmd": "print(var_dic_list())"
    },
    "r": {
     "delete_cmd_postfix": ") ",
     "delete_cmd_prefix": "rm(",
     "library": "var_list.r",
     "varRefreshCmd": "cat(var_dic_list()) "
    }
   },
   "types_to_exclude": [
    "module",
    "function",
    "builtin_function_or_method",
    "instance",
    "_Feature"
   ],
   "window_display": false
  }
 },
 "nbformat": 4,
 "nbformat_minor": 2
}
