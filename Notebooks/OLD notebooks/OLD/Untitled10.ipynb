{
 "cells": [
  {
   "cell_type": "code",
   "execution_count": 1,
   "metadata": {
    "extensions": {
     "jupyter_dashboards": {
      "version": 1,
      "views": {
       "grid_default": {},
       "report_default": {}
      }
     }
    },
    "scrolled": true
   },
   "outputs": [
    {
     "name": "stdout",
     "output_type": "stream",
     "text": [
      "Requirement already satisfied: jupyter_dashboards in c:\\users\\manoir\\appdata\\local\\continuum\\anaconda3\\lib\\site-packages (0.7.0)\n",
      "Requirement already satisfied: notebook>=4.0 in c:\\users\\manoir\\appdata\\local\\continuum\\anaconda3\\lib\\site-packages (from jupyter_dashboards) (6.0.0)\n",
      "Requirement already satisfied: jupyter-core>=4.4.0 in c:\\users\\manoir\\appdata\\local\\continuum\\anaconda3\\lib\\site-packages (from notebook>=4.0->jupyter_dashboards) (4.5.0)\n",
      "Requirement already satisfied: nbformat in c:\\users\\manoir\\appdata\\local\\continuum\\anaconda3\\lib\\site-packages (from notebook>=4.0->jupyter_dashboards) (4.4.0)\n",
      "Requirement already satisfied: jinja2 in c:\\users\\manoir\\appdata\\local\\continuum\\anaconda3\\lib\\site-packages (from notebook>=4.0->jupyter_dashboards) (2.10.1)\n",
      "Requirement already satisfied: traitlets>=4.2.1 in c:\\users\\manoir\\appdata\\local\\continuum\\anaconda3\\lib\\site-packages (from notebook>=4.0->jupyter_dashboards) (4.3.2)\n",
      "Requirement already satisfied: pyzmq>=17 in c:\\users\\manoir\\appdata\\local\\continuum\\anaconda3\\lib\\site-packages (from notebook>=4.0->jupyter_dashboards) (18.0.0)\n",
      "Requirement already satisfied: Send2Trash in c:\\users\\manoir\\appdata\\local\\continuum\\anaconda3\\lib\\site-packages (from notebook>=4.0->jupyter_dashboards) (1.5.0)\n",
      "Requirement already satisfied: terminado>=0.8.1 in c:\\users\\manoir\\appdata\\local\\continuum\\anaconda3\\lib\\site-packages (from notebook>=4.0->jupyter_dashboards) (0.8.2)\n",
      "Requirement already satisfied: ipykernel in c:\\users\\manoir\\appdata\\local\\continuum\\anaconda3\\lib\\site-packages (from notebook>=4.0->jupyter_dashboards) (5.1.1)\n",
      "Requirement already satisfied: tornado>=5.0 in c:\\users\\manoir\\appdata\\local\\continuum\\anaconda3\\lib\\site-packages (from notebook>=4.0->jupyter_dashboards) (6.0.3)\n",
      "Requirement already satisfied: prometheus-client in c:\\users\\manoir\\appdata\\local\\continuum\\anaconda3\\lib\\site-packages (from notebook>=4.0->jupyter_dashboards) (0.7.1)\n",
      "Requirement already satisfied: ipython-genutils in c:\\users\\manoir\\appdata\\local\\continuum\\anaconda3\\lib\\site-packages (from notebook>=4.0->jupyter_dashboards) (0.2.0)\n",
      "Requirement already satisfied: jupyter-client>=5.3.1 in c:\\users\\manoir\\appdata\\local\\continuum\\anaconda3\\lib\\site-packages (from notebook>=4.0->jupyter_dashboards) (5.3.1)\n",
      "Requirement already satisfied: nbconvert in c:\\users\\manoir\\appdata\\local\\continuum\\anaconda3\\lib\\site-packages (from notebook>=4.0->jupyter_dashboards) (5.5.0)\n",
      "Requirement already satisfied: jsonschema!=2.5.0,>=2.4 in c:\\users\\manoir\\appdata\\local\\continuum\\anaconda3\\lib\\site-packages (from nbformat->notebook>=4.0->jupyter_dashboards) (3.0.1)\n",
      "Requirement already satisfied: MarkupSafe>=0.23 in c:\\users\\manoir\\appdata\\local\\continuum\\anaconda3\\lib\\site-packages (from jinja2->notebook>=4.0->jupyter_dashboards) (1.1.1)\n",
      "Requirement already satisfied: decorator in c:\\users\\manoir\\appdata\\local\\continuum\\anaconda3\\lib\\site-packages (from traitlets>=4.2.1->notebook>=4.0->jupyter_dashboards) (4.4.0)\n",
      "Requirement already satisfied: six in c:\\users\\manoir\\appdata\\local\\continuum\\anaconda3\\lib\\site-packages (from traitlets>=4.2.1->notebook>=4.0->jupyter_dashboards) (1.12.0)\n",
      "Requirement already satisfied: ipython>=5.0.0 in c:\\users\\manoir\\appdata\\local\\continuum\\anaconda3\\lib\\site-packages (from ipykernel->notebook>=4.0->jupyter_dashboards) (7.6.1)\n",
      "Requirement already satisfied: python-dateutil>=2.1 in c:\\users\\manoir\\appdata\\local\\continuum\\anaconda3\\lib\\site-packages (from jupyter-client>=5.3.1->notebook>=4.0->jupyter_dashboards) (2.8.0)\n",
      "Requirement already satisfied: mistune>=0.8.1 in c:\\users\\manoir\\appdata\\local\\continuum\\anaconda3\\lib\\site-packages (from nbconvert->notebook>=4.0->jupyter_dashboards) (0.8.4)\n",
      "Requirement already satisfied: pandocfilters>=1.4.1 in c:\\users\\manoir\\appdata\\local\\continuum\\anaconda3\\lib\\site-packages (from nbconvert->notebook>=4.0->jupyter_dashboards) (1.4.2)\n",
      "Requirement already satisfied: entrypoints>=0.2.2 in c:\\users\\manoir\\appdata\\local\\continuum\\anaconda3\\lib\\site-packages (from nbconvert->notebook>=4.0->jupyter_dashboards) (0.3)\n",
      "Requirement already satisfied: bleach in c:\\users\\manoir\\appdata\\local\\continuum\\anaconda3\\lib\\site-packages (from nbconvert->notebook>=4.0->jupyter_dashboards) (3.1.0)\n",
      "Requirement already satisfied: pygments in c:\\users\\manoir\\appdata\\local\\continuum\\anaconda3\\lib\\site-packages (from nbconvert->notebook>=4.0->jupyter_dashboards) (2.4.2)\n",
      "Requirement already satisfied: testpath in c:\\users\\manoir\\appdata\\local\\continuum\\anaconda3\\lib\\site-packages (from nbconvert->notebook>=4.0->jupyter_dashboards) (0.4.2)\n",
      "Requirement already satisfied: defusedxml in c:\\users\\manoir\\appdata\\local\\continuum\\anaconda3\\lib\\site-packages (from nbconvert->notebook>=4.0->jupyter_dashboards) (0.6.0)\n",
      "Requirement already satisfied: attrs>=17.4.0 in c:\\users\\manoir\\appdata\\local\\continuum\\anaconda3\\lib\\site-packages (from jsonschema!=2.5.0,>=2.4->nbformat->notebook>=4.0->jupyter_dashboards) (19.1.0)\n",
      "Requirement already satisfied: pyrsistent>=0.14.0 in c:\\users\\manoir\\appdata\\local\\continuum\\anaconda3\\lib\\site-packages (from jsonschema!=2.5.0,>=2.4->nbformat->notebook>=4.0->jupyter_dashboards) (0.14.11)\n",
      "Requirement already satisfied: setuptools in c:\\users\\manoir\\appdata\\local\\continuum\\anaconda3\\lib\\site-packages (from jsonschema!=2.5.0,>=2.4->nbformat->notebook>=4.0->jupyter_dashboards) (41.0.1)\n",
      "Requirement already satisfied: backcall in c:\\users\\manoir\\appdata\\local\\continuum\\anaconda3\\lib\\site-packages (from ipython>=5.0.0->ipykernel->notebook>=4.0->jupyter_dashboards) (0.1.0)\n",
      "Requirement already satisfied: jedi>=0.10 in c:\\users\\manoir\\appdata\\local\\continuum\\anaconda3\\lib\\site-packages (from ipython>=5.0.0->ipykernel->notebook>=4.0->jupyter_dashboards) (0.13.3)\n",
      "Requirement already satisfied: pickleshare in c:\\users\\manoir\\appdata\\local\\continuum\\anaconda3\\lib\\site-packages (from ipython>=5.0.0->ipykernel->notebook>=4.0->jupyter_dashboards) (0.7.5)\n",
      "Requirement already satisfied: prompt-toolkit<2.1.0,>=2.0.0 in c:\\users\\manoir\\appdata\\local\\continuum\\anaconda3\\lib\\site-packages (from ipython>=5.0.0->ipykernel->notebook>=4.0->jupyter_dashboards) (2.0.9)\n",
      "Requirement already satisfied: colorama; sys_platform == \"win32\" in c:\\users\\manoir\\appdata\\local\\continuum\\anaconda3\\lib\\site-packages (from ipython>=5.0.0->ipykernel->notebook>=4.0->jupyter_dashboards) (0.4.1)\n",
      "Requirement already satisfied: webencodings in c:\\users\\manoir\\appdata\\local\\continuum\\anaconda3\\lib\\site-packages (from bleach->nbconvert->notebook>=4.0->jupyter_dashboards) (0.5.1)\n",
      "Requirement already satisfied: parso>=0.3.0 in c:\\users\\manoir\\appdata\\local\\continuum\\anaconda3\\lib\\site-packages (from jedi>=0.10->ipython>=5.0.0->ipykernel->notebook>=4.0->jupyter_dashboards) (0.5.0)\n",
      "Requirement already satisfied: wcwidth in c:\\users\\manoir\\appdata\\local\\continuum\\anaconda3\\lib\\site-packages (from prompt-toolkit<2.1.0,>=2.0.0->ipython>=5.0.0->ipykernel->notebook>=4.0->jupyter_dashboards) (0.1.7)\n",
      "Note: you may need to restart the kernel to use updated packages.\n"
     ]
    }
   ],
   "source": [
    "pip install jupyter_dashboards"
   ]
  },
  {
   "cell_type": "code",
   "execution_count": null,
   "metadata": {
    "extensions": {
     "jupyter_dashboards": {
      "version": 1,
      "views": {
       "grid_default": {},
       "report_default": {}
      }
     }
    }
   },
   "outputs": [],
   "source": []
  }
 ],
 "metadata": {
  "extensions": {
   "jupyter_dashboards": {
    "activeView": "grid_default",
    "version": 1,
    "views": {
     "grid_default": {
      "cellMargin": 10,
      "defaultCellHeight": 20,
      "maxColumns": 12,
      "name": "grid",
      "type": "grid"
     },
     "report_default": {
      "name": "report",
      "type": "report"
     }
    }
   }
  },
  "kernelspec": {
   "display_name": "Python 3",
   "language": "python",
   "name": "python3"
  },
  "language_info": {
   "codemirror_mode": {
    "name": "ipython",
    "version": 3
   },
   "file_extension": ".py",
   "mimetype": "text/x-python",
   "name": "python",
   "nbconvert_exporter": "python",
   "pygments_lexer": "ipython3",
   "version": "3.7.3"
  },
  "toc": {
   "base_numbering": 1,
   "nav_menu": {},
   "number_sections": false,
   "sideBar": false,
   "skip_h1_title": false,
   "title_cell": "Table of Contents",
   "title_sidebar": "Contents",
   "toc_cell": false,
   "toc_position": {},
   "toc_section_display": false,
   "toc_window_display": false
  }
 },
 "nbformat": 4,
 "nbformat_minor": 2
}
