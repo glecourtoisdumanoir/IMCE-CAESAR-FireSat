{
 "cells": [
  {
   "cell_type": "markdown",
   "metadata": {
    "cell_style": "center"
   },
   "source": [
    "# Experimentation"
   ]
  },
  {
   "cell_type": "markdown",
   "metadata": {},
   "source": [
    "Purpose: show and communicate about the benefits of formal languages with description logics semantics"
   ]
  },
  {
   "cell_type": "markdown",
   "metadata": {},
   "source": [
    "Mission: verify the integrity of a system model"
   ]
  },
  {
   "cell_type": "markdown",
   "metadata": {},
   "source": [
    "Objectives: \n",
    "- use pattern matching to detect the inconsistencies,\n",
    "- use graph analysis to display correction suggestions,\n",
    "- allocate the correction of the system model to a user, selected as being familiar with the CAESAR WorkBench v1.23,\n",
    "- assume that the test is finished when the graph analysis returns that the input model complies with the 3 different rules."
   ]
  },
  {
   "cell_type": "markdown",
   "metadata": {},
   "source": [
    "Note 1: the RDF dataset shall be \n",
    "- renamed: *.trig\n",
    "- uploaded on Fuseki : http://localhost:3030/dataset.html?tab=upload&ds=/WBtest\n",
    "\n"
   ]
  },
  {
   "cell_type": "markdown",
   "metadata": {},
   "source": [
    "Note 2: if you want to use a different endpoint, you would have to modify the following endpoint variables with \"http://localhost:3030/yourDataset/query\"\n",
    "- workpackageQueryEndpoint\n",
    "- powerAssemblyQueryEndpoint\n",
    "- powerInterfaceQueryEndpoint"
   ]
  },
  {
   "cell_type": "code",
   "execution_count": 58,
   "metadata": {},
   "outputs": [],
   "source": [
    "from SPARQLWrapper import SPARQLWrapper, JSON\n",
    "import pandas as pd"
   ]
  },
  {
   "cell_type": "code",
   "execution_count": 59,
   "metadata": {},
   "outputs": [],
   "source": [
    "def SPARQL_Run(Endpoint, Query):\n",
    "    SPARQL = SPARQLWrapper(Endpoint)   \n",
    "    SPARQL.setQuery(Query) \n",
    "    SPARQL.setReturnFormat(JSON)\n",
    "    return SPARQL.query().convert() "
   ]
  },
  {
   "cell_type": "markdown",
   "metadata": {},
   "source": [
    "# Rule #1 : Each subsystem shall be supplied by exactly one work package"
   ]
  },
  {
   "cell_type": "code",
   "execution_count": 60,
   "metadata": {
    "scrolled": false
   },
   "outputs": [
    {
     "name": "stdout",
     "output_type": "stream",
     "text": [
      "0       {'type': 'literal', 'value': 'Communications'}\n",
      "1      {'type': 'literal', 'value': 'Thermal control'}\n",
      "2    {'type': 'literal', 'value': 'Command and data...\n",
      "3    {'type': 'literal', 'value': 'Structures and m...\n",
      "4              {'type': 'literal', 'value': 'Payload'}\n",
      "5           {'type': 'literal', 'value': 'Propulsion'}\n",
      "6                  {'type': 'literal', 'value': 'EPS'}\n",
      "7    {'type': 'literal', 'value': 'Firesat flight s...\n",
      "8         {'type': 'literal', 'value': 'ADCS and GNC'}\n",
      "Name: subSystem, dtype: object\n"
     ]
    },
    {
     "ename": "TypeError",
     "evalue": "'Series' objects are mutable, thus they cannot be hashed",
     "output_type": "error",
     "traceback": [
      "\u001b[1;31m---------------------------------------------------------------------------\u001b[0m",
      "\u001b[1;31mTypeError\u001b[0m                                 Traceback (most recent call last)",
      "\u001b[1;32m<ipython-input-60-a1d910602bd6>\u001b[0m in \u001b[0;36m<module>\u001b[1;34m\u001b[0m\n\u001b[0;32m     45\u001b[0m     \u001b[1;32mfor\u001b[0m \u001b[0mcurrent_key\u001b[0m\u001b[1;33m,\u001b[0m \u001b[0mcurrent_value\u001b[0m \u001b[1;32min\u001b[0m \u001b[0mcurrent_dict\u001b[0m\u001b[1;33m.\u001b[0m\u001b[0mitems\u001b[0m\u001b[1;33m(\u001b[0m\u001b[1;33m)\u001b[0m\u001b[1;33m:\u001b[0m\u001b[1;33m\u001b[0m\u001b[1;33m\u001b[0m\u001b[0m\n\u001b[0;32m     46\u001b[0m         \u001b[1;32mif\u001b[0m \u001b[1;33m(\u001b[0m\u001b[0mstr\u001b[0m\u001b[1;33m(\u001b[0m\u001b[0mcurrent_value\u001b[0m\u001b[1;33m)\u001b[0m\u001b[1;33m!=\u001b[0m\u001b[1;34m\"nan\"\u001b[0m\u001b[1;33m)\u001b[0m\u001b[1;33m:\u001b[0m\u001b[1;33m\u001b[0m\u001b[1;33m\u001b[0m\u001b[0m\n\u001b[1;32m---> 47\u001b[1;33m             \u001b[0mmy_data\u001b[0m\u001b[1;33m[\u001b[0m\u001b[0mobj\u001b[0m\u001b[1;33m[\u001b[0m\u001b[0mkey\u001b[0m\u001b[1;33m]\u001b[0m\u001b[1;33m]\u001b[0m\u001b[1;33m=\u001b[0m\u001b[0mcurrent_value\u001b[0m\u001b[1;33m[\u001b[0m\u001b[1;34m\"value\"\u001b[0m\u001b[1;33m]\u001b[0m\u001b[1;33m\u001b[0m\u001b[1;33m\u001b[0m\u001b[0m\n\u001b[0m\u001b[0;32m     48\u001b[0m \u001b[1;33m\u001b[0m\u001b[0m\n\u001b[0;32m     49\u001b[0m \u001b[1;32mfor\u001b[0m \u001b[0mel\u001b[0m \u001b[1;32min\u001b[0m \u001b[0mmy_data\u001b[0m\u001b[1;33m:\u001b[0m\u001b[1;33m\u001b[0m\u001b[1;33m\u001b[0m\u001b[0m\n",
      "\u001b[1;32m~\\AppData\\Local\\Continuum\\anaconda3\\lib\\site-packages\\pandas\\core\\generic.py\u001b[0m in \u001b[0;36m__hash__\u001b[1;34m(self)\u001b[0m\n\u001b[0;32m   1814\u001b[0m     \u001b[1;32mdef\u001b[0m \u001b[0m__hash__\u001b[0m\u001b[1;33m(\u001b[0m\u001b[0mself\u001b[0m\u001b[1;33m)\u001b[0m\u001b[1;33m:\u001b[0m\u001b[1;33m\u001b[0m\u001b[1;33m\u001b[0m\u001b[0m\n\u001b[0;32m   1815\u001b[0m         raise TypeError('{0!r} objects are mutable, thus they cannot be'\n\u001b[1;32m-> 1816\u001b[1;33m                         ' hashed'.format(self.__class__.__name__))\n\u001b[0m\u001b[0;32m   1817\u001b[0m \u001b[1;33m\u001b[0m\u001b[0m\n\u001b[0;32m   1818\u001b[0m     \u001b[1;32mdef\u001b[0m \u001b[0m__iter__\u001b[0m\u001b[1;33m(\u001b[0m\u001b[0mself\u001b[0m\u001b[1;33m)\u001b[0m\u001b[1;33m:\u001b[0m\u001b[1;33m\u001b[0m\u001b[1;33m\u001b[0m\u001b[0m\n",
      "\u001b[1;31mTypeError\u001b[0m: 'Series' objects are mutable, thus they cannot be hashed"
     ]
    }
   ],
   "source": [
    "endpoint = SPARQLWrapper(\"http://localhost:3030/WBv13.4\")\n",
    "endpoint.setQuery(\"\"\"\n",
    "\n",
    "# Each subsystem shall be supplied by exactly one work package\n",
    "# List all the subsystems, and as an option: the work packages that supply them \n",
    "\n",
    "PREFIX project: <http://imce.jpl.nasa.gov/foundation/project/project#>\n",
    "PREFIX oml: <http://def.seegrid.csiro.au/ontology/om/om-lite#>\n",
    "PREFIX owl:   <http://www.w3.org/2002/07/owl#>\n",
    "PREFIX rdfs:  <http://www.w3.org/2000/01/rdf-schema#>\n",
    "PREFIX fse:   <http://imce.jpl.nasa.gov/discipline/fse/fse#>\n",
    "PREFIX base:  <http://imce.jpl.nasa.gov/foundation/base/base#>\n",
    "PREFIX analysis: <http://imce.jpl.nasa.gov/foundation/analysis/analysis#>\n",
    "PREFIX mission: <http://imce.jpl.nasa.gov/foundation/mission/mission#>\n",
    "PREFIX pr: <http://purl.org/ontology/prv/core#>\n",
    "PREFIX pro: <http://purl.org/hpi/patchr#>\n",
    "\n",
    "SELECT DISTINCT ?subSystem ?workPackage\n",
    "\n",
    "FROM <urn:x-arq:UnionGraph>\n",
    "WHERE\n",
    "{\n",
    "  ?a a fse:Subsystem ;\n",
    "     base:hasCanonicalName ?subSystem .\n",
    "  \n",
    "  optional {\n",
    "    ?b a project:WorkPackage ;\n",
    "       base:hasCanonicalName ?workPackage ;\n",
    "       project:supplies ?a .\n",
    "  } \n",
    "}\n",
    "\"\"\")\n",
    "\n",
    "endpoint.setReturnFormat(JSON)\n",
    "results = endpoint.query().convert()['results']['bindings']\n",
    "#print(results)\n",
    "#type(results)\n",
    "\n",
    "obj = pd.DataFrame(results)\n",
    "\n",
    "my_data = {}\n",
    "for key, value in obj.items():  \n",
    "    current_dict = obj[key]\n",
    "    print(current_dict)\n",
    "    for current_key, current_value in current_dict.items():\n",
    "        if (str(current_value)!=\"nan\"):\n",
    "            my_data[obj[key]]=current_value[\"value\"]\n",
    "            \n",
    "for el in my_data: \n",
    "    print(el)\n",
    "\n",
    "\n",
    "    "
   ]
  },
  {
   "cell_type": "markdown",
   "metadata": {},
   "source": [
    "# Rule #2 : Each power load assembly shall be connected to at least one power source assembly"
   ]
  },
  {
   "cell_type": "markdown",
   "metadata": {},
   "source": [
    "Note:\n",
    "1. Solar arrays provide power to the EPS regulators and converters\n",
    "2. EPS regulators and converters provide power to the batteries\n",
    "3. Batteries provide power to the EPS regulators and converters \n",
    "4. EPS regulators and converters provide power to all the other power load components"
   ]
  },
  {
   "cell_type": "code",
   "execution_count": null,
   "metadata": {
    "scrolled": true
   },
   "outputs": [],
   "source": [
    "powerAssemblyQuery <-\n",
    "'\n",
    "# Each power load assembly shall be connected to at least one power source assembly\n",
    "# List all the power load assemblies\n",
    "\n",
    "PREFIX oml: <http://def.seegrid.csiro.au/ontology/om/om-lite#>\n",
    "PREFIX owl:   <http://www.w3.org/2002/07/owl#>\n",
    "PREFIX rdfs:  <http://www.w3.org/2000/01/rdf-schema#>\n",
    "PREFIX fse:   <http://imce.jpl.nasa.gov/discipline/fse/fse#>\n",
    "PREFIX base:  <http://imce.jpl.nasa.gov/foundation/base/base#>\n",
    "PREFIX analysis: <http://imce.jpl.nasa.gov/foundation/analysis/analysis#>\n",
    "PREFIX mission: <http://imce.jpl.nasa.gov/foundation/mission/mission#>\n",
    "\n",
    "SELECT DISTINCT ?powerLoadAssembly ?loadAssemblyID ?functionID ?powerSourceAssembly ?sourceAssemblyID\n",
    "FROM <urn:x-arq:UnionGraph>\n",
    "WHERE\n",
    "{\n",
    "  ?a a fse:Assembly ;\n",
    "     base:hasAnnotations \"Power load\" ;\n",
    "     fse:hasAssemblyReferenceDesignator ?loadAssemblyID ;                                \n",
    "\t base:hasCanonicalName ?powerLoadAssembly .\n",
    "\n",
    "  optional {\n",
    "  ?d a fse:Assembly ;\n",
    "     base:hasAnnotations \"Power source\" ;\n",
    "     fse:hasAssemblyReferenceDesignator ?sourceAssemblyID ;\n",
    "\t base:hasCanonicalName ?powerSourceAssembly .\n",
    "  \n",
    "  ?c a mission:Junction ;\n",
    "     fse:hasFunctionNumber ?functionID ;\n",
    "     fse:connectsAssembly ?a ;\n",
    "     fse:connectsAssembly ?d . \n",
    "  }     \n",
    "} \n",
    "'\n",
    "powerAssemblyQueryEndpoint <- \"http://localhost:3030/WBv13.4\"\n",
    "powerAssemblyQueryResults <- SPARQL(powerAssemblyQueryEndpoint,powerAssemblyQuery)\n",
    "powerAssemblyQueryResults <- powerAssemblyQueryResults$results\n",
    "\n",
    "if (nrow(powerAssemblyQueryResults) != 0)\n",
    "    {\n",
    "    if (sum(is.na(powerAssemblyQueryResults$sourceAssemblyID)) != 0)\n",
    "        {\n",
    "        print(\"The model does not comply with the rule.\")\n",
    "        print(sprintf(\"The %d power load assemblies presented above are not currently connected to any power sourcce assembly. Please correct the model.\", sum(is.na(powerAssemblyQueryResults$sourceAssemblyID))))\n",
    "        print(\"Suggestion: Look for omissions of those assemblies in the Function List Table.\")\n",
    "        row_to_keep = c(is.na(powerAssemblyQueryResults$sourceAssemblyID))\n",
    "        powerAssemblyOrphan = powerAssemblyQueryResults[row_to_keep,]\n",
    "        powerAssemblyOrphan %>%\n",
    "          kable(\"html\") %>%\n",
    "          as.character() %>%\n",
    "          display_html()\n",
    "        }\n",
    "    if (sum(is.na(powerAssemblyQueryResults$sourceAssemblyID)) == 0)\n",
    "        {\n",
    "        print(\"The model complies with the rule. No action needs to be performed.\")\n",
    "        }\n",
    "    }\n",
    "if (nrow(powerAssemblyQueryResults) == 0)\n",
    "    {\n",
    "    print(\"The pattern matching query returned no results. Please verify the value of the endpoint variable: powerAssemblyQueryEndpoint.\")\n",
    "    }"
   ]
  },
  {
   "cell_type": "markdown",
   "metadata": {},
   "source": [
    "# Rule #3 : Each power load end circuit interface shall be connected to one power source end circuit interface"
   ]
  },
  {
   "cell_type": "code",
   "execution_count": null,
   "metadata": {},
   "outputs": [],
   "source": [
    "powerInterfaceQuery <-\n",
    "'\n",
    "# Each power load end circuit interface shall be connected to one power source end circuit interface\n",
    "# List all the power load end circuit interfaces\n",
    "\n",
    "PREFIX oml: <http://def.seegrid.csiro.au/ontology/om/om-lite#>\n",
    "PREFIX owl:   <http://www.w3.org/2002/07/owl#>\n",
    "PREFIX rdfs:  <http://www.w3.org/2000/01/rdf-schema#>\n",
    "PREFIX fse:   <http://imce.jpl.nasa.gov/discipline/fse/fse#>\n",
    "PREFIX base:  <http://imce.jpl.nasa.gov/foundation/base/base#>\n",
    "PREFIX analysis: <http://imce.jpl.nasa.gov/foundation/analysis/analysis#>\n",
    "PREFIX mission: <http://imce.jpl.nasa.gov/foundation/mission/mission#>\n",
    "\n",
    "SELECT DISTINCT ?powerLoadAssembly ?powerLoadAssemblyID ?powerLoadInterface ?functionID \n",
    "FROM <urn:x-arq:UnionGraph>\n",
    "WHERE\n",
    "{\n",
    "    ?c a fse:Assembly ;\n",
    "       base:hasAnnotations \"Power load\" ;\n",
    "       fse:hasReferenceDesignator ?powerLoadAssemblyID ;\n",
    "       base:hasCanonicalName ?powerLoadAssembly .\n",
    "      \n",
    "   \n",
    "  optional \n",
    "  {\n",
    "    ?a a <http://io.openceasar.firesat/efse/libraries/ECTypes#ID_oj74HBJ8czeoHVJe6MXGCvU94TQaXQzNM6wDjYko67NKxLaD5VQCW7zRrs2p5CxcF75J> ; \n",
    "    base:hasCanonicalName ?powerLoadInterface .\n",
    "    \n",
    "    ?b a fse:Function ;\n",
    "    fse:hasFunctionNumber ?functionID ;\n",
    "    mission:joins ?a .\n",
    "    \n",
    "    ?c mission:presents ?a .\n",
    "   }\n",
    "}\n",
    "'\n",
    "powerInterfaceQueryEndpoint <- \"http://localhost:3030/WBv13.4\"\n",
    "powerInterfaceQueryResults <- SPARQL(powerInterfaceQueryEndpoint,powerInterfaceQuery)\n",
    "powerInterfaceQueryResults <- powerInterfaceQueryResults$results\n",
    "\n",
    "if (nrow(powerInterfaceQueryResults) != 0)\n",
    "    {\n",
    "    if (sum(is.na(powerInterfaceQueryResults$powerLoadInterface)) != 0)\n",
    "        {\n",
    "        print(\"The model does not comply with the rule.\")\n",
    "        print(sprintf(\"The %d power load assemblies presented above are missing a proper interface connection with a power source assembly. Please correct the model.\", sum(is.na(powerInterfaceQueryResults$powerLoadInterface))))\n",
    "        print(\"Suggestion: Look for omissions of those interfaces from the Function List Table. Start by the Assembly level, then the Function End List level, and at last the End Circuit Group level.\")\n",
    "        row_to_keep = c(is.na(powerInterfaceQueryResults$powerLoadInterface))\n",
    "        powerInterfaceOrphan = powerInterfaceQueryResults[row_to_keep,]\n",
    "        powerInterfaceOrphan %>%\n",
    "          kable(\"html\") %>%\n",
    "          as.character() %>%\n",
    "          display_html()\n",
    "        }\n",
    "    if (sum(is.na(powerInterfaceQueryResults$powerLoadInterface)) == 0)\n",
    "        {\n",
    "        print(\"The model complies with the rule. No action needs to be performed.\")\n",
    "        }\n",
    "    }\n",
    "if (nrow(powerInterfaceQueryResults) == 0)\n",
    "    {\n",
    "    print(\"The pattern matching query returned no results. Please verify the value of the endpoint variable: powerInterfaceQueryEndpoint.\")\n",
    "    }"
   ]
  },
  {
   "cell_type": "code",
   "execution_count": null,
   "metadata": {},
   "outputs": [],
   "source": []
  }
 ],
 "metadata": {
  "finalized": {
   "timestamp": 1574478101211,
   "trusted": true
  },
  "hide_input": false,
  "kernelspec": {
   "display_name": "Python 3",
   "language": "python",
   "name": "python3"
  },
  "language_info": {
   "codemirror_mode": {
    "name": "ipython",
    "version": 3
   },
   "file_extension": ".py",
   "mimetype": "text/x-python",
   "name": "python",
   "nbconvert_exporter": "python",
   "pygments_lexer": "ipython3",
   "version": "3.7.3"
  },
  "toc": {
   "base_numbering": 1,
   "nav_menu": {},
   "number_sections": false,
   "sideBar": false,
   "skip_h1_title": false,
   "title_cell": "Table of Contents",
   "title_sidebar": "Contents",
   "toc_cell": false,
   "toc_position": {},
   "toc_section_display": false,
   "toc_window_display": false
  },
  "varInspector": {
   "cols": {
    "lenName": 16,
    "lenType": 16,
    "lenVar": 40
   },
   "kernels_config": {
    "python": {
     "delete_cmd_postfix": "",
     "delete_cmd_prefix": "del ",
     "library": "var_list.py",
     "varRefreshCmd": "print(var_dic_list())"
    },
    "r": {
     "delete_cmd_postfix": ") ",
     "delete_cmd_prefix": "rm(",
     "library": "var_list.r",
     "varRefreshCmd": "cat(var_dic_list()) "
    }
   },
   "position": {
    "height": "244.85px",
    "left": "1780px",
    "right": "20px",
    "top": "119px",
    "width": "355.733px"
   },
   "types_to_exclude": [
    "module",
    "function",
    "builtin_function_or_method",
    "instance",
    "_Feature"
   ],
   "window_display": true
  }
 },
 "nbformat": 4,
 "nbformat_minor": 2
}
