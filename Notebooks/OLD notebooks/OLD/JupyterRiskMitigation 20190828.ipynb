{
 "cells": [
  {
   "cell_type": "code",
   "execution_count": 1,
   "metadata": {
    "cell_style": "split"
   },
   "outputs": [],
   "source": [
    "import pandas as pd\n",
    "from beakerx import *\n",
    "from beakerx.object import beakerx\n",
    "from ipywidgets import widgets\n",
    "import numpy as np\n",
    "from IPython.display import display\n",
    "from IPython.display import clear_output"
   ]
  },
  {
   "cell_type": "markdown",
   "metadata": {
    "cell_style": "center"
   },
   "source": [
    "### 1. Import dataframe and display as it is :"
   ]
  },
  {
   "cell_type": "code",
   "execution_count": 2,
   "metadata": {
    "cell_style": "center",
    "extensions": {
     "jupyter_dashboards": {
      "version": 1,
      "views": {
       "grid_default": {},
       "report_default": {
        "hidden": false
       }
      }
     }
    }
   },
   "outputs": [
    {
     "data": {
      "application/vnd.jupyter.widget-view+json": {
       "model_id": "610b27f542db457587fc00006bebcb12",
       "version_major": 2,
       "version_minor": 0
      }
     },
     "metadata": {},
     "output_type": "display_data"
    },
    {
     "name": "stdout",
     "output_type": "stream",
     "text": [
      "47 rows x 11 columns.\n"
     ]
    }
   ],
   "source": [
    "df1 = pd.read_csv (r'queryResults.csv', sep=\" , \", engine='python')\n",
    "display(df1)\n",
    "\n",
    "r1, c1 = df1.shape\n",
    "print(r1, \"rows x\", c1, \"columns.\")"
   ]
  },
  {
   "cell_type": "markdown",
   "metadata": {},
   "source": [
    "### 2. Search  the whole table :"
   ]
  },
  {
   "cell_type": "code",
   "execution_count": 3,
   "metadata": {
    "cell_style": "center"
   },
   "outputs": [
    {
     "data": {
      "application/vnd.jupyter.widget-view+json": {
       "model_id": "e173796449e9461aae5f391cf4e5d8a9",
       "version_major": 2,
       "version_minor": 0
      },
      "text/plain": [
       "Text(value='', description='Contains:', placeholder='match case')"
      ]
     },
     "metadata": {},
     "output_type": "display_data"
    },
    {
     "data": {
      "application/vnd.jupyter.widget-view+json": {
       "model_id": "c5978a45001a4405860bce0e654576e6",
       "version_major": 2,
       "version_minor": 0
      },
      "text/plain": [
       "Button(description='Search', style=ButtonStyle())"
      ]
     },
     "metadata": {},
     "output_type": "display_data"
    },
    {
     "data": {
      "application/vnd.jupyter.widget-view+json": {
       "model_id": "7ea4badd0e0a4742937fff57826ce544",
       "version_major": 2,
       "version_minor": 0
      },
      "text/plain": [
       "Output()"
      ]
     },
     "metadata": {},
     "output_type": "display_data"
    }
   ],
   "source": [
    "search = widgets.Text(\n",
    "    value='',\n",
    "    placeholder='match case',\n",
    "    description='Contains:',\n",
    "    disabled=False\n",
    ")\n",
    "display(search)\n",
    "\n",
    "button = widgets.Button(description=\"Search\")\n",
    "output = widgets.Output()\n",
    "display(button, output)\n",
    "\n",
    "def on_button_clicked(b):\n",
    "    with output:\n",
    "        clear_output()\n",
    "        df1 = pd.read_csv (r'queryResults.csv', sep=\" , \", engine='python')\n",
    "        filter1 = df1[df1.columns[1]].str.contains(search.value)\n",
    "        filter2 = df1[df1.columns[2]].str.contains(search.value)\n",
    "        filter3 = df1[df1.columns[3]].str.contains(search.value)\n",
    "        filter4 = df1[df1.columns[4]].str.contains(search.value)\n",
    "        filter5 = df1[df1.columns[5]].str.contains(search.value)\n",
    "        filter6 = df1[df1.columns[6]].str.contains(search.value)\n",
    "        filter7 = df1[df1.columns[7]].str.contains(search.value)\n",
    "        filter8 = df1[df1.columns[8]].str.contains(search.value)\n",
    "        #filter9 = df1[df1.columns[9]].str.contains(search.value)\n",
    "        filter10 = df1[df1.columns[10]].str.contains(search.value)\n",
    "        df1.where(filter1 | filter2 | filter3 | filter4 | filter5 | filter6 | filter7 | filter8 | filter10, inplace = True)\n",
    "        df1 = df1.dropna(how='all')\n",
    "        #display(df1)\n",
    "        #print(r2, \"rows x\", c2, \"columns.\")\n",
    "        display(df1)\n",
    "        r1, c1 = df1.shape\n",
    "        print(r1, \"rows x\", c1, \"columns.\")\n",
    "button.on_click(on_button_clicked)"
   ]
  },
  {
   "cell_type": "code",
   "execution_count": null,
   "metadata": {},
   "outputs": [],
   "source": []
  },
  {
   "cell_type": "code",
   "execution_count": null,
   "metadata": {},
   "outputs": [],
   "source": []
  }
 ],
 "metadata": {
  "extensions": {
   "jupyter_dashboards": {
    "activeView": "grid_default",
    "version": 1,
    "views": {
     "grid_default": {
      "cellMargin": 10,
      "defaultCellHeight": 20,
      "maxColumns": 12,
      "name": "grid",
      "type": "grid"
     },
     "report_default": {
      "name": "report",
      "type": "report"
     }
    }
   }
  },
  "hide_input": false,
  "kernelspec": {
   "display_name": "Python 3",
   "language": "python",
   "name": "python3"
  },
  "language_info": {
   "codemirror_mode": {
    "name": "ipython",
    "version": 3
   },
   "file_extension": ".py",
   "mimetype": "text/x-python",
   "name": "python",
   "nbconvert_exporter": "python",
   "pygments_lexer": "ipython3",
   "version": "3.7.3"
  },
  "toc": {
   "base_numbering": 1,
   "nav_menu": {
    "height": "81px",
    "width": "265.2px"
   },
   "number_sections": false,
   "sideBar": false,
   "skip_h1_title": false,
   "title_cell": "Table of Contents",
   "title_sidebar": "Contents",
   "toc_cell": false,
   "toc_position": {},
   "toc_section_display": false,
   "toc_window_display": false
  },
  "varInspector": {
   "cols": {
    "lenName": 16,
    "lenType": 16,
    "lenVar": 40
   },
   "kernels_config": {
    "python": {
     "delete_cmd_postfix": "",
     "delete_cmd_prefix": "del ",
     "library": "var_list.py",
     "varRefreshCmd": "print(var_dic_list())"
    },
    "r": {
     "delete_cmd_postfix": ") ",
     "delete_cmd_prefix": "rm(",
     "library": "var_list.r",
     "varRefreshCmd": "cat(var_dic_list()) "
    }
   },
   "types_to_exclude": [
    "module",
    "function",
    "builtin_function_or_method",
    "instance",
    "_Feature"
   ],
   "window_display": false
  }
 },
 "nbformat": 4,
 "nbformat_minor": 2
}
