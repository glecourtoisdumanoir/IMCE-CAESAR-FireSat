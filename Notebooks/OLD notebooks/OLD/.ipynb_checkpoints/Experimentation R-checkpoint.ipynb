{
 "cells": [
  {
   "cell_type": "markdown",
   "metadata": {},
   "source": [
    "# Experimentation"
   ]
  },
  {
   "cell_type": "markdown",
   "metadata": {},
   "source": [
    "Purpose: show and communicate about the benefits of formal languages with description logics semantics"
   ]
  },
  {
   "cell_type": "markdown",
   "metadata": {},
   "source": [
    "Mission: verify the integrity of a system model"
   ]
  },
  {
   "cell_type": "markdown",
   "metadata": {},
   "source": [
    "Objectives: \n",
    "- use pattern matching to detect the inconsistencies,\n",
    "- use graph analysis to display correction suggestions,\n",
    "- allocate the correction of the system model to a user, selected as being familiar with the CAESAR WorkBench v1.23,\n",
    "- assume that the test is finished when the graph analysis returns that the input model complies with the 3 different rules."
   ]
  },
  {
   "cell_type": "markdown",
   "metadata": {},
   "source": [
    "Note 1: the RDF dataset shall be \n",
    "- renamed: *.trig\n",
    "- uploaded on Fuseki : http://localhost:3030/dataset.html?tab=upload&ds=/WBtest\n",
    "\n"
   ]
  },
  {
   "cell_type": "markdown",
   "metadata": {},
   "source": [
    "Note 2: if you want to use a different endpoint, you would have to modify the following endpoint variables with \"http://localhost:3030/yourDataset/query\"\n",
    "- workpackageQueryEndpoint\n",
    "- powerAssemblyQueryEndpoint\n",
    "- powerInterfaceQueryEndpoint"
   ]
  },
  {
   "cell_type": "code",
   "execution_count": 9,
   "metadata": {},
   "outputs": [],
   "source": [
    "#install.packages(\"SPARQL\")\n",
    "#install.packages(\"kableExtra\")\n",
    "#install.packages(\"IRdisplay\")\n",
    "library(SPARQL)\n",
    "library(kableExtra)\n",
    "library(IRdisplay)"
   ]
  },
  {
   "cell_type": "markdown",
   "metadata": {},
   "source": [
    "# Rule #1 : Each subsystem shall be supplied by one work package"
   ]
  },
  {
   "cell_type": "code",
   "execution_count": 10,
   "metadata": {},
   "outputs": [
    {
     "data": {
      "text/html": [
       "<table>\n",
       " <thead>\n",
       "  <tr>\n",
       "   <th style=\"text-align:left;\"> subSystem </th>\n",
       "   <th style=\"text-align:left;\"> workPackage </th>\n",
       "  </tr>\n",
       " </thead>\n",
       "<tbody>\n",
       "  <tr>\n",
       "   <td style=\"text-align:left;\"> Communications </td>\n",
       "   <td style=\"text-align:left;\"> NA </td>\n",
       "  </tr>\n",
       "  <tr>\n",
       "   <td style=\"text-align:left;\"> Thermal control </td>\n",
       "   <td style=\"text-align:left;\"> NA </td>\n",
       "  </tr>\n",
       "</tbody>\n",
       "</table>"
      ]
     },
     "metadata": {},
     "output_type": "display_data"
    },
    {
     "name": "stdout",
     "output_type": "stream",
     "text": [
      "[1] \"The model does not comply with the rule.\"\n",
      "[1] \"The 2 subsystems presented above are not currently suppplied by any workpackage. Please correct the model.\"\n",
      "[1] \"Suggestion: Look for omissions of those subsystems in the Mass Manifest.\"\n"
     ]
    }
   ],
   "source": [
    "workpackageQuery <-\n",
    "'\n",
    "# Each subsystem shall be supplied by exactly one work package\n",
    "# List all the subsystems, and as an option: the work packages that supply them \n",
    "\n",
    "PREFIX project: <http://imce.jpl.nasa.gov/foundation/project/project#>\n",
    "PREFIX oml: <http://def.seegrid.csiro.au/ontology/om/om-lite#>\n",
    "PREFIX owl:   <http://www.w3.org/2002/07/owl#>\n",
    "PREFIX rdfs:  <http://www.w3.org/2000/01/rdf-schema#>\n",
    "PREFIX fse:   <http://imce.jpl.nasa.gov/discipline/fse/fse#>\n",
    "PREFIX base:  <http://imce.jpl.nasa.gov/foundation/base/base#>\n",
    "PREFIX analysis: <http://imce.jpl.nasa.gov/foundation/analysis/analysis#>\n",
    "PREFIX mission: <http://imce.jpl.nasa.gov/foundation/mission/mission#>\n",
    "PREFIX pr: <http://purl.org/ontology/prv/core#>\n",
    "PREFIX pro: <http://purl.org/hpi/patchr#>\n",
    "\n",
    "SELECT DISTINCT ?subSystem ?workPackage\n",
    "\n",
    "FROM <urn:x-arq:UnionGraph>\n",
    "WHERE\n",
    "{\n",
    "  ?a a fse:Subsystem ;\n",
    "     base:hasCanonicalName ?subSystem .\n",
    "  \n",
    "  optional {\n",
    "    ?b a project:WorkPackage ;\n",
    "       base:hasCanonicalName ?workPackage ;\n",
    "       project:supplies ?a .\n",
    "  } \n",
    "}\n",
    "'\n",
    "workpackageQueryEndpoint <- \"http://localhost:3030/WBv13.4\"\n",
    "workpackageQueryResults <- SPARQL(workpackageQueryEndpoint,workpackageQuery)\n",
    "workpackageQueryResults <- workpackageQueryResults$results\n",
    "\n",
    "if (nrow(workpackageQueryResults) != 0)\n",
    "    {\n",
    "    if (sum(is.na(workpackageQueryResults$workPackage)) != 0)\n",
    "        {\n",
    "        print(\"The model does not comply with the rule.\")\n",
    "        print(sprintf(\"The %d subsystems presented above are not currently suppplied by any workpackage. Please correct the model.\", sum(is.na(workpackageQueryResults$workPackage))))\n",
    "        print(\"Suggestion: Look for omissions of those subsystems in the Mass Manifest.\")\n",
    "        row_to_keep = c(is.na(workpackageQueryResults$workPackage))\n",
    "        workPackageOrphan = workpackageQueryResults[row_to_keep,] \n",
    "        workPackageOrphan %>%\n",
    "          kable(\"html\") %>%\n",
    "          as.character() %>%\n",
    "          display_html()\n",
    "        }\n",
    "    if (sum(is.na(workpackageQueryResults$workPackage)) == 0)\n",
    "        {\n",
    "        print(\"The model complies with the rule. No action needs to be performed.\")\n",
    "        }  \n",
    "    }\n",
    "if (nrow(workpackageQueryResults) == 0)\n",
    "    {\n",
    "    print(\"The pattern matching query returned no results. Please verify the value of the endpoint variable: workpackageQueryEndpoint.\")\n",
    "    }"
   ]
  },
  {
   "cell_type": "markdown",
   "metadata": {},
   "source": [
    "# Rule #2 : Each power load assembly shall be connected to at least one power source assembly"
   ]
  },
  {
   "cell_type": "markdown",
   "metadata": {},
   "source": [
    "Note:\n",
    "1. Solar arrays provide power to the EPS regulators and converters\n",
    "2. EPS regulators and converters provide power to the batteries\n",
    "3. Batteries provide power to the EPS regulators and converters \n",
    "4. EPS regulators and converters provide power to all the other power load components"
   ]
  },
  {
   "cell_type": "code",
   "execution_count": 11,
   "metadata": {
    "scrolled": true
   },
   "outputs": [
    {
     "data": {
      "text/html": [
       "<table>\n",
       " <thead>\n",
       "  <tr>\n",
       "   <th style=\"text-align:left;\">   </th>\n",
       "   <th style=\"text-align:left;\"> powerLoadAssembly </th>\n",
       "   <th style=\"text-align:left;\"> loadAssemblyID </th>\n",
       "   <th style=\"text-align:left;\"> functionID </th>\n",
       "   <th style=\"text-align:left;\"> powerSourceAssembly </th>\n",
       "   <th style=\"text-align:left;\"> sourceAssemblyID </th>\n",
       "  </tr>\n",
       " </thead>\n",
       "<tbody>\n",
       "  <tr>\n",
       "   <td style=\"text-align:left;\"> 57 </td>\n",
       "   <td style=\"text-align:left;\"> Sensor </td>\n",
       "   <td style=\"text-align:left;\"> 1000541000 </td>\n",
       "   <td style=\"text-align:left;\"> NA </td>\n",
       "   <td style=\"text-align:left;\"> NA </td>\n",
       "   <td style=\"text-align:left;\"> NA </td>\n",
       "  </tr>\n",
       "  <tr>\n",
       "   <td style=\"text-align:left;\"> 58 </td>\n",
       "   <td style=\"text-align:left;\"> Propulsion system control unit </td>\n",
       "   <td style=\"text-align:left;\"> 4000516700 </td>\n",
       "   <td style=\"text-align:left;\"> NA </td>\n",
       "   <td style=\"text-align:left;\"> NA </td>\n",
       "   <td style=\"text-align:left;\"> NA </td>\n",
       "  </tr>\n",
       "</tbody>\n",
       "</table>"
      ]
     },
     "metadata": {},
     "output_type": "display_data"
    },
    {
     "name": "stdout",
     "output_type": "stream",
     "text": [
      "[1] \"The model does not comply with the rule.\"\n",
      "[1] \"The 2 power load assemblies presented above are not currently connected to any power sourcce assembly. Please correct the model.\"\n",
      "[1] \"Suggestion: Look for omissions of those assemblies in the Function List Table.\"\n"
     ]
    }
   ],
   "source": [
    "powerAssemblyQuery <-\n",
    "'\n",
    "# Each power load assembly shall be connected to at least one power source assembly\n",
    "# List all the power load assemblies\n",
    "\n",
    "PREFIX oml: <http://def.seegrid.csiro.au/ontology/om/om-lite#>\n",
    "PREFIX owl:   <http://www.w3.org/2002/07/owl#>\n",
    "PREFIX rdfs:  <http://www.w3.org/2000/01/rdf-schema#>\n",
    "PREFIX fse:   <http://imce.jpl.nasa.gov/discipline/fse/fse#>\n",
    "PREFIX base:  <http://imce.jpl.nasa.gov/foundation/base/base#>\n",
    "PREFIX analysis: <http://imce.jpl.nasa.gov/foundation/analysis/analysis#>\n",
    "PREFIX mission: <http://imce.jpl.nasa.gov/foundation/mission/mission#>\n",
    "\n",
    "SELECT DISTINCT ?powerLoadAssembly ?loadAssemblyID ?functionID ?powerSourceAssembly ?sourceAssemblyID\n",
    "FROM <urn:x-arq:UnionGraph>\n",
    "WHERE\n",
    "{\n",
    "  ?a a fse:Assembly ;\n",
    "     base:hasAnnotations \"Power load\" ;\n",
    "     fse:hasAssemblyReferenceDesignator ?loadAssemblyID ;                                \n",
    "\t base:hasCanonicalName ?powerLoadAssembly .\n",
    "\n",
    "  optional {\n",
    "  ?d a fse:Assembly ;\n",
    "     base:hasAnnotations \"Power source\" ;\n",
    "     fse:hasAssemblyReferenceDesignator ?sourceAssemblyID ;\n",
    "\t base:hasCanonicalName ?powerSourceAssembly .\n",
    "  \n",
    "  ?c a mission:Junction ;\n",
    "     fse:hasFunctionNumber ?functionID ;\n",
    "     fse:connectsAssembly ?a ;\n",
    "     fse:connectsAssembly ?d . \n",
    "  }     \n",
    "} \n",
    "'\n",
    "powerAssemblyQueryEndpoint <- \"http://localhost:3030/WBv13.4\"\n",
    "powerAssemblyQueryResults <- SPARQL(powerAssemblyQueryEndpoint,powerAssemblyQuery)\n",
    "powerAssemblyQueryResults <- powerAssemblyQueryResults$results\n",
    "\n",
    "if (nrow(powerAssemblyQueryResults) != 0)\n",
    "    {\n",
    "    if (sum(is.na(powerAssemblyQueryResults$sourceAssemblyID)) != 0)\n",
    "        {\n",
    "        print(\"The model does not comply with the rule.\")\n",
    "        print(sprintf(\"The %d power load assemblies presented above are not currently connected to any power sourcce assembly. Please correct the model.\", sum(is.na(powerAssemblyQueryResults$sourceAssemblyID))))\n",
    "        print(\"Suggestion: Look for omissions of those assemblies in the Function List Table.\")\n",
    "        row_to_keep = c(is.na(powerAssemblyQueryResults$sourceAssemblyID))\n",
    "        powerAssemblyOrphan = powerAssemblyQueryResults[row_to_keep,]\n",
    "        powerAssemblyOrphan %>%\n",
    "          kable(\"html\") %>%\n",
    "          as.character() %>%\n",
    "          display_html()\n",
    "        }\n",
    "    if (sum(is.na(powerAssemblyQueryResults$sourceAssemblyID)) == 0)\n",
    "        {\n",
    "        print(\"The model complies with the rule. No action needs to be performed.\")\n",
    "        }\n",
    "    }\n",
    "if (nrow(powerAssemblyQueryResults) == 0)\n",
    "    {\n",
    "    print(\"The pattern matching query returned no results. Please verify the value of the endpoint variable: powerAssemblyQueryEndpoint.\")\n",
    "    }"
   ]
  },
  {
   "cell_type": "markdown",
   "metadata": {},
   "source": [
    "# Rule #3 : Each power load end circuit interface shall be connected to one power source end circuit interface"
   ]
  },
  {
   "cell_type": "code",
   "execution_count": 12,
   "metadata": {},
   "outputs": [
    {
     "data": {
      "text/html": [
       "<table>\n",
       " <thead>\n",
       "  <tr>\n",
       "   <th style=\"text-align:left;\">   </th>\n",
       "   <th style=\"text-align:left;\"> powerLoadAssembly </th>\n",
       "   <th style=\"text-align:left;\"> powerLoadAssemblyID </th>\n",
       "   <th style=\"text-align:left;\"> powerLoadInterface </th>\n",
       "   <th style=\"text-align:left;\"> functionID </th>\n",
       "  </tr>\n",
       " </thead>\n",
       "<tbody>\n",
       "  <tr>\n",
       "   <td style=\"text-align:left;\"> 1 </td>\n",
       "   <td style=\"text-align:left;\"> GPS antenna </td>\n",
       "   <td style=\"text-align:left;\"> 2000515000 </td>\n",
       "   <td style=\"text-align:left;\"> NA </td>\n",
       "   <td style=\"text-align:left;\"> NA </td>\n",
       "  </tr>\n",
       "  <tr>\n",
       "   <td style=\"text-align:left;\"> 2 </td>\n",
       "   <td style=\"text-align:left;\"> Transmitter unit </td>\n",
       "   <td style=\"text-align:left;\"> 6000516400 </td>\n",
       "   <td style=\"text-align:left;\"> NA </td>\n",
       "   <td style=\"text-align:left;\"> NA </td>\n",
       "  </tr>\n",
       "  <tr>\n",
       "   <td style=\"text-align:left;\"> 10 </td>\n",
       "   <td style=\"text-align:left;\"> Reaction wheel </td>\n",
       "   <td style=\"text-align:left;\"> 2000514000-2 </td>\n",
       "   <td style=\"text-align:left;\"> NA </td>\n",
       "   <td style=\"text-align:left;\"> NA </td>\n",
       "  </tr>\n",
       "  <tr>\n",
       "   <td style=\"text-align:left;\"> 14 </td>\n",
       "   <td style=\"text-align:left;\"> Transmit hi-gain antenna </td>\n",
       "   <td style=\"text-align:left;\"> 6000554000 </td>\n",
       "   <td style=\"text-align:left;\"> NA </td>\n",
       "   <td style=\"text-align:left;\"> NA </td>\n",
       "  </tr>\n",
       "  <tr>\n",
       "   <td style=\"text-align:left;\"> 28 </td>\n",
       "   <td style=\"text-align:left;\"> Sensor </td>\n",
       "   <td style=\"text-align:left;\"> 1000541000 </td>\n",
       "   <td style=\"text-align:left;\"> NA </td>\n",
       "   <td style=\"text-align:left;\"> NA </td>\n",
       "  </tr>\n",
       "  <tr>\n",
       "   <td style=\"text-align:left;\"> 29 </td>\n",
       "   <td style=\"text-align:left;\"> Propulsion system control unit </td>\n",
       "   <td style=\"text-align:left;\"> 4000516700 </td>\n",
       "   <td style=\"text-align:left;\"> NA </td>\n",
       "   <td style=\"text-align:left;\"> NA </td>\n",
       "  </tr>\n",
       "</tbody>\n",
       "</table>"
      ]
     },
     "metadata": {},
     "output_type": "display_data"
    },
    {
     "name": "stdout",
     "output_type": "stream",
     "text": [
      "[1] \"The model does not comply with the rule.\"\n",
      "[1] \"The 6 power load assemblies presented above are missing a proper interface connection with a power source assembly. Please correct the model.\"\n",
      "[1] \"Suggestion: Look for omissions of those interfaces from the Function List Table. Start by the Assembly level, then the Function End List level, and at last the End Circuit Group level.\"\n"
     ]
    }
   ],
   "source": [
    "powerInterfaceQuery <-\n",
    "'\n",
    "# Each power load end circuit interface shall be connected to one power source end circuit interface\n",
    "# List all the power load end circuit interfaces\n",
    "\n",
    "PREFIX oml: <http://def.seegrid.csiro.au/ontology/om/om-lite#>\n",
    "PREFIX owl:   <http://www.w3.org/2002/07/owl#>\n",
    "PREFIX rdfs:  <http://www.w3.org/2000/01/rdf-schema#>\n",
    "PREFIX fse:   <http://imce.jpl.nasa.gov/discipline/fse/fse#>\n",
    "PREFIX base:  <http://imce.jpl.nasa.gov/foundation/base/base#>\n",
    "PREFIX analysis: <http://imce.jpl.nasa.gov/foundation/analysis/analysis#>\n",
    "PREFIX mission: <http://imce.jpl.nasa.gov/foundation/mission/mission#>\n",
    "\n",
    "SELECT DISTINCT ?powerLoadAssembly ?powerLoadAssemblyID ?powerLoadInterface ?functionID \n",
    "FROM <urn:x-arq:UnionGraph>\n",
    "WHERE\n",
    "{\n",
    "    ?c a fse:Assembly ;\n",
    "       base:hasAnnotations \"Power load\" ;\n",
    "       fse:hasReferenceDesignator ?powerLoadAssemblyID ;\n",
    "       base:hasCanonicalName ?powerLoadAssembly .\n",
    "      \n",
    "   \n",
    "  optional \n",
    "  {\n",
    "    ?a a <http://io.openceasar.firesat/efse/libraries/ECTypes#ID_oj74HBJ8czeoHVJe6MXGCvU94TQaXQzNM6wDjYko67NKxLaD5VQCW7zRrs2p5CxcF75J> ; \n",
    "    base:hasCanonicalName ?powerLoadInterface .\n",
    "    \n",
    "    ?b a fse:Function ;\n",
    "    fse:hasFunctionNumber ?functionID ;\n",
    "    mission:joins ?a .\n",
    "    \n",
    "    ?c mission:presents ?a .\n",
    "   }\n",
    "}\n",
    "'\n",
    "powerInterfaceQueryEndpoint <- \"http://localhost:3030/WBv13.4\"\n",
    "powerInterfaceQueryResults <- SPARQL(powerInterfaceQueryEndpoint,powerInterfaceQuery)\n",
    "powerInterfaceQueryResults <- powerInterfaceQueryResults$results\n",
    "\n",
    "if (nrow(powerInterfaceQueryResults) != 0)\n",
    "    {\n",
    "    if (sum(is.na(powerInterfaceQueryResults$powerLoadInterface)) != 0)\n",
    "        {\n",
    "        print(\"The model does not comply with the rule.\")\n",
    "        print(sprintf(\"The %d power load assemblies presented above are missing a proper interface connection with a power source assembly. Please correct the model.\", sum(is.na(powerInterfaceQueryResults$powerLoadInterface))))\n",
    "        print(\"Suggestion: Look for omissions of those interfaces from the Function List Table. Start by the Assembly level, then the Function End List level, and at last the End Circuit Group level.\")\n",
    "        row_to_keep = c(is.na(powerInterfaceQueryResults$powerLoadInterface))\n",
    "        powerInterfaceOrphan = powerInterfaceQueryResults[row_to_keep,]\n",
    "        powerInterfaceOrphan %>%\n",
    "          kable(\"html\") %>%\n",
    "          as.character() %>%\n",
    "          display_html()\n",
    "        }\n",
    "    if (sum(is.na(powerInterfaceQueryResults$powerLoadInterface)) == 0)\n",
    "        {\n",
    "        print(\"The model complies with the rule. No action needs to be performed.\")\n",
    "        }\n",
    "    }\n",
    "if (nrow(powerInterfaceQueryResults) == 0)\n",
    "    {\n",
    "    print(\"The pattern matching query returned no results. Please verify the value of the endpoint variable: powerInterfaceQueryEndpoint.\")\n",
    "    }"
   ]
  },
  {
   "cell_type": "code",
   "execution_count": null,
   "metadata": {},
   "outputs": [],
   "source": []
  }
 ],
 "metadata": {
  "hide_input": false,
  "kernelspec": {
   "display_name": "R",
   "language": "R",
   "name": "ir"
  },
  "language_info": {
   "codemirror_mode": "r",
   "file_extension": ".r",
   "mimetype": "text/x-r-source",
   "name": "R",
   "pygments_lexer": "r",
   "version": "3.6.0"
  },
  "toc": {
   "base_numbering": 1,
   "nav_menu": {},
   "number_sections": false,
   "sideBar": false,
   "skip_h1_title": false,
   "title_cell": "Table of Contents",
   "title_sidebar": "Contents",
   "toc_cell": false,
   "toc_position": {},
   "toc_section_display": false,
   "toc_window_display": false
  }
 },
 "nbformat": 4,
 "nbformat_minor": 2
}
