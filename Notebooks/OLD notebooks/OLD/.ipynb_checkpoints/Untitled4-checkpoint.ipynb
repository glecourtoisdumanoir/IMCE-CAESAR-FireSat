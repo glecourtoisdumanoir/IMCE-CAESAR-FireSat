{
 "cells": [
  {
   "cell_type": "code",
   "execution_count": 2,
   "metadata": {},
   "outputs": [
    {
     "name": "stderr",
     "output_type": "stream",
     "text": [
      "Installing package into 'C:/Users/manoir/Documents/R/win-library/3.6'\n",
      "(as 'lib' is unspecified)\n"
     ]
    },
    {
     "name": "stdout",
     "output_type": "stream",
     "text": [
      "package 'shiny' successfully unpacked and MD5 sums checked\n",
      "\n",
      "The downloaded binary packages are in\n",
      "\tC:\\Users\\manoir\\AppData\\Local\\Temp\\Rtmpklo9BB\\downloaded_packages\n"
     ]
    },
    {
     "name": "stderr",
     "output_type": "stream",
     "text": [
      "Installing package into 'C:/Users/manoir/Documents/R/win-library/3.6'\n",
      "(as 'lib' is unspecified)\n"
     ]
    },
    {
     "name": "stdout",
     "output_type": "stream",
     "text": [
      "package 'shinydashboard' successfully unpacked and MD5 sums checked\n",
      "\n",
      "The downloaded binary packages are in\n",
      "\tC:\\Users\\manoir\\AppData\\Local\\Temp\\Rtmpklo9BB\\downloaded_packages\n"
     ]
    }
   ],
   "source": [
    "install.packages(\"shiny\")\n",
    "install.packages(\"shinydashboard\")"
   ]
  },
  {
   "cell_type": "code",
   "execution_count": 4,
   "metadata": {},
   "outputs": [
    {
     "name": "stderr",
     "output_type": "stream",
     "text": [
      "Warning message:\n",
      "\"package 'shiny' was built under R version 3.6.1\"Warning message:\n",
      "\"package 'shinydashboard' was built under R version 3.6.1\"\n",
      "Attaching package: 'shinydashboard'\n",
      "\n",
      "The following object is masked from 'package:graphics':\n",
      "\n",
      "    box\n",
      "\n"
     ]
    }
   ],
   "source": [
    "library(shiny)\n",
    "library(shinydashboard)"
   ]
  },
  {
   "cell_type": "code",
   "execution_count": 5,
   "metadata": {},
   "outputs": [],
   "source": [
    "# Define UI for app that draws a histogram ----\n",
    "ui <- fluidPage(\n",
    "\n",
    "  # App title ----\n",
    "  titlePanel(\"Hello Shiny!\"),\n",
    "\n",
    "  # Sidebar layout with input and output definitions ----\n",
    "  sidebarLayout(\n",
    "\n",
    "    # Sidebar panel for inputs ----\n",
    "    sidebarPanel(\n",
    "\n",
    "      # Input: Slider for the number of bins ----\n",
    "      sliderInput(inputId = \"bins\",\n",
    "                  label = \"Number of bins:\",\n",
    "                  min = 1,\n",
    "                  max = 50,\n",
    "                  value = 30)\n",
    "    ),\n",
    "\n",
    "    # Main panel for displaying outputs ----\n",
    "    mainPanel(\n",
    "\n",
    "      # Output: Histogram ----\n",
    "      plotOutput(outputId = \"distPlot\")\n",
    "\n",
    "    )\n",
    "  )\n",
    ")"
   ]
  },
  {
   "cell_type": "code",
   "execution_count": 6,
   "metadata": {},
   "outputs": [],
   "source": [
    "# Define server logic required to draw a histogram ----\n",
    "server <- function(input, output) {\n",
    "\n",
    "  # Histogram of the Old Faithful Geyser Data ----\n",
    "  # with requested number of bins\n",
    "  # This expression that generates a histogram is wrapped in a call\n",
    "  # to renderPlot to indicate that:\n",
    "  #\n",
    "  # 1. It is \"reactive\" and therefore should be automatically\n",
    "  #    re-executed when inputs (input$bins) change\n",
    "  # 2. Its output type is a plot\n",
    "  output$distPlot <- renderPlot({\n",
    "\n",
    "    x    <- faithful$waiting\n",
    "    bins <- seq(min(x), max(x), length.out = input$bins + 1)\n",
    "\n",
    "    hist(x, breaks = bins, col = \"#75AADB\", border = \"white\",\n",
    "         xlab = \"Waiting time to next eruption (in mins)\",\n",
    "         main = \"Histogram of waiting times\")\n",
    "\n",
    "    })\n",
    "\n",
    "}"
   ]
  },
  {
   "cell_type": "code",
   "execution_count": null,
   "metadata": {},
   "outputs": [
    {
     "name": "stderr",
     "output_type": "stream",
     "text": [
      "\n",
      "Listening on http://127.0.0.1:5584\n"
     ]
    }
   ],
   "source": [
    "shinyApp(ui, server)"
   ]
  },
  {
   "cell_type": "code",
   "execution_count": null,
   "metadata": {},
   "outputs": [],
   "source": []
  }
 ],
 "metadata": {
  "kernelspec": {
   "display_name": "R",
   "language": "R",
   "name": "ir"
  },
  "language_info": {
   "codemirror_mode": "r",
   "file_extension": ".r",
   "mimetype": "text/x-r-source",
   "name": "R",
   "pygments_lexer": "r",
   "version": "3.6.0"
  }
 },
 "nbformat": 4,
 "nbformat_minor": 2
}
