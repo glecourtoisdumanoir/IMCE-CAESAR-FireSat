{
 "cells": [
  {
   "cell_type": "code",
   "execution_count": 1,
   "metadata": {
    "cell_style": "split",
    "extensions": {
     "jupyter_dashboards": {
      "version": 1,
      "views": {
       "grid_default": {},
       "report_default": {}
      }
     }
    }
   },
   "outputs": [],
   "source": [
    "import pandas as pd\n",
    "from beakerx import *\n",
    "from beakerx.object import beakerx\n",
    "from ipywidgets import widgets\n",
    "import numpy as np\n",
    "from IPython.display import display\n",
    "from IPython.display import clear_output\n",
    "from IPython.core.display import HTML\n",
    "import html\n",
    "import csv"
   ]
  },
  {
   "cell_type": "markdown",
   "metadata": {
    "cell_style": "center"
   },
   "source": [
    "### Source of authority"
   ]
  },
  {
   "cell_type": "code",
   "execution_count": 2,
   "metadata": {},
   "outputs": [
    {
     "data": {
      "application/vnd.jupyter.widget-view+json": {
       "model_id": "b6401ce643744572a25c6ab597f9cea0",
       "version_major": 2,
       "version_minor": 0
      }
     },
     "metadata": {},
     "output_type": "display_data"
    }
   ],
   "source": [
    "dfs = pd.read_excel(\"authorityPrompt.xlsx\")\n",
    "display(dfs)"
   ]
  },
  {
   "cell_type": "markdown",
   "metadata": {
    "extensions": {
     "jupyter_dashboards": {
      "version": 1,
      "views": {
       "grid_default": {},
       "report_default": {}
      }
     }
    }
   },
   "source": [
    "## WB"
   ]
  },
  {
   "cell_type": "markdown",
   "metadata": {},
   "source": [
    "### WB tree"
   ]
  },
  {
   "cell_type": "code",
   "execution_count": 3,
   "metadata": {},
   "outputs": [],
   "source": [
    "if path.exists('WBtree.csv'):\n",
    "    df1 = pd.read_csv (r'WBtree.csv', sep=\" \", engine='python')\n",
    "    display(df1)\n",
    "    r1, c1 = df1.shape\n",
    "    print(r1, \"rows x\", c1, \"columns.\")"
   ]
  },
  {
   "cell_type": "markdown",
   "metadata": {},
   "source": [
    "### WB graph"
   ]
  },
  {
   "cell_type": "code",
   "execution_count": 4,
   "metadata": {
    "extensions": {
     "jupyter_dashboards": {
      "version": 1,
      "views": {
       "grid_default": {},
       "report_default": {}
      }
     }
    }
   },
   "outputs": [
    {
     "data": {
      "application/vnd.jupyter.widget-view+json": {
       "model_id": "192ecf0402bc454492e52b7e52c8a1de",
       "version_major": 2,
       "version_minor": 0
      },
      "text/plain": [
       "Image(value=b'\\x89PNG\\r\\n\\x1a\\n\\x00\\x00\\x00\\rIHDR\\x00\\x00\\x03\\xe8\\x00\\x00\\x03\\xe8\\x08\\x02\\x00\\x00\\x00\\xc2\\xc1C…"
      ]
     },
     "metadata": {},
     "output_type": "display_data"
    }
   ],
   "source": [
    "file = open(\"WBgraph.png\", \"rb\")\n",
    "image = file.read()\n",
    "widgets.Image(\n",
    "    value=image,\n",
    "    format='png',\n",
    "    width=1000,\n",
    "    height=1000,\n",
    ")"
   ]
  },
  {
   "cell_type": "markdown",
   "metadata": {},
   "source": [
    "## MD"
   ]
  },
  {
   "cell_type": "markdown",
   "metadata": {},
   "source": [
    "### MD tree"
   ]
  },
  {
   "cell_type": "code",
   "execution_count": 5,
   "metadata": {},
   "outputs": [
    {
     "data": {
      "application/vnd.jupyter.widget-view+json": {
       "model_id": "14d9f31fb711457f8f4a4c1393936957",
       "version_major": 2,
       "version_minor": 0
      }
     },
     "metadata": {},
     "output_type": "display_data"
    },
    {
     "name": "stdout",
     "output_type": "stream",
     "text": [
      "42 rows x 1 columns.\n"
     ]
    }
   ],
   "source": [
    "if path.exists('MDtree.csv'):\n",
    "    df1 = pd.read_csv (r'MDtree.csv', sep=\" , \", engine='python')\n",
    "    display(df1)\n",
    "    r1, c1 = df1.shape\n",
    "    print(r1, \"rows x\", c1, \"columns.\")"
   ]
  },
  {
   "cell_type": "markdown",
   "metadata": {
    "extensions": {
     "jupyter_dashboards": {
      "version": 1,
      "views": {
       "grid_default": {},
       "report_default": {}
      }
     }
    }
   },
   "source": [
    "### MD graph"
   ]
  },
  {
   "cell_type": "code",
   "execution_count": 6,
   "metadata": {
    "extensions": {
     "jupyter_dashboards": {
      "version": 1,
      "views": {
       "grid_default": {},
       "report_default": {}
      }
     }
    }
   },
   "outputs": [
    {
     "data": {
      "application/vnd.jupyter.widget-view+json": {
       "model_id": "c5367f785e4b4a809168aa8993ae9606",
       "version_major": 2,
       "version_minor": 0
      },
      "text/plain": [
       "Image(value=b'\\x89PNG\\r\\n\\x1a\\n\\x00\\x00\\x00\\rIHDR\\x00\\x00\\x03\\xe8\\x00\\x00\\x03\\xe8\\x08\\x02\\x00\\x00\\x00\\xc2\\xc1C…"
      ]
     },
     "metadata": {},
     "output_type": "display_data"
    }
   ],
   "source": [
    "file = open(\"MDgraph.png\", \"rb\")\n",
    "image = file.read()\n",
    "widgets.Image(\n",
    "    value=image,\n",
    "    format='png',\n",
    "    width=1000,\n",
    "    height=1000,\n",
    ")"
   ]
  },
  {
   "cell_type": "markdown",
   "metadata": {
    "cell_style": "center",
    "extensions": {
     "jupyter_dashboards": {
      "version": 1,
      "views": {
       "grid_default": {},
       "report_default": {}
      }
     }
    }
   },
   "source": [
    "### 1. Wellformedness"
   ]
  },
  {
   "cell_type": "code",
   "execution_count": 7,
   "metadata": {
    "cell_style": "center",
    "extensions": {
     "jupyter_dashboards": {
      "version": 1,
      "views": {
       "grid_default": {},
       "report_default": {
        "hidden": false
       }
      }
     }
    }
   },
   "outputs": [
    {
     "data": {
      "application/vnd.jupyter.widget-view+json": {
       "model_id": "a9dd81ad87694a758798487dd2103ce7",
       "version_major": 2,
       "version_minor": 0
      }
     },
     "metadata": {},
     "output_type": "display_data"
    },
    {
     "name": "stdout",
     "output_type": "stream",
     "text": [
      "4 rows x 1 columns.\n"
     ]
    }
   ],
   "source": [
    "df1 = pd.read_csv (r'wellformed.csv', sep=\", \", engine='python')\n",
    "display(df1)\n",
    "\n",
    "r1, c1 = df1.shape\n",
    "print(r1, \"rows x\", c1, \"columns.\")"
   ]
  },
  {
   "cell_type": "markdown",
   "metadata": {
    "extensions": {
     "jupyter_dashboards": {
      "version": 1,
      "views": {
       "grid_default": {},
       "report_default": {}
      }
     }
    }
   },
   "source": [
    "### 2. Isomorphic"
   ]
  },
  {
   "cell_type": "code",
   "execution_count": 8,
   "metadata": {
    "extensions": {
     "jupyter_dashboards": {
      "version": 1,
      "views": {
       "grid_default": {},
       "report_default": {}
      }
     }
    }
   },
   "outputs": [
    {
     "data": {
      "application/vnd.jupyter.widget-view+json": {
       "model_id": "2b57e5af404a482ca74f28b81a60e2a2",
       "version_major": 2,
       "version_minor": 0
      }
     },
     "metadata": {},
     "output_type": "display_data"
    },
    {
     "name": "stdout",
     "output_type": "stream",
     "text": [
      "1 rows x 1 columns.\n"
     ]
    }
   ],
   "source": [
    "df2 = pd.read_csv (r'isomorphic.csv', sep=\", \", engine='python')\n",
    "display(df2)\n",
    "\n",
    "r2, c2 = df2.shape\n",
    "print(r2, \"rows x\", c2, \"columns.\")"
   ]
  },
  {
   "cell_type": "markdown",
   "metadata": {
    "extensions": {
     "jupyter_dashboards": {
      "version": 1,
      "views": {
       "grid_default": {},
       "report_default": {}
      }
     }
    }
   },
   "source": [
    "### 3. Edges"
   ]
  },
  {
   "cell_type": "code",
   "execution_count": 9,
   "metadata": {
    "extensions": {
     "jupyter_dashboards": {
      "version": 1,
      "views": {
       "grid_default": {},
       "report_default": {}
      }
     }
    }
   },
   "outputs": [
    {
     "data": {
      "application/vnd.jupyter.widget-view+json": {
       "model_id": "c89ddb6a836b4c5e889dc1a69b5b0570",
       "version_major": 2,
       "version_minor": 0
      }
     },
     "metadata": {},
     "output_type": "display_data"
    },
    {
     "name": "stdout",
     "output_type": "stream",
     "text": [
      "67 rows x 1 columns.\n"
     ]
    }
   ],
   "source": [
    "df3 = pd.read_csv (r'edges.csv', sep=\", \", engine='python')\n",
    "display(df3)\n",
    "\n",
    "r3, c3 = df3.shape\n",
    "print(r3, \"rows x\", c3, \"columns.\")"
   ]
  },
  {
   "cell_type": "markdown",
   "metadata": {
    "extensions": {
     "jupyter_dashboards": {
      "version": 1,
      "views": {
       "grid_default": {},
       "report_default": {}
      }
     }
    }
   },
   "source": [
    "### 4. Vertices"
   ]
  },
  {
   "cell_type": "code",
   "execution_count": 10,
   "metadata": {
    "extensions": {
     "jupyter_dashboards": {
      "version": 1,
      "views": {
       "grid_default": {},
       "report_default": {}
      }
     }
    }
   },
   "outputs": [
    {
     "data": {
      "application/vnd.jupyter.widget-view+json": {
       "model_id": "f9a181ef05294cad9d238060ab90a5a9",
       "version_major": 2,
       "version_minor": 0
      }
     },
     "metadata": {},
     "output_type": "display_data"
    },
    {
     "name": "stdout",
     "output_type": "stream",
     "text": [
      "50 rows x 1 columns.\n"
     ]
    }
   ],
   "source": [
    "df4 = pd.read_csv (r'vertices.csv', sep=\", \", engine='python')\n",
    "display(df4)\n",
    "\n",
    "r4, c4 = df4.shape\n",
    "print(r4, \"rows x\", c4, \"columns.\")"
   ]
  },
  {
   "cell_type": "markdown",
   "metadata": {
    "extensions": {
     "jupyter_dashboards": {
      "version": 1,
      "views": {
       "grid_default": {},
       "report_default": {}
      }
     }
    }
   },
   "source": [
    "### 5. Vertices analysis"
   ]
  },
  {
   "cell_type": "code",
   "execution_count": 11,
   "metadata": {
    "extensions": {
     "jupyter_dashboards": {
      "version": 1,
      "views": {
       "grid_default": {},
       "report_default": {}
      }
     }
    }
   },
   "outputs": [
    {
     "data": {
      "application/vnd.jupyter.widget-view+json": {
       "model_id": "eab6b7abeba144c185d5c9ef0e8daaf2",
       "version_major": 2,
       "version_minor": 0
      }
     },
     "metadata": {},
     "output_type": "display_data"
    },
    {
     "name": "stdout",
     "output_type": "stream",
     "text": [
      "9 rows x 1 columns.\n"
     ]
    }
   ],
   "source": [
    "df5 = pd.read_csv (r'verticesAnalysis.csv', sep=\", \", engine='python')\n",
    "display(df5)\n",
    "\n",
    "r5, c5 = df5.shape\n",
    "print(r5, \"rows x\", c5, \"columns.\")"
   ]
  },
  {
   "cell_type": "markdown",
   "metadata": {
    "extensions": {
     "jupyter_dashboards": {
      "version": 1,
      "views": {
       "grid_default": {},
       "report_default": {}
      }
     }
    }
   },
   "source": [
    "### 6. MD & WB graphs"
   ]
  },
  {
   "cell_type": "code",
   "execution_count": 12,
   "metadata": {},
   "outputs": [
    {
     "data": {
      "application/vnd.jupyter.widget-view+json": {
       "model_id": "392fe24a322f435dbc480cedf83b9d73",
       "version_major": 2,
       "version_minor": 0
      },
      "text/plain": [
       "Image(value=b'\\x89PNG\\r\\n\\x1a\\n\\x00\\x00\\x00\\rIHDR\\x00\\x00\\x03\\xe8\\x00\\x00\\x03\\xe8\\x08\\x02\\x00\\x00\\x00\\xc2\\xc1C…"
      ]
     },
     "metadata": {},
     "output_type": "display_data"
    }
   ],
   "source": [
    "file = open(\"WbMdGraphs.png\", \"rb\")\n",
    "image = file.read()\n",
    "widgets.Image(\n",
    "    value=image,\n",
    "    format='png',\n",
    "    width=1000,\n",
    "    height=1000,\n",
    ")"
   ]
  },
  {
   "cell_type": "markdown",
   "metadata": {},
   "source": [
    "## UI part I"
   ]
  },
  {
   "cell_type": "code",
   "execution_count": 126,
   "metadata": {
    "cell_style": "center",
    "scrolled": false
   },
   "outputs": [
    {
     "name": "stdout",
     "output_type": "stream",
     "text": [
      "Results of the well-formedness analysis of two structural/product decomposition models :\n"
     ]
    },
    {
     "data": {
      "application/vnd.jupyter.widget-view+json": {
       "model_id": "e325c395ce02411da82a6079fce183e4",
       "version_major": 2,
       "version_minor": 0
      },
      "text/plain": [
       "Tab(children=(Accordion(children=(HBox(children=(Image(value=b'\\x89PNG\\r\\n\\x1a\\n\\x00\\x00\\x00\\rIHDR\\x00\\x00\\x03…"
      ]
     },
     "metadata": {},
     "output_type": "display_data"
    },
    {
     "name": "stdout",
     "output_type": "stream",
     "text": [
      "Correct the WorkBench model to pursue towards consistency analysis.\n"
     ]
    }
   ],
   "source": [
    "ConnectedDefinition = \"Graph is connected when there is a path from any point to any other point in the graph.\"\n",
    "AcyclicDefinition = \"Graph is acyclic when no sequence of edges exists that can be followed to loop back to that starting node.\"\n",
    "DirectedDefinition = \"Graph is directed when all the edges are directed from one vertex to another.\"\n",
    "RootedDefinition = \"Graph is rooted when one and one only vertex, shows no outcoming edge.\"\n",
    "\n",
    "WBConnectedG = open(\"WBConnectedG.png\", \"rb\")\n",
    "WBacyclicG = open(\"WBacyclicG.png\", \"rb\")\n",
    "WBDirectedG = open(\"WBDirectedG.png\", \"rb\")\n",
    "WBrootedG = open(\"WBConnectedG.png\", \"rb\")\n",
    "WBwfResult = open(\"WBwfResult.png\", \"rb\")\n",
    "WBconnectedResult = open(\"WBconnectedResult.png\", \"rb\")\n",
    "WBacyclicResult = open(\"WBacyclicResult.png\", \"rb\")\n",
    "WBdirectedResult = open(\"WBdirectedResult.png\", \"rb\")\n",
    "WBrootedResult = open(\"WBrootedResult.png\", \"rb\")\n",
    "WBconnectedReport = widgets.Output()\n",
    "WBconnectedReport.append_display_data(HTML(\"WBconnectedReport.html\"))\n",
    "WBacyclicReport = widgets.Output()\n",
    "WBacyclicReport.append_display_data(HTML(\"WBacyclicReport.html\"))\n",
    "WBdirectedReport = widgets.Output()\n",
    "WBdirectedReport.append_display_data(HTML(\"WBdirectedReport.html\"))\n",
    "WBrootedReport = widgets.Output()\n",
    "WBrootedReport.append_display_data(HTML(\"WBrootedReport.html\"))\n",
    "WBactionsToPerform = widgets.Output()\n",
    "WBactionsToPerform.append_display_data(HTML(\"WBactionsToPerform.html\"))\n",
    "\n",
    "MDConnectedG = open(\"MDConnectedG.png\", \"rb\")\n",
    "MDacyclicG = open(\"MDacyclicG.png\", \"rb\")\n",
    "MDDirectedG = open(\"MDDirectedG.png\", \"rb\")\n",
    "MDrootedG = open(\"MDrootedG.png\", \"rb\")\n",
    "MDwfResult = open(\"MDwfResult.png\", \"rb\")\n",
    "MDconnectedResult = open(\"MDconnectedResult.png\", \"rb\")\n",
    "MDacyclicResult = open(\"MDacyclicResult.png\", \"rb\")\n",
    "MDdirectedResult = open(\"MDdirectedResult.png\", \"rb\")\n",
    "MDrootedResult = open(\"MDrootedResult.png\", \"rb\")\n",
    "MDconnectedReport = widgets.Output()\n",
    "MDconnectedReport.append_display_data(HTML(\"MDconnectedReport.html\"))\n",
    "MDacyclicReport = widgets.Output()\n",
    "MDacyclicReport.append_display_data(HTML(\"MDacyclicReport.html\"))\n",
    "MDdirectedReport = widgets.Output()\n",
    "MDdirectedReport.append_display_data(HTML(\"MDdirectedReport.html\"))\n",
    "MDrootedReport = widgets.Output()\n",
    "MDrootedReport.append_display_data(HTML(\"MDrootedReport.html\"))\n",
    "MDactionsToPerform = widgets.Output()\n",
    "MDactionsToPerform.append_display_data(HTML(\"MDactionsToPerform.html\"))\n",
    "\n",
    "print(\"Results of the well-formedness analysis of two structural/product decomposition models :\")\n",
    "list_widgets_WB = [\n",
    "    widgets.HBox([widgets.Image(value=WBwfResult.read(), format='png', width=25, height=25)]),\n",
    "    widgets.VBox([WBactionsToPerform]),\n",
    "    widgets.VBox([widgets.HTML(value=ConnectedDefinition), widgets.Image(value=WBconnectedResult.read(), format='png', width=25, height=25), widgets.Image(value=WBConnectedG.read(), format='png', width=1000, height=1000), WBconnectedReport]),\n",
    "    widgets.VBox([widgets.HTML(value=AcyclicDefinition), widgets.Image(value=WBacyclicResult.read(), format='png', width=25, height=25), widgets.Image(value=WBacyclicG.read(), format='png', width=1000, height=1000), WBacyclicReport]),\n",
    "    widgets.VBox([widgets.HTML(value=DirectedDefinition), widgets.Image(value=WBdirectedResult.read(), format='png', width=25, height=25), widgets.Image(value=WBDirectedG.read(), format='png', width=1000, height=1000), WBdirectedReport]),\n",
    "    widgets.VBox([widgets.HTML(value=RootedDefinition), widgets.Image(value=WBrootedResult.read(), format='png', width=25, height=25), widgets.Image(value=WBrootedG.read(), format='png', width=1000, height=1000), WBrootedReport])\n",
    "                ]\n",
    "\n",
    "list_widgets_MD = [\n",
    "    widgets.HBox([widgets.Image(value=MDwfResult.read(), format='png', width=25, height=25)]),\n",
    "    widgets.VBox([MDactionsToPerform]),\n",
    "    widgets.VBox([widgets.HTML(value=ConnectedDefinition), widgets.Image(value=MDconnectedResult.read(), format='png', width=25, height=25), widgets.Image(value=MDConnectedG.read(), format='png', width=1000, height=1000), MDconnectedReport]),\n",
    "    widgets.VBox([widgets.HTML(value=AcyclicDefinition), widgets.Image(value=MDacyclicResult.read(), format='png', width=25, height=25), widgets.Image(value=MDacyclicG.read(), format='png', width=1000, height=1000), MDacyclicReport]),\n",
    "    widgets.VBox([widgets.HTML(value=DirectedDefinition), widgets.Image(value=MDdirectedResult.read(), format='png', width=25, height=25), widgets.Image(value=MDDirectedG.read(), format='png', width=1000, height=1000), MDdirectedReport]),\n",
    "    widgets.VBox([widgets.HTML(value=RootedDefinition), widgets.Image(value=MDrootedResult.read(), format='png', width=25, height=25), widgets.Image(value=MDrootedG.read(), format='png', width=1000, height=1000), MDrootedReport])\n",
    "                ]\n",
    "\n",
    "accordionWB = widgets.Accordion(children=list_widgets_WB)\n",
    "accordionWB.set_title(0, 'Well-formedness analysis result of the WorkBench structural/product decomposition model')\n",
    "accordionWB.set_title(1, 'Actions to perform')\n",
    "accordionWB.set_title(2, 'Connected')\n",
    "accordionWB.set_title(3, 'Acyclic')\n",
    "accordionWB.set_title(4, 'Directed')\n",
    "accordionWB.set_title(5, 'Rooted')\n",
    "\n",
    "\n",
    "accordionMD = widgets.Accordion(children=list_widgets_MD)\n",
    "accordionMD.set_title(0, 'Well-formedness analysis result of the MagicDraw structural/product decomposition model')\n",
    "accordionMD.set_title(1, 'Actions to perform')\n",
    "accordionMD.set_title(2, 'Connected')\n",
    "accordionMD.set_title(3, 'Acyclic')\n",
    "accordionMD.set_title(4, 'Directed')\n",
    "accordionMD.set_title(5, 'Rooted')\n",
    "\n",
    "tab_contents = ['P0', 'P1', 'P2', 'P3', 'P4']\n",
    "children = [widgets.Text(description=name) for name in tab_contents]\n",
    "tab = widgets.Tab()\n",
    "tab.children = children\n",
    "for i in range(len(children)):\n",
    "    tab.set_title(i, str(i))\n",
    "    \n",
    "tab_nest = widgets.Tab()\n",
    "tab_nest.children = [accordionWB, accordionMD]\n",
    "tab_nest.set_title(0, 'WorkBench')\n",
    "tab_nest.set_title(1, 'MagicDraw')\n",
    "display(tab_nest)\n",
    "\n",
    "\n",
    "with open('MDwf.csv', 'rt') as f:\n",
    "     reader = csv.reader(f, delimiter=',')\n",
    "     for row in reader:\n",
    "          for MDwf in row: \"\"\n",
    "                    \n",
    "with open('WBwf.csv', 'rt') as f:\n",
    "     reader = csv.reader(f, delimiter=',')\n",
    "     for row in reader:\n",
    "          for WBwf in row: \"\"\n",
    "           \n",
    "if (MDwf == \"OK\") & (WBwf == \"OK\"):\n",
    "    print(\"The WorkBench and MagicDraw models are well-formed.\")\n",
    "\n",
    "if (MDwf == \"OK\") & (WBwf == \"KO\"):\n",
    "    print(\"Correct the WorkBench model to pursue towards consistency analysis.\")   \n",
    "    \n",
    "if (MDwf == \"KO\") & (WBwf == \"OK\"):\n",
    "    print(\"Correct the MagicDraw model to pursue towards consistency analysis.\")   \n",
    "    \n",
    "if (MDwf == \"KO\") & (WBwf == \"KO\"):      \n",
    "    print(\"Correct the WorkBench and MagicDraw models to pursue towards consistency analysis.\")     "
   ]
  },
  {
   "cell_type": "markdown",
   "metadata": {},
   "source": [
    "## UI part II"
   ]
  },
  {
   "cell_type": "code",
   "execution_count": 125,
   "metadata": {},
   "outputs": [
    {
     "name": "stdout",
     "output_type": "stream",
     "text": [
      "Results of the consistency analysis of two structural/product decomposition models :\n"
     ]
    },
    {
     "data": {
      "application/vnd.jupyter.widget-view+json": {
       "model_id": "5fe5a6b92a1248699295cca1ffcdf7ae",
       "version_major": 2,
       "version_minor": 0
      },
      "text/plain": [
       "Tab(children=(Accordion(children=(HBox(children=(Image(value=b'', height='25', width='25'),)), VBox(children=(…"
      ]
     },
     "metadata": {},
     "output_type": "display_data"
    }
   ],
   "source": [
    "if (MDwf == \"OK\"): #& (WBwf == \"OK\"):\n",
    "    print(\"Results of the consistency analysis of two structural/product decomposition models :\")\n",
    "    list_widgets = [\n",
    "    widgets.HBox([widgets.Image(value=WBwfResult.read(), format='png', width=25, height=25)]),\n",
    "    widgets.VBox([widgets.HTML(value=ConnectedDefinition), widgets.Image(value=WBconnectedResult.read(), format='png', width=25, height=25), widgets.Image(value=WBConnectedG.read(), format='png', width=1000, height=1000), WBconnectedReport]),\n",
    "    widgets.VBox([widgets.HTML(value=AcyclicDefinition), widgets.Image(value=WBacyclicResult.read(), format='png', width=25, height=25), widgets.Image(value=WBacyclicG.read(), format='png', width=1000, height=1000), WBacyclicReport]),\n",
    "    widgets.VBox([widgets.HTML(value=DirectedDefinition), widgets.Image(value=WBdirectedResult.read(), format='png', width=25, height=25), widgets.Image(value=WBDirectedG.read(), format='png', width=1000, height=1000), WBdirectedReport]),\n",
    "    widgets.VBox([widgets.HTML(value=RootedDefinition), widgets.Image(value=WBrootedResult.read(), format='png', width=25, height=25), widgets.Image(value=WBrootedG.read(), format='png', width=1000, height=1000), WBrootedReport]),\n",
    "    widgets.VBox([widgets.HTML(value=RootedDefinition), widgets.Image(value=WBrootedResult.read(), format='png', width=25, height=25), widgets.Image(value=WBrootedG.read(), format='png', width=1000, height=1000), WBrootedReport]),\n",
    "    widgets.VBox([widgets.HTML(value=RootedDefinition), widgets.Image(value=WBrootedResult.read(), format='png', width=25, height=25), widgets.Image(value=WBrootedG.read(), format='png', width=1000, height=1000), WBrootedReport])\n",
    "                ]\n",
    "\n",
    "    accordion = widgets.Accordion(children=list_widgets)\n",
    "    accordion.set_title(1, 'Correction suggestions')\n",
    "    accordion.set_title(2, 'WB and MD Isomorphic')\n",
    "    accordion.set_title(3, 'MD a subgraph isomorphism of WB')\n",
    "    accordion.set_title(4, 'WB a subgraph isomorphism of MD')\n",
    "    accordion.set_title(5, 'Consistent semantic overlap')\n",
    "    accordion.set_title(6, 'Consistent semantic overlap')\n",
    "    \n",
    "    tab_nest = widgets.Tab()\n",
    "    tab_nest.children = [accordion]\n",
    "    tab_nest.set_title(0, 'WB and MD')\n",
    "    display(tab_nest)\n",
    "    \n"
   ]
  },
  {
   "cell_type": "code",
   "execution_count": null,
   "metadata": {},
   "outputs": [],
   "source": []
  },
  {
   "cell_type": "code",
   "execution_count": null,
   "metadata": {},
   "outputs": [],
   "source": []
  }
 ],
 "metadata": {
  "extensions": {
   "jupyter_dashboards": {
    "activeView": "grid_default",
    "version": 1,
    "views": {
     "grid_default": {
      "cellMargin": 10,
      "defaultCellHeight": 20,
      "maxColumns": 12,
      "name": "grid",
      "type": "grid"
     },
     "report_default": {
      "name": "report",
      "type": "report"
     }
    }
   }
  },
  "hide_input": false,
  "kernelspec": {
   "display_name": "Python 3",
   "language": "python",
   "name": "python3"
  },
  "language_info": {
   "codemirror_mode": {
    "name": "ipython",
    "version": 3
   },
   "file_extension": ".py",
   "mimetype": "text/x-python",
   "name": "python",
   "nbconvert_exporter": "python",
   "pygments_lexer": "ipython3",
   "version": "3.7.3"
  },
  "toc": {
   "base_numbering": 1,
   "nav_menu": {
    "height": "81px",
    "width": "265.2px"
   },
   "number_sections": false,
   "sideBar": false,
   "skip_h1_title": false,
   "title_cell": "Table of Contents",
   "title_sidebar": "Contents",
   "toc_cell": false,
   "toc_position": {},
   "toc_section_display": false,
   "toc_window_display": false
  }
 },
 "nbformat": 4,
 "nbformat_minor": 2
}
