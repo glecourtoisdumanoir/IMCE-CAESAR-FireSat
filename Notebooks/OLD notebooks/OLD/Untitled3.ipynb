{
 "cells": [
  {
   "cell_type": "code",
   "execution_count": 2,
   "metadata": {},
   "outputs": [
    {
     "name": "stderr",
     "output_type": "stream",
     "text": [
      "Loading required package: XML\n",
      "Loading required package: RCurl\n",
      "Loading required package: bitops\n"
     ]
    }
   ],
   "source": [
    "library(SPARQL)\n"
   ]
  },
  {
   "cell_type": "code",
   "execution_count": 4,
   "metadata": {},
   "outputs": [
    {
     "ename": "ERROR",
     "evalue": "Error in parse(text = x, srcfile = src): <text>:2:5: unexpected symbol\n1: \n2: val group\n       ^\n",
     "output_type": "error",
     "traceback": [
      "Error in parse(text = x, srcfile = src): <text>:2:5: unexpected symbol\n1: \n2: val group\n       ^\nTraceback:\n"
     ]
    }
   ],
   "source": [
    "\n",
    "val group = z.input(\"group\", \"\")\n",
    "z.put(\"group\", group)\n",
    "val name = z.input(\"name\",\"Reference Designator\")\n",
    "z.put(\"name\", name)\n"
   ]
  },
  {
   "cell_type": "code",
   "execution_count": null,
   "metadata": {},
   "outputs": [],
   "source": [
    "%spark\n",
    "\n",
    "val fuseki = z.input(\"fuseki\", \"https://imce-caesar-repository.jpl.nasa.gov/\")\n",
    "z.put(\"fuseki\", fuseki)\n",
    "\n",
    "val dataset = z.input(\"dataset\")\n",
    "z.put(\"dataset\", dataset)\n"
   ]
  },
  {
   "cell_type": "code",
   "execution_count": null,
   "metadata": {},
   "outputs": [],
   "source": [
    "%spark.r\n",
    "endpoint <- \"http://localhost:3030/WBv6/query\"\n",
    "\n",
    "query <-\n",
    "'\n",
    "PREFIX rdfs: <http://www.w3.org/2000/01/rdf-schema#>\n",
    "PREFIX owl: <http://www.w3.org/2002/07/owl#>\n",
    "PREFIX fse: <http://imce.jpl.nasa.gov/discipline/fse/fse#>\n",
    "PREFIX xsd: <http://www.w3.org/2001/XMLSchema#>\n",
    "PREFIX base: <http://imce.jpl.nasa.gov/foundation/base/base#>\n",
    "PREFIX mission: <http://imce.jpl.nasa.gov/foundation/mission/mission#>\n",
    "PREFIX rdf: <http://www.w3.org/1999/02/22-rdf-syntax-ns#>\n",
    "PREFIX EuropaTypes: <http://europa.jpl.nasa.gov/efse/libraries/EuropaTypes#>\n",
    "select distinct ?subSystemNumber  ?subSystemRefDes ?subSystemLabel ?subSystemAcronym ?provenanceSubsystem ?assemblyAcronym ?assemblyName ?assemblyRefDes ?parentAssemblyRefDes ?mountingLocation ?provenanceAssembly \n",
    "where {\n",
    "  #Getting Subsystem\n",
    "    graph ?gs {?ss a ?st}\n",
    "    ?gs fse:hasProvenance ?provenanceSubsystem .\n",
    "    ?st rdfs:subClassOf fse:Subsystem . \n",
    "    ?ss fse:hasSubsystemAcronym ?subSystemAcronym ;\n",
    "        fse:hasSubsystemNumber ?subSystemNumber ;\n",
    "        fse:hasSubsystemReferenceDesignator ?subSystemRefDes ;\n",
    "        base:hasAlternateName ?subSystemLabel .\n",
    "   \n",
    "  \n",
    "   [ base:hasAggregatesSource ?ss; \n",
    "      base:hasAggregatesTarget ?a ].\n",
    "  \n",
    "  #Getting Assembly\n",
    "    graph ?ga {?a a ?at } .\n",
    "    ?ga fse:hasProvenance ?provenanceAssembly .\n",
    "    ?at rdfs:subClassOf fse:Assembly .\n",
    "    ?a fse:hasAssemblyReferenceDesignator ?assemblyRefDes ;\n",
    "       base:hasAlternateName ?assemblyAcronym ;\n",
    "       base:hasCanonicalName ?assemblyName .\n",
    "  optional{\n",
    "                ?parenta a base:Contains ;\n",
    "            base:hasContainsSource ?pa;\n",
    "               base:hasContainsTarget ?a.\n",
    "        ?pa fse:hasAssemblyReferenceDesignator ?parentAssemblyRefDes ;\n",
    "  }\n",
    "  optional{\n",
    "    ?a EuropaTypes:BasicAssembly.Mounting_Location ?mountingLocation.\n",
    "  }\n",
    "      \n",
    "\n",
    "}\n",
    "\n",
    "\n",
    "'\n",
    "qd <- SPARQL(endpoint,query)\n",
    "df <- qd$results\n"
   ]
  },
  {
   "cell_type": "code",
   "execution_count": null,
   "metadata": {},
   "outputs": [],
   "source": [
    "%spark.r\n",
    "\n",
    "#Defining Column Names\n",
    "colNames<- c(\"SUBSYSTEM_NUMBER\" , \"SUBSYSTEM_REFDES\", \"SUBSYSTEM_NAME\", \"SUBSYSTEM_ACRONYM\", \"PROVENANCE_SUBSYSTEM\", \"ASSEMBLY_ACRONYM\", \"ASSEMBLY_NAME\" , \"ASSEMBLY_REFDES\",\"PARENT_ASSEMBLY\", \"MOUNTING_LOCATION\", \"PROVENANCE_ASSEMBLY\")\n",
    "\n",
    "#Aggregating multiple function numbers into a coma separated single row\n",
    "d <- tryCatch(\n",
    "    {\n",
    "        #Renaming column Names\n",
    "        names(df) <-colNames\n",
    "        createDataFrame(sqlContext,df)\n",
    "        \n",
    "    }, error=function(e) {\n",
    "    \n",
    "        #Creating Empty data frame\n",
    "        emptydf <- data.frame(rbind(sapply(colNames,function(x)NA)))\n",
    "        createDataFrame(sqlContext,emptydf)\n",
    "        \n",
    "    })\n",
    "    \n",
    "\n",
    "registerTempTable (d, \"EFSE_REF_DES\")\n",
    "\n",
    "\n"
   ]
  },
  {
   "cell_type": "code",
   "execution_count": null,
   "metadata": {},
   "outputs": [],
   "source": [
    "%sql\n",
    "SELECT distinct  PROVENANCE_SUBSYSTEM as Configuration_Management_State, SUBSYSTEM_NUMBER as Subsystem_Number,   SUBSYSTEM_ACRONYM as Subsystem_Or_Assembly_Acronym , SUBSYSTEM_NAME as Subsystem_Or_Assembly_Name, SUBSYSTEM_REFDES as Reference_Designator, \"-\" as Parent_Assembly, \"-\" as Mounting_Location FROM EFSE_REF_DES  union all (select PROVENANCE_ASSEMBLY, SUBSYSTEM_REFDES,  ASSEMBLY_ACRONYM, ASSEMBLY_NAME, ASSEMBLY_REFDES,PARENT_ASSEMBLY, MOUNTING_LOCATION  from EFSE_REF_DES)\n"
   ]
  }
 ],
 "metadata": {
  "kernelspec": {
   "display_name": "R",
   "language": "R",
   "name": "ir"
  },
  "language_info": {
   "codemirror_mode": "r",
   "file_extension": ".r",
   "mimetype": "text/x-r-source",
   "name": "R",
   "pygments_lexer": "r",
   "version": "3.6.0"
  }
 },
 "nbformat": 4,
 "nbformat_minor": 2
}
