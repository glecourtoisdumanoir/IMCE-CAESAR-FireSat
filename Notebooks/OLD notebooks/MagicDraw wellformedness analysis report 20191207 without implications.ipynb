{
 "cells": [
  {
   "cell_type": "markdown",
   "metadata": {},
   "source": [
    "# Analysis of datasets - source: MagicDraw model"
   ]
  },
  {
   "cell_type": "markdown",
   "metadata": {},
   "source": [
    "Mission: verify the integrity of a system model"
   ]
  },
  {
   "cell_type": "markdown",
   "metadata": {},
   "source": [
    "Objectives: \n",
    "- use pattern matching to detect the inconsistencies,\n",
    "- use graph analysis to display correction suggestions,\n",
    "- allocate the correction of the system model to a user."
   ]
  },
  {
   "cell_type": "markdown",
   "metadata": {},
   "source": [
    "Note: the RDF dataset shall be \n",
    "- renamed: *.trig\n",
    "- available through a query endpoint"
   ]
  },
  {
   "cell_type": "code",
   "execution_count": 1,
   "metadata": {},
   "outputs": [],
   "source": [
    "# import necessary libraries \n",
    "import pandas as pd\n",
    "from pandas.io.json import json_normalize\n",
    "from SPARQLWrapper import SPARQLWrapper, JSON\n",
    "\n",
    "import ipywidgets as widgets\n",
    "from ipywidgets import Layout\n",
    "from IPython.display import Javascript\n",
    "\n",
    "from urllib.request import Request, urlopen\n",
    "from urllib.error import URLError, HTTPError\n",
    "\n",
    "import networkx as nx\n",
    "import snap"
   ]
  },
  {
   "cell_type": "code",
   "execution_count": 2,
   "metadata": {},
   "outputs": [],
   "source": [
    "# definition of a function: sparql query\n",
    "def query_fusekiData(sparql_query, sparql_service_url):\n",
    "    \"\"\"\n",
    "    Query the endpoint with the given query string and return the results as a pandas Dataframe.\n",
    "    \"\"\"\n",
    "    # create the connection to the endpoint\n",
    "    sparql = SPARQLWrapper(sparql_service_url)\n",
    "    \n",
    "    sparql.setQuery(sparql_query)\n",
    "    sparql.setReturnFormat(JSON)\n",
    "\n",
    "    # ask for the result\n",
    "    result = sparql.query().convert()\n",
    "    return json_normalize(result[\"results\"][\"bindings\"])"
   ]
  },
  {
   "cell_type": "code",
   "execution_count": 3,
   "metadata": {},
   "outputs": [
    {
     "data": {
      "application/vnd.jupyter.widget-view+json": {
       "model_id": "05a8c9a2099544cd9bd8a2f848ae4d2f",
       "version_major": 2,
       "version_minor": 0
      },
      "text/plain": [
       "Text(value='http://localhost:3030/*', description='Endpoint: ', layout=Layout(height='40px', width='auto'), pl…"
      ]
     },
     "metadata": {},
     "output_type": "display_data"
    }
   ],
   "source": [
    "# definition of ipywidget 'Text' to prompt the  endpoint to query\n",
    "layout = widgets.Layout(width='auto', height='40px') #set width and height of the different widgets\n",
    "endpoint=widgets.Text(\n",
    "    value='http://localhost:3030/*',\n",
    "    placeholder='http://localhost:3030/',\n",
    "    description='Endpoint: ',\n",
    "    layout = layout,\n",
    "    disabled=False\n",
    ")\n",
    "display(endpoint)"
   ]
  },
  {
   "cell_type": "code",
   "execution_count": 4,
   "metadata": {},
   "outputs": [
    {
     "data": {
      "application/vnd.jupyter.widget-view+json": {
       "model_id": "65eaf9bac4734262854b4d4bb3f20e54",
       "version_major": 2,
       "version_minor": 0
      },
      "text/plain": [
       "Button(description='Analyze dataset', layout=Layout(height='40px', width='auto'), style=ButtonStyle())"
      ]
     },
     "metadata": {},
     "output_type": "display_data"
    }
   ],
   "source": [
    "# definition of ipywidget 'Button' to take into account the endpoint value prompted\n",
    "output = widgets.Output()\n",
    "def on_button_clicked(b):\n",
    "    with output:\n",
    "        display(Javascript('IPython.notebook.execute_cell_range(IPython.notebook.get_selected_index()+1, IPython.notebook.ncells())'))\n",
    "        \n",
    "b = widgets.Button(\n",
    "    description='Analyze dataset', \n",
    "    layout = layout,\n",
    "    disabled=False)\n",
    "display(b)\n",
    "b.on_click(on_button_clicked)"
   ]
  },
  {
   "cell_type": "code",
   "execution_count": 40,
   "metadata": {},
   "outputs": [
    {
     "name": "stdout",
     "output_type": "stream",
     "text": [
      "Endpoint: http://localhost:3030/MDv20191202 found. Processing results now...\n"
     ]
    }
   ],
   "source": [
    "# verification of the endpoint URL\n",
    "if (' ' in endpoint.value): \n",
    "    print('Error - There is a blank space in the Endpoint address.')\n",
    "    raise SystemExit\n",
    "else:\n",
    "    req = Request(endpoint.value)\n",
    "    try:\n",
    "        response = urlopen(req)\n",
    "    except HTTPError as e:\n",
    "        print('Error - Endpoint: ' +endpoint.value + ' not found. Verify URL. (Error code: ', e.code, ')')\n",
    "        raise SystemExit\n",
    "    except URLError as e:\n",
    "        print('Error - Server not reached. (Reason: ', e.reason, ')')\n",
    "        raise SystemExit\n",
    "    else:\n",
    "        print ('Endpoint: ' +endpoint.value + ' found. Processing results now...')"
   ]
  },
  {
   "cell_type": "markdown",
   "metadata": {},
   "source": [
    "# Rule #1: Structural decomposition graph shall be directed, acyclic, connected and rooted"
   ]
  },
  {
   "cell_type": "code",
   "execution_count": 41,
   "metadata": {
    "scrolled": false
   },
   "outputs": [],
   "source": [
    "# assemblies are aggregates in assemblies\n",
    "query = \"\"\"\n",
    "PREFIX owl:   <http://www.w3.org/2002/07/owl#>\n",
    "PREFIX rdfs:  <http://www.w3.org/2000/01/rdf-schema#>\n",
    "PREFIX base:  <http://imce.jpl.nasa.gov/foundation/base/base#>\n",
    "\n",
    "SELECT DISTINCT ?physicalComponent ?isContainedIn\n",
    "FROM <urn:x-arq:UnionGraph>\n",
    "WHERE\n",
    "{\n",
    "  ?a a owl:Class ;\n",
    "     rdfs:label ?b ;\n",
    "     rdfs:subClassOf <http://firesat.jpl.nasa.gov/user-model/generated/md/profileExt/firesat-extensions_ID__18_5_3_8c20287_1563932039371_543598_24020#PhysicalComponent_ID__18_5_3_8c20287_1563932086646_143892_24055>.\n",
    "\n",
    "  ?c a owl:Class ;\n",
    "     rdfs:label ?physicalComponent ;\n",
    "     rdfs:subClassOf <http://firesat.jpl.nasa.gov/user-model/generated/md/profileExt/firesat-extensions_ID__18_5_3_8c20287_1563932039371_543598_24020#PhysicalComponent_ID__18_5_3_8c20287_1563932086646_143892_24055>.\n",
    "\n",
    "\n",
    "  optional {?a rdfs:subClassOf [a owl:Restriction ;\n",
    "               owl:onProperty base:aggregates ;\n",
    "               owl:someValuesFrom ?c] }.\n",
    "\n",
    "  optional {?e rdfs:subClassOf [a owl:Restriction ;\n",
    "               owl:onProperty base:aggregates ;\n",
    "               owl:someValuesFrom ?c ].\n",
    "    ?e rdfs:label ?isContainedIn }.\n",
    "}\n",
    "\"\"\"\n",
    "if query_fusekiData(query, endpoint.value).empty:\n",
    "    print('Error - The pattern matching query returned no results. Verify OWL data.')\n",
    "    raise SystemExit\n",
    "else:\n",
    "    result_table = query_fusekiData(query, endpoint.value)"
   ]
  },
  {
   "cell_type": "code",
   "execution_count": 42,
   "metadata": {},
   "outputs": [],
   "source": [
    "if 'physicalComponent.value' not in result_table.columns:\n",
    "    print('Error - No physical component found. Verify OWL data.')\n",
    "    raise SystemExit\n",
    "else:\n",
    "    obj = result_table[['physicalComponent.value', 'isContainedIn.value']]\n",
    "    obj = obj.rename(columns = lambda col: col.replace(\".value\", \"\"))"
   ]
  },
  {
   "cell_type": "code",
   "execution_count": 43,
   "metadata": {},
   "outputs": [],
   "source": [
    "# from dataframe to graph\n",
    "objGraph = nx.from_pandas_edgelist(obj, 'physicalComponent', 'isContainedIn', create_using=nx.DiGraph())"
   ]
  },
  {
   "cell_type": "code",
   "execution_count": 44,
   "metadata": {},
   "outputs": [
    {
     "name": "stdout",
     "output_type": "stream",
     "text": [
      "Structural decomposition graph is directed: True\n"
     ]
    }
   ],
   "source": [
    "# is graph directed\n",
    "print(\"Structural decomposition graph is directed:\", nx.is_directed(objGraph))"
   ]
  },
  {
   "cell_type": "code",
   "execution_count": 45,
   "metadata": {},
   "outputs": [
    {
     "name": "stdout",
     "output_type": "stream",
     "text": [
      "Structural decomposition graph is acyclic: True\n"
     ]
    }
   ],
   "source": [
    "# is graph acyclic\n",
    "print(\"Structural decomposition graph is acyclic:\", nx.is_directed_acyclic_graph(objGraph))\n",
    "if not nx.is_directed_acyclic_graph(objGraph):\n",
    "    print(\"Number of cycles:\", len(list(nx.simple_cycles(objGraph))))\n",
    "    print(\"Cycles found:\")\n",
    "    for el in list(nx.simple_cycles(objGraph)):\n",
    "        print('- ', el)\n",
    "    print(\"Among them, number of self-loop edges:\", objGraph.number_of_selfloops())\n",
    "    print(\"Nodes presenting a self-loop edge:\" )\n",
    "    for el in objGraph.nodes_with_selfloops():\n",
    "        print('- ', el)\n",
    "    print(\"\\nSuggestion: Correct the structural decomposition graph so that it becomes acyclic.\")"
   ]
  },
  {
   "cell_type": "code",
   "execution_count": 46,
   "metadata": {},
   "outputs": [
    {
     "name": "stdout",
     "output_type": "stream",
     "text": [
      "Structural decomposition graph is connected: True\n"
     ]
    }
   ],
   "source": [
    "# is graph connected\n",
    "print(\"Structural decomposition graph is connected:\", nx.is_weakly_connected(objGraph))\n",
    "if not nx.is_weakly_connected(objGraph):\n",
    "    print(\"Number of isolated nodes:\", len(list(nx.isolates(objGraph))))\n",
    "    print(\"Isolated nodes:\")\n",
    "    for el in list(nx.isolates(objGraph)):\n",
    "        print('- ', el)\n",
    "    print(\"\\nSuggestion: Connect the isolated nodes.\")"
   ]
  },
  {
   "cell_type": "code",
   "execution_count": 47,
   "metadata": {
    "scrolled": false
   },
   "outputs": [
    {
     "name": "stdout",
     "output_type": "stream",
     "text": [
      "Structural decomposition graph is rooted: True\n"
     ]
    }
   ],
   "source": [
    "# is graph rooted\n",
    "obj = pd.DataFrame(objGraph.out_degree())\n",
    "obj = obj[obj[1]==0]\n",
    "print(\"Structural decomposition graph is rooted:\", obj.shape[0] == 1)\n",
    "if obj.shape[0] == 0:\n",
    "    print(\"No roots found.\")\n",
    "    print(\"\\nSuggestion: Correct the structural decomposition graph so that it presents one and only one root.\")\n",
    "if obj.shape[0] > 1:\n",
    "    print(\"Number of roots found:\", obj.shape[0])\n",
    "    print(\"Roots found:\")\n",
    "    for el in obj[0]:\n",
    "        print('-', el)\n",
    "    print(\"\\nSuggestion: Correct the structural decomposition graph so that it presents one and only one root.\")"
   ]
  },
  {
   "cell_type": "markdown",
   "metadata": {},
   "source": [
    "# Rule #2: Each Physical Component shall be contained in exactly one Subsystem"
   ]
  },
  {
   "cell_type": "code",
   "execution_count": 48,
   "metadata": {},
   "outputs": [],
   "source": [
    "# physical components are contained in subsystems sparql query\n",
    "query = \"\"\"\n",
    "PREFIX owl:   <http://www.w3.org/2002/07/owl#>\n",
    "PREFIX rdfs:  <http://www.w3.org/2000/01/rdf-schema#>\n",
    "PREFIX base:  <http://imce.jpl.nasa.gov/foundation/base/base#>\n",
    "\n",
    "SELECT DISTINCT ?physicalComponent ?subSystem\n",
    "FROM <urn:x-arq:UnionGraph>\n",
    "WHERE\n",
    "{\n",
    "  ?a a owl:Class ;\n",
    "     rdfs:label ?b ;\n",
    "     rdfs:subClassOf <http://firesat.jpl.nasa.gov/user-model/generated/md/profileExt/firesat-extensions_ID__18_5_3_8c20287_1563932039371_543598_24020#PhysicalComponent_ID__18_5_3_8c20287_1563932086646_143892_24055>.\n",
    "\n",
    "  ?c a owl:Class ;\n",
    "     rdfs:label ?physicalComponent ;\n",
    "     rdfs:subClassOf <http://firesat.jpl.nasa.gov/user-model/generated/md/profileExt/firesat-extensions_ID__18_5_3_8c20287_1563932039371_543598_24020#PhysicalComponent_ID__18_5_3_8c20287_1563932086646_143892_24055>.\n",
    "\n",
    "\n",
    "  optional {?a rdfs:subClassOf [a owl:Restriction ;\n",
    "               owl:onProperty base:contains ;\n",
    "               owl:someValuesFrom ?c] }.\n",
    "\n",
    "  optional {?e rdfs:subClassOf [a owl:Restriction ;\n",
    "               owl:onProperty base:contains ;\n",
    "               owl:someValuesFrom ?c ].\n",
    "    ?e rdfs:label ?subSystem }.\n",
    "}\n",
    "\"\"\"\n",
    "if query_fusekiData(query, endpoint.value).empty:\n",
    "    print('Error - The pattern matching query returned no results. Verify OWL data.')\n",
    "    raise SystemExit\n",
    "else:\n",
    "    result_table = query_fusekiData(query, endpoint.value)"
   ]
  },
  {
   "cell_type": "code",
   "execution_count": 49,
   "metadata": {},
   "outputs": [],
   "source": [
    "if 'subSystem.value' not in result_table.columns:\n",
    "    print('Error - No subsystem found. Verify OWL data.')\n",
    "    raise SystemExit\n",
    "else:\n",
    "    obj = result_table[['physicalComponent.value', 'subSystem.value']]\n",
    "    obj = obj.rename(columns = lambda col: col.replace(\".value\", \"\"))"
   ]
  },
  {
   "cell_type": "code",
   "execution_count": 50,
   "metadata": {},
   "outputs": [],
   "source": [
    "# from dataframe to graph\n",
    "objGraph = nx.from_pandas_edgelist(obj, 'physicalComponent', 'subSystem', create_using=nx.DiGraph())"
   ]
  },
  {
   "cell_type": "markdown",
   "metadata": {},
   "source": [
    "### a/ Is there Physical Components not contained in any Subystem?"
   ]
  },
  {
   "cell_type": "code",
   "execution_count": 51,
   "metadata": {},
   "outputs": [
    {
     "name": "stdout",
     "output_type": "stream",
     "text": [
      "Number of physical components not aggregated in any subsystem: 0\n",
      "The model complies with the rule. No action needs to be performed.\n"
     ]
    }
   ],
   "source": [
    "sol_a = obj.subSystem.isnull().sum() # select rows based on condition \n",
    "\n",
    "print('Number of physical components not aggregated in any subsystem: '+str(sol_a))\n",
    "sol_a = obj[obj['subSystem'].isnull()] \n",
    "sol_a = sol_a['physicalComponent'].tolist()\n",
    "\n",
    "if not sol_a:\n",
    "    print('The model complies with the rule. No action needs to be performed.')\n",
    "else:\n",
    "    print('\\nList of physical component currently not aggregated in any subsystem: ')\n",
    "    for el in sol_a:\n",
    "        print (\"- \" +el)\n",
    "    print(\"\\nSuggestion: Connect each of these physical components to one subsystem.\")"
   ]
  },
  {
   "cell_type": "markdown",
   "metadata": {},
   "source": [
    "### b/ Is there any Physical Components contained in more than one Subsystem?"
   ]
  },
  {
   "cell_type": "code",
   "execution_count": 52,
   "metadata": {},
   "outputs": [
    {
     "name": "stdout",
     "output_type": "stream",
     "text": [
      "Number of physical components aggregated in more than one subsystem: 0\n",
      "The model complies with the rule. No action needs to be performed.\n"
     ]
    }
   ],
   "source": [
    "sol_b = obj.groupby([\"physicalComponent\"]).size()\n",
    "sol_b = sol_b.to_frame(\"subSystem_count\")\n",
    "\n",
    "sol_b = sol_b[sol_b['subSystem_count'] > 1] # select rows based on condition \n",
    "print('Number of physical components aggregated in more than one subsystem: '+str(sol_b.shape[0]))\n",
    "\n",
    "if sol_b.empty:\n",
    "    print('The model complies with the rule. No action needs to be performed.')\n",
    "else:\n",
    "    print('\\nList of physical components currently aggregated in more than one subsystem: ')\n",
    "    for i in range(sol_b.shape[0]):\n",
    "        print('- Physical component ' +list(sol_b.index)[i] +' is aggregated in ' +str(list(sol_b.subSystem_count)[i]) +' different Subsystems: ')\n",
    "        for j in range((obj[obj['physicalComponent'] == list(sol_b.index)[i]]).shape[0]):\n",
    "            print('  o ' +list(obj[obj['physicalComponent'] == list(sol_b.index)[i]].subSystem)[j])\n",
    "    print(\"\\nSuggestion: Look for these physical components and delete the extra base:contains relationships.\")"
   ]
  },
  {
   "cell_type": "markdown",
   "metadata": {
    "cell_style": "center"
   },
   "source": [
    "# Rule #3: Each Subsystem shall be supplied by exactly one WorkPackage"
   ]
  },
  {
   "cell_type": "code",
   "execution_count": 53,
   "metadata": {
    "scrolled": false
   },
   "outputs": [],
   "source": [
    "# workpackages supply subsystems sparql query\n",
    "query = \"\"\"\n",
    "PREFIX project: <http://imce.jpl.nasa.gov/foundation/project/project#>\n",
    "PREFIX owl:   <http://www.w3.org/2002/07/owl#>\n",
    "PREFIX rdfs:  <http://www.w3.org/2000/01/rdf-schema#>\n",
    "\n",
    "SELECT DISTINCT ?subsystem ?workPackage\n",
    "\n",
    "FROM <urn:x-arq:UnionGraph>\n",
    "WHERE\n",
    "{\n",
    "  ?a rdfs:subClassOf <http://firesat.jpl.nasa.gov/user-model/generated/md/profileExt/firesat-extensions_ID__18_5_3_8c20287_1563932039371_543598_24020#Subsystem_ID__18_5_3_8c20287_1572979614280_430250_25878>;\n",
    "     rdfs:label ?subsystem.\n",
    "  \n",
    "  optional {\n",
    "    ?b rdfs:subClassOf  [ a owl:Restriction ; owl:onProperty project:supplies ; owl:someValuesFrom ?a ] ;\n",
    "                                                                                rdfs:label ?workPackage. }  \n",
    "}\n",
    "\"\"\"\n",
    "if query_fusekiData(query, endpoint.value).empty:\n",
    "    print('Error - The pattern matching query returned no results. Verify OWL data.')\n",
    "    raise SystemExit\n",
    "else:\n",
    "    result_table = query_fusekiData(query, endpoint.value)"
   ]
  },
  {
   "cell_type": "code",
   "execution_count": 54,
   "metadata": {},
   "outputs": [],
   "source": [
    "if 'subsystem.value' not in result_table.columns:\n",
    "    print('Error - No subsystem found. Verify OWL data.')\n",
    "    raise SystemExit\n",
    "else:\n",
    "    obj = result_table[[\"subsystem.value\", \"workPackage.value\"]]\n",
    "    obj = obj.rename(columns = lambda col: col.replace(\".value\", \"\"))"
   ]
  },
  {
   "cell_type": "markdown",
   "metadata": {},
   "source": [
    "### a/ Is there Subsystems not supplied by any WorkPackage?"
   ]
  },
  {
   "cell_type": "code",
   "execution_count": 55,
   "metadata": {},
   "outputs": [
    {
     "name": "stdout",
     "output_type": "stream",
     "text": [
      "Number of subsystems not supplied by any workpackage: 0\n",
      "The model complies with the rule. No action needs to be performed.\n"
     ]
    }
   ],
   "source": [
    "sol_a = obj.workPackage.isnull().sum() # select rows based on condition \n",
    "\n",
    "print('Number of subsystems not supplied by any workpackage: '+str(sol_a))\n",
    "sol_a = obj[obj['workPackage'].isnull()] \n",
    "sol_a = sol_a['subsystem'].tolist()\n",
    "\n",
    "if not sol_a:\n",
    "    print('The model complies with the rule. No action needs to be performed.')\n",
    "else:\n",
    "    print('\\nList of subsystems currently not supplied by any workpackage: ')\n",
    "    for el in sol_a:\n",
    "        print (\"- \" +el)\n",
    "    print(\"\\nSuggestion: Connect each of these subsystems to one workpackage.\")"
   ]
  },
  {
   "cell_type": "markdown",
   "metadata": {},
   "source": [
    "### b/ Is there Subsystems supplied by more than one WorkPackage?"
   ]
  },
  {
   "cell_type": "code",
   "execution_count": 56,
   "metadata": {},
   "outputs": [
    {
     "name": "stdout",
     "output_type": "stream",
     "text": [
      "Number of subsystems supplied by more than one workpackage: 0\n",
      "The model complies with the rule. No action needs to be performed.\n"
     ]
    }
   ],
   "source": [
    "sol_b = obj.groupby([\"subsystem\"]).size()\n",
    "sol_b = sol_b.to_frame(\"workPackage_count\")\n",
    "\n",
    "sol_b = sol_b[sol_b['workPackage_count'] > 1] # select rows based on condition \n",
    "print('Number of subsystems supplied by more than one workpackage: '+str(sol_b.shape[0]))\n",
    "\n",
    "if sol_b.empty:\n",
    "    print('The model complies with the rule. No action needs to be performed.')\n",
    "else:\n",
    "    print('\\nList of subsystems currently supplied by more than one workpackage: ')\n",
    "    for i in range(sol_b.shape[0]):\n",
    "        print('- Subsystem ' +list(sol_b.index)[i] +' is supplied by ' +str(list(sol_b.workPackage_count)[i]) +' different WorkPackages: ')\n",
    "        for j in range((obj[obj['subsystem'] == list(sol_b.index)[i]]).shape[0]):\n",
    "            print('  o ' +list(obj[obj['subsystem'] == list(sol_b.index)[i]].workPackage)[j])\n",
    "    print(\"\\nSuggestion: Look for these subsytems and delete the extra project:supplies relationships.\")"
   ]
  },
  {
   "cell_type": "markdown",
   "metadata": {},
   "source": [
    "# Rule #4: Each Physical Component shall perform at least one Function"
   ]
  },
  {
   "cell_type": "code",
   "execution_count": 57,
   "metadata": {},
   "outputs": [],
   "source": [
    "# assemblies perform functions sparql query\n",
    "query = \"\"\"\n",
    "PREFIX owl:   <http://www.w3.org/2002/07/owl#>\n",
    "PREFIX rdfs:  <http://www.w3.org/2000/01/rdf-schema#>\n",
    "PREFIX base:  <http://imce.jpl.nasa.gov/foundation/base/base#>\n",
    "PREFIX mission: <http://imce.jpl.nasa.gov/foundation/mission/mission#>\n",
    "\n",
    "SELECT DISTINCT ?physicalComponent ?function\n",
    "FROM <urn:x-arq:UnionGraph>\n",
    "WHERE\n",
    "{\n",
    "  ?a a owl:Class ;\n",
    "     rdfs:label ?physicalComponent ;\n",
    "     rdfs:subClassOf <http://firesat.jpl.nasa.gov/user-model/generated/md/profileExt/firesat-extensions_ID__18_5_3_8c20287_1563932039371_543598_24020#PhysicalComponent_ID__18_5_3_8c20287_1563932086646_143892_24055>.\n",
    "\n",
    "  optional {\n",
    "    ?a rdfs:subClassOf  [ a owl:Restriction ; owl:onProperty mission:performs ; owl:someValuesFrom ?b ].\n",
    "    ?b rdfs:label ?function\n",
    "    }\n",
    "}\n",
    "\"\"\"\n",
    "if query_fusekiData(query, endpoint.value).empty:\n",
    "    print('Error - The pattern matching query returned no results. Verify OWL data.')\n",
    "    raise SystemExit\n",
    "else:\n",
    "    result_table = query_fusekiData(query, endpoint.value)"
   ]
  },
  {
   "cell_type": "code",
   "execution_count": 58,
   "metadata": {},
   "outputs": [],
   "source": [
    "if 'physicalComponent.value' not in result_table.columns:\n",
    "    print('Error - No physical component found. Verify OWL data.')\n",
    "    raise SystemExit\n",
    "else:\n",
    "    obj = result_table[['physicalComponent.value', 'function.value']]\n",
    "    obj = obj.rename(columns = lambda col: col.replace(\".value\", \"\"))"
   ]
  },
  {
   "cell_type": "code",
   "execution_count": 59,
   "metadata": {
    "scrolled": false
   },
   "outputs": [
    {
     "name": "stdout",
     "output_type": "stream",
     "text": [
      "Number of physical components not performing any function: 7\n",
      "\n",
      "List of physical components currently not performing any function: \n",
      "- Launch vehicle interface module\n",
      "- Avionics stack section\n",
      "- Propellant handling section\n",
      "- Base plate module\n",
      "- Top panel module\n",
      "- Propulsion module\n",
      "- Payload module\n",
      "\n",
      "Suggestion: Connect each of these physical components to exactly one function.\n"
     ]
    }
   ],
   "source": [
    "sol_a = obj.function.isnull().sum() # select rows based on condition \n",
    "\n",
    "print('Number of physical components not performing any function: '+str(sol_a))\n",
    "sol_a = obj[obj['function'].isnull()] \n",
    "sol_a = sol_a['physicalComponent'].tolist()\n",
    "\n",
    "if not sol_a:\n",
    "    print('The model complies with the rule. No action needs to be performed.')\n",
    "else:\n",
    "    print('\\nList of physical components currently not performing any function: ')\n",
    "    for el in sol_a:\n",
    "        print (\"- \" +el)\n",
    "    print(\"\\nSuggestion: Connect each of these physical components to exactly one function.\")"
   ]
  },
  {
   "cell_type": "markdown",
   "metadata": {},
   "source": [
    "# Rule #5: Each Physical Component shall be specified by at least one Requirement"
   ]
  },
  {
   "cell_type": "code",
   "execution_count": 60,
   "metadata": {},
   "outputs": [],
   "source": [
    "# assemblies are specified by requirements sparql query\n",
    "query = \"\"\"\n",
    "PREFIX owl:   <http://www.w3.org/2002/07/owl#>\n",
    "PREFIX rdfs:  <http://www.w3.org/2000/01/rdf-schema#>\n",
    "PREFIX mission: <http://imce.jpl.nasa.gov/foundation/mission/mission#>\n",
    "PREFIX base:  <http://imce.jpl.nasa.gov/foundation/base/base#>\n",
    "\n",
    "SELECT DISTINCT ?physicalComponent ?requirement\n",
    "FROM <urn:x-arq:UnionGraph>\n",
    "WHERE\n",
    "{\n",
    "  ?a a owl:Class ;\n",
    "     rdfs:label ?physicalComponent ;\n",
    "     rdfs:subClassOf <http://firesat.jpl.nasa.gov/user-model/generated/md/profileExt/firesat-extensions_ID__18_5_3_8c20287_1563932039371_543598_24020#PhysicalComponent_ID__18_5_3_8c20287_1563932086646_143892_24055>.\n",
    "\n",
    "  optional {\n",
    "    ?b rdfs:subClassOf  mission:Requirement ;\n",
    "       rdfs:label ?requirement.\n",
    "    ?b rdfs:subClassOf [ a owl:Restriction ; owl:onProperty mission:specifies ; owl:someValuesFrom ?a ].  \n",
    "  }\n",
    "}\n",
    "\"\"\"\n",
    "if query_fusekiData(query, endpoint.value).empty:\n",
    "    print('Error - The pattern matching query returned no results. Verify OWL data.')\n",
    "    raise SystemExit\n",
    "else:\n",
    "    result_table = query_fusekiData(query, endpoint.value)"
   ]
  },
  {
   "cell_type": "code",
   "execution_count": 61,
   "metadata": {},
   "outputs": [],
   "source": [
    "if 'physicalComponent.value' not in result_table.columns:\n",
    "    print('Error - No physical component found. Verify OWL data.')\n",
    "    raise SystemExit\n",
    "else:\n",
    "    obj = result_table[['physicalComponent.value','requirement.value']]\n",
    "    obj = obj.rename(columns = lambda col: col.replace(\".value\", \"\"))"
   ]
  },
  {
   "cell_type": "code",
   "execution_count": 62,
   "metadata": {},
   "outputs": [
    {
     "name": "stdout",
     "output_type": "stream",
     "text": [
      "Number of physical components not specified by any requirement: 7\n",
      "\n",
      "List of physical components currently not specified by any requirement: \n",
      "- Launch vehicle interface module\n",
      "- GPS receiver unit\n",
      "- Avionics stack section\n",
      "- Propellant handling section\n",
      "- Base plate module\n",
      "- Top panel module\n",
      "- Payload module\n",
      "\n",
      "Suggestion: Connect each of these physical components to at least one requirement.\n"
     ]
    }
   ],
   "source": [
    "sol = obj.requirement.isnull().sum() # select rows based on condition \n",
    "\n",
    "print('Number of physical components not specified by any requirement: '+str(sol))\n",
    "sol = obj[obj['requirement'].isnull()] \n",
    "sol = sol['physicalComponent'].tolist()\n",
    "\n",
    "if not sol:\n",
    "    print('The model complies with the rule. No action needs to be performed.')\n",
    "else:\n",
    "    print('\\nList of physical components currently not specified by any requirement: ')\n",
    "    for el in sol:\n",
    "        print (\"- \" +el)\n",
    "    print(\"\\nSuggestion: Connect each of these physical components to at least one requirement.\")"
   ]
  },
  {
   "cell_type": "markdown",
   "metadata": {},
   "source": [
    "# Rule #6: Each Function shall be performed by exactly one Physical Component"
   ]
  },
  {
   "cell_type": "code",
   "execution_count": 63,
   "metadata": {},
   "outputs": [],
   "source": [
    "# functions are performed by assemblies sparql query\n",
    "query = \"\"\"\n",
    "PREFIX owl:   <http://www.w3.org/2002/07/owl#>\n",
    "PREFIX rdfs:  <http://www.w3.org/2000/01/rdf-schema#>\n",
    "PREFIX mission: <http://imce.jpl.nasa.gov/foundation/mission/mission#>\n",
    "\n",
    "SELECT DISTINCT ?function ?physicalComponent \n",
    "FROM <urn:x-arq:UnionGraph>\n",
    "WHERE\n",
    "{\n",
    "  ?a rdfs:subClassOf  [ a owl:Restriction ; owl:onProperty mission:performs ; owl:someValuesFrom ?b ].\n",
    "  ?b rdfs:label ?function\n",
    "\n",
    "  optional {\n",
    "    ?c a owl:Class ;\n",
    "       rdfs:label ?physicalComponent ;\n",
    "       rdfs:subClassOf <http://firesat.jpl.nasa.gov/user-model/generated/md/profileExt/firesat-extensions_ID__18_5_3_8c20287_1563932039371_543598_24020#PhysicalComponent_ID__18_5_3_8c20287_1563932086646_143892_24055>.\n",
    "    ?c rdfs:subClassOf [ a owl:Restriction ; owl:onProperty mission:performs ; owl:someValuesFrom ?b ]. \n",
    "  }\n",
    "}\n",
    "\"\"\"\n",
    "if query_fusekiData(query, endpoint.value).empty:\n",
    "    print('Error - The pattern matching query returned no results. Verify OWL data.')\n",
    "    raise SystemExit\n",
    "else:\n",
    "    result_table = query_fusekiData(query, endpoint.value)"
   ]
  },
  {
   "cell_type": "code",
   "execution_count": 64,
   "metadata": {},
   "outputs": [],
   "source": [
    "if 'function.value' not in result_table.columns:\n",
    "    print('Error - No function found. Verify OWL data.')\n",
    "    raise SystemExit\n",
    "else:\n",
    "    obj = result_table[['function.value', 'physicalComponent.value']]\n",
    "    obj = obj.rename(columns = lambda col: col.replace(\".value\", \"\"))"
   ]
  },
  {
   "cell_type": "markdown",
   "metadata": {},
   "source": [
    "### a/ Is there Functions not performed by any Physical Component?"
   ]
  },
  {
   "cell_type": "code",
   "execution_count": 65,
   "metadata": {},
   "outputs": [
    {
     "name": "stdout",
     "output_type": "stream",
     "text": [
      "Number of functions not performed by any physical component: 0\n",
      "The model complies with the rule. No action needs to be performed.\n"
     ]
    }
   ],
   "source": [
    "sol_a = obj.physicalComponent.isnull().sum() # select rows based on condition \n",
    "\n",
    "print('Number of functions not performed by any physical component: '+str(sol_a))\n",
    "sol_a = obj[obj['physicalComponent'].isnull()] \n",
    "sol_a = sol_a['function'].tolist()\n",
    "\n",
    "if not sol_a:\n",
    "    print('The model complies with the rule. No action needs to be performed.')\n",
    "else:\n",
    "    print('\\nList of functions currently not performed by any physical component: ')\n",
    "    for el in sol_a:\n",
    "        print (\"- \" +el)\n",
    "    print(\"\\nSuggestion: Connect each of these functions to at least one physical component.\")"
   ]
  },
  {
   "cell_type": "markdown",
   "metadata": {},
   "source": [
    "### b/ Is there Functions performed by more than one Physical Component?"
   ]
  },
  {
   "cell_type": "code",
   "execution_count": 66,
   "metadata": {},
   "outputs": [
    {
     "name": "stdout",
     "output_type": "stream",
     "text": [
      "Number of functions performed by more than one physical component: 14\n",
      "\n",
      "List of functions currently performed by more than one physical component: \n",
      "- Function Apply commands is performed by 2 different Physical Components: \n",
      "  o Primary flight computer unit\n",
      "  o Receiver unit\n",
      "- Function Attitude awareness is performed by 3 different Physical Components: \n",
      "  o Magnetometer\n",
      "  o Sun sensor\n",
      "  o Earth sensor\n",
      "- Function Control trajectory is performed by 20 different Physical Components: \n",
      "  o Magnetorquer 3\n",
      "  o Reaction wheel 1\n",
      "  o Magnetorquer 2\n",
      "  o Reaction wheel 3\n",
      "  o ACS thruster 5\n",
      "  o ACS thruster 2\n",
      "  o Magnetorquer 1\n",
      "  o Reaction wheel 4\n",
      "  o ACS thruster 3\n",
      "  o Propellant tank\n",
      "  o ACS thruster 1\n",
      "  o Propulsion system control unit\n",
      "  o BP propellant line unit\n",
      "  o ACS thruster 6\n",
      "  o Reaction wheel 2\n",
      "  o Fill/Drain valve unit\n",
      "  o ACS thruster 4\n",
      "  o ADCS electronics unit\n",
      "  o Pressurant tank\n",
      "  o PM propellant line unit\n",
      "- Function Deploy mechanisms is performed by 5 different Physical Components: \n",
      "  o Solar array with SADA 2\n",
      "  o Transmit hi-gain antenna\n",
      "  o Receive whip antenna\n",
      "  o Solar array with SADA 1\n",
      "  o Transmit whip antenna\n",
      "- Function Detect new wildfires is performed by 3 different Physical Components: \n",
      "  o Primary flight computer unit\n",
      "  o Firesat spacecraft system segment\n",
      "  o Sensor\n",
      "- Function Generate telemetry is performed by 2 different Physical Components: \n",
      "  o Primary flight computer unit\n",
      "  o Transmitter unit\n",
      "- Function Insure mechanical integrity is performed by 21 different Physical Components: \n",
      "  o Propulsion structure post 1\n",
      "  o Side panel 3\n",
      "  o Payload structural interface\n",
      "  o Top panel\n",
      "  o Structure post 1\n",
      "  o Structure post 5\n",
      "  o Structure post 2\n",
      "  o Side panel 5\n",
      "  o Side panel 2\n",
      "  o Side panel 1\n",
      "  o Side panel 6\n",
      "  o Propulsion structure post 4\n",
      "  o Structure post 3\n",
      "  o Structure post 6\n",
      "  o Propulsion structure post 2\n",
      "  o Pressurant tank mounting panel\n",
      "  o Base plate\n",
      "  o Side panel 4\n",
      "  o Structure post 4\n",
      "  o Propulsion structure post 3\n",
      "  o Propellant tank mounting panel\n",
      "- Function Launch S/C is performed by 2 different Physical Components: \n",
      "  o Launch vehicle adapter\n",
      "  o Primary thruster\n",
      "- Function Monitore existing wildfires 24/7 is performed by 2 different Physical Components: \n",
      "  o Firesat spacecraft system segment\n",
      "  o Sensor\n",
      "- Function Position awareness is performed by 2 different Physical Components: \n",
      "  o GPS receiver unit\n",
      "  o GPS antenna\n",
      "- Function Protect against radiations is performed by 6 different Physical Components: \n",
      "  o Side panel 3\n",
      "  o Side panel 5\n",
      "  o Side panel 2\n",
      "  o Side panel 1\n",
      "  o Side panel 6\n",
      "  o Side panel 4\n",
      "- Function Store energy during eclipses is performed by 3 different Physical Components: \n",
      "  o Battery pack 3\n",
      "  o Battery pack 1\n",
      "  o Battery pack 2\n",
      "- Function Supply power 24/7 is performed by 2 different Physical Components: \n",
      "  o EPS regulators and converters unit\n",
      "  o Power control unit\n",
      "- Function Transform solar radiations into energy is performed by 2 different Physical Components: \n",
      "  o Solar array with SADA 2\n",
      "  o Solar array with SADA 1\n",
      "\n",
      "Suggestion: Look for these functions and delete the extra mission:performs relationships.\n"
     ]
    }
   ],
   "source": [
    "sol_b = obj.groupby([\"function\"]).size()\n",
    "sol_b = sol_b.to_frame(\"physicalComponent_count\")\n",
    "\n",
    "sol_b = sol_b[sol_b['physicalComponent_count'] > 1] # select rows based on condition \n",
    "print('Number of functions performed by more than one physical component: '+str(sol_b.shape[0]))\n",
    "\n",
    "if sol_b.empty:\n",
    "    print('The model complies with the rule. No action needs to be performed.')\n",
    "else:\n",
    "    print('\\nList of functions currently performed by more than one physical component: ')\n",
    "    for i in range(sol_b.shape[0]):\n",
    "        print('- Function ' +list(sol_b.index)[i] +' is performed by ' +str(list(sol_b.physicalComponent_count)[i]) +' different Physical Components: ')\n",
    "        for j in range((obj[obj['function'] == list(sol_b.index)[i]]).shape[0]):\n",
    "            print('  o ' +list(obj[obj['function'] == list(sol_b.index)[i]].physicalComponent)[j])\n",
    "    print(\"\\nSuggestion: Look for these functions and delete the extra mission:performs relationships.\")"
   ]
  },
  {
   "cell_type": "markdown",
   "metadata": {},
   "source": [
    "# Rule #7: Each Requirement shall specify at least one Physical Component or a mission:performs association¶"
   ]
  },
  {
   "cell_type": "code",
   "execution_count": 67,
   "metadata": {},
   "outputs": [],
   "source": [
    "# requirements specify assemblies sparql query\n",
    "query = \"\"\"\n",
    "PREFIX owl:   <http://www.w3.org/2002/07/owl#>\n",
    "PREFIX rdfs:  <http://www.w3.org/2000/01/rdf-schema#>\n",
    "PREFIX mission: <http://imce.jpl.nasa.gov/foundation/mission/mission#>\n",
    "\n",
    "SELECT DISTINCT ?requirement ?physicalComponent ?fonctionalComponent \n",
    "FROM <urn:x-arq:UnionGraph>\n",
    "WHERE\n",
    "{\n",
    "  ?a rdfs:subClassOf  mission:Requirement ;\n",
    "     rdfs:label ?requirement.\n",
    "\n",
    "  optional {\n",
    "    ?c a owl:Class ;\n",
    "       rdfs:label ?physicalComponent ;\n",
    "       rdfs:subClassOf <http://firesat.jpl.nasa.gov/user-model/generated/md/profileExt/firesat-extensions_ID__18_5_3_8c20287_1563932039371_543598_24020#PhysicalComponent_ID__18_5_3_8c20287_1563932086646_143892_24055>.\n",
    "    ?a rdfs:subClassOf [ a owl:Restriction ; owl:onProperty mission:specifies ; owl:someValuesFrom ?c ].  \n",
    "  }\n",
    "  optional{\n",
    "    ?e a owl:Class ;\n",
    "       rdfs:label ?fonctionalComponent ;\n",
    "       rdfs:subClassOf <http://firesat.jpl.nasa.gov/user-model/generated/md/profileExt/firesat-extensions_ID__18_5_3_8c20287_1563932039371_543598_24020#PhysicalComponent_ID__18_5_3_8c20287_1563932086646_143892_24055>.\n",
    "    ?a rdfs:subClassOf [ a owl:Restriction ; owl:onProperty mission:specifies ; owl:someValuesFrom ?x ]. \n",
    "\n",
    "    ?x rdfs:subClassOf [ a owl:Restriction ; owl:onProperty mission:hasPerformsSource ; owl:someValuesFrom ?e ].\n",
    "  }\n",
    "}\n",
    "\"\"\"\n",
    "if query_fusekiData(query, endpoint.value).empty:\n",
    "    print('Error - The pattern matching query returned no results. Verify OWL data.')\n",
    "    raise SystemExit\n",
    "else:\n",
    "    result_table = query_fusekiData(query, endpoint.value)"
   ]
  },
  {
   "cell_type": "code",
   "execution_count": 68,
   "metadata": {},
   "outputs": [],
   "source": [
    "if 'requirement.value' not in result_table.columns:\n",
    "    print('Error - No requirement found. Verify OWL data.')\n",
    "    raise SystemExit\n",
    "else:\n",
    "    obj = result_table[['requirement.value', 'physicalComponent.value', 'fonctionalComponent.value']]\n",
    "    obj = obj.rename(columns = lambda col: col.replace(\".value\", \"\"))"
   ]
  },
  {
   "cell_type": "code",
   "execution_count": 69,
   "metadata": {},
   "outputs": [
    {
     "name": "stdout",
     "output_type": "stream",
     "text": [
      "Number of requirements that do not specify any physical component nor any mission:performs association: 3\n",
      "\n",
      "List of requirements that currently do not specify any physical component nor any mission:performs association: \n",
      "- Time allocation for ground receipt and confirmation OUTSIDE SCOPE\n",
      "- Timeliness\n",
      "- Timeliness-refined\n",
      "\n",
      "Suggestion: Connect each of these requirements to at least one physical component or to one mission:performs association.\n"
     ]
    }
   ],
   "source": [
    "sol = obj.physicalComponent.isnull() & obj.fonctionalComponent.isnull() # select rows based on condition \n",
    "sol = list(sol)\n",
    "\n",
    "print('Number of requirements that do not specify any physical component nor any mission:performs association: '+str(sol.count(True)))\n",
    "sol = obj[(obj['physicalComponent'].isnull()) & (obj['fonctionalComponent'].isnull())]\n",
    "sol = sol['requirement'].tolist()\n",
    "\n",
    "if not sol:\n",
    "    print('The model complies with the rule. No action needs to be performed.')\n",
    "else:\n",
    "    print('\\nList of requirements that currently do not specify any physical component nor any mission:performs association: ')\n",
    "    for el in sol:\n",
    "        print (\"- \" +el)\n",
    "    print(\"\\nSuggestion: Connect each of these requirements to at least one physical component or to one mission:performs association.\")"
   ]
  },
  {
   "cell_type": "markdown",
   "metadata": {},
   "source": [
    "# Rule #8: Each WorkPackage shall be under the responsability of exactly one organization"
   ]
  },
  {
   "cell_type": "code",
   "execution_count": 70,
   "metadata": {},
   "outputs": [],
   "source": [
    "# workPackages under the responsability of organizations sparql query\n",
    "query = \"\"\"\n",
    "PREFIX owl:   <http://www.w3.org/2002/07/owl#>\n",
    "PREFIX rdfs:  <http://www.w3.org/2000/01/rdf-schema#>\n",
    "PREFIX project: <http://imce.jpl.nasa.gov/foundation/project/project#>\n",
    "\n",
    "SELECT DISTINCT ?workPackage ?organization \n",
    "FROM <urn:x-arq:UnionGraph>\n",
    "WHERE\n",
    "{\n",
    "  ?a rdfs:subClassOf  project:WorkPackage ;\n",
    "     rdfs:label ?workPackage.\n",
    "  \n",
    "  optional {\n",
    "  ?b rdfs:subClassOf project:Organization ;\n",
    "     rdfs:label ?organization ;\n",
    "     rdfs:subClassOf  [ a owl:Restriction ; owl:onProperty project:hasResponsibilityFor ; owl:someValuesFrom ?a ] . }\n",
    "}\n",
    "\"\"\"\n",
    "if query_fusekiData(query, endpoint.value).empty:\n",
    "    print('Error - The pattern matching query returned no results. Verify OWL data.')\n",
    "    raise SystemExit\n",
    "else:\n",
    "    result_table = query_fusekiData(query, endpoint.value)"
   ]
  },
  {
   "cell_type": "code",
   "execution_count": 71,
   "metadata": {},
   "outputs": [],
   "source": [
    "if 'workPackage.value' not in result_table.columns:\n",
    "    print('Error - No workPackage found. Verify OWL data.')\n",
    "    raise SystemExit\n",
    "else:\n",
    "    obj = result_table[['workPackage.value', 'organization.value']]\n",
    "    obj = obj.rename(columns = lambda col: col.replace(\".value\", \"\"))"
   ]
  },
  {
   "cell_type": "markdown",
   "metadata": {},
   "source": [
    "### a/ Is there WorkPackages not under the responsability of any organization?"
   ]
  },
  {
   "cell_type": "code",
   "execution_count": 72,
   "metadata": {},
   "outputs": [
    {
     "name": "stdout",
     "output_type": "stream",
     "text": [
      "Number of workPackages not under the responsability of any organization: 0\n",
      "The model complies with the rule. No action needs to be performed.\n"
     ]
    }
   ],
   "source": [
    "sol_a = obj.organization.isnull().sum() # select rows based on condition \n",
    "\n",
    "print('Number of workPackages not under the responsability of any organization: '+str(sol_a))\n",
    "sol_a = obj[obj['organization'].isnull()] \n",
    "sol_a = sol_a['workPackage'].tolist()\n",
    "\n",
    "if not sol_a:\n",
    "    print('The model complies with the rule. No action needs to be performed.')\n",
    "else:\n",
    "    print('\\nList of workPackages currently not under the responsability of any organization: ')\n",
    "    for el in sol_a:\n",
    "        print (\"- \" +el)\n",
    "    print(\"\\nSuggestion: Connect each of these workPackages to exactly one organization.\")"
   ]
  },
  {
   "cell_type": "markdown",
   "metadata": {},
   "source": [
    "### b/ Is there WorkPackages under the responsability of more than one organization?"
   ]
  },
  {
   "cell_type": "code",
   "execution_count": 73,
   "metadata": {},
   "outputs": [
    {
     "name": "stdout",
     "output_type": "stream",
     "text": [
      "Number of workPackages under the responsability of more than one organization: 0\n",
      "The model complies with the rule. No action needs to be performed.\n"
     ]
    }
   ],
   "source": [
    "sol_b = obj.groupby([\"workPackage\"]).size()\n",
    "sol_b = sol_b.to_frame(\"organization_count\")\n",
    "\n",
    "sol_b = sol_b[sol_b['organization_count'] > 1] # select rows based on condition \n",
    "print('Number of workPackages under the responsability of more than one organization: '+str(sol_b.shape[0]))\n",
    "\n",
    "if sol_b.empty:\n",
    "    print('The model complies with the rule. No action needs to be performed.')\n",
    "else:\n",
    "    print('\\nList of workPackages under the responsability of more than one organization: ')\n",
    "    for i in range(sol_b.shape[0]):\n",
    "        print('- WorkPackage ' +list(sol_b.index)[i] +' is under the responsability of ' +str(list(sol_b.organization_count)[i]) +' different Organizations: ')\n",
    "        for j in range((obj[obj['workPackage'] == list(sol_b.index)[i]]).shape[0]):\n",
    "            print('  o ' +list(obj[obj['workPackage'] == list(sol_b.index)[i]].organization)[j])\n",
    "    print(\"\\nSuggestion: Look for these workPackages and delete the extra project:hasResponsibilityFor relationships.\")"
   ]
  },
  {
   "cell_type": "markdown",
   "metadata": {},
   "source": [
    "# Rule #9: Each power load assembly shall be connected to at least one power source assembly"
   ]
  },
  {
   "cell_type": "code",
   "execution_count": 74,
   "metadata": {},
   "outputs": [
    {
     "name": "stdout",
     "output_type": "stream",
     "text": [
      "To be implemented when interfaces will be in the OWL data.\n"
     ]
    }
   ],
   "source": [
    "print(\"To be implemented when interfaces will be in the OWL data.\")"
   ]
  },
  {
   "cell_type": "markdown",
   "metadata": {},
   "source": [
    "# Rule #10: Each power load end circuit interface shall be connected to one power source end circuit interface"
   ]
  },
  {
   "cell_type": "code",
   "execution_count": 75,
   "metadata": {},
   "outputs": [
    {
     "name": "stdout",
     "output_type": "stream",
     "text": [
      "To be implemented when interfaces will be in the OWL data.\n"
     ]
    }
   ],
   "source": [
    "print(\"To be implemented when interfaces will be in the OWL data.\")"
   ]
  },
  {
   "cell_type": "markdown",
   "metadata": {},
   "source": [
    "# Rule #11: The Function decomposition graph shall be directed and acyclic"
   ]
  },
  {
   "cell_type": "code",
   "execution_count": null,
   "metadata": {},
   "outputs": [],
   "source": []
  },
  {
   "cell_type": "markdown",
   "metadata": {},
   "source": [
    "# Rule #12: The Requirement decomposition graph shall be directed and acyclic"
   ]
  },
  {
   "cell_type": "code",
   "execution_count": null,
   "metadata": {},
   "outputs": [],
   "source": []
  }
 ],
 "metadata": {
  "hide_input": false,
  "kernelspec": {
   "display_name": "Python 3",
   "language": "python",
   "name": "python3"
  },
  "language_info": {
   "codemirror_mode": {
    "name": "ipython",
    "version": 3
   },
   "file_extension": ".py",
   "mimetype": "text/x-python",
   "name": "python",
   "nbconvert_exporter": "python",
   "pygments_lexer": "ipython3",
   "version": "3.7.3"
  },
  "varInspector": {
   "cols": {
    "lenName": 16,
    "lenType": 16,
    "lenVar": 40
   },
   "kernels_config": {
    "python": {
     "delete_cmd_postfix": "",
     "delete_cmd_prefix": "del ",
     "library": "var_list.py",
     "varRefreshCmd": "print(var_dic_list())"
    },
    "r": {
     "delete_cmd_postfix": ") ",
     "delete_cmd_prefix": "rm(",
     "library": "var_list.r",
     "varRefreshCmd": "cat(var_dic_list()) "
    }
   },
   "types_to_exclude": [
    "module",
    "function",
    "builtin_function_or_method",
    "instance",
    "_Feature"
   ],
   "window_display": false
  }
 },
 "nbformat": 4,
 "nbformat_minor": 2
}
