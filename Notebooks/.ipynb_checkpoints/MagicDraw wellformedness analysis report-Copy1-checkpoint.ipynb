{
 "cells": [
  {
   "cell_type": "markdown",
   "metadata": {},
   "source": [
    "# Analysis of datasets - source: MagicDraw model"
   ]
  },
  {
   "cell_type": "markdown",
   "metadata": {},
   "source": [
    "Mission: verify the wellformedness of a system model"
   ]
  },
  {
   "cell_type": "markdown",
   "metadata": {},
   "source": [
    "Workflow: \n",
    "- use pattern matching to query the required data,\n",
    "- use graph analysis to detect violations and display correction suggestions,\n",
    "- allocate the correction of the system model to a user."
   ]
  },
  {
   "cell_type": "markdown",
   "metadata": {},
   "source": [
    "Note: the RDF dataset shall be \n",
    "- renamed: *.trig\n",
    "- available through a query endpoint"
   ]
  },
  {
   "cell_type": "code",
   "execution_count": 4,
   "metadata": {},
   "outputs": [],
   "source": [
    "# import necessary libraries \n",
    "import pandas as pd\n",
    "from pandas.io.json import json_normalize\n",
    "from SPARQLWrapper import SPARQLWrapper, JSON\n",
    "\n",
    "import ipywidgets as widgets\n",
    "from ipywidgets import Layout\n",
    "from IPython.display import Javascript\n",
    "\n",
    "from urllib.request import Request, urlopen\n",
    "from urllib.error import URLError, HTTPError\n",
    "\n",
    "import networkx as nx\n",
    "import snap"
   ]
  },
  {
   "cell_type": "code",
   "execution_count": 5,
   "metadata": {},
   "outputs": [],
   "source": [
    "# definition of a function: sparql query\n",
    "def query_fusekiData(sparql_query, sparql_service_url):\n",
    "    \"\"\"\n",
    "    Query the endpoint with the given query string and return the results as a pandas Dataframe.\n",
    "    \"\"\"\n",
    "    # create the connection to the endpoint\n",
    "    sparql = SPARQLWrapper(sparql_service_url)\n",
    "    \n",
    "    sparql.setQuery(sparql_query)\n",
    "    sparql.setReturnFormat(JSON)\n",
    "\n",
    "    # ask for the result\n",
    "    result = sparql.query().convert()\n",
    "    return json_normalize(result[\"results\"][\"bindings\"])"
   ]
  },
  {
   "cell_type": "code",
   "execution_count": 6,
   "metadata": {},
   "outputs": [
    {
     "data": {
      "application/vnd.jupyter.widget-view+json": {
       "model_id": "144cc4c0b4ad443bbdcd3412ba0393d7",
       "version_major": 2,
       "version_minor": 0
      },
      "text/plain": [
       "Text(value='http://localhost:3030/*', description='Endpoint: ', layout=Layout(height='40px', width='auto'), pl…"
      ]
     },
     "metadata": {},
     "output_type": "display_data"
    }
   ],
   "source": [
    "# definition of ipywidget 'Text' to prompt the  endpoint to query\n",
    "layout = widgets.Layout(width='auto', height='40px') #set width and height of the different widgets\n",
    "endpoint=widgets.Text(\n",
    "    value='http://localhost:3030/*',\n",
    "    placeholder='http://localhost:3030/',\n",
    "    description='Endpoint: ',\n",
    "    layout = layout,\n",
    "    disabled=False\n",
    ")\n",
    "display(endpoint)"
   ]
  },
  {
   "cell_type": "code",
   "execution_count": 7,
   "metadata": {},
   "outputs": [
    {
     "data": {
      "application/vnd.jupyter.widget-view+json": {
       "model_id": "dd1afaa56d27439aa2972ff1491eb9ac",
       "version_major": 2,
       "version_minor": 0
      },
      "text/plain": [
       "Button(description='Analyze dataset', layout=Layout(height='40px', width='auto'), style=ButtonStyle())"
      ]
     },
     "metadata": {},
     "output_type": "display_data"
    }
   ],
   "source": [
    "# definition of ipywidget 'Button' to take into account the endpoint value prompted\n",
    "output = widgets.Output()\n",
    "def on_button_clicked(b):\n",
    "    with output:\n",
    "        display(Javascript('IPython.notebook.execute_cell_range(IPython.notebook.get_selected_index()+1, IPython.notebook.ncells())'))\n",
    "        \n",
    "b = widgets.Button(\n",
    "    description='Analyze dataset', \n",
    "    layout = layout,\n",
    "    disabled=False)\n",
    "display(b)\n",
    "b.on_click(on_button_clicked)"
   ]
  },
  {
   "cell_type": "code",
   "execution_count": 8,
   "metadata": {},
   "outputs": [
    {
     "name": "stdout",
     "output_type": "stream",
     "text": [
      "Endpoint: http://localhost:3030/MDv20191216 found. Processing results now...\n"
     ]
    }
   ],
   "source": [
    "# verification of the endpoint URL\n",
    "if (' ' in endpoint.value): \n",
    "    print('Error - There is a blank space in the Endpoint address.')\n",
    "    raise SystemExit\n",
    "else:\n",
    "    req = Request(endpoint.value)\n",
    "    try:\n",
    "        response = urlopen(req)\n",
    "    except HTTPError as e:\n",
    "        print('Error - Endpoint: ' +endpoint.value + ' not found. Verify URL. (Error code: ', e.code, ')')\n",
    "        raise SystemExit\n",
    "    except URLError as e:\n",
    "        print('Error - Server not reached. (Reason: ', e.reason, ')')\n",
    "        raise SystemExit\n",
    "    else:\n",
    "        print ('Endpoint: ' +endpoint.value + ' found. Processing results now...')"
   ]
  },
  {
   "cell_type": "markdown",
   "metadata": {
    "cell_style": "center"
   },
   "source": [
    "# Rule #1a: Structural decomposition graph shall be directed, acyclic and connected"
   ]
  },
  {
   "cell_type": "code",
   "execution_count": 9,
   "metadata": {
    "scrolled": false
   },
   "outputs": [],
   "source": [
    "# assemblies are contained in assemblies\n",
    "query = \"\"\"\n",
    "PREFIX owl:   <http://www.w3.org/2002/07/owl#>\n",
    "PREFIX rdfs:  <http://www.w3.org/2000/01/rdf-schema#>\n",
    "PREFIX base:  <http://imce.jpl.nasa.gov/foundation/base/base#>\n",
    "\n",
    "SELECT DISTINCT ?physicalComponent ?isContainedIn\n",
    "FROM <urn:x-arq:UnionGraph>\n",
    "WHERE\n",
    "{\n",
    "  ?a a owl:Class ;\n",
    "     rdfs:label ?b ;\n",
    "     rdfs:subClassOf <http://firesat.jpl.nasa.gov/user-model/generated/md/profileExt/firesat-extensions_ID__18_5_3_8c20287_1563932039371_543598_24020#PhysicalComponent_ID__18_5_3_8c20287_1563932086646_143892_24055>.\n",
    "\n",
    "  ?c a owl:Class ;\n",
    "     rdfs:label ?physicalComponent ;\n",
    "     rdfs:subClassOf <http://firesat.jpl.nasa.gov/user-model/generated/md/profileExt/firesat-extensions_ID__18_5_3_8c20287_1563932039371_543598_24020#PhysicalComponent_ID__18_5_3_8c20287_1563932086646_143892_24055>.\n",
    "\n",
    "\n",
    "  optional {?a rdfs:subClassOf [a owl:Restriction ;\n",
    "               owl:onProperty base:contains ;\n",
    "               owl:someValuesFrom ?c] }.\n",
    "\n",
    "  optional {?e rdfs:subClassOf [a owl:Restriction ;\n",
    "               owl:onProperty base:contains ;\n",
    "               owl:someValuesFrom ?c ].\n",
    "    ?e rdfs:label ?isContainedIn }.\n",
    "}\n",
    "\"\"\"\n",
    "if query_fusekiData(query, endpoint.value).empty:\n",
    "    print('Error - The pattern matching query returned no results. Verify OWL data.')\n",
    "    raise SystemExit\n",
    "else:\n",
    "    result_table = query_fusekiData(query, endpoint.value)"
   ]
  },
  {
   "cell_type": "code",
   "execution_count": 10,
   "metadata": {},
   "outputs": [],
   "source": [
    "if 'physicalComponent.value' not in result_table.columns:\n",
    "    print('Error - No physical component found. Verify OWL data.')\n",
    "    raise SystemExit\n",
    "else:\n",
    "    obj = result_table[['physicalComponent.value', 'isContainedIn.value']]\n",
    "    obj = obj.rename(columns = lambda col: col.replace(\".value\", \"\"))"
   ]
  },
  {
   "cell_type": "code",
   "execution_count": 11,
   "metadata": {},
   "outputs": [],
   "source": [
    "# from dataframe to graph\n",
    "objGraph = nx.from_pandas_edgelist(obj, 'physicalComponent', 'isContainedIn', create_using=nx.DiGraph())"
   ]
  },
  {
   "cell_type": "code",
   "execution_count": 12,
   "metadata": {},
   "outputs": [
    {
     "name": "stdout",
     "output_type": "stream",
     "text": [
      "Graph is directed: True\n"
     ]
    }
   ],
   "source": [
    "# is graph directed\n",
    "print(\"Graph is directed:\", nx.is_directed(objGraph))"
   ]
  },
  {
   "cell_type": "code",
   "execution_count": 13,
   "metadata": {},
   "outputs": [
    {
     "name": "stdout",
     "output_type": "stream",
     "text": [
      "Graph is acyclic: True\n"
     ]
    }
   ],
   "source": [
    "# is graph acyclic\n",
    "print(\"Graph is acyclic:\", nx.is_directed_acyclic_graph(objGraph))\n",
    "if not nx.is_directed_acyclic_graph(objGraph):\n",
    "    print(\"Number of cycles:\", len(list(nx.simple_cycles(objGraph))))\n",
    "    print(\"Cycles found:\")\n",
    "    for el in list(nx.simple_cycles(objGraph)):\n",
    "        print('- ', el)\n",
    "    print(\"Among them, number of self-loop edges:\", objGraph.number_of_selfloops())\n",
    "    print(\"Nodes presenting a self-loop edge:\" )\n",
    "    for el in objGraph.nodes_with_selfloops():\n",
    "        print('- ', el)\n",
    "    print(\"\\nSuggestion: Correct the graph so that it becomes acyclic.\")"
   ]
  },
  {
   "cell_type": "code",
   "execution_count": 14,
   "metadata": {},
   "outputs": [
    {
     "name": "stdout",
     "output_type": "stream",
     "text": [
      "Graph is connected: True\n"
     ]
    }
   ],
   "source": [
    "# is graph connected\n",
    "print(\"Graph is connected:\", nx.is_weakly_connected(objGraph))\n",
    "if not nx.is_weakly_connected(objGraph):\n",
    "    print(\"Number of isolated nodes:\", len(list(nx.isolates(objGraph))))\n",
    "    print(\"Isolated nodes:\")\n",
    "    for el in list(nx.isolates(objGraph)):\n",
    "        print('- ', el)\n",
    "    print(\"\\nSuggestion: Connect the isolated nodes.\")"
   ]
  },
  {
   "cell_type": "markdown",
   "metadata": {},
   "source": [
    "# Rule #1b optional: Depending on context, structural decomposition graph shall be rooted"
   ]
  },
  {
   "cell_type": "markdown",
   "metadata": {},
   "source": [
    "Note: The following analysis will look for the presence of multiple roots in the structural decomposition. For instance, this result will not make sense to missions consisting of separate lander and orbiter."
   ]
  },
  {
   "cell_type": "code",
   "execution_count": 15,
   "metadata": {
    "scrolled": false
   },
   "outputs": [
    {
     "name": "stdout",
     "output_type": "stream",
     "text": [
      "Graph is rooted: True\n"
     ]
    }
   ],
   "source": [
    "# is graph rooted\n",
    "obj = pd.DataFrame(objGraph.out_degree())\n",
    "obj = obj[obj[1]==0]\n",
    "print(\"Graph is rooted:\", obj.shape[0] == 1)\n",
    "if obj.shape[0] == 0:\n",
    "    print(\"No roots found.\")\n",
    "    print(\"\\nSuggestion: Correct the graph so that it presents one and only one root.\")\n",
    "if obj.shape[0] > 1:\n",
    "    print(\"Number of roots found:\", obj.shape[0])\n",
    "    print(\"Roots found:\")\n",
    "    for el in obj[0]:\n",
    "        print('-', el)\n",
    "    print(\"\\nOPTIONAL - Suggestion: Correct the graph so that it presents one and only one root.\")"
   ]
  },
  {
   "cell_type": "markdown",
   "metadata": {},
   "source": [
    "# Rule #2: Each Physical Component shall be aggregated in at most one Subsystem"
   ]
  },
  {
   "cell_type": "code",
   "execution_count": 16,
   "metadata": {},
   "outputs": [],
   "source": [
    "# physical components are aggregated in subsystems sparql query\n",
    "query = \"\"\"\n",
    "PREFIX owl:   <http://www.w3.org/2002/07/owl#>\n",
    "PREFIX rdfs:  <http://www.w3.org/2000/01/rdf-schema#>\n",
    "PREFIX base:  <http://imce.jpl.nasa.gov/foundation/base/base#>\n",
    "\n",
    "SELECT DISTINCT ?physicalComponent ?subSystem\n",
    "FROM <urn:x-arq:UnionGraph>\n",
    "WHERE\n",
    "{\n",
    "  ?a a owl:Class ;\n",
    "     rdfs:label ?b ;\n",
    "     rdfs:subClassOf <http://firesat.jpl.nasa.gov/user-model/generated/md/profileExt/firesat-extensions_ID__18_5_3_8c20287_1563932039371_543598_24020#PhysicalComponent_ID__18_5_3_8c20287_1563932086646_143892_24055>.\n",
    "\n",
    "  ?c a owl:Class ;\n",
    "     rdfs:label ?physicalComponent ;\n",
    "     rdfs:subClassOf <http://firesat.jpl.nasa.gov/user-model/generated/md/profileExt/firesat-extensions_ID__18_5_3_8c20287_1563932039371_543598_24020#PhysicalComponent_ID__18_5_3_8c20287_1563932086646_143892_24055>.\n",
    "\n",
    "\n",
    "  optional {?a rdfs:subClassOf [a owl:Restriction ;\n",
    "               owl:onProperty base:aggregates ;\n",
    "               owl:someValuesFrom ?c] }.\n",
    "\n",
    "  optional {?e rdfs:subClassOf [a owl:Restriction ;\n",
    "               owl:onProperty base:aggregates ;\n",
    "               owl:someValuesFrom ?c ].\n",
    "    ?e rdfs:label ?subSystem }.\n",
    "}\n",
    "\"\"\"\n",
    "if query_fusekiData(query, endpoint.value).empty:\n",
    "    print('Error - The pattern matching query returned no results. Verify OWL data.')\n",
    "    raise SystemExit\n",
    "else:\n",
    "    result_table = query_fusekiData(query, endpoint.value)"
   ]
  },
  {
   "cell_type": "code",
   "execution_count": 17,
   "metadata": {},
   "outputs": [],
   "source": [
    "if 'subSystem.value' not in result_table.columns:\n",
    "    print('Error - No subsystems found. Verify OWL data.')\n",
    "    raise SystemExit\n",
    "else:\n",
    "    obj = result_table[['physicalComponent.value', 'subSystem.value']]\n",
    "    obj = obj.rename(columns = lambda col: col.replace(\".value\", \"\"))"
   ]
  },
  {
   "cell_type": "code",
   "execution_count": 18,
   "metadata": {},
   "outputs": [],
   "source": [
    "# from dataframe to graph\n",
    "objGraph = nx.from_pandas_edgelist(obj, 'physicalComponent', 'subSystem', create_using=nx.DiGraph())"
   ]
  },
  {
   "cell_type": "markdown",
   "metadata": {},
   "source": [
    "###### a/ OPTIONAL - Is there any Physical Component not aggregated in any Subsystem?"
   ]
  },
  {
   "cell_type": "markdown",
   "metadata": {},
   "source": [
    "Note: The following analysis will look for the presence of any Physical Component not aggregated in any Subsystem. For instance, this result will not make sense to small systems that may not need subsystems."
   ]
  },
  {
   "cell_type": "code",
   "execution_count": 19,
   "metadata": {},
   "outputs": [
    {
     "name": "stdout",
     "output_type": "stream",
     "text": [
      "Number of physical component not aggregated in any subsystem: 0\n",
      "The model complies with the rule. No action needs to be performed.\n"
     ]
    }
   ],
   "source": [
    "sol_a = obj.subSystem.isnull().sum() # select rows based on condition \n",
    "\n",
    "print('Number of physical component not aggregated in any subsystem: '+str(sol_a))\n",
    "sol_a = obj[obj['subSystem'].isnull()] \n",
    "sol_a = sol_a['physicalComponent'].tolist()\n",
    "\n",
    "if not sol_a:\n",
    "    print('The model complies with the rule. No action needs to be performed.')\n",
    "else:\n",
    "    print('\\nList of physical component currently not aggregated in any subsystem: ')\n",
    "    for el in sol_a:\n",
    "        print (\"- \" +el)\n",
    "    print(\"\\nOPTIONAL - Suggestion: Connect each of these physical components to one subsystem.\")"
   ]
  },
  {
   "cell_type": "markdown",
   "metadata": {},
   "source": [
    "###### b/ Is there any Physical Component aggregated in more than one Subsystem?"
   ]
  },
  {
   "cell_type": "code",
   "execution_count": 20,
   "metadata": {
    "scrolled": false
   },
   "outputs": [
    {
     "name": "stdout",
     "output_type": "stream",
     "text": [
      "Number of physical components aggregated in more than one subsystem: 0\n",
      "The model complies with the rule. No action needs to be performed.\n"
     ]
    }
   ],
   "source": [
    "sol_b = obj.groupby([\"physicalComponent\"]).size()\n",
    "sol_b = sol_b.to_frame(\"subSystem_count\")\n",
    "\n",
    "sol_b = sol_b[sol_b['subSystem_count'] > 1] # select rows based on condition \n",
    "print('Number of physical components aggregated in more than one subsystem: '+str(sol_b.shape[0]))\n",
    "\n",
    "if sol_b.empty:\n",
    "    print('The model complies with the rule. No action needs to be performed.')\n",
    "else:\n",
    "    print('\\nList of physical components currently aggregated in more than one subsystem: ')\n",
    "    for i in range(sol_b.shape[0]):\n",
    "        print('- Physical component ' +list(sol_b.index)[i] +' is aggregated in ' +str(list(sol_b.subSystem_count)[i]) +' different SubSystems: ')\n",
    "        for j in range((obj[obj['physicalComponent'] == list(sol_b.index)[i]]).shape[0]):\n",
    "            print('  o ' +list(obj[obj['physicalComponent'] == list(sol_b.index)[i]].subSystem)[j])\n",
    "    print(\"\\nSuggestion: Look for these physical components and delete the extra aggregations.\")"
   ]
  },
  {
   "cell_type": "markdown",
   "metadata": {
    "cell_style": "center"
   },
   "source": [
    "# Rule #3: Each Physical Component shall be supplied by exactly one WorkPackage TO VALIDATE !!!"
   ]
  },
  {
   "cell_type": "code",
   "execution_count": 21,
   "metadata": {
    "scrolled": false
   },
   "outputs": [],
   "source": [
    "# workpackages supply subsystems or physical components sparql query\n",
    "query = \"\"\"\n",
    "PREFIX owl:   <http://www.w3.org/2002/07/owl#>\n",
    "PREFIX rdfs:  <http://www.w3.org/2000/01/rdf-schema#>\n",
    "PREFIX base:  <http://imce.jpl.nasa.gov/foundation/base/base#>\n",
    "PREFIX project: <http://imce.jpl.nasa.gov/foundation/project/project#>\n",
    "\n",
    "SELECT DISTINCT ?physicalComponent ?subSystem ?workPackageSuppliesSubsystem ?workPackageSuppliesPhysicalComponent\n",
    "FROM <urn:x-arq:UnionGraph>\n",
    "WHERE\n",
    "{\n",
    "  ?a a owl:Class ;\n",
    "     rdfs:label ?b ;\n",
    "     rdfs:subClassOf <http://firesat.jpl.nasa.gov/user-model/generated/md/profileExt/firesat-extensions_ID__18_5_3_8c20287_1563932039371_543598_24020#PhysicalComponent_ID__18_5_3_8c20287_1563932086646_143892_24055>.\n",
    "\n",
    "  ?c a owl:Class ;\n",
    "     rdfs:label ?physicalComponent ;\n",
    "     rdfs:subClassOf <http://firesat.jpl.nasa.gov/user-model/generated/md/profileExt/firesat-extensions_ID__18_5_3_8c20287_1563932039371_543598_24020#PhysicalComponent_ID__18_5_3_8c20287_1563932086646_143892_24055>.\n",
    "\n",
    "\n",
    "  optional {?a rdfs:subClassOf [a owl:Restriction ;\n",
    "               owl:onProperty base:aggregates ;\n",
    "               owl:someValuesFrom ?c] }.\n",
    "\n",
    "  optional {?e rdfs:subClassOf [a owl:Restriction ;\n",
    "               owl:onProperty base:aggregates ;\n",
    "               owl:someValuesFrom ?c ].\n",
    "    ?e rdfs:label ?subSystem }.\n",
    "\n",
    "  optional {\n",
    "    ?f rdfs:subClassOf  [ a owl:Restriction ; owl:onProperty project:supplies ; owl:someValuesFrom ?e ] ;\n",
    "                                                                                rdfs:label ?workPackageSuppliesSubsystem. }\n",
    "\n",
    "  optional {\n",
    "    ?f rdfs:subClassOf  [ a owl:Restriction ; owl:onProperty project:supplies ; owl:someValuesFrom ?c ] ;\n",
    "                                                                                rdfs:label ?workPackageSuppliesPhysicalComponent. }\n",
    "}\n",
    "\"\"\"\n",
    "if query_fusekiData(query, endpoint.value).empty:\n",
    "    print('Error - The pattern matching query returned no results. Verify OWL data.')\n",
    "    raise SystemExit\n",
    "else:\n",
    "    result_table = query_fusekiData(query, endpoint.value)"
   ]
  },
  {
   "cell_type": "code",
   "execution_count": 22,
   "metadata": {},
   "outputs": [
    {
     "name": "stdout",
     "output_type": "stream",
     "text": [
      "Nota - No workpackage directly supplies any physical component.\n"
     ]
    }
   ],
   "source": [
    "if 'physicalComponent.value' not in result_table.columns:\n",
    "    print('Error - No physical component found. Verify OWL data.')\n",
    "    raise SystemExit\n",
    "else:\n",
    "    if ('workPackageSuppliesSubsystem.value' not in result_table.columns) & ('workPackageSuppliesPhysicalComponent.value' not in result_table.columns):\n",
    "        print('Nota - No workpackage supplies any subsystem that aggregates at least one physical component.')\n",
    "        print('Nota - No workpackage directly supplies any physical component.')\n",
    "        obj = result_table[['physicalComponent.value']]\n",
    "    else:\n",
    "        if 'workPackageSuppliesSubsystem.value' not in result_table.columns:\n",
    "            print('Nota - No workpackage supplies any subsystem that aggregates at least one physical component.')\n",
    "            obj = result_table[['physicalComponent.value', 'workPackageSuppliesPhysicalComponent.value']]\n",
    "        if 'workPackageSuppliesPhysicalComponent.value' not in result_table.columns:\n",
    "            print('Nota - No workpackage directly supplies any physical component.')\n",
    "            obj = result_table[['physicalComponent.value', 'subSystem.value', 'workPackageSuppliesSubsystem.value']]\n",
    "        if ('workPackageSuppliesSubsystem.value' in result_table.columns) & ('workPackageSuppliesPhysicalComponent.value' in result_table.columns):\n",
    "            obj = result_table[['physicalComponent.value', 'subSystem.value', 'workPackageSuppliesSubsystem.value', 'workPackageSuppliesPhysicalComponent.value']]\n",
    "            \n",
    "obj = obj.rename(columns = lambda col: col.replace(\".value\", \"\"))"
   ]
  },
  {
   "cell_type": "markdown",
   "metadata": {},
   "source": [
    "###### a/ Is there Physical Components not supplied by any WorkPackage?"
   ]
  },
  {
   "cell_type": "code",
   "execution_count": 23,
   "metadata": {},
   "outputs": [
    {
     "name": "stdout",
     "output_type": "stream",
     "text": [
      "Number of physical components not supplied by any workpackage, directly or via a subsystem: 0\n",
      "The model complies with the rule. No action needs to be performed.\n"
     ]
    }
   ],
   "source": [
    "if ('workPackageSuppliesPhysicalComponent' not in obj.columns) & ('workPackageSuppliesSubsystem' not in obj.columns):\n",
    "    sol_a = obj\n",
    "else:\n",
    "    if 'workPackageSuppliesPhysicalComponent' not in obj.columns:\n",
    "        sol_a = obj.workPackageSuppliesSubsystem.isnull()\n",
    "    if 'workPackageSuppliesSubsystem' not in obj.columns:\n",
    "        sol_a = obj.workPackageSuppliesPhysicalComponent.isnull()\n",
    "    if ('workPackageSuppliesPhysicalComponent' in obj.columns) & ('workPackageSuppliesSubsystem' in obj.columns):        \n",
    "        sol_a = obj.workPackageSuppliesPhysicalComponent.isnull() & obj.workPackageSuppliesSubsystem.isnull()\n",
    " \n",
    "sol_a = list(sol_a)\n",
    "\n",
    "print('Number of physical components not supplied by any workpackage, directly or via a subsystem: '+str(sol_a.count(True)))\n",
    "\n",
    "if ('workPackageSuppliesPhysicalComponent' not in obj.columns) & ('workPackageSuppliesSubsystem' not in obj.columns):\n",
    "    sol_a = sol_a\n",
    "else:\n",
    "    if 'workPackageSuppliesPhysicalComponent' not in obj.columns:\n",
    "        sol_a = obj[obj['workPackageSuppliesSubsystem'].isnull()]\n",
    "    if 'workPackageSuppliesSubsystem' not in obj.columns:\n",
    "        sol_a = obj[obj['workPackageSuppliesPhysicalComponent'].isnull()]\n",
    "    if ('workPackageSuppliesPhysicalComponent' in obj.columns) & ('workPackageSuppliesSubsystem' in obj.columns):        \n",
    "        sol_a = obj[obj['workPackageSuppliesPhysicalComponent'].isnull() & obj['workPackageSuppliesSubsystem'].isnull()]\n",
    "        \n",
    "sol_a = sol_a['physicalComponent'].tolist()\n",
    "\n",
    "if not sol_a:\n",
    "    print('The model complies with the rule. No action needs to be performed.')\n",
    "else:\n",
    "    print('\\nList of physical components currently not supplied by any workpackage, directly or via a subsystem: ')\n",
    "    for el in sol_a:\n",
    "        print (\"- \" +el)\n",
    "    print(\"\\nSuggestion: Connect each of these physical components to at least one workpackage: directly or via a subsystem.\")"
   ]
  },
  {
   "cell_type": "markdown",
   "metadata": {},
   "source": [
    "##### b/ Is there any Physical Component supplied by more than one WorkPackage?"
   ]
  },
  {
   "cell_type": "markdown",
   "metadata": {},
   "source": [
    "1- Is there any Subsystem supplied by more than one WorkPackage?"
   ]
  },
  {
   "cell_type": "code",
   "execution_count": 24,
   "metadata": {},
   "outputs": [
    {
     "name": "stdout",
     "output_type": "stream",
     "text": [
      "Number of subsystems supplied by more than one workpackage: 0\n",
      "The model complies with the rule. No action needs to be performed.\n"
     ]
    }
   ],
   "source": [
    "if 'workPackageSuppliesSubsystem' in obj.columns:\n",
    "    sol_b1 = obj[['subSystem', 'workPackageSuppliesSubsystem']]\n",
    "    sol_b1 = sol_b1.drop_duplicates()\n",
    "    sol_b1 = sol_b1.groupby([\"subSystem\"]).size()\n",
    "    sol_b1 = sol_b1.to_frame(\"workPackage_count\")\n",
    "\n",
    "    sol_b1 = sol_b1[sol_b1['workPackage_count'] > 1] # select rows based on condition \n",
    "    print('Number of subsystems supplied by more than one workpackage: '+str(sol_b1.shape[0]))\n",
    "\n",
    "    if sol_b1.empty:\n",
    "        print('The model complies with the rule. No action needs to be performed.')\n",
    "    else:\n",
    "        print('\\nList of subsystems currently supplied by more than one workpackage: ')\n",
    "        for i in range(sol_b1.shape[0]):\n",
    "            print('- Subsystem ' +list(sol_b1.index)[i] +' has relationship(s) with ' +str(list(sol_b1.workPackage_count)[i]) +' different WorkPackages: ')\n",
    "            for j in range((obj[obj['subSystem'] == list(sol_b1.index)[i]]).shape[0]):\n",
    "                print('  o ' +list(obj[obj['subSystem'] == list(sol_b1.index)[i]].workPackage)[j])\n",
    "        print(\"\\nSuggestion: Look for these subsytems and delete the extra relationships.\")\n",
    "        \n",
    "else:\n",
    "    print('Nota - No workpackage supplies any subsystem that aggregates at least one physical component.')"
   ]
  },
  {
   "cell_type": "markdown",
   "metadata": {},
   "source": [
    "2- Is there any Physical Component directly supplied by more than one WorkPackage?"
   ]
  },
  {
   "cell_type": "code",
   "execution_count": 25,
   "metadata": {},
   "outputs": [
    {
     "name": "stdout",
     "output_type": "stream",
     "text": [
      "Nota - No workpackage directly supplies any physical component.\n",
      "The model complies with the rule. No action needs to be performed.\n"
     ]
    }
   ],
   "source": [
    "if 'workPackageSuppliesPhysicalComponent' in obj.columns:\n",
    "    sol_b2 = obj[['physicalComponent', 'workPackageSuppliesPhysicalComponent']]\n",
    "    sol_b2 = sol_b2.drop_duplicates()\n",
    "    sol_b2 = sol_b2.groupby([\"physicalComponent\"]).size()\n",
    "    sol_b2 = sol_b2.to_frame(\"workPackage_count\")\n",
    "\n",
    "    sol_b2 = sol_b2[sol_b2['workPackage_count'] > 1] # select rows based on condition \n",
    "    print('Number of physical components directly supplied by more than one workpackage: '+str(sol_b2.shape[0]))\n",
    "\n",
    "    if sol_b2.empty:\n",
    "        print('The model complies with the rule. No action needs to be performed.')\n",
    "    else:\n",
    "        print('\\nList of physical components currently directly supplied by more than one workpackage: ')\n",
    "        for i in range(sol_b2.shape[0]):\n",
    "            print('- Physical component ' +list(sol_b2.index)[i] +' has relationship(s) with ' +str(list(sol_b2.workPackage_count)[i]) +' different WorkPackages: ')\n",
    "            for j in range((obj[obj['physicalComponent'] == list(sol_b2.index)[i]]).shape[0]):\n",
    "                print('  o ' +list(obj[obj['physicalComponent'] == list(sol_b2.index)[i]].workPackage)[j])\n",
    "        print(\"\\nSuggestion: Look for these physical components and delete the extra relationships.\")\n",
    "        \n",
    "else:\n",
    "    print('Nota - No workpackage directly supplies any physical component.')\n",
    "    print('The model complies with the rule. No action needs to be performed.')"
   ]
  },
  {
   "cell_type": "markdown",
   "metadata": {},
   "source": [
    "3- Is there any Physical Component supplied by more than one WorkPackage? TO FINISH WITH PROPER DATA"
   ]
  },
  {
   "cell_type": "code",
   "execution_count": 26,
   "metadata": {},
   "outputs": [
    {
     "name": "stdout",
     "output_type": "stream",
     "text": [
      "Nota - No workpackage directly supplies any physical component.\n",
      "The analysis cannot be performed.\n"
     ]
    }
   ],
   "source": [
    "if 'workPackageSuppliesSubsystem' not in obj.columns:\n",
    "    print('Nota - No workpackage supplies any subsystem that aggregates at least one physical component.')\n",
    "if 'workPackageSuppliesPhysicalComponent' not in obj.columns:\n",
    "    print('Nota - No workpackage directly supplies any physical component.')\n",
    "if ('workPackageSuppliesSubsystem' in obj.columns) or ('workPackageSuppliesPhysicalComponent' in obj.columns):\n",
    "    print('The analysis cannot be performed.')\n",
    "    \n",
    "if ('workPackageSuppliesSubsystem' in obj.columns) & ('workPackageSuppliesPhysicalComponent' in obj.columns):\n",
    "    sol_b3 = obj[['physicalComponent', 'workPackageSuppliesSubsystem', 'workPackageSuppliesPhysicalComponent']]\n",
    "    sol_b3 = sol_b3.drop_duplicates()\n",
    "    sol_b3 = sol_b3.groupby([\"physicalComponent\"]).size()\n",
    "    sol_b3 = sol_b3.to_frame(\"workPackage_count\")\n",
    "    \n",
    "    sol_b3 = sol_b3[sol_b3['workPackage_count'] > 1] # select rows based on condition \n",
    "    \n",
    "    type(sol_b3)\n",
    "    for i in range(sol_b3.shape[0]):\n",
    "        for j in range((obj[obj['physicalComponent'] == list(sol_b3.index)[i]]).shape[0]):\n",
    "                print('  o ' +list(obj[obj['physicalComponent'] == list(sol_b2.index)[i]].workPackage)[j])\n",
    "    \n",
    "\n",
    "    \n"
   ]
  },
  {
   "cell_type": "markdown",
   "metadata": {},
   "source": [
    "# Rule #4: Each WorkPackage shall be under the responsability of exactly one organization"
   ]
  },
  {
   "cell_type": "code",
   "execution_count": 27,
   "metadata": {},
   "outputs": [],
   "source": [
    "# workPackages under the responsability of organizations sparql query\n",
    "query = \"\"\"\n",
    "PREFIX owl:   <http://www.w3.org/2002/07/owl#>\n",
    "PREFIX rdfs:  <http://www.w3.org/2000/01/rdf-schema#>\n",
    "PREFIX project: <http://imce.jpl.nasa.gov/foundation/project/project#>\n",
    "\n",
    "SELECT DISTINCT ?workPackage ?organization \n",
    "FROM <urn:x-arq:UnionGraph>\n",
    "WHERE\n",
    "{\n",
    "  ?a rdfs:subClassOf  project:WorkPackage ;\n",
    "     rdfs:label ?workPackage.\n",
    "  \n",
    "  optional {\n",
    "  ?b rdfs:subClassOf project:Organization ;\n",
    "     rdfs:label ?organization ;\n",
    "     rdfs:subClassOf  [ a owl:Restriction ; owl:onProperty project:hasResponsibilityFor ; owl:someValuesFrom ?a ] . }\n",
    "}\n",
    "\"\"\"\n",
    "if query_fusekiData(query, endpoint.value).empty:\n",
    "    print('Error - The pattern matching query returned no results. Verify OWL data.')\n",
    "    raise SystemExit\n",
    "else:\n",
    "    result_table = query_fusekiData(query, endpoint.value)"
   ]
  },
  {
   "cell_type": "code",
   "execution_count": 28,
   "metadata": {},
   "outputs": [],
   "source": [
    "if 'workPackage.value' not in result_table.columns:\n",
    "    print('Error - No workPackage found. Verify OWL data.')\n",
    "    raise SystemExit\n",
    "else:\n",
    "    obj = result_table[['workPackage.value', 'organization.value']]\n",
    "    obj = obj.rename(columns = lambda col: col.replace(\".value\", \"\"))"
   ]
  },
  {
   "cell_type": "markdown",
   "metadata": {},
   "source": [
    "###### a/ Is there WorkPackages not under the responsability of any organization?"
   ]
  },
  {
   "cell_type": "code",
   "execution_count": 29,
   "metadata": {},
   "outputs": [
    {
     "name": "stdout",
     "output_type": "stream",
     "text": [
      "Number of workPackages not under the responsability of any organization: 0\n",
      "The model complies with the rule. No action needs to be performed.\n"
     ]
    }
   ],
   "source": [
    "sol_a = obj.organization.isnull().sum() # select rows based on condition \n",
    "\n",
    "print('Number of workPackages not under the responsability of any organization: '+str(sol_a))\n",
    "sol_a = obj[obj['organization'].isnull()] \n",
    "sol_a = sol_a['workPackage'].tolist()\n",
    "\n",
    "if not sol_a:\n",
    "    print('The model complies with the rule. No action needs to be performed.')\n",
    "else:\n",
    "    print('\\nList of workPackages currently not under the responsability of any organization: ')\n",
    "    for el in sol_a:\n",
    "        print (\"- \" +el)\n",
    "    print(\"\\nSuggestion: Connect each of these workPackages to exactly one organization.\")"
   ]
  },
  {
   "cell_type": "markdown",
   "metadata": {},
   "source": [
    "###### b/ Is there any WorkPackage under the responsability of more than one organization?"
   ]
  },
  {
   "cell_type": "code",
   "execution_count": 30,
   "metadata": {
    "scrolled": true
   },
   "outputs": [
    {
     "name": "stdout",
     "output_type": "stream",
     "text": [
      "Number of workPackages under the responsability of more than one organization: 0\n",
      "The model complies with the rule. No action needs to be performed.\n"
     ]
    }
   ],
   "source": [
    "sol_b = obj.groupby([\"workPackage\"]).size()\n",
    "sol_b = sol_b.to_frame(\"organization_count\")\n",
    "\n",
    "sol_b = sol_b[sol_b['organization_count'] > 1] # select rows based on condition \n",
    "print('Number of workPackages under the responsability of more than one organization: '+str(sol_b.shape[0]))\n",
    "\n",
    "if sol_b.empty:\n",
    "    print('The model complies with the rule. No action needs to be performed.')\n",
    "else:\n",
    "    print('\\nList of workPackages under the responsability of more than one organization: ')\n",
    "    for i in range(sol_b.shape[0]):\n",
    "        print('- WorkPackage ' +list(sol_b.index)[i] +' is under the responsability of ' +str(list(sol_b.organization_count)[i]) +' different Organizations: ')\n",
    "        for j in range((obj[obj['workPackage'] == list(sol_b.index)[i]]).shape[0]):\n",
    "            print('  o ' +list(obj[obj['workPackage'] == list(sol_b.index)[i]].organization)[j])\n",
    "    print(\"\\nSuggestion: Look for these workPackages and delete the extra project:hasResponsibilityFor relationships.\")"
   ]
  },
  {
   "cell_type": "markdown",
   "metadata": {},
   "source": [
    "# Rule #5: Each Physical Component shall perform at least one Function"
   ]
  },
  {
   "cell_type": "code",
   "execution_count": 31,
   "metadata": {},
   "outputs": [],
   "source": [
    "# assemblies perform functions sparql query\n",
    "query = \"\"\"\n",
    "PREFIX owl:   <http://www.w3.org/2002/07/owl#>\n",
    "PREFIX rdfs:  <http://www.w3.org/2000/01/rdf-schema#>\n",
    "PREFIX mission: <http://imce.jpl.nasa.gov/foundation/mission/mission#>\n",
    "\n",
    "SELECT DISTINCT ?physicalComponent ?function\n",
    "FROM <urn:x-arq:UnionGraph>\n",
    "WHERE\n",
    "{\n",
    "  ?a a owl:Class ;\n",
    "     rdfs:label ?physicalComponent ;\n",
    "     rdfs:subClassOf <http://firesat.jpl.nasa.gov/user-model/generated/md/profileExt/firesat-extensions_ID__18_5_3_8c20287_1563932039371_543598_24020#PhysicalComponent_ID__18_5_3_8c20287_1563932086646_143892_24055>.\n",
    "\n",
    "  optional {\n",
    "    ?a rdfs:subClassOf  [ a owl:Restriction ; owl:onProperty mission:performs ; owl:someValuesFrom ?b ].\n",
    "    ?b rdfs:label ?function\n",
    "  }\n",
    "}\n",
    "\"\"\"\n",
    "if query_fusekiData(query, endpoint.value).empty:\n",
    "    print('Error - The pattern matching query returned no results. Verify OWL data.')\n",
    "    raise SystemExit\n",
    "else:\n",
    "    result_table = query_fusekiData(query, endpoint.value)"
   ]
  },
  {
   "cell_type": "code",
   "execution_count": 32,
   "metadata": {},
   "outputs": [],
   "source": [
    "if 'physicalComponent.value' not in result_table.columns:\n",
    "    print('Error - No physical component found. Verify OWL data.')\n",
    "    raise SystemExit\n",
    "else:\n",
    "    obj = result_table[['physicalComponent.value', 'function.value']]\n",
    "    obj = obj.rename(columns = lambda col: col.replace(\".value\", \"\"))"
   ]
  },
  {
   "cell_type": "code",
   "execution_count": 33,
   "metadata": {
    "scrolled": true
   },
   "outputs": [
    {
     "name": "stdout",
     "output_type": "stream",
     "text": [
      "Number of physical components not performing any function: 6\n",
      "\n",
      "List of physical components currently not performing any function: \n",
      "- Avionics stack section\n",
      "- Propellant handling section\n",
      "- Propulsion module\n",
      "- Payload module\n",
      "- Base plate module\n",
      "- Top panel module\n",
      "\n",
      "Suggestion: Connect each of these physical components to at least one function.\n"
     ]
    }
   ],
   "source": [
    "sol = obj.function.isnull().sum() # select rows based on condition \n",
    "\n",
    "print('Number of physical components not performing any function: '+str(sol))\n",
    "sol = obj[obj['function'].isnull()] \n",
    "sol = sol['physicalComponent'].tolist()\n",
    "\n",
    "if not sol:\n",
    "    print('The model complies with the rule. No action needs to be performed.')\n",
    "else:\n",
    "    print('\\nList of physical components currently not performing any function: ')\n",
    "    for el in sol:\n",
    "        print (\"- \" +el)\n",
    "    print(\"\\nSuggestion: Connect each of these physical components to at least one function.\")"
   ]
  },
  {
   "cell_type": "markdown",
   "metadata": {},
   "source": [
    "# Rule #6: Each mission:performs association shall be specified by at least one Requirement TO DO !!!"
   ]
  },
  {
   "cell_type": "code",
   "execution_count": 55,
   "metadata": {},
   "outputs": [],
   "source": [
    "# assemblies are specified by functional requirements sparql query\n",
    "query = \"\"\"\n",
    "PREFIX owl:   <http://www.w3.org/2002/07/owl#>\n",
    "PREFIX rdfs:  <http://www.w3.org/2000/01/rdf-schema#>\n",
    "PREFIX mission: <http://imce.jpl.nasa.gov/foundation/mission/mission#>\n",
    "\n",
    "SELECT DISTINCT ?function ?requirement\n",
    "FROM <urn:x-arq:UnionGraph>\n",
    "WHERE\n",
    "{\n",
    "  ?a rdfs:subClassOf mission:Function, <http://imce.jpl.nasa.gov/backbone/firesat.jpl.nasa.gov/user-model/generated/md/nonAuthorities/4Fonctions_ID__18_5_3_8c20287_1561399681858_670482_17995/4Fonctions_ID__18_5_3_8c20287_1561399681858_670482_17995#Entity> ;\n",
    "     rdfs:label ?function .\n",
    "\n",
    "  optional {\n",
    "    ?b rdfs:label ?requirement ;\n",
    "       rdfs:subClassOf  [ a owl:Restriction ; owl:onProperty mission:hasPerformsTarget ; owl:someValuesFrom  ?a ].\n",
    "  }\n",
    "}\n",
    "\"\"\"\n",
    "if query_fusekiData(query, endpoint.value).empty:\n",
    "    print('Error - The pattern matching query returned no results. Verify OWL data.')\n",
    "    raise SystemExit\n",
    "else:\n",
    "    result_table = query_fusekiData(query, endpoint.value)"
   ]
  },
  {
   "cell_type": "code",
   "execution_count": 56,
   "metadata": {},
   "outputs": [],
   "source": [
    "if 'function.value' not in result_table.columns:\n",
    "    print('Error - No function found. Verify OWL data.')\n",
    "    raise SystemExit\n",
    "else:\n",
    "    obj = result_table[['function.value', 'requirement.value']]\n",
    "    obj = obj.rename(columns = lambda col: col.replace(\".value\", \"\"))"
   ]
  },
  {
   "cell_type": "code",
   "execution_count": 57,
   "metadata": {},
   "outputs": [
    {
     "name": "stdout",
     "output_type": "stream",
     "text": [
      "Number of mission:performs associations not specified by any fonctional requirement: 90\n",
      "\n",
      "List of functions whose mission:performs association is not specified by any fonctional requirement: \n",
      "- Control power\n",
      "- Convert and regulate current\n",
      "- Release S/C from L/V\n",
      "- Provide shielding -Y\n",
      "- Store data between two telemetries\n",
      "- Apply commands\n",
      "- Analyze pictures\n",
      "- Provide mechanical interface between Payload and Bus\n",
      "- Launch S/C\n",
      "- Homogenize temperature\n",
      "- Attitude sensing the magnetic field\n",
      "- Deploy mechanisms\n",
      "- Convert signals from GPS satellites into electrical energy\n",
      "- Control attitude\n",
      "- Compute position\n",
      "- Provide translation thrust\n",
      "- Fill/drain propellant\n",
      "- Control propulsion\n",
      "- Modulate signal\n",
      "- Demodulate RF signal\n",
      "- Deploy hi-gain antenna\n",
      "- Convert electromagnetic energy incoming from ground stations into radiofrequency electrical energy\n",
      "- Deploy receive whip antenna\n",
      "- Send telemetry to NOAA ground stations\n",
      "- Deploy transmit whip antenna\n",
      "- Convert radiofrequency electrical energy into electromagnetic energy\n",
      "- Perform mission\n",
      "- Provide high quality timestamped pictures\n",
      "- Transform solar radiations into energy +X\n",
      "- Deploy solar array +X\n",
      "- Transform solar radiations into energy -X\n",
      "- Deploy solar array -X\n",
      "- Provide shielding side 1\n",
      "- Provide shielding side 3\n",
      "- Provide shielding side 6\n",
      "- Provide shielding side 2\n",
      "- Provide shielding side 4\n",
      "- Provide shielding side 5\n",
      "- Provide mechanical structural interface 1\n",
      "- Provide mechanical structural interface 3\n",
      "- Provide mechanical structural interface 4\n",
      "- Provide mechanical structural interface 5\n",
      "- Provide mechanical structural interface 2\n",
      "- Provide mechanical structural interface 6\n",
      "- Deploy GPS antenna\n",
      "- Provide pressurized propellant\n",
      "- Provide attitude thrust -Z\n",
      "- Provide attitude thrust -Y\n",
      "- Provide attitude thrust -X\n",
      "- Provide attitude thrust +Y\n",
      "- Provide attitude thrust +X\n",
      "- Provide attitude thrust +Z\n",
      "- Provide magnetic torque Z\n",
      "- Provide magnetic torque X\n",
      "- Provide magnetic torque Y\n",
      "- Provide momentum torque with single failure protection\n",
      "- Receive telecommand from NOAA ground stations\n",
      "- Generate telemetry\n",
      "- Insure mechanical integrity\n",
      "- Monitor and maintain health & safety\n",
      "- Supply power 24/7\n",
      "- Reach operational orbit\n",
      "- Communicate\n",
      "- Provide mechanical interface with the L/V \n",
      "- Store energy during eclipses - First capacitor\n",
      "- Store energy during eclipses - Second capacitor\n",
      "- Store energy during eclipses - Third capacitor\n",
      "- Store pressurized propellant\n",
      "- Store pressurant\n",
      "- Provide mechanical interface for the pressurant tank\n",
      "- Provide mechanical interface for the propellant tank\n",
      "- Provide shielding +Y\n",
      "- Provide mechanical interface for the propulsion system 1\n",
      "- Provide mechanical interface for the propulsion system 4\n",
      "- Provide mechanical interface for the propulsion system 3\n",
      "- Provide mechanical interface for the propulsion system 2\n",
      "- Provide momentum torque pyramidal configuration face A\n",
      "- Provide momentum torque pyramidal configuration face C\n",
      "- Provide momentum torque pyramidal configuration face B\n",
      "- Provide momentum torque pyramidal configuration face D\n",
      "- Attitude sensing the Earth\n",
      "- Attitude sensing the Sun\n",
      "- Mitigate failures\n",
      "- Avoid collisions\n",
      "- Control trajectory\n",
      "- Position awareness\n",
      "- Attitude awareness\n",
      "- Protect against radiations\n",
      "- Provide mechanical structural interface\n",
      "- Provide mechanical interface for the propulsion system\n",
      "\n",
      "Suggestion: Specify the mission:performs relationships related to these functions, by connecting them with at least one fonctional requirement.\n"
     ]
    }
   ],
   "source": [
    "sol = obj.requirement.isnull().sum() # select rows based on condition \n",
    "\n",
    "print('Number of mission:performs associations not specified by any fonctional requirement: '+str(sol))\n",
    "sol = obj[obj['requirement'].isnull()] \n",
    "sol = sol['function'].tolist()\n",
    "\n",
    "if not sol:\n",
    "    print('The model complies with the rule. No action needs to be performed.')\n",
    "else:\n",
    "    print('\\nList of functions whose mission:performs association is not specified by any fonctional requirement: ')\n",
    "    for el in sol:\n",
    "        print (\"- \" +el)\n",
    "    print(\"\\nSuggestion: Specify the mission:performs relationships related to these functions, by connecting them with at least one fonctional requirement.\")"
   ]
  },
  {
   "cell_type": "markdown",
   "metadata": {},
   "source": [
    "# Rule #7: Each Function shall be performed by exactly one element: Physical Component or Subsystem TO VALIDATE!!!"
   ]
  },
  {
   "cell_type": "code",
   "execution_count": 37,
   "metadata": {},
   "outputs": [],
   "source": [
    "# functions are performed by assemblies or subsystems sparql query\n",
    "query = \"\"\"\n",
    "PREFIX owl:   <http://www.w3.org/2002/07/owl#>\n",
    "PREFIX rdfs:  <http://www.w3.org/2000/01/rdf-schema#>\n",
    "PREFIX mission: <http://imce.jpl.nasa.gov/foundation/mission/mission#>\n",
    "\n",
    "SELECT DISTINCT ?function ?physicalComponent ?subsystem\n",
    "FROM <urn:x-arq:UnionGraph>\n",
    "WHERE\n",
    "{\n",
    "  ?a rdfs:subClassOf  [ a owl:Restriction ; owl:onProperty mission:performs ; owl:someValuesFrom ?b ].\n",
    "  ?b rdfs:label ?function\n",
    "\n",
    "  optional {\n",
    "    ?c a owl:Class ;\n",
    "       rdfs:label ?physicalComponent ;\n",
    "       rdfs:subClassOf <http://firesat.jpl.nasa.gov/user-model/generated/md/profileExt/firesat-extensions_ID__18_5_3_8c20287_1563932039371_543598_24020#PhysicalComponent_ID__18_5_3_8c20287_1563932086646_143892_24055>.\n",
    "    ?c rdfs:subClassOf [ a owl:Restriction ; owl:onProperty mission:performs ; owl:someValuesFrom ?b ]. \n",
    "  }\n",
    "  \n",
    "  optional {\n",
    "    ?d a owl:Class ;\n",
    "       rdfs:label ?subsystem ;\n",
    "       rdfs:subClassOf <http://firesat.jpl.nasa.gov/user-model/generated/md/profileExt/firesat-extensions_ID__18_5_3_8c20287_1563932039371_543598_24020#Subsystem_ID__18_5_3_8c20287_1572979614280_430250_25878>.\n",
    "    ?d rdfs:subClassOf [ a owl:Restriction ; owl:onProperty mission:performs ; owl:someValuesFrom ?b ]. \n",
    "  }\n",
    "}\n",
    "\"\"\"\n",
    "if query_fusekiData(query, endpoint.value).empty:\n",
    "    print('Error - The pattern matching query returned no results. Verify OWL data.')\n",
    "    raise SystemExit\n",
    "else:\n",
    "    result_table = query_fusekiData(query, endpoint.value)"
   ]
  },
  {
   "cell_type": "code",
   "execution_count": 38,
   "metadata": {},
   "outputs": [
    {
     "name": "stdout",
     "output_type": "stream",
     "text": [
      "Nota - No subsystem performs any mission:function.\n"
     ]
    }
   ],
   "source": [
    "if 'function.value' not in result_table.columns:\n",
    "    print('Error - No function found. Verify OWL data.')\n",
    "    raise SystemExit\n",
    "else:\n",
    "    if ('physicalComponent.value' not in result_table.columns) & ('subsystem.value' not in result_table.columns):\n",
    "        print('Nota - No physical component performs any mission:function.')\n",
    "        print('Nota - No subsystem performs any mission:function.')\n",
    "        obj = result_table[['function.value']]\n",
    "    else:\n",
    "        if 'subsystem.value' not in result_table.columns:\n",
    "            print('Nota - No subsystem performs any mission:function.')\n",
    "            obj = result_table[['function.value', 'physicalComponent.value']]\n",
    "        if 'physicalComponent.value' not in result_table.columns:\n",
    "            print('Nota - No physical component performs any mission:function.')\n",
    "            obj = result_table[['function.value', 'subsystem.value']]\n",
    "        if ('physicalComponent.value' in result_table.columns) & ('subsystem.value' in result_table.columns):\n",
    "            obj = result_table[['function.value', 'physicalComponent.value', 'subsystem.value']]\n",
    "\n",
    "obj = obj.rename(columns = lambda col: col.replace(\".value\", \"\"))"
   ]
  },
  {
   "cell_type": "markdown",
   "metadata": {},
   "source": [
    "###### a/ Is there Functions performed by more than one element: Physical Component or Subsystem?"
   ]
  },
  {
   "cell_type": "code",
   "execution_count": 39,
   "metadata": {
    "scrolled": false
   },
   "outputs": [
    {
     "name": "stdout",
     "output_type": "stream",
     "text": [
      "Number of functions performed by more than one element: 1\n",
      "\n",
      "List of functions currently performed by more than one element: \n",
      "- Function Provide pressurized propellant is performed by 2 different elements: \n",
      "  o BP propellant line unit (type: Physical Component)\n",
      "  o PM propellant line unit (type: Physical Component)\n",
      "\n",
      "Suggestion: Look for these functions and delete the extra mission:performs relationships.\n"
     ]
    }
   ],
   "source": [
    "sol_a = obj.groupby([\"function\"]).size()\n",
    "sol_a = sol_a.to_frame(\"element_count\")\n",
    "\n",
    "sol_a = sol_a[sol_a['element_count'] > 1] # select rows based on condition \n",
    "print('Number of functions performed by more than one element: '+str(sol_a.shape[0]))\n",
    "\n",
    "if sol_a.empty:\n",
    "    print('The model complies with the rule. No action needs to be performed.')\n",
    "else:\n",
    "    print('\\nList of functions currently performed by more than one element: ')\n",
    "    for i in range(sol_a.shape[0]):\n",
    "        print('- Function ' +list(sol_a.index)[i] +' is performed by ' +str(list(sol_a.element_count)[i]) +' different elements: ')\n",
    "        for j in range((obj[obj['function'] == list(sol_a.index)[i]]).shape[0]):\n",
    "            if 'physicalComponent' in obj.columns:\n",
    "                print('  o ' +list(obj[obj['function'] == list(sol_a.index)[i]].physicalComponent)[j] +' (type: Physical Component)')\n",
    "            if 'subsystem' in obj.columns:\n",
    "                print('  o ' +list(obj[obj['function'] == list(sol_a.index)[i]].subsystem)[j] +' (type: Subsystem)')\n",
    "    print(\"\\nSuggestion: Look for these functions and delete the extra mission:performs relationships.\")"
   ]
  },
  {
   "cell_type": "markdown",
   "metadata": {},
   "source": [
    "###### b/ Is there Functions that are not performed by any element Physical Component nor Subsystem?"
   ]
  },
  {
   "cell_type": "code",
   "execution_count": 40,
   "metadata": {},
   "outputs": [
    {
     "name": "stdout",
     "output_type": "stream",
     "text": [
      "Number of functions not performed by any element: 0\n",
      "The model complies with the rule. No action needs to be performed.\n"
     ]
    }
   ],
   "source": [
    "if ('subsystem' not in obj.columns) & ('physicalComponent' not in obj.columns):\n",
    "    sol_b = obj\n",
    "else:\n",
    "    if 'subsystem' not in obj.columns:\n",
    "        sol_b = obj.physicalComponent.isnull()\n",
    "    if 'physicalComponent' not in obj.columns:\n",
    "        sol_b = obj.subsystem.isnull()\n",
    "    if ('subsystem' in obj.columns) & ('physicalComponent' in obj.columns):        \n",
    "        sol_b = obj.physicalComponent.isnull() & obj.subsystem.isnull()\n",
    "\n",
    "sol_b = list(sol_b)\n",
    "\n",
    "print('Number of functions not performed by any element: '+str(sol_b.count(True)))\n",
    "\n",
    "if ('subsystem' not in obj.columns) & ('physicalComponent' not in obj.columns):\n",
    "    sol_b = sol_b\n",
    "else:\n",
    "    if 'subsystem' not in obj.columns:\n",
    "        sol_b = obj[obj['physicalComponent'].isnull()] \n",
    "    if 'physicalComponent' not in obj.columns:\n",
    "        sol_b = obj[obj['subsystem'].isnull()] \n",
    "    if ('subsystem' in obj.columns) & ('physicalComponent' in obj.columns):        \n",
    "        sol_b = obj[obj['physicalComponent'].isnull() & obj['subsystem'].isnull()] \n",
    "        \n",
    "sol_b = sol_b['function'].tolist()\n",
    "\n",
    "if not sol_b:\n",
    "    print('The model complies with the rule. No action needs to be performed.')\n",
    "else:\n",
    "    print('\\nList of functions currently not performed by any element: ')\n",
    "    for el in sol_b:\n",
    "        print (\"- \" +el)\n",
    "    print(\"\\nSuggestion: Connect each of these functions to at least one element: Physical Component or Subsystem.\")"
   ]
  },
  {
   "cell_type": "markdown",
   "metadata": {},
   "source": [
    "# Rule #8: Each Requirement shall specify at least something (physical component, subsystem, mission:presents or mission:performs association)"
   ]
  },
  {
   "cell_type": "code",
   "execution_count": 41,
   "metadata": {},
   "outputs": [],
   "source": [
    "# requirements specify at least one mission:performs association sparql query\n",
    "query = \"\"\"\n",
    "PREFIX owl:   <http://www.w3.org/2002/07/owl#>\n",
    "PREFIX rdfs:  <http://www.w3.org/2000/01/rdf-schema#>\n",
    "PREFIX mission: <http://imce.jpl.nasa.gov/foundation/mission/mission#>\n",
    "\n",
    "SELECT DISTINCT ?requirement ?specifies\n",
    "FROM <urn:x-arq:UnionGraph>\n",
    "WHERE\n",
    "{\n",
    "  ?a rdfs:subClassOf  mission:Requirement ;\n",
    "     rdfs:label ?requirement.\n",
    "\n",
    "  optional{\n",
    "    ?a rdfs:subClassOf [ a owl:Restriction ; owl:onProperty mission:specifies ; owl:someValuesFrom ?b ]. \n",
    "    ?b rdfs:label ?specifies .\n",
    "  }\n",
    "}\n",
    "\"\"\"\n",
    "if query_fusekiData(query, endpoint.value).empty:\n",
    "    print('Error - The pattern matching query returned no results. Verify OWL data.')\n",
    "    raise SystemExit\n",
    "else:\n",
    "    result_table = query_fusekiData(query, endpoint.value)"
   ]
  },
  {
   "cell_type": "code",
   "execution_count": 42,
   "metadata": {},
   "outputs": [],
   "source": [
    "if 'requirement.value' not in result_table.columns:\n",
    "    print('Error - No requirement found. Verify OWL data.')\n",
    "    raise SystemExit\n",
    "else:\n",
    "    obj = result_table[['requirement.value', 'specifies.value']]\n",
    "    obj = obj.rename(columns = lambda col: col.replace(\".value\", \"\"))"
   ]
  },
  {
   "cell_type": "code",
   "execution_count": 43,
   "metadata": {},
   "outputs": [
    {
     "name": "stdout",
     "output_type": "stream",
     "text": [
      "Number of requirements that do not specify anything: 10\n",
      "\n",
      "List of requirements that currently do not specify anything mission:performs association: \n",
      "- Coverage\n",
      "- Geo-location\n",
      "- Timeliness\n",
      "- Detection\n",
      "- Time allocation for detecting a new wildfire\n",
      "- Timeliness-refined\n",
      "- Time allocation for onboard validation\n",
      "- Time allocation for orbit and altitude determination\n",
      "- Time allocation for fire geo-location\n",
      "- Time allocation for ground receipt and confirmation OUTSIDE SCOPE\n",
      "\n",
      "Suggestion: Connect each of these requirements to at least one physical component, mission:presents or mission:performs association.\n"
     ]
    }
   ],
   "source": [
    "sol = obj.specifies.isnull() # select rows based on condition \n",
    "sol = list(sol)\n",
    "\n",
    "print('Number of requirements that do not specify anything: '+str(sol.count(True)))\n",
    "sol = obj[(obj['specifies'].isnull())]\n",
    "sol = sol['requirement'].tolist()\n",
    "\n",
    "if not sol:\n",
    "    print('The model complies with the rule. No action needs to be performed.')\n",
    "else:\n",
    "    print('\\nList of requirements that currently do not specify anything: ')\n",
    "    for el in sol:\n",
    "        print (\"- \" +el)\n",
    "    print(\"\\nSuggestion: Connect each of these requirements to at least one physical component, subsystem, mission:presents or mission:performs association.\")"
   ]
  },
  {
   "cell_type": "markdown",
   "metadata": {},
   "source": [
    "# Rule #9: The Function decomposition graph shall be directed and acyclic"
   ]
  },
  {
   "cell_type": "code",
   "execution_count": 44,
   "metadata": {},
   "outputs": [],
   "source": [
    "# functions invoke functions sparql query\n",
    "query = \"\"\"\n",
    "PREFIX owl:   <http://www.w3.org/2002/07/owl#>\n",
    "PREFIX rdfs:  <http://www.w3.org/2000/01/rdf-schema#>\n",
    "PREFIX mission: <http://imce.jpl.nasa.gov/foundation/mission/mission#>\n",
    "\n",
    "SELECT DISTINCT ?function ?invokesFunction \n",
    "FROM <urn:x-arq:UnionGraph>\n",
    "WHERE\n",
    "{\n",
    "  ?a rdfs:subClassOf mission:Function ;\n",
    "     rdfs:label ?function.\n",
    "\n",
    "  optional {\n",
    "    ?b rdfs:label ?invokesFunction .\n",
    "    ?a rdfs:subClassOf [ a owl:Restriction ; owl:onProperty mission:invokes ; owl:someValuesFrom ?b ]. \n",
    "  }\n",
    "}\n",
    "\"\"\"\n",
    "if query_fusekiData(query, endpoint.value).empty:\n",
    "    print('Error - The pattern matching query returned no results. Verify OWL data.')\n",
    "    raise SystemExit\n",
    "else:\n",
    "    result_table = query_fusekiData(query, endpoint.value)"
   ]
  },
  {
   "cell_type": "code",
   "execution_count": 45,
   "metadata": {},
   "outputs": [],
   "source": [
    "if 'function.value' not in result_table.columns:\n",
    "    print('Error - No function found. Verify OWL data.')\n",
    "    raise SystemExit\n",
    "else:\n",
    "    obj = result_table[['function.value', 'invokesFunction.value']]\n",
    "    obj = obj.rename(columns = lambda col: col.replace(\".value\", \"\"))"
   ]
  },
  {
   "cell_type": "code",
   "execution_count": 46,
   "metadata": {},
   "outputs": [
    {
     "name": "stdout",
     "output_type": "stream",
     "text": [
      "The model complies with the rule. No action needs to be performed.\n"
     ]
    }
   ],
   "source": [
    "# Verify the graph of functions is directed and acyclic\n",
    "objGraph = nx.from_pandas_edgelist(obj, 'function', 'invokesFunction', create_using=nx.DiGraph())\n",
    "if not nx.is_directed_acyclic_graph(objGraph):\n",
    "    print('Error - The graph built from the function decomposition is not a directed acyclic graph.')\n",
    "    print(\"\\nSuggestion: Correct the function decomposition.\")\n",
    "    raise SystemExit\n",
    "else:\n",
    "    print('The model complies with the rule. No action needs to be performed.')"
   ]
  },
  {
   "cell_type": "markdown",
   "metadata": {},
   "source": [
    "# Rule #10: The Requirement decomposition graph shall be directed and acyclic"
   ]
  },
  {
   "cell_type": "code",
   "execution_count": 47,
   "metadata": {},
   "outputs": [],
   "source": [
    "# requirements refines requirements sparql query\n",
    "query = \"\"\"\n",
    "PREFIX owl:   <http://www.w3.org/2002/07/owl#>\n",
    "PREFIX rdfs:  <http://www.w3.org/2000/01/rdf-schema#>\n",
    "PREFIX mission: <http://imce.jpl.nasa.gov/foundation/mission/mission#>\n",
    "\n",
    "SELECT DISTINCT ?requirement ?refinesRequirement ?physicalComponent ?fonctionalComponent \n",
    "FROM <urn:x-arq:UnionGraph>\n",
    "WHERE\n",
    "{\n",
    "  ?a rdfs:subClassOf  mission:Requirement ;\n",
    "     rdfs:label ?requirement.\n",
    "\n",
    "  optional {\n",
    "    ?z rdfs:subClassOf [ a owl:Restriction ; owl:onProperty mission:refines ; owl:someValuesFrom ?a ] ;\n",
    "        rdfs:label ?refinesRequirement.\n",
    "  }\n",
    "}\n",
    "\"\"\"\n",
    "if query_fusekiData(query, endpoint.value).empty:\n",
    "    print('Error - The pattern matching query returned no results. Verify OWL data.')\n",
    "    raise SystemExit\n",
    "else:\n",
    "    result_table = query_fusekiData(query, endpoint.value)"
   ]
  },
  {
   "cell_type": "code",
   "execution_count": 48,
   "metadata": {},
   "outputs": [],
   "source": [
    "if 'requirement.value' not in result_table.columns:\n",
    "    print('Error - No requirement found. Verify OWL data.')\n",
    "    raise SystemExit\n",
    "else:\n",
    "    obj = result_table[['requirement.value', 'refinesRequirement.value']]\n",
    "    obj = obj.rename(columns = lambda col: col.replace(\".value\", \"\"))"
   ]
  },
  {
   "cell_type": "code",
   "execution_count": 49,
   "metadata": {},
   "outputs": [
    {
     "name": "stdout",
     "output_type": "stream",
     "text": [
      "The model complies with the rule. No action needs to be performed.\n"
     ]
    }
   ],
   "source": [
    "# Verify the graph of requirements is directed and acyclic\n",
    "objGraph = nx.from_pandas_edgelist(obj, 'requirement', 'refinesRequirement', create_using=nx.DiGraph())\n",
    "if not nx.is_directed_acyclic_graph(objGraph):\n",
    "    print('Error - The graph built from the requirement decomposition is not a directed acyclic graph.')\n",
    "    print(\"\\nSuggestion: Correct the requirement decomposition.\")\n",
    "    raise SystemExit\n",
    "else:\n",
    "    print('The model complies with the rule. No action needs to be performed.')"
   ]
  }
 ],
 "metadata": {
  "hide_input": false,
  "kernelspec": {
   "display_name": "Python 3",
   "language": "python",
   "name": "python3"
  },
  "language_info": {
   "codemirror_mode": {
    "name": "ipython",
    "version": 3
   },
   "file_extension": ".py",
   "mimetype": "text/x-python",
   "name": "python",
   "nbconvert_exporter": "python",
   "pygments_lexer": "ipython3",
   "version": "3.7.3"
  },
  "varInspector": {
   "cols": {
    "lenName": 16,
    "lenType": 16,
    "lenVar": 40
   },
   "kernels_config": {
    "python": {
     "delete_cmd_postfix": "",
     "delete_cmd_prefix": "del ",
     "library": "var_list.py",
     "varRefreshCmd": "print(var_dic_list())"
    },
    "r": {
     "delete_cmd_postfix": ") ",
     "delete_cmd_prefix": "rm(",
     "library": "var_list.r",
     "varRefreshCmd": "cat(var_dic_list()) "
    }
   },
   "types_to_exclude": [
    "module",
    "function",
    "builtin_function_or_method",
    "instance",
    "_Feature"
   ],
   "window_display": false
  }
 },
 "nbformat": 4,
 "nbformat_minor": 2
}
